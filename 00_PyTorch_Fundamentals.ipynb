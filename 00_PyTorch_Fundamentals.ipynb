{
  "nbformat": 4,
  "nbformat_minor": 0,
  "metadata": {
    "colab": {
      "provenance": [],
      "authorship_tag": "ABX9TyMKD8/zqeUw2qLKUt/a/cmk",
      "include_colab_link": true
    },
    "kernelspec": {
      "name": "python3",
      "display_name": "Python 3"
    },
    "language_info": {
      "name": "python"
    }
  },
  "cells": [
    {
      "cell_type": "markdown",
      "metadata": {
        "id": "view-in-github",
        "colab_type": "text"
      },
      "source": [
        "<a href=\"https://colab.research.google.com/github/Dhaks13/DL_using_PyTorch/blob/main/00_PyTorch_Fundamentals.ipynb\" target=\"_parent\"><img src=\"https://colab.research.google.com/assets/colab-badge.svg\" alt=\"Open In Colab\"/></a>"
      ]
    },
    {
      "cell_type": "code",
      "execution_count": 78,
      "metadata": {
        "colab": {
          "base_uri": "https://localhost:8080/"
        },
        "id": "I0D0EPR3wHF_",
        "outputId": "e7186354-3141-489c-8c9d-a622416d0e5f"
      },
      "outputs": [
        {
          "output_type": "stream",
          "name": "stdout",
          "text": [
            "/bin/bash: line 1: nvidia-smi: command not found\n"
          ]
        }
      ],
      "source": [
        "!nvidia-smi"
      ]
    },
    {
      "cell_type": "code",
      "source": [
        "import torch\n",
        "import pandas as pd\n",
        "import numpy as np\n",
        "import matplotlib.pyplot as plt\n",
        "torch.__version__"
      ],
      "metadata": {
        "colab": {
          "base_uri": "https://localhost:8080/",
          "height": 35
        },
        "id": "qAMkLySbxjv9",
        "outputId": "799c5486-d533-4145-fc34-1e428c48b807"
      },
      "execution_count": 79,
      "outputs": [
        {
          "output_type": "execute_result",
          "data": {
            "text/plain": [
              "'2.3.1+cu121'"
            ],
            "application/vnd.google.colaboratory.intrinsic+json": {
              "type": "string"
            }
          },
          "metadata": {},
          "execution_count": 79
        }
      ]
    },
    {
      "cell_type": "markdown",
      "source": [
        "### Introduction to Tensors\n",
        "  Creating Tensors"
      ],
      "metadata": {
        "id": "Kte0TIxwy6qe"
      }
    },
    {
      "cell_type": "code",
      "source": [
        "#scalar\n",
        "scalar = torch.tensor(7)\n",
        "scalar"
      ],
      "metadata": {
        "colab": {
          "base_uri": "https://localhost:8080/"
        },
        "id": "FS78d2lsypXy",
        "outputId": "040a157c-9501-4067-bcc7-c4a8211b0df0"
      },
      "execution_count": 80,
      "outputs": [
        {
          "output_type": "execute_result",
          "data": {
            "text/plain": [
              "tensor(7)"
            ]
          },
          "metadata": {},
          "execution_count": 80
        }
      ]
    },
    {
      "cell_type": "code",
      "source": [
        "scalar.ndim"
      ],
      "metadata": {
        "colab": {
          "base_uri": "https://localhost:8080/"
        },
        "id": "UlkUxMde33Xz",
        "outputId": "06b6b0f8-f227-4fdc-f681-71e649bd1fab"
      },
      "execution_count": 81,
      "outputs": [
        {
          "output_type": "execute_result",
          "data": {
            "text/plain": [
              "0"
            ]
          },
          "metadata": {},
          "execution_count": 81
        }
      ]
    },
    {
      "cell_type": "code",
      "source": [
        "scalar.item()"
      ],
      "metadata": {
        "colab": {
          "base_uri": "https://localhost:8080/"
        },
        "id": "CLGPCOm74PMk",
        "outputId": "c949ae9d-9dbb-4755-f14b-4661eccd6449"
      },
      "execution_count": 82,
      "outputs": [
        {
          "output_type": "execute_result",
          "data": {
            "text/plain": [
              "7"
            ]
          },
          "metadata": {},
          "execution_count": 82
        }
      ]
    },
    {
      "cell_type": "code",
      "source": [
        "vector = torch.tensor([7,7])\n",
        "vector"
      ],
      "metadata": {
        "colab": {
          "base_uri": "https://localhost:8080/"
        },
        "id": "nyUqoQ2X4UNS",
        "outputId": "12faaabc-62fb-4fb5-acc2-e24f49135baa"
      },
      "execution_count": 83,
      "outputs": [
        {
          "output_type": "execute_result",
          "data": {
            "text/plain": [
              "tensor([7, 7])"
            ]
          },
          "metadata": {},
          "execution_count": 83
        }
      ]
    },
    {
      "cell_type": "code",
      "source": [
        "vector.ndim"
      ],
      "metadata": {
        "colab": {
          "base_uri": "https://localhost:8080/"
        },
        "id": "ieZlGWwZ4mcD",
        "outputId": "0babf44a-4a72-4c90-90f0-7a6d77f3ef94"
      },
      "execution_count": 84,
      "outputs": [
        {
          "output_type": "execute_result",
          "data": {
            "text/plain": [
              "1"
            ]
          },
          "metadata": {},
          "execution_count": 84
        }
      ]
    },
    {
      "cell_type": "code",
      "source": [
        "vector.shape"
      ],
      "metadata": {
        "colab": {
          "base_uri": "https://localhost:8080/"
        },
        "id": "N48lSUQE4qTw",
        "outputId": "d9fd9c47-725c-418c-9c54-09d3fdda272d"
      },
      "execution_count": 85,
      "outputs": [
        {
          "output_type": "execute_result",
          "data": {
            "text/plain": [
              "torch.Size([2])"
            ]
          },
          "metadata": {},
          "execution_count": 85
        }
      ]
    },
    {
      "cell_type": "code",
      "source": [
        "#Matrix\n",
        "\n",
        "matrix = torch.tensor([[7,8],\n",
        "                      [9,10]])\n",
        "matrix"
      ],
      "metadata": {
        "colab": {
          "base_uri": "https://localhost:8080/"
        },
        "id": "q1ZybgaO4u5-",
        "outputId": "6662ebda-e922-420e-f1d7-2ded9d1cb1ed"
      },
      "execution_count": 86,
      "outputs": [
        {
          "output_type": "execute_result",
          "data": {
            "text/plain": [
              "tensor([[ 7,  8],\n",
              "        [ 9, 10]])"
            ]
          },
          "metadata": {},
          "execution_count": 86
        }
      ]
    },
    {
      "cell_type": "code",
      "source": [
        "matrix.ndim"
      ],
      "metadata": {
        "colab": {
          "base_uri": "https://localhost:8080/"
        },
        "id": "f8tq7n6j5adV",
        "outputId": "af99c962-7c7b-4c23-fe09-ab1f52f7d4aa"
      },
      "execution_count": 87,
      "outputs": [
        {
          "output_type": "execute_result",
          "data": {
            "text/plain": [
              "2"
            ]
          },
          "metadata": {},
          "execution_count": 87
        }
      ]
    },
    {
      "cell_type": "code",
      "source": [
        "matrix[1]"
      ],
      "metadata": {
        "colab": {
          "base_uri": "https://localhost:8080/"
        },
        "id": "IHcZIwtM5c5b",
        "outputId": "245bdb48-ebb9-4845-c54f-f28a6830c34f"
      },
      "execution_count": 88,
      "outputs": [
        {
          "output_type": "execute_result",
          "data": {
            "text/plain": [
              "tensor([ 9, 10])"
            ]
          },
          "metadata": {},
          "execution_count": 88
        }
      ]
    },
    {
      "cell_type": "code",
      "source": [
        "matrix.shape"
      ],
      "metadata": {
        "id": "iv08Na9I5kLY",
        "colab": {
          "base_uri": "https://localhost:8080/"
        },
        "outputId": "88cf2ab2-9299-473e-e6fe-4d907fa83daf"
      },
      "execution_count": 89,
      "outputs": [
        {
          "output_type": "execute_result",
          "data": {
            "text/plain": [
              "torch.Size([2, 2])"
            ]
          },
          "metadata": {},
          "execution_count": 89
        }
      ]
    },
    {
      "cell_type": "code",
      "source": [
        "#TENSOR\n",
        "\n",
        "TENSOR = torch.tensor([[\n",
        "    [1,2,3],\n",
        "    [3,6,9],\n",
        "    [2,4,5]\n",
        "]])\n",
        "\n",
        "TENSOR"
      ],
      "metadata": {
        "colab": {
          "base_uri": "https://localhost:8080/"
        },
        "id": "Hcn2GMS0FO6R",
        "outputId": "6a2f82d5-851d-4a31-d929-75053759e396"
      },
      "execution_count": 90,
      "outputs": [
        {
          "output_type": "execute_result",
          "data": {
            "text/plain": [
              "tensor([[[1, 2, 3],\n",
              "         [3, 6, 9],\n",
              "         [2, 4, 5]]])"
            ]
          },
          "metadata": {},
          "execution_count": 90
        }
      ]
    },
    {
      "cell_type": "code",
      "source": [
        "TENSOR.ndim"
      ],
      "metadata": {
        "colab": {
          "base_uri": "https://localhost:8080/"
        },
        "id": "u22TmPORFmBT",
        "outputId": "c9091d42-6917-4442-8154-1d2dd9d3a216"
      },
      "execution_count": 91,
      "outputs": [
        {
          "output_type": "execute_result",
          "data": {
            "text/plain": [
              "3"
            ]
          },
          "metadata": {},
          "execution_count": 91
        }
      ]
    },
    {
      "cell_type": "code",
      "source": [
        "TENSOR.shape"
      ],
      "metadata": {
        "colab": {
          "base_uri": "https://localhost:8080/"
        },
        "id": "VOs-n6ZNFph1",
        "outputId": "879dd54d-5fc0-46cd-fdb4-1998b01f9bd3"
      },
      "execution_count": 92,
      "outputs": [
        {
          "output_type": "execute_result",
          "data": {
            "text/plain": [
              "torch.Size([1, 3, 3])"
            ]
          },
          "metadata": {},
          "execution_count": 92
        }
      ]
    },
    {
      "cell_type": "code",
      "source": [
        "TENSOR[0]"
      ],
      "metadata": {
        "colab": {
          "base_uri": "https://localhost:8080/"
        },
        "id": "Fowm67ZUFwvY",
        "outputId": "3b93f280-b2be-42ae-85c6-a565437469e5"
      },
      "execution_count": 93,
      "outputs": [
        {
          "output_type": "execute_result",
          "data": {
            "text/plain": [
              "tensor([[1, 2, 3],\n",
              "        [3, 6, 9],\n",
              "        [2, 4, 5]])"
            ]
          },
          "metadata": {},
          "execution_count": 93
        }
      ]
    },
    {
      "cell_type": "markdown",
      "source": [
        "# Using Random Tensors!"
      ],
      "metadata": {
        "id": "cTBpwDnEG4gM"
      }
    },
    {
      "cell_type": "code",
      "source": [
        "#creating a random tensor size (3,4)\n",
        "\n",
        "random_tensor = torch.rand(3,4)\n",
        "random_tensor"
      ],
      "metadata": {
        "colab": {
          "base_uri": "https://localhost:8080/"
        },
        "id": "5msz5DzKG818",
        "outputId": "af0b52c4-4cb8-403d-84db-dfe8b30b0455"
      },
      "execution_count": 94,
      "outputs": [
        {
          "output_type": "execute_result",
          "data": {
            "text/plain": [
              "tensor([[0.7641, 0.4147, 0.5975, 0.8735],\n",
              "        [0.9683, 0.6024, 0.4276, 0.7259],\n",
              "        [0.0721, 0.2907, 0.2563, 0.6301]])"
            ]
          },
          "metadata": {},
          "execution_count": 94
        }
      ]
    },
    {
      "cell_type": "code",
      "source": [
        "random_tensor2 = torch.rand(10,10,10)\n",
        "random_tensor2"
      ],
      "metadata": {
        "colab": {
          "base_uri": "https://localhost:8080/"
        },
        "id": "UEeBCOx5HjG7",
        "outputId": "dc5f8e73-f396-4281-d087-ddf2abc0d952"
      },
      "execution_count": 95,
      "outputs": [
        {
          "output_type": "execute_result",
          "data": {
            "text/plain": [
              "tensor([[[0.4986, 0.3788, 0.7808, 0.0548, 0.4513, 0.4090, 0.8661, 0.0310,\n",
              "          0.0399, 0.4725],\n",
              "         [0.7306, 0.7179, 0.9198, 0.5486, 0.2974, 0.1017, 0.7447, 0.2678,\n",
              "          0.5583, 0.2015],\n",
              "         [0.4837, 0.8548, 0.7303, 0.0454, 0.5870, 0.5824, 0.9964, 0.0976,\n",
              "          0.4684, 0.0914],\n",
              "         [0.2898, 0.7084, 0.9063, 0.4698, 0.4898, 0.8904, 0.0679, 0.7022,\n",
              "          0.1869, 0.0592],\n",
              "         [0.7042, 0.4078, 0.5431, 0.5665, 0.7583, 0.1186, 0.0487, 0.4755,\n",
              "          0.6529, 0.8759],\n",
              "         [0.8768, 0.9268, 0.3697, 0.0973, 0.4963, 0.6271, 0.4893, 0.7706,\n",
              "          0.6779, 0.4044],\n",
              "         [0.4726, 0.1311, 0.1237, 0.9102, 0.8520, 0.5159, 0.2046, 0.6405,\n",
              "          0.8835, 0.9474],\n",
              "         [0.6309, 0.1492, 0.7221, 0.7771, 0.1432, 0.7880, 0.6495, 0.6830,\n",
              "          0.1320, 0.7550],\n",
              "         [0.9944, 0.3412, 0.3433, 0.7485, 0.4810, 0.0944, 0.6574, 0.9476,\n",
              "          0.8502, 0.1143],\n",
              "         [0.4880, 0.7855, 0.3515, 0.8420, 0.2589, 0.9793, 0.3683, 0.2728,\n",
              "          0.9600, 0.0099]],\n",
              "\n",
              "        [[0.3772, 0.9814, 0.9177, 0.8776, 0.2990, 0.1535, 0.0153, 0.3025,\n",
              "          0.2526, 0.3611],\n",
              "         [0.0147, 0.6974, 0.7431, 0.3866, 0.7934, 0.1085, 0.2565, 0.1766,\n",
              "          0.2352, 0.1676],\n",
              "         [0.2738, 0.1065, 0.6211, 0.3103, 0.9822, 0.9993, 0.2431, 0.2572,\n",
              "          0.1308, 0.7871],\n",
              "         [0.7284, 0.1292, 0.3528, 0.7133, 0.4061, 0.3589, 0.3143, 0.0035,\n",
              "          0.3059, 0.5103],\n",
              "         [0.7999, 0.0265, 0.0152, 0.7453, 0.3512, 0.4036, 0.7675, 0.6199,\n",
              "          0.4042, 0.7841],\n",
              "         [0.7157, 0.3351, 0.7631, 0.6800, 0.6676, 0.6423, 0.6799, 0.1057,\n",
              "          0.4460, 0.0953],\n",
              "         [0.1559, 0.3300, 0.7059, 0.6364, 0.4688, 0.9594, 0.1282, 0.0598,\n",
              "          0.0495, 0.0489],\n",
              "         [0.0805, 0.3034, 0.9421, 0.1906, 0.3033, 0.2032, 0.2500, 0.4182,\n",
              "          0.6069, 0.5312],\n",
              "         [0.9318, 0.3235, 0.2620, 0.1997, 0.0816, 0.0159, 0.2377, 0.5354,\n",
              "          0.6447, 0.0777],\n",
              "         [0.3067, 0.5134, 0.0193, 0.9230, 0.8173, 0.2410, 0.8516, 0.3687,\n",
              "          0.3686, 0.0906]],\n",
              "\n",
              "        [[0.9818, 0.9343, 0.4084, 0.8876, 0.1166, 0.7682, 0.5979, 0.5009,\n",
              "          0.5384, 0.7106],\n",
              "         [0.6246, 0.7228, 0.1720, 0.2664, 0.9636, 0.3720, 0.5292, 0.9786,\n",
              "          0.4458, 0.6891],\n",
              "         [0.6219, 0.6920, 0.3011, 0.3670, 0.5303, 0.2217, 0.5144, 0.2987,\n",
              "          0.5181, 0.0283],\n",
              "         [0.8177, 0.0840, 0.2119, 0.9699, 0.3552, 0.9329, 0.9389, 0.5399,\n",
              "          0.9840, 0.2135],\n",
              "         [0.6002, 0.0075, 0.4296, 0.0272, 0.9801, 0.7768, 0.0873, 0.7268,\n",
              "          0.2429, 0.4901],\n",
              "         [0.3408, 0.5567, 0.1268, 0.5217, 0.2273, 0.2145, 0.5977, 0.1821,\n",
              "          0.0058, 0.9715],\n",
              "         [0.8059, 0.5133, 0.0134, 0.4757, 0.2370, 0.3776, 0.4452, 0.6932,\n",
              "          0.1367, 0.6887],\n",
              "         [0.8541, 0.3541, 0.3375, 0.2682, 0.0889, 0.4616, 0.1035, 0.6856,\n",
              "          0.2708, 0.3271],\n",
              "         [0.8640, 0.3568, 0.2799, 0.3648, 0.2244, 0.0495, 0.1675, 0.7881,\n",
              "          0.2176, 0.2843],\n",
              "         [0.7470, 0.7497, 0.5612, 0.5620, 0.4716, 0.9023, 0.0887, 0.6046,\n",
              "          0.6565, 0.7419]],\n",
              "\n",
              "        [[0.1282, 0.0476, 0.6319, 0.1455, 0.0465, 0.6960, 0.8572, 0.4857,\n",
              "          0.3661, 0.3683],\n",
              "         [0.4048, 0.2486, 0.4888, 0.7277, 0.8794, 0.5411, 0.4417, 0.7308,\n",
              "          0.1578, 0.0013],\n",
              "         [0.4028, 0.6265, 0.8306, 0.6772, 0.7058, 0.6511, 0.6375, 0.1419,\n",
              "          0.8738, 0.2032],\n",
              "         [0.3944, 0.6520, 0.4127, 0.0746, 0.9517, 0.8218, 0.8988, 0.8123,\n",
              "          0.0240, 0.6732],\n",
              "         [0.7656, 0.5229, 0.6061, 0.3990, 0.3042, 0.1402, 0.4619, 0.1956,\n",
              "          0.3643, 0.6294],\n",
              "         [0.2003, 0.3000, 0.6011, 0.2478, 0.3305, 0.4425, 0.9794, 0.7442,\n",
              "          0.7752, 0.6852],\n",
              "         [0.7690, 0.0753, 0.7229, 0.3171, 0.3064, 0.9828, 0.7576, 0.8155,\n",
              "          0.2154, 0.0589],\n",
              "         [0.2794, 0.7145, 0.4619, 0.5737, 0.9872, 0.1991, 0.5938, 0.7789,\n",
              "          0.5812, 0.5476],\n",
              "         [0.7799, 0.4462, 0.5198, 0.3494, 0.6850, 0.0687, 0.2443, 0.1016,\n",
              "          0.5431, 0.0980],\n",
              "         [0.0027, 0.6353, 0.9004, 0.2311, 0.9146, 0.9810, 0.8203, 0.6863,\n",
              "          0.0511, 0.8030]],\n",
              "\n",
              "        [[0.3027, 0.5519, 0.4379, 0.8044, 0.7069, 0.3496, 0.6042, 0.4216,\n",
              "          0.2223, 0.2694],\n",
              "         [0.2637, 0.3030, 0.1254, 0.0195, 0.9586, 0.8954, 0.6642, 0.8691,\n",
              "          0.4981, 0.7430],\n",
              "         [0.0764, 0.4108, 0.2869, 0.6634, 0.5441, 0.8085, 0.3751, 0.6297,\n",
              "          0.4344, 0.3968],\n",
              "         [0.7884, 0.4309, 0.4741, 0.7668, 0.5062, 0.5808, 0.1541, 0.2799,\n",
              "          0.9730, 0.1990],\n",
              "         [0.0794, 0.4716, 0.6201, 0.9179, 0.4588, 0.2658, 0.7031, 0.0496,\n",
              "          0.6164, 0.0243],\n",
              "         [0.3048, 0.7007, 0.8630, 0.2569, 0.0944, 0.3977, 0.6297, 0.9197,\n",
              "          0.8590, 0.5219],\n",
              "         [0.8063, 0.8560, 0.0481, 0.8046, 0.8628, 0.6923, 0.3138, 0.3341,\n",
              "          0.3995, 0.7093],\n",
              "         [0.7114, 0.0976, 0.4100, 0.1550, 0.0464, 0.5655, 0.4337, 0.4119,\n",
              "          0.6483, 0.0745],\n",
              "         [0.1393, 0.7718, 0.4397, 0.3294, 0.2806, 0.8269, 0.9941, 0.6333,\n",
              "          0.9666, 0.9331],\n",
              "         [0.0914, 0.7963, 0.8692, 0.0923, 0.4616, 0.5410, 0.5337, 0.7925,\n",
              "          0.0041, 0.3745]],\n",
              "\n",
              "        [[0.0424, 0.1936, 0.9059, 0.8472, 0.3435, 0.7701, 0.9613, 0.5476,\n",
              "          0.5395, 0.2397],\n",
              "         [0.2463, 0.9714, 0.8820, 0.0031, 0.8618, 0.3015, 0.5597, 0.2444,\n",
              "          0.0825, 0.3169],\n",
              "         [0.6688, 0.1641, 0.3406, 0.3206, 0.4248, 0.3548, 0.4333, 0.6068,\n",
              "          0.6361, 0.6583],\n",
              "         [0.0551, 0.6067, 0.8948, 0.0782, 0.1588, 0.1688, 0.2692, 0.4084,\n",
              "          0.3031, 0.8455],\n",
              "         [0.2217, 0.7061, 0.1623, 0.7898, 0.6857, 0.1807, 0.4535, 0.6452,\n",
              "          0.1898, 0.8774],\n",
              "         [0.0830, 0.4493, 0.3796, 0.9328, 0.2306, 0.3176, 0.0901, 0.8173,\n",
              "          0.3125, 0.4217],\n",
              "         [0.4078, 0.9116, 0.9010, 0.0943, 0.4540, 0.4262, 0.4926, 0.5649,\n",
              "          0.7938, 0.2287],\n",
              "         [0.3377, 0.3968, 0.5081, 0.2371, 0.4296, 0.1824, 0.8156, 0.3495,\n",
              "          0.3175, 0.4517],\n",
              "         [0.8900, 0.9387, 0.9653, 0.4285, 0.1387, 0.6078, 0.2999, 0.7360,\n",
              "          0.0502, 0.6900],\n",
              "         [0.6228, 0.7970, 0.0417, 0.6556, 0.6080, 0.1113, 0.8891, 0.6928,\n",
              "          0.5755, 0.3463]],\n",
              "\n",
              "        [[0.1287, 0.9077, 0.2189, 0.5234, 0.6834, 0.9102, 0.2120, 0.2334,\n",
              "          0.1729, 0.0936],\n",
              "         [0.0444, 0.2333, 0.2320, 0.8309, 0.2335, 0.9073, 0.3972, 0.8510,\n",
              "          0.3940, 0.0696],\n",
              "         [0.4068, 0.0441, 0.8164, 0.3125, 0.2242, 0.6868, 0.9965, 0.3052,\n",
              "          0.7860, 0.1183],\n",
              "         [0.8614, 0.4318, 0.1755, 0.9981, 0.0300, 0.2099, 0.6342, 0.0868,\n",
              "          0.1652, 0.6672],\n",
              "         [0.5079, 0.5127, 0.0113, 0.7946, 0.2166, 0.0596, 0.2521, 0.2733,\n",
              "          0.1000, 0.8711],\n",
              "         [0.1417, 0.1412, 0.3478, 0.5238, 0.8891, 0.9945, 0.1128, 0.0416,\n",
              "          0.1739, 0.6322],\n",
              "         [0.9156, 0.0632, 0.8901, 0.6364, 0.3646, 0.9321, 0.6116, 0.7111,\n",
              "          0.3349, 0.3386],\n",
              "         [0.2872, 0.5704, 0.0857, 0.9471, 0.9967, 0.1571, 0.8796, 0.8395,\n",
              "          0.8171, 0.6815],\n",
              "         [0.1433, 0.1718, 0.0131, 0.1590, 0.3774, 0.4527, 0.5265, 0.7279,\n",
              "          0.0351, 0.6781],\n",
              "         [0.9920, 0.9663, 0.8707, 0.0643, 0.4660, 0.5274, 0.9527, 0.7152,\n",
              "          0.9455, 0.5424]],\n",
              "\n",
              "        [[0.3837, 0.4983, 0.5125, 0.1403, 0.2980, 0.6530, 0.2901, 0.1316,\n",
              "          0.9583, 0.2511],\n",
              "         [0.2683, 0.3571, 0.8499, 0.4555, 0.7287, 0.2789, 0.1983, 0.6899,\n",
              "          0.2649, 0.8797],\n",
              "         [0.6534, 0.7716, 0.0428, 0.4993, 0.5987, 0.5236, 0.4433, 0.8655,\n",
              "          0.9219, 0.3854],\n",
              "         [0.2104, 0.5298, 0.3002, 0.4938, 0.8879, 0.8384, 0.0999, 0.9614,\n",
              "          0.9910, 0.0409],\n",
              "         [0.7652, 0.7403, 0.7464, 0.1655, 0.2491, 0.0086, 0.5800, 0.6101,\n",
              "          0.0043, 0.4205],\n",
              "         [0.0775, 0.8105, 0.4227, 0.5452, 0.0874, 0.1944, 0.3338, 0.0266,\n",
              "          0.8777, 0.7663],\n",
              "         [0.4940, 0.3360, 0.2593, 0.1834, 0.9700, 0.9432, 0.6217, 0.2907,\n",
              "          0.0228, 0.1765],\n",
              "         [0.4906, 0.5627, 0.6005, 0.2652, 0.4806, 0.1885, 0.5184, 0.1887,\n",
              "          0.9514, 0.6400],\n",
              "         [0.2132, 0.7970, 0.9758, 0.0212, 0.3691, 0.4775, 0.6218, 0.2059,\n",
              "          0.9916, 0.1415],\n",
              "         [0.0578, 0.3010, 0.0775, 0.2486, 0.0783, 0.2988, 0.1695, 0.6740,\n",
              "          0.5378, 0.9348]],\n",
              "\n",
              "        [[0.3286, 0.1528, 0.7533, 0.8035, 0.7089, 0.4844, 0.5788, 0.9261,\n",
              "          0.4017, 0.7904],\n",
              "         [0.5367, 0.9588, 0.5530, 0.4635, 0.3496, 0.8283, 0.7378, 0.8401,\n",
              "          0.8741, 0.9633],\n",
              "         [0.0778, 0.7773, 0.5226, 0.1456, 0.1792, 0.0606, 0.4031, 0.6770,\n",
              "          0.3251, 0.1759],\n",
              "         [0.9347, 0.8910, 0.8013, 0.7148, 0.4303, 0.2283, 0.3049, 0.8115,\n",
              "          0.4779, 0.4181],\n",
              "         [0.2603, 0.4121, 0.7310, 0.7446, 0.0746, 0.0853, 0.7461, 0.2481,\n",
              "          0.0430, 0.5199],\n",
              "         [0.5076, 0.6367, 0.2722, 0.5827, 0.2295, 0.3977, 0.1282, 0.5043,\n",
              "          0.4395, 0.7440],\n",
              "         [0.3580, 0.6571, 0.6307, 0.3687, 0.2469, 0.4712, 0.7809, 0.3010,\n",
              "          0.9161, 0.2409],\n",
              "         [0.7609, 0.1902, 0.7008, 0.6478, 0.3307, 0.0364, 0.6715, 0.5988,\n",
              "          0.6750, 0.4662],\n",
              "         [0.4354, 0.0455, 0.9280, 0.9429, 0.3851, 0.5395, 0.8089, 0.6278,\n",
              "          0.1276, 0.6875],\n",
              "         [0.2232, 0.9986, 0.5606, 0.1698, 0.0385, 0.0781, 0.9578, 0.1853,\n",
              "          0.4346, 0.9322]],\n",
              "\n",
              "        [[0.6543, 0.0580, 0.1856, 0.7019, 0.8856, 0.4510, 0.2198, 0.4015,\n",
              "          0.5935, 0.8002],\n",
              "         [0.2288, 0.9359, 0.0021, 0.9943, 0.0015, 0.0124, 0.6828, 0.0524,\n",
              "          0.9917, 0.8360],\n",
              "         [0.6913, 0.8610, 0.1440, 0.5826, 0.2581, 0.2341, 0.4102, 0.4583,\n",
              "          0.2265, 0.4222],\n",
              "         [0.5645, 0.5632, 0.8805, 0.3553, 0.7544, 0.7521, 0.8722, 0.9712,\n",
              "          0.4964, 0.9863],\n",
              "         [0.8464, 0.6591, 0.0473, 0.5991, 0.0907, 0.6913, 0.9453, 0.5770,\n",
              "          0.9959, 0.2987],\n",
              "         [0.3892, 0.9662, 0.1810, 0.5136, 0.8749, 0.5240, 0.9642, 0.7684,\n",
              "          0.2519, 0.2052],\n",
              "         [0.6513, 0.1550, 0.0573, 0.8238, 0.5401, 0.9800, 0.1762, 0.1364,\n",
              "          0.6681, 0.9138],\n",
              "         [0.6556, 0.3470, 0.6644, 0.4323, 0.8018, 0.2436, 0.5999, 0.9862,\n",
              "          0.5522, 0.7208],\n",
              "         [0.0750, 0.4342, 0.1406, 0.5746, 0.5483, 0.5066, 0.3255, 0.2895,\n",
              "          0.1692, 0.0470],\n",
              "         [0.9054, 0.7714, 0.5768, 0.5446, 0.6563, 0.7946, 0.3648, 0.9841,\n",
              "          0.9883, 0.5469]]])"
            ]
          },
          "metadata": {},
          "execution_count": 95
        }
      ]
    },
    {
      "cell_type": "code",
      "source": [
        "#create a random tensor with similar shape to an image tensor\n",
        "\n",
        "random_image_size_tensor = torch.rand(size=(224,224,3)) #height, width, color channels\n",
        "random_image_size_tensor.shape, random_image_size_tensor.ndim"
      ],
      "metadata": {
        "colab": {
          "base_uri": "https://localhost:8080/"
        },
        "id": "DEs01KJNHtj4",
        "outputId": "14c9609f-a859-43ac-bc7d-c035ae3d1a75"
      },
      "execution_count": 96,
      "outputs": [
        {
          "output_type": "execute_result",
          "data": {
            "text/plain": [
              "(torch.Size([224, 224, 3]), 3)"
            ]
          },
          "metadata": {},
          "execution_count": 96
        }
      ]
    },
    {
      "cell_type": "markdown",
      "source": [
        "#ZEROs and ONEs Tensor\n"
      ],
      "metadata": {
        "id": "o1oxzp-FI2Pk"
      }
    },
    {
      "cell_type": "code",
      "source": [
        "zero = torch.zeros(size=(3,4))\n",
        "zero"
      ],
      "metadata": {
        "colab": {
          "base_uri": "https://localhost:8080/"
        },
        "id": "WXxuCKNfJWnM",
        "outputId": "2cf11640-975f-41eb-b628-e2809f9337c3"
      },
      "execution_count": 97,
      "outputs": [
        {
          "output_type": "execute_result",
          "data": {
            "text/plain": [
              "tensor([[0., 0., 0., 0.],\n",
              "        [0., 0., 0., 0.],\n",
              "        [0., 0., 0., 0.]])"
            ]
          },
          "metadata": {},
          "execution_count": 97
        }
      ]
    },
    {
      "cell_type": "code",
      "source": [
        "ones = torch.ones(size=(3,4))\n",
        "ones"
      ],
      "metadata": {
        "colab": {
          "base_uri": "https://localhost:8080/"
        },
        "id": "0DSHDXJRJYdH",
        "outputId": "2020444a-2a4b-4768-ebdf-e815aef56067"
      },
      "execution_count": 98,
      "outputs": [
        {
          "output_type": "execute_result",
          "data": {
            "text/plain": [
              "tensor([[1., 1., 1., 1.],\n",
              "        [1., 1., 1., 1.],\n",
              "        [1., 1., 1., 1.]])"
            ]
          },
          "metadata": {},
          "execution_count": 98
        }
      ]
    },
    {
      "cell_type": "code",
      "source": [
        "ones.dtype, random_image_size_tensor.dtype"
      ],
      "metadata": {
        "colab": {
          "base_uri": "https://localhost:8080/"
        },
        "id": "3Feq2v6HJdjF",
        "outputId": "54aa3da4-f6ba-45de-a17c-ba89dddb694d"
      },
      "execution_count": 99,
      "outputs": [
        {
          "output_type": "execute_result",
          "data": {
            "text/plain": [
              "(torch.float32, torch.float32)"
            ]
          },
          "metadata": {},
          "execution_count": 99
        }
      ]
    },
    {
      "cell_type": "markdown",
      "source": [
        "#Creating a range of Tensor"
      ],
      "metadata": {
        "id": "OU1TQagfJrIF"
      }
    },
    {
      "cell_type": "code",
      "source": [
        "torch.arange(1,11)"
      ],
      "metadata": {
        "colab": {
          "base_uri": "https://localhost:8080/"
        },
        "id": "zu4lEBNpJofs",
        "outputId": "d84b5735-8dd5-4a88-96e4-d5e0251ea057"
      },
      "execution_count": 100,
      "outputs": [
        {
          "output_type": "execute_result",
          "data": {
            "text/plain": [
              "tensor([ 1,  2,  3,  4,  5,  6,  7,  8,  9, 10])"
            ]
          },
          "metadata": {},
          "execution_count": 100
        }
      ]
    },
    {
      "cell_type": "markdown",
      "source": [
        "#Getting info from tensors"
      ],
      "metadata": {
        "id": "7jXT0tqTLmhZ"
      }
    },
    {
      "cell_type": "code",
      "source": [
        "some_tensor=torch.rand(3,4)\n",
        "print(some_tensor)\n",
        "print(f\"Datatype of tensor: {some_tensor.dtype}\")\n",
        "print(f\"Shape of tensor: {some_tensor.shape}\")"
      ],
      "metadata": {
        "colab": {
          "base_uri": "https://localhost:8080/"
        },
        "id": "QIdcwZKVLlr_",
        "outputId": "47e03322-8a09-4156-cd8a-ed7c51ce21a6"
      },
      "execution_count": 101,
      "outputs": [
        {
          "output_type": "stream",
          "name": "stdout",
          "text": [
            "tensor([[0.3524, 0.3722, 0.8313, 0.4344],\n",
            "        [0.2477, 0.7908, 0.3004, 0.6946],\n",
            "        [0.7984, 0.7819, 0.9456, 0.1602]])\n",
            "Datatype of tensor: torch.float32\n",
            "Shape of tensor: torch.Size([3, 4])\n"
          ]
        }
      ]
    },
    {
      "cell_type": "markdown",
      "source": [
        "# Manipulating Tensors\n",
        "* Add\n",
        "* Sub\n",
        "* Mul\n",
        "* Div\n",
        "* Matrix Mul"
      ],
      "metadata": {
        "id": "OkXWVLaDM98r"
      }
    },
    {
      "cell_type": "code",
      "source": [
        "#creating tensor and do operations\n",
        "tensor = torch.tensor([1,2,3])\n",
        "print(tensor + 10)\n",
        "print(tensor - 10)\n",
        "print(tensor * 10)\n",
        "print(tensor / 10)\n"
      ],
      "metadata": {
        "colab": {
          "base_uri": "https://localhost:8080/"
        },
        "id": "-NziTZSLNNdh",
        "outputId": "3159594e-53bc-477b-fb17-3da6ab611bb4"
      },
      "execution_count": 102,
      "outputs": [
        {
          "output_type": "stream",
          "name": "stdout",
          "text": [
            "tensor([11, 12, 13])\n",
            "tensor([-9, -8, -7])\n",
            "tensor([10, 20, 30])\n",
            "tensor([0.1000, 0.2000, 0.3000])\n"
          ]
        }
      ]
    },
    {
      "cell_type": "code",
      "source": [
        "# or can use .add  or .operator()\n",
        "#ex\n",
        "tensor.add(10)"
      ],
      "metadata": {
        "colab": {
          "base_uri": "https://localhost:8080/"
        },
        "id": "pyJlXGK1Nisw",
        "outputId": "7a82a52b-e471-454e-cde8-52861eb0d546"
      },
      "execution_count": 103,
      "outputs": [
        {
          "output_type": "execute_result",
          "data": {
            "text/plain": [
              "tensor([11, 12, 13])"
            ]
          },
          "metadata": {},
          "execution_count": 103
        }
      ]
    },
    {
      "cell_type": "markdown",
      "source": [
        "#Matrix Multiplication"
      ],
      "metadata": {
        "id": "XaCM_SrNOI6r"
      }
    },
    {
      "cell_type": "code",
      "source": [
        "#two type of mul\n",
        "%%time\n",
        "#normal multiplication\n",
        "tensor1 = torch.tensor([1,2,3])\n",
        "tensor2 = torch.tensor([1,2,3])\n",
        "print(tensor1,\"*\",tensor2,\"=\",tensor1*tensor2)\n"
      ],
      "metadata": {
        "colab": {
          "base_uri": "https://localhost:8080/"
        },
        "id": "y1JeWw7JOH5i",
        "outputId": "b73613c7-cf45-4705-dee1-f663e90ff411"
      },
      "execution_count": 104,
      "outputs": [
        {
          "output_type": "stream",
          "name": "stdout",
          "text": [
            "tensor([1, 2, 3]) * tensor([1, 2, 3]) = tensor([1, 4, 9])\n",
            "CPU times: user 5.44 ms, sys: 0 ns, total: 5.44 ms\n",
            "Wall time: 9.39 ms\n"
          ]
        }
      ]
    },
    {
      "cell_type": "code",
      "source": [
        "%%time\n",
        "#Matrix multiply\n",
        "print(\"\\nMatrix Mul: \",tensor1.matmul(tensor2))"
      ],
      "metadata": {
        "colab": {
          "base_uri": "https://localhost:8080/"
        },
        "id": "MA_ICxa1PglR",
        "outputId": "ea1d298b-c339-441b-a0e4-34945d19cbf4"
      },
      "execution_count": 105,
      "outputs": [
        {
          "output_type": "stream",
          "name": "stdout",
          "text": [
            "\n",
            "Matrix Mul:  tensor(14)\n",
            "CPU times: user 2.19 ms, sys: 0 ns, total: 2.19 ms\n",
            "Wall time: 2.2 ms\n"
          ]
        }
      ]
    },
    {
      "cell_type": "markdown",
      "source": [
        "### FInding\n",
        "* Min\n",
        "* max\n",
        "* mean\n",
        "* sum"
      ],
      "metadata": {
        "id": "7s-n1nBAQPDi"
      }
    },
    {
      "cell_type": "code",
      "source": [
        "#Create a tensor\n",
        "x = torch.arange(0,100,10)\n",
        "x"
      ],
      "metadata": {
        "colab": {
          "base_uri": "https://localhost:8080/"
        },
        "id": "BcTTReO5Qazl",
        "outputId": "ede37e4d-1f71-469c-d829-25231cf224f5"
      },
      "execution_count": 106,
      "outputs": [
        {
          "output_type": "execute_result",
          "data": {
            "text/plain": [
              "tensor([ 0, 10, 20, 30, 40, 50, 60, 70, 80, 90])"
            ]
          },
          "metadata": {},
          "execution_count": 106
        }
      ]
    },
    {
      "cell_type": "code",
      "source": [
        "torch.max(x),x.max()"
      ],
      "metadata": {
        "colab": {
          "base_uri": "https://localhost:8080/"
        },
        "id": "fQVK571iQ1nD",
        "outputId": "0577c9d2-7c60-4ceb-f7ca-29863be76474"
      },
      "execution_count": 107,
      "outputs": [
        {
          "output_type": "execute_result",
          "data": {
            "text/plain": [
              "(tensor(90), tensor(90))"
            ]
          },
          "metadata": {},
          "execution_count": 107
        }
      ]
    },
    {
      "cell_type": "code",
      "source": [
        "torch.min(x),x.min()"
      ],
      "metadata": {
        "colab": {
          "base_uri": "https://localhost:8080/"
        },
        "id": "v5hcRdN6RnXS",
        "outputId": "f8a1d816-0c85-461f-f26e-f6510b9e2247"
      },
      "execution_count": 108,
      "outputs": [
        {
          "output_type": "execute_result",
          "data": {
            "text/plain": [
              "(tensor(0), tensor(0))"
            ]
          },
          "metadata": {},
          "execution_count": 108
        }
      ]
    },
    {
      "cell_type": "code",
      "source": [
        "#raise error due to datatype problem\n",
        "torch.mean(x)"
      ],
      "metadata": {
        "colab": {
          "base_uri": "https://localhost:8080/",
          "height": 176
        },
        "id": "HH7Mj_ATQ8zX",
        "outputId": "721a4da7-1504-4f4d-c464-0552802a06dc"
      },
      "execution_count": 109,
      "outputs": [
        {
          "output_type": "error",
          "ename": "RuntimeError",
          "evalue": "mean(): could not infer output dtype. Input dtype must be either a floating point or complex dtype. Got: Long",
          "traceback": [
            "\u001b[0;31m---------------------------------------------------------------------------\u001b[0m",
            "\u001b[0;31mRuntimeError\u001b[0m                              Traceback (most recent call last)",
            "\u001b[0;32m<ipython-input-109-2a2e1d5a92ad>\u001b[0m in \u001b[0;36m<cell line: 2>\u001b[0;34m()\u001b[0m\n\u001b[1;32m      1\u001b[0m \u001b[0;31m#raise error due to datatype problem\u001b[0m\u001b[0;34m\u001b[0m\u001b[0;34m\u001b[0m\u001b[0m\n\u001b[0;32m----> 2\u001b[0;31m \u001b[0mtorch\u001b[0m\u001b[0;34m.\u001b[0m\u001b[0mmean\u001b[0m\u001b[0;34m(\u001b[0m\u001b[0mx\u001b[0m\u001b[0;34m)\u001b[0m\u001b[0;34m\u001b[0m\u001b[0;34m\u001b[0m\u001b[0m\n\u001b[0m",
            "\u001b[0;31mRuntimeError\u001b[0m: mean(): could not infer output dtype. Input dtype must be either a floating point or complex dtype. Got: Long"
          ]
        }
      ]
    },
    {
      "cell_type": "code",
      "source": [
        "torch.mean(x.type(torch.float32)),x.type(torch.float32).mean()"
      ],
      "metadata": {
        "colab": {
          "base_uri": "https://localhost:8080/"
        },
        "id": "pSqx7iNtROqj",
        "outputId": "d6f0f58a-d26c-4bca-a003-f03eaba41d57"
      },
      "execution_count": 110,
      "outputs": [
        {
          "output_type": "execute_result",
          "data": {
            "text/plain": [
              "(tensor(45.), tensor(45.))"
            ]
          },
          "metadata": {},
          "execution_count": 110
        }
      ]
    },
    {
      "cell_type": "code",
      "source": [
        "torch.sum(x),x.sum()"
      ],
      "metadata": {
        "colab": {
          "base_uri": "https://localhost:8080/"
        },
        "id": "-rbiBToNRWcf",
        "outputId": "d1df2188-da00-4c72-af3e-93bd823d9760"
      },
      "execution_count": 111,
      "outputs": [
        {
          "output_type": "execute_result",
          "data": {
            "text/plain": [
              "(tensor(450), tensor(450))"
            ]
          },
          "metadata": {},
          "execution_count": 111
        }
      ]
    },
    {
      "cell_type": "markdown",
      "source": [
        "# Finding Positional of min and max"
      ],
      "metadata": {
        "id": "2AwSYuAuS481"
      }
    },
    {
      "cell_type": "code",
      "source": [
        "print(\"Min pos: \",x.argmin())\n",
        "print(\"Max pos: \",x.argmax())"
      ],
      "metadata": {
        "colab": {
          "base_uri": "https://localhost:8080/"
        },
        "id": "w1ye_4fMR09E",
        "outputId": "90160bc5-5c2f-412b-ab7f-1d79cd9695c3"
      },
      "execution_count": 112,
      "outputs": [
        {
          "output_type": "stream",
          "name": "stdout",
          "text": [
            "Min pos:  tensor(0)\n",
            "Max pos:  tensor(9)\n"
          ]
        }
      ]
    },
    {
      "cell_type": "markdown",
      "source": [
        "# Reshaping, sacking, squeezing and unsqueezing"
      ],
      "metadata": {
        "id": "9ZleSZ1WfDGN"
      }
    },
    {
      "cell_type": "code",
      "source": [
        "x = torch.arange(1.,13.)\n",
        "x,x.shape"
      ],
      "metadata": {
        "colab": {
          "base_uri": "https://localhost:8080/"
        },
        "id": "EbtmM9CxfQgu",
        "outputId": "667948bf-4937-43b1-e1cb-7c21cbcc1450"
      },
      "execution_count": 113,
      "outputs": [
        {
          "output_type": "execute_result",
          "data": {
            "text/plain": [
              "(tensor([ 1.,  2.,  3.,  4.,  5.,  6.,  7.,  8.,  9., 10., 11., 12.]),\n",
              " torch.Size([12]))"
            ]
          },
          "metadata": {},
          "execution_count": 113
        }
      ]
    },
    {
      "cell_type": "code",
      "source": [
        "x_reshaped = x.reshape(6,2)\n",
        "x_reshaped,x_reshaped.shape"
      ],
      "metadata": {
        "colab": {
          "base_uri": "https://localhost:8080/"
        },
        "id": "T5EsTYQXgGoj",
        "outputId": "2decee2c-6d26-4cdb-ca62-120c3edd883a"
      },
      "execution_count": 114,
      "outputs": [
        {
          "output_type": "execute_result",
          "data": {
            "text/plain": [
              "(tensor([[ 1.,  2.],\n",
              "         [ 3.,  4.],\n",
              "         [ 5.,  6.],\n",
              "         [ 7.,  8.],\n",
              "         [ 9., 10.],\n",
              "         [11., 12.]]),\n",
              " torch.Size([6, 2]))"
            ]
          },
          "metadata": {},
          "execution_count": 114
        }
      ]
    },
    {
      "cell_type": "code",
      "source": [
        "#changing the view\n",
        "z = x.view(1,12)\n",
        "z,z.shape"
      ],
      "metadata": {
        "colab": {
          "base_uri": "https://localhost:8080/"
        },
        "id": "LofHM3rNgSfb",
        "outputId": "c52123ef-9a91-4999-dca6-106c8558f549"
      },
      "execution_count": 115,
      "outputs": [
        {
          "output_type": "execute_result",
          "data": {
            "text/plain": [
              "(tensor([[ 1.,  2.,  3.,  4.,  5.,  6.,  7.,  8.,  9., 10., 11., 12.]]),\n",
              " torch.Size([1, 12]))"
            ]
          },
          "metadata": {},
          "execution_count": 115
        }
      ]
    },
    {
      "cell_type": "code",
      "source": [
        "# changing z changes x\n",
        "z[:,0] = 5\n",
        "z,x"
      ],
      "metadata": {
        "colab": {
          "base_uri": "https://localhost:8080/"
        },
        "id": "isEdNPmPg6Zp",
        "outputId": "86fba03e-908a-4907-ddfd-e650d77cabf3"
      },
      "execution_count": 116,
      "outputs": [
        {
          "output_type": "execute_result",
          "data": {
            "text/plain": [
              "(tensor([[ 5.,  2.,  3.,  4.,  5.,  6.,  7.,  8.,  9., 10., 11., 12.]]),\n",
              " tensor([ 5.,  2.,  3.,  4.,  5.,  6.,  7.,  8.,  9., 10., 11., 12.]))"
            ]
          },
          "metadata": {},
          "execution_count": 116
        }
      ]
    },
    {
      "cell_type": "code",
      "source": [
        "#Stacking\n",
        "x_stacked = torch.stack([x,x,x,x],dim=0)\n",
        "x_stacked"
      ],
      "metadata": {
        "colab": {
          "base_uri": "https://localhost:8080/"
        },
        "id": "VbQ7KdOnhKwR",
        "outputId": "8d9f4bab-a997-4558-8050-dacb3c7c3b73"
      },
      "execution_count": 117,
      "outputs": [
        {
          "output_type": "execute_result",
          "data": {
            "text/plain": [
              "tensor([[ 5.,  2.,  3.,  4.,  5.,  6.,  7.,  8.,  9., 10., 11., 12.],\n",
              "        [ 5.,  2.,  3.,  4.,  5.,  6.,  7.,  8.,  9., 10., 11., 12.],\n",
              "        [ 5.,  2.,  3.,  4.,  5.,  6.,  7.,  8.,  9., 10., 11., 12.],\n",
              "        [ 5.,  2.,  3.,  4.,  5.,  6.,  7.,  8.,  9., 10., 11., 12.]])"
            ]
          },
          "metadata": {},
          "execution_count": 117
        }
      ]
    },
    {
      "cell_type": "code",
      "source": [
        "#squeeze\n",
        "print (x_reshaped)\n",
        "x_reshaped = x_reshaped.reshape(1,12)\n",
        "print(x_reshaped)\n",
        "x_squeezed = x_reshaped.squeeze()\n",
        "x_squeezed"
      ],
      "metadata": {
        "colab": {
          "base_uri": "https://localhost:8080/"
        },
        "id": "OUJwJk9lhTyY",
        "outputId": "8f60d529-937f-4b2b-84ef-f86f15913325"
      },
      "execution_count": 118,
      "outputs": [
        {
          "output_type": "stream",
          "name": "stdout",
          "text": [
            "tensor([[ 5.,  2.],\n",
            "        [ 3.,  4.],\n",
            "        [ 5.,  6.],\n",
            "        [ 7.,  8.],\n",
            "        [ 9., 10.],\n",
            "        [11., 12.]])\n",
            "tensor([[ 5.,  2.,  3.,  4.,  5.,  6.,  7.,  8.,  9., 10., 11., 12.]])\n"
          ]
        },
        {
          "output_type": "execute_result",
          "data": {
            "text/plain": [
              "tensor([ 5.,  2.,  3.,  4.,  5.,  6.,  7.,  8.,  9., 10., 11., 12.])"
            ]
          },
          "metadata": {},
          "execution_count": 118
        }
      ]
    },
    {
      "cell_type": "code",
      "source": [
        "#unsqueeze\n",
        "x_unsqueezed = x_squeezed.unsqueeze(dim=0)\n",
        "x_unsqueezed"
      ],
      "metadata": {
        "colab": {
          "base_uri": "https://localhost:8080/"
        },
        "id": "cEqBaB79h8GO",
        "outputId": "fea92070-a849-4c65-aef0-15cea1ac04ba"
      },
      "execution_count": 119,
      "outputs": [
        {
          "output_type": "execute_result",
          "data": {
            "text/plain": [
              "tensor([[ 5.,  2.,  3.,  4.,  5.,  6.,  7.,  8.,  9., 10., 11., 12.]])"
            ]
          },
          "metadata": {},
          "execution_count": 119
        }
      ]
    },
    {
      "cell_type": "code",
      "source": [
        "#permute\n",
        "x_original = torch.rand(size=(224,224,3))\n",
        "x_original.shape"
      ],
      "metadata": {
        "colab": {
          "base_uri": "https://localhost:8080/"
        },
        "id": "LkGVtoITibdH",
        "outputId": "bc72dcea-6ee8-49b9-8770-654994eddeef"
      },
      "execution_count": 120,
      "outputs": [
        {
          "output_type": "execute_result",
          "data": {
            "text/plain": [
              "torch.Size([224, 224, 3])"
            ]
          },
          "metadata": {},
          "execution_count": 120
        }
      ]
    },
    {
      "cell_type": "code",
      "source": [
        "x_permuted = x_original.permute(2,0,1)\n",
        "x_permuted.shape"
      ],
      "metadata": {
        "colab": {
          "base_uri": "https://localhost:8080/"
        },
        "id": "rZaSCH7-ifvw",
        "outputId": "9adde9a9-8f39-4f37-f8ab-ca2b18a477a9"
      },
      "execution_count": 121,
      "outputs": [
        {
          "output_type": "execute_result",
          "data": {
            "text/plain": [
              "torch.Size([3, 224, 224])"
            ]
          },
          "metadata": {},
          "execution_count": 121
        }
      ]
    },
    {
      "cell_type": "code",
      "source": [],
      "metadata": {
        "id": "LmUKEMhrik1F"
      },
      "execution_count": null,
      "outputs": []
    }
  ]
}