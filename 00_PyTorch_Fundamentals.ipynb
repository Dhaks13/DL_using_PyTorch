{
  "cells": [
    {
      "cell_type": "code",
      "execution_count": 1,
      "metadata": {
        "colab": {
          "base_uri": "https://localhost:8080/"
        },
        "id": "I0D0EPR3wHF_",
        "outputId": "b5c547e9-60e0-452c-981f-76b509d58ec0"
      },
      "outputs": [
        {
          "name": "stdout",
          "output_type": "stream",
          "text": [
            "Sat Jul 20 10:39:19 2024       \n",
            "+-----------------------------------------------------------------------------------------+\n",
            "| NVIDIA-SMI 556.12                 Driver Version: 556.12         CUDA Version: 12.5     |\n",
            "|-----------------------------------------+------------------------+----------------------+\n",
            "| GPU  Name                  Driver-Model | Bus-Id          Disp.A | Volatile Uncorr. ECC |\n",
            "| Fan  Temp   Perf          Pwr:Usage/Cap |           Memory-Usage | GPU-Util  Compute M. |\n",
            "|                                         |                        |               MIG M. |\n",
            "|=========================================+========================+======================|\n",
            "|   0  NVIDIA GeForce RTX 3050 ...  WDDM  |   00000000:01:00.0 Off |                  N/A |\n",
            "| N/A   54C    P0             14W /   75W |     462MiB /   4096MiB |     15%      Default |\n",
            "|                                         |                        |                  N/A |\n",
            "+-----------------------------------------+------------------------+----------------------+\n",
            "                                                                                         \n",
            "+-----------------------------------------------------------------------------------------+\n",
            "| Processes:                                                                              |\n",
            "|  GPU   GI   CI        PID   Type   Process name                              GPU Memory |\n",
            "|        ID   ID                                                               Usage      |\n",
            "|=========================================================================================|\n",
            "|    0   N/A  N/A      8660    C+G   ...ekyb3d8bbwe\\PhoneExperienceHost.exe      N/A      |\n",
            "|    0   N/A  N/A     13592    C+G   ...n\\126.0.2592.113\\msedgewebview2.exe      N/A      |\n",
            "|    0   N/A  N/A     14040    C+G   ...US\\ArmouryDevice\\asus_framework.exe      N/A      |\n",
            "|    0   N/A  N/A     16440    C+G   ...CBS_cw5n1h2txyewy\\TextInputHost.exe      N/A      |\n",
            "|    0   N/A  N/A     16960    C+G   ...Desktop\\app-3.4.2\\GitHubDesktop.exe      N/A      |\n",
            "|    0   N/A  N/A     17952    C+G   ...nt.CBS_cw5n1h2txyewy\\SearchHost.exe      N/A      |\n",
            "|    0   N/A  N/A     19780    C+G   ...8.0_x64__cv1g1gvanyjgm\\WhatsApp.exe      N/A      |\n",
            "|    0   N/A  N/A     20956    C+G   ...__8wekyb3d8bbwe\\WindowsTerminal.exe      N/A      |\n",
            "|    0   N/A  N/A     21472    C+G   ...x64__qmba6cd70vzyy\\ArmouryCrate.exe      N/A      |\n",
            "|    0   N/A  N/A     25520    C+G   ...2txyewy\\StartMenuExperienceHost.exe      N/A      |\n",
            "|    0   N/A  N/A     26300    C+G   ...Programs\\Microsoft VS Code\\Code.exe      N/A      |\n",
            "|    0   N/A  N/A     29080    C+G   ...Brave-Browser\\Application\\brave.exe      N/A      |\n",
            "+-----------------------------------------------------------------------------------------+\n"
          ]
        }
      ],
      "source": [
        "!nvidia-smi"
      ]
    },
    {
      "cell_type": "code",
      "execution_count": 2,
      "metadata": {
        "colab": {
          "base_uri": "https://localhost:8080/",
          "height": 35
        },
        "id": "qAMkLySbxjv9",
        "outputId": "3c8dc3c0-f426-4653-a383-fe88a601ab9e"
      },
      "outputs": [
        {
          "data": {
            "text/plain": [
              "'2.3.1+cu121'"
            ]
          },
          "execution_count": 2,
          "metadata": {},
          "output_type": "execute_result"
        }
      ],
      "source": [
        "import torch\n",
        "import pandas as pd\n",
        "import numpy as np\n",
        "import matplotlib.pyplot as plt\n",
        "torch.__version__"
      ]
    },
    {
      "cell_type": "markdown",
      "metadata": {
        "id": "Kte0TIxwy6qe"
      },
      "source": [
        "### Introduction to Tensors\n",
        "  Creating Tensors"
      ]
    },
    {
      "cell_type": "code",
      "execution_count": 3,
      "metadata": {
        "colab": {
          "base_uri": "https://localhost:8080/"
        },
        "id": "FS78d2lsypXy",
        "outputId": "0b16892f-b6ad-4869-c4d2-edff3e76ac45"
      },
      "outputs": [
        {
          "data": {
            "text/plain": [
              "tensor(7)"
            ]
          },
          "execution_count": 3,
          "metadata": {},
          "output_type": "execute_result"
        }
      ],
      "source": [
        "#scalar\n",
        "scalar = torch.tensor(7)\n",
        "scalar"
      ]
    },
    {
      "cell_type": "code",
      "execution_count": 4,
      "metadata": {
        "colab": {
          "base_uri": "https://localhost:8080/"
        },
        "id": "UlkUxMde33Xz",
        "outputId": "839b148d-30a5-4fc1-f9d0-0f7d322fef92"
      },
      "outputs": [
        {
          "data": {
            "text/plain": [
              "0"
            ]
          },
          "execution_count": 4,
          "metadata": {},
          "output_type": "execute_result"
        }
      ],
      "source": [
        "scalar.ndim"
      ]
    },
    {
      "cell_type": "code",
      "execution_count": 5,
      "metadata": {
        "colab": {
          "base_uri": "https://localhost:8080/"
        },
        "id": "CLGPCOm74PMk",
        "outputId": "2c29b67c-56ba-4053-8482-d9d757681c1c"
      },
      "outputs": [
        {
          "data": {
            "text/plain": [
              "7"
            ]
          },
          "execution_count": 5,
          "metadata": {},
          "output_type": "execute_result"
        }
      ],
      "source": [
        "scalar.item()"
      ]
    },
    {
      "cell_type": "code",
      "execution_count": 6,
      "metadata": {
        "colab": {
          "base_uri": "https://localhost:8080/"
        },
        "id": "nyUqoQ2X4UNS",
        "outputId": "a61745b7-23fe-446f-a98f-f142e629fd03"
      },
      "outputs": [
        {
          "data": {
            "text/plain": [
              "tensor([7, 7])"
            ]
          },
          "execution_count": 6,
          "metadata": {},
          "output_type": "execute_result"
        }
      ],
      "source": [
        "vector = torch.tensor([7,7])\n",
        "vector"
      ]
    },
    {
      "cell_type": "code",
      "execution_count": 7,
      "metadata": {
        "colab": {
          "base_uri": "https://localhost:8080/"
        },
        "id": "ieZlGWwZ4mcD",
        "outputId": "4fb16007-174c-4305-a4d8-0deac365212c"
      },
      "outputs": [
        {
          "data": {
            "text/plain": [
              "1"
            ]
          },
          "execution_count": 7,
          "metadata": {},
          "output_type": "execute_result"
        }
      ],
      "source": [
        "vector.ndim"
      ]
    },
    {
      "cell_type": "code",
      "execution_count": 8,
      "metadata": {
        "colab": {
          "base_uri": "https://localhost:8080/"
        },
        "id": "N48lSUQE4qTw",
        "outputId": "1a8ed27b-5816-4380-f8f5-fb93a21ccdf1"
      },
      "outputs": [
        {
          "data": {
            "text/plain": [
              "torch.Size([2])"
            ]
          },
          "execution_count": 8,
          "metadata": {},
          "output_type": "execute_result"
        }
      ],
      "source": [
        "vector.shape"
      ]
    },
    {
      "cell_type": "code",
      "execution_count": 9,
      "metadata": {
        "colab": {
          "base_uri": "https://localhost:8080/"
        },
        "id": "q1ZybgaO4u5-",
        "outputId": "9059cf85-4c80-41ad-9b21-ed923d0671b2"
      },
      "outputs": [
        {
          "data": {
            "text/plain": [
              "tensor([[ 7,  8],\n",
              "        [ 9, 10]])"
            ]
          },
          "execution_count": 9,
          "metadata": {},
          "output_type": "execute_result"
        }
      ],
      "source": [
        "#Matrix\n",
        "\n",
        "matrix = torch.tensor([[7,8],\n",
        "                      [9,10]])\n",
        "matrix"
      ]
    },
    {
      "cell_type": "code",
      "execution_count": 10,
      "metadata": {
        "colab": {
          "base_uri": "https://localhost:8080/"
        },
        "id": "f8tq7n6j5adV",
        "outputId": "ec2ef396-b4cd-4be9-e154-378c377752c8"
      },
      "outputs": [
        {
          "data": {
            "text/plain": [
              "2"
            ]
          },
          "execution_count": 10,
          "metadata": {},
          "output_type": "execute_result"
        }
      ],
      "source": [
        "matrix.ndim"
      ]
    },
    {
      "cell_type": "code",
      "execution_count": 11,
      "metadata": {
        "colab": {
          "base_uri": "https://localhost:8080/"
        },
        "id": "IHcZIwtM5c5b",
        "outputId": "db7cb07d-f30c-439a-eeed-03027a67ed70"
      },
      "outputs": [
        {
          "data": {
            "text/plain": [
              "tensor([ 9, 10])"
            ]
          },
          "execution_count": 11,
          "metadata": {},
          "output_type": "execute_result"
        }
      ],
      "source": [
        "matrix[1]"
      ]
    },
    {
      "cell_type": "code",
      "execution_count": 12,
      "metadata": {
        "colab": {
          "base_uri": "https://localhost:8080/"
        },
        "id": "iv08Na9I5kLY",
        "outputId": "f97b095a-225c-46ae-9d1d-f931116b0ac4"
      },
      "outputs": [
        {
          "data": {
            "text/plain": [
              "torch.Size([2, 2])"
            ]
          },
          "execution_count": 12,
          "metadata": {},
          "output_type": "execute_result"
        }
      ],
      "source": [
        "matrix.shape"
      ]
    },
    {
      "cell_type": "code",
      "execution_count": 13,
      "metadata": {
        "colab": {
          "base_uri": "https://localhost:8080/"
        },
        "id": "Hcn2GMS0FO6R",
        "outputId": "651083ad-a5ba-40f7-d012-3384270b0d80"
      },
      "outputs": [
        {
          "data": {
            "text/plain": [
              "tensor([[[1, 2, 3],\n",
              "         [3, 6, 9],\n",
              "         [2, 4, 5]]])"
            ]
          },
          "execution_count": 13,
          "metadata": {},
          "output_type": "execute_result"
        }
      ],
      "source": [
        "#TENSOR\n",
        "\n",
        "TENSOR = torch.tensor([[\n",
        "    [1,2,3],\n",
        "    [3,6,9],\n",
        "    [2,4,5]\n",
        "]])\n",
        "\n",
        "TENSOR"
      ]
    },
    {
      "cell_type": "code",
      "execution_count": 14,
      "metadata": {
        "colab": {
          "base_uri": "https://localhost:8080/"
        },
        "id": "u22TmPORFmBT",
        "outputId": "2bd94bd8-2122-4c38-d0d7-e844b2e6a696"
      },
      "outputs": [
        {
          "data": {
            "text/plain": [
              "3"
            ]
          },
          "execution_count": 14,
          "metadata": {},
          "output_type": "execute_result"
        }
      ],
      "source": [
        "TENSOR.ndim"
      ]
    },
    {
      "cell_type": "code",
      "execution_count": 15,
      "metadata": {
        "colab": {
          "base_uri": "https://localhost:8080/"
        },
        "id": "VOs-n6ZNFph1",
        "outputId": "c8049772-e9c3-4914-e93f-2209bcdcda21"
      },
      "outputs": [
        {
          "data": {
            "text/plain": [
              "torch.Size([1, 3, 3])"
            ]
          },
          "execution_count": 15,
          "metadata": {},
          "output_type": "execute_result"
        }
      ],
      "source": [
        "TENSOR.shape"
      ]
    },
    {
      "cell_type": "code",
      "execution_count": 16,
      "metadata": {
        "colab": {
          "base_uri": "https://localhost:8080/"
        },
        "id": "Fowm67ZUFwvY",
        "outputId": "574332d5-7a1e-4c06-dd19-3be4f1fe75e9"
      },
      "outputs": [
        {
          "data": {
            "text/plain": [
              "tensor([[1, 2, 3],\n",
              "        [3, 6, 9],\n",
              "        [2, 4, 5]])"
            ]
          },
          "execution_count": 16,
          "metadata": {},
          "output_type": "execute_result"
        }
      ],
      "source": [
        "TENSOR[0]"
      ]
    },
    {
      "cell_type": "markdown",
      "metadata": {
        "id": "cTBpwDnEG4gM"
      },
      "source": [
        "# Using Random Tensors!"
      ]
    },
    {
      "cell_type": "code",
      "execution_count": 17,
      "metadata": {
        "colab": {
          "base_uri": "https://localhost:8080/"
        },
        "id": "5msz5DzKG818",
        "outputId": "a7a93db2-6d91-4fc6-8506-0de99ffb9c96"
      },
      "outputs": [
        {
          "data": {
            "text/plain": [
              "tensor([[0.4831, 0.0312, 0.1407, 0.2567],\n",
              "        [0.1605, 0.4163, 0.1444, 0.0830],\n",
              "        [0.5687, 0.3211, 0.1324, 0.4149]])"
            ]
          },
          "execution_count": 17,
          "metadata": {},
          "output_type": "execute_result"
        }
      ],
      "source": [
        "#creating a random tensor size (3,4)\n",
        "\n",
        "random_tensor = torch.rand(3,4)\n",
        "random_tensor"
      ]
    },
    {
      "cell_type": "code",
      "execution_count": 18,
      "metadata": {
        "colab": {
          "base_uri": "https://localhost:8080/"
        },
        "id": "UEeBCOx5HjG7",
        "outputId": "9a2836a7-b451-4a82-cf99-37adfa318838"
      },
      "outputs": [
        {
          "data": {
            "text/plain": [
              "tensor([[[6.0831e-01, 8.9019e-01, 8.7428e-01, 1.4576e-01, 8.3215e-01,\n",
              "          2.7381e-02, 8.8369e-02, 4.7936e-01, 6.0519e-01, 8.0731e-01],\n",
              "         [9.7700e-01, 4.7728e-01, 5.9242e-01, 3.1199e-01, 7.6182e-01,\n",
              "          9.3784e-01, 2.8844e-01, 1.7467e-01, 7.0292e-01, 6.6832e-01],\n",
              "         [5.4849e-02, 2.4774e-01, 7.3958e-01, 5.9616e-01, 9.6059e-02,\n",
              "          1.4831e-01, 4.3626e-01, 5.4141e-01, 7.3638e-01, 8.6096e-01],\n",
              "         [8.4594e-01, 6.9318e-01, 8.8350e-01, 7.9155e-01, 1.9249e-01,\n",
              "          9.6479e-01, 6.4358e-01, 9.8407e-01, 9.6810e-01, 4.0409e-01],\n",
              "         [2.9036e-01, 6.8624e-01, 9.7299e-01, 8.8829e-01, 4.1381e-01,\n",
              "          5.0009e-02, 5.4299e-01, 3.7395e-01, 5.2122e-01, 8.0832e-01],\n",
              "         [3.9899e-01, 3.9466e-01, 9.5727e-01, 7.8501e-01, 1.8192e-01,\n",
              "          8.8546e-01, 3.4983e-01, 1.4025e-01, 7.2327e-02, 9.4943e-02],\n",
              "         [6.4453e-01, 9.6644e-01, 3.5942e-01, 1.8369e-02, 3.8216e-01,\n",
              "          8.8153e-01, 8.9882e-01, 8.6523e-01, 9.6075e-01, 3.5487e-02],\n",
              "         [4.3028e-01, 6.6297e-02, 9.3396e-01, 8.1078e-01, 1.6624e-02,\n",
              "          7.1548e-01, 8.4729e-01, 3.4532e-01, 8.2206e-01, 5.8371e-01],\n",
              "         [7.1976e-01, 3.7448e-01, 6.7159e-01, 5.6859e-01, 2.4152e-01,\n",
              "          7.7572e-01, 6.4274e-01, 1.8844e-01, 9.7957e-01, 9.3261e-01],\n",
              "         [9.6832e-01, 8.1809e-02, 1.0815e-01, 1.3338e-01, 7.8727e-01,\n",
              "          4.5622e-01, 8.3102e-01, 9.2644e-01, 7.9556e-01, 6.8080e-01]],\n",
              "\n",
              "        [[8.4898e-01, 8.3744e-01, 7.2627e-01, 9.4394e-01, 6.7430e-01,\n",
              "          3.5269e-01, 2.6821e-01, 8.4576e-01, 1.4030e-01, 3.5669e-01],\n",
              "         [5.1994e-01, 7.3851e-01, 7.7051e-01, 9.3731e-02, 4.0062e-03,\n",
              "          4.0814e-01, 7.9747e-01, 8.9593e-01, 3.9999e-01, 9.0587e-01],\n",
              "         [3.6825e-02, 3.8016e-01, 8.2985e-01, 1.0462e-01, 2.1466e-01,\n",
              "          1.3163e-01, 6.2012e-01, 3.6008e-01, 1.4753e-01, 2.1879e-01],\n",
              "         [5.7055e-01, 9.8994e-01, 1.7578e-01, 2.3861e-02, 3.5593e-01,\n",
              "          7.5839e-01, 3.9059e-02, 3.2363e-01, 1.3833e-01, 4.9374e-02],\n",
              "         [1.6913e-01, 9.2368e-01, 5.1826e-01, 4.8764e-01, 3.3819e-01,\n",
              "          3.2695e-01, 5.6644e-02, 7.7397e-01, 5.4472e-01, 7.6315e-01],\n",
              "         [9.1695e-01, 5.0467e-03, 8.9347e-01, 3.7108e-01, 1.2402e-01,\n",
              "          8.7774e-01, 2.6027e-01, 8.2258e-01, 7.7595e-01, 5.4248e-01],\n",
              "         [2.6512e-01, 2.8500e-01, 6.4567e-01, 2.0109e-01, 8.7436e-02,\n",
              "          5.7519e-02, 8.1598e-01, 8.6893e-01, 4.5403e-01, 8.6305e-01],\n",
              "         [8.2346e-01, 7.1071e-01, 8.3246e-02, 4.0158e-02, 8.0746e-01,\n",
              "          3.3776e-01, 9.9044e-01, 5.7156e-02, 7.4580e-01, 8.6457e-01],\n",
              "         [2.4548e-01, 2.0999e-01, 4.3808e-01, 3.6036e-01, 4.0590e-01,\n",
              "          1.0434e-01, 2.8940e-01, 2.1046e-01, 7.7867e-01, 5.9259e-01],\n",
              "         [9.5497e-01, 4.8534e-01, 7.4199e-01, 2.3293e-01, 6.5341e-01,\n",
              "          6.2865e-01, 5.5725e-01, 5.7067e-01, 7.7221e-01, 5.1524e-01]],\n",
              "\n",
              "        [[2.4195e-01, 9.6945e-01, 5.7963e-01, 4.4436e-01, 4.4334e-01,\n",
              "          6.6269e-01, 8.6555e-01, 6.1117e-01, 9.2523e-01, 6.3099e-01],\n",
              "         [1.3008e-01, 5.2812e-01, 3.8657e-01, 5.8318e-01, 5.0624e-01,\n",
              "          1.9608e-01, 4.7454e-01, 7.8136e-01, 9.9140e-01, 3.2013e-02],\n",
              "         [5.7060e-01, 8.5692e-01, 2.5093e-01, 2.5295e-01, 9.8598e-01,\n",
              "          8.6438e-01, 8.5460e-01, 2.4404e-01, 9.7251e-01, 8.6165e-01],\n",
              "         [3.3344e-01, 3.0416e-01, 6.3572e-01, 9.2444e-01, 3.8675e-01,\n",
              "          7.4976e-02, 5.8104e-02, 1.4788e-01, 5.2611e-01, 6.7369e-01],\n",
              "         [2.2037e-01, 2.7542e-01, 3.7853e-01, 7.0561e-01, 3.3651e-01,\n",
              "          5.3833e-01, 6.0513e-01, 3.6987e-01, 9.6076e-01, 1.6985e-01],\n",
              "         [9.3487e-01, 4.7407e-03, 9.2863e-01, 3.2593e-01, 9.4086e-01,\n",
              "          5.5674e-01, 9.4663e-01, 2.5828e-02, 2.4786e-01, 6.6867e-01],\n",
              "         [9.8968e-01, 3.8713e-01, 7.1408e-01, 1.9380e-01, 4.4546e-01,\n",
              "          9.2763e-01, 2.7355e-01, 5.3385e-01, 7.6025e-01, 3.6097e-01],\n",
              "         [5.6974e-01, 6.5615e-01, 6.0795e-01, 3.2603e-01, 4.9083e-01,\n",
              "          7.2024e-01, 5.8498e-01, 9.3453e-01, 1.9429e-01, 1.6246e-01],\n",
              "         [8.9344e-01, 9.1759e-02, 9.5750e-01, 2.5423e-01, 1.5685e-01,\n",
              "          6.3099e-01, 6.2072e-01, 1.3443e-01, 7.8501e-01, 2.3169e-01],\n",
              "         [4.1507e-01, 5.3706e-01, 5.2130e-01, 5.4472e-01, 7.3640e-01,\n",
              "          9.0310e-01, 1.1277e-01, 2.0608e-01, 8.8167e-01, 1.3931e-01]],\n",
              "\n",
              "        [[1.8322e-01, 7.7670e-01, 6.9944e-01, 8.5944e-01, 6.7816e-01,\n",
              "          9.5056e-01, 7.1005e-02, 5.0674e-01, 1.9964e-01, 2.0423e-01],\n",
              "         [3.2291e-01, 4.7499e-01, 5.6415e-01, 7.6663e-02, 5.7635e-01,\n",
              "          6.0699e-01, 3.5641e-01, 8.9076e-01, 2.2016e-01, 8.3786e-01],\n",
              "         [7.0947e-01, 7.2931e-01, 4.3738e-01, 4.0031e-01, 5.0733e-01,\n",
              "          4.1579e-01, 7.6224e-01, 2.5249e-01, 8.5183e-01, 9.5954e-01],\n",
              "         [3.2142e-01, 2.1551e-01, 8.1230e-01, 2.1471e-01, 4.1687e-01,\n",
              "          8.1860e-01, 1.3580e-01, 1.9329e-01, 8.9816e-01, 2.7063e-01],\n",
              "         [8.9174e-02, 8.2579e-01, 8.8797e-01, 5.4702e-01, 2.2493e-01,\n",
              "          6.5484e-01, 2.7136e-01, 4.7775e-01, 2.7845e-01, 6.6245e-01],\n",
              "         [5.8096e-01, 2.3886e-01, 8.8309e-01, 3.4048e-01, 9.7962e-01,\n",
              "          6.4855e-01, 8.1051e-01, 2.9125e-01, 2.6379e-01, 8.3781e-01],\n",
              "         [2.0641e-01, 9.2303e-01, 2.7718e-01, 9.1924e-01, 4.8564e-01,\n",
              "          3.9365e-01, 6.7527e-01, 3.0557e-01, 5.0221e-01, 2.5463e-01],\n",
              "         [5.2740e-01, 8.6094e-01, 1.9608e-01, 1.5250e-02, 4.1691e-01,\n",
              "          5.0350e-01, 7.8693e-01, 4.8335e-01, 3.4084e-01, 8.4163e-02],\n",
              "         [3.3149e-01, 2.9316e-01, 1.3707e-01, 5.9090e-01, 7.3145e-01,\n",
              "          2.0463e-01, 5.1945e-01, 7.8678e-01, 8.5755e-01, 4.7131e-01],\n",
              "         [2.2902e-02, 9.7351e-01, 2.7041e-01, 4.6607e-01, 8.7631e-01,\n",
              "          9.5510e-01, 2.7608e-01, 9.2042e-01, 7.6668e-01, 6.0260e-01]],\n",
              "\n",
              "        [[1.9452e-01, 6.3242e-01, 7.6141e-01, 4.0220e-01, 4.1187e-01,\n",
              "          7.2125e-01, 4.5727e-01, 2.1060e-01, 7.9122e-01, 4.7219e-01],\n",
              "         [2.3959e-01, 6.6786e-01, 8.9691e-01, 8.3410e-01, 9.3271e-01,\n",
              "          9.1323e-01, 8.6163e-02, 6.0920e-01, 7.3127e-01, 6.3919e-02],\n",
              "         [8.3396e-01, 4.5009e-02, 5.3515e-01, 3.7138e-01, 6.2961e-01,\n",
              "          9.3072e-01, 5.1659e-01, 4.0012e-01, 8.2190e-01, 6.6185e-01],\n",
              "         [7.2843e-01, 1.0640e-01, 7.1678e-01, 5.2659e-01, 2.5945e-01,\n",
              "          4.2979e-01, 4.9255e-01, 6.0636e-01, 9.2009e-01, 3.9566e-01],\n",
              "         [5.4924e-01, 9.0265e-01, 6.5244e-01, 8.5961e-01, 3.0001e-01,\n",
              "          7.2643e-01, 6.5269e-02, 1.2866e-01, 7.9246e-01, 8.8178e-01],\n",
              "         [6.5970e-01, 9.8449e-01, 8.2223e-03, 6.7396e-01, 8.8401e-02,\n",
              "          2.8155e-01, 6.3759e-01, 4.8578e-01, 5.6490e-01, 5.1085e-01],\n",
              "         [2.1983e-01, 3.7797e-01, 9.5747e-01, 8.7310e-01, 6.4016e-01,\n",
              "          4.5046e-01, 1.4865e-02, 5.0786e-01, 7.5936e-01, 1.1339e-01],\n",
              "         [8.1657e-01, 3.7496e-01, 5.8695e-01, 3.4283e-01, 2.1199e-01,\n",
              "          2.1409e-01, 7.0482e-01, 7.0474e-02, 3.9254e-01, 7.6594e-02],\n",
              "         [9.4653e-01, 8.1799e-01, 8.9180e-01, 1.4230e-02, 3.5781e-02,\n",
              "          1.0480e-01, 6.1100e-01, 1.3517e-01, 5.8024e-01, 1.6512e-01],\n",
              "         [5.4350e-01, 4.3276e-01, 3.4314e-01, 5.8151e-01, 8.9861e-02,\n",
              "          7.1504e-01, 1.6860e-01, 5.8461e-01, 5.3543e-01, 3.6321e-02]],\n",
              "\n",
              "        [[8.7039e-01, 5.2113e-01, 7.8296e-02, 9.4507e-01, 6.2220e-01,\n",
              "          4.6308e-01, 2.1793e-01, 7.2535e-01, 4.5436e-01, 8.5808e-01],\n",
              "         [2.9029e-02, 9.7117e-01, 4.5521e-01, 1.3998e-01, 1.3496e-01,\n",
              "          1.9607e-01, 8.0626e-01, 9.3431e-02, 3.0978e-01, 9.4902e-01],\n",
              "         [2.4383e-01, 8.7172e-01, 4.5922e-01, 4.5633e-01, 4.7544e-01,\n",
              "          6.0666e-01, 1.0242e-02, 3.6414e-01, 7.1848e-01, 5.1521e-01],\n",
              "         [4.0884e-01, 1.2353e-03, 1.5861e-01, 1.5995e-01, 6.8447e-01,\n",
              "          8.8678e-01, 8.2358e-03, 7.0260e-01, 2.6824e-01, 5.7473e-01],\n",
              "         [7.6586e-01, 4.9940e-01, 2.6559e-01, 4.1184e-01, 9.2388e-01,\n",
              "          8.0044e-01, 6.5626e-01, 4.4018e-01, 2.6831e-01, 2.4232e-01],\n",
              "         [5.9895e-01, 7.9139e-01, 8.7404e-01, 6.5010e-01, 7.4202e-01,\n",
              "          9.1121e-01, 4.3044e-01, 8.3706e-01, 5.6911e-02, 5.3403e-01],\n",
              "         [2.0570e-03, 2.3408e-01, 6.7426e-01, 7.5333e-01, 8.0222e-01,\n",
              "          5.2854e-01, 8.2789e-01, 6.5062e-01, 7.7086e-01, 7.5653e-01],\n",
              "         [6.4111e-01, 7.5116e-02, 1.3191e-01, 6.2082e-01, 7.7273e-01,\n",
              "          6.3305e-02, 9.4219e-01, 7.0969e-01, 1.3283e-01, 6.6358e-01],\n",
              "         [3.6317e-02, 7.3882e-01, 3.4043e-01, 7.1772e-01, 2.0528e-01,\n",
              "          5.0511e-01, 1.3552e-01, 7.2425e-01, 8.3703e-01, 9.0192e-01],\n",
              "         [6.9249e-01, 7.0565e-02, 5.7081e-02, 6.7230e-01, 3.1961e-01,\n",
              "          4.4837e-01, 8.3898e-02, 9.5940e-01, 7.0135e-01, 2.9754e-03]],\n",
              "\n",
              "        [[2.6412e-01, 2.5164e-01, 4.6042e-02, 9.2124e-01, 3.4461e-01,\n",
              "          4.9105e-01, 4.5513e-01, 6.4093e-02, 1.8851e-01, 1.9451e-01],\n",
              "         [1.2180e-01, 8.2410e-02, 2.9782e-01, 1.5896e-01, 8.0774e-01,\n",
              "          7.0309e-01, 7.3230e-01, 8.2201e-01, 5.8321e-01, 3.7823e-01],\n",
              "         [8.4564e-01, 8.3316e-01, 5.6249e-01, 9.1389e-01, 6.0606e-01,\n",
              "          6.8663e-01, 3.2113e-02, 9.4767e-01, 9.4172e-01, 4.4860e-01],\n",
              "         [4.0648e-01, 9.8546e-01, 3.7657e-01, 4.1883e-01, 8.6583e-01,\n",
              "          3.2126e-01, 5.9658e-01, 8.4805e-01, 2.5027e-01, 7.9820e-01],\n",
              "         [2.4679e-01, 9.1235e-01, 7.3229e-02, 3.5849e-01, 3.9426e-01,\n",
              "          4.8116e-02, 7.2891e-01, 1.2835e-01, 8.5213e-01, 3.0600e-01],\n",
              "         [9.7230e-01, 4.5921e-01, 9.7602e-01, 9.9968e-01, 7.7560e-01,\n",
              "          5.5799e-01, 6.3829e-01, 7.0431e-01, 5.6059e-01, 8.4887e-01],\n",
              "         [1.6379e-03, 6.8785e-02, 4.4568e-01, 1.4106e-01, 6.6498e-01,\n",
              "          6.6548e-01, 3.3438e-01, 6.7946e-01, 4.2459e-01, 2.1075e-01],\n",
              "         [1.9928e-01, 4.4043e-01, 8.3388e-01, 8.9746e-01, 8.5440e-01,\n",
              "          7.9260e-01, 6.8773e-01, 1.5288e-01, 7.7256e-01, 1.9213e-01],\n",
              "         [7.1265e-01, 4.4156e-01, 9.8288e-01, 7.5017e-01, 5.7324e-02,\n",
              "          8.3430e-01, 2.6850e-01, 5.8255e-01, 4.7093e-01, 9.5956e-01],\n",
              "         [8.8756e-01, 3.2988e-01, 2.9040e-01, 2.1453e-01, 4.2003e-01,\n",
              "          2.7861e-01, 6.2910e-01, 3.8848e-01, 7.4401e-01, 5.2250e-02]],\n",
              "\n",
              "        [[5.9363e-01, 4.1638e-01, 5.0990e-01, 7.6241e-01, 7.0643e-01,\n",
              "          2.5268e-01, 3.8603e-01, 4.2353e-01, 6.6992e-01, 5.6114e-01],\n",
              "         [1.3320e-01, 9.9355e-02, 7.5424e-01, 1.2230e-01, 3.5708e-01,\n",
              "          2.5764e-01, 3.5318e-01, 6.4289e-01, 3.4704e-01, 9.8414e-01],\n",
              "         [9.2338e-01, 4.0224e-01, 7.5846e-01, 8.2557e-01, 7.0836e-01,\n",
              "          7.8485e-01, 3.6982e-01, 6.1987e-01, 7.5176e-01, 3.6114e-01],\n",
              "         [3.4295e-01, 5.9253e-01, 7.4483e-02, 3.9832e-01, 5.3992e-01,\n",
              "          7.9993e-01, 7.0633e-01, 5.8016e-01, 6.7394e-01, 1.2902e-01],\n",
              "         [7.8910e-01, 5.0442e-01, 2.1847e-01, 4.1536e-01, 3.2685e-01,\n",
              "          2.8599e-01, 1.1751e-01, 7.0123e-01, 8.9087e-01, 9.0344e-01],\n",
              "         [1.3067e-01, 5.6977e-01, 7.9022e-01, 5.7190e-01, 2.8711e-01,\n",
              "          8.9581e-01, 1.5378e-01, 8.4506e-01, 6.4790e-01, 7.7471e-01],\n",
              "         [5.7926e-01, 1.8607e-01, 3.4023e-01, 7.1051e-01, 2.4832e-01,\n",
              "          8.5139e-01, 6.6069e-01, 3.6583e-01, 5.0812e-01, 7.0843e-01],\n",
              "         [2.5578e-01, 1.5289e-01, 5.0011e-01, 9.0575e-01, 6.2118e-01,\n",
              "          2.9131e-01, 1.3250e-01, 7.3498e-01, 3.9176e-01, 2.6068e-01],\n",
              "         [3.3534e-01, 5.0007e-01, 5.0930e-01, 6.8963e-01, 5.5195e-01,\n",
              "          4.9115e-01, 6.2942e-01, 6.1987e-01, 7.4245e-01, 5.5055e-01],\n",
              "         [3.7176e-01, 7.5354e-01, 6.6721e-01, 8.2690e-01, 3.1573e-01,\n",
              "          6.6802e-01, 1.2629e-01, 4.6221e-01, 2.4905e-01, 7.3337e-01]],\n",
              "\n",
              "        [[4.2296e-01, 2.7123e-01, 4.9473e-01, 9.6653e-01, 1.9110e-01,\n",
              "          1.4822e-01, 4.5995e-01, 7.2377e-01, 3.4769e-01, 8.9297e-01],\n",
              "         [5.5063e-01, 1.9684e-01, 4.9743e-01, 7.7948e-01, 6.9671e-01,\n",
              "          5.6131e-01, 2.2616e-01, 7.1357e-01, 1.4159e-01, 5.0867e-01],\n",
              "         [2.6720e-01, 8.1362e-01, 1.9382e-02, 1.9749e-01, 3.0756e-01,\n",
              "          8.5367e-01, 5.4336e-01, 6.0619e-01, 2.9718e-01, 8.0501e-01],\n",
              "         [5.0436e-01, 7.5740e-01, 9.2282e-01, 5.3417e-01, 5.8917e-01,\n",
              "          5.2016e-01, 3.8684e-01, 4.7364e-01, 4.0727e-01, 7.9768e-01],\n",
              "         [8.4764e-04, 1.0491e-01, 4.0236e-01, 6.8207e-01, 4.5893e-01,\n",
              "          5.1675e-01, 3.0476e-01, 3.3382e-02, 8.0391e-01, 9.3700e-01],\n",
              "         [1.0562e-01, 8.6034e-01, 9.7751e-01, 4.9267e-01, 5.7708e-01,\n",
              "          2.8705e-01, 9.0600e-01, 2.6876e-01, 7.6757e-01, 1.2167e-01],\n",
              "         [1.3145e-01, 5.6723e-01, 2.7193e-01, 6.1598e-01, 8.6100e-01,\n",
              "          1.5912e-01, 6.5790e-01, 2.9203e-01, 5.0289e-01, 4.8144e-01],\n",
              "         [9.0355e-01, 9.1733e-01, 4.8950e-01, 4.6540e-01, 1.4097e-01,\n",
              "          9.6653e-01, 3.0074e-02, 5.6295e-01, 3.8116e-01, 2.6196e-01],\n",
              "         [6.0248e-01, 1.9095e-01, 1.8582e-01, 2.7627e-01, 8.3027e-01,\n",
              "          5.9567e-01, 7.8907e-01, 1.0741e-01, 1.0402e-01, 9.1779e-01],\n",
              "         [5.7026e-01, 7.9661e-01, 9.6061e-01, 8.9079e-01, 6.5329e-01,\n",
              "          2.6437e-01, 4.6927e-01, 3.0155e-01, 3.8946e-01, 6.9724e-01]],\n",
              "\n",
              "        [[8.9418e-02, 1.2499e-02, 7.4384e-01, 2.0702e-01, 3.1151e-01,\n",
              "          8.0616e-01, 6.1514e-01, 4.5410e-01, 5.8211e-01, 6.6387e-01],\n",
              "         [9.5992e-01, 2.6524e-01, 8.8110e-01, 2.3651e-01, 1.6389e-01,\n",
              "          6.4446e-01, 8.9208e-01, 1.3776e-01, 8.7810e-01, 4.4836e-01],\n",
              "         [8.6152e-01, 8.9258e-01, 8.2992e-01, 1.6483e-01, 9.6214e-01,\n",
              "          3.1100e-01, 7.8614e-01, 6.7213e-01, 2.1646e-01, 4.3344e-01],\n",
              "         [7.9524e-01, 7.8537e-01, 6.2939e-01, 4.2480e-01, 3.2874e-01,\n",
              "          9.7243e-01, 5.5994e-01, 6.5047e-01, 1.6919e-01, 3.0221e-01],\n",
              "         [9.5763e-01, 7.2115e-01, 6.7115e-01, 6.8371e-01, 3.7042e-02,\n",
              "          2.0838e-01, 9.1803e-01, 9.5972e-02, 4.6765e-01, 3.7352e-01],\n",
              "         [5.6651e-01, 4.3983e-01, 1.7825e-01, 8.7707e-01, 9.5680e-01,\n",
              "          4.2030e-01, 1.4204e-01, 1.4675e-01, 5.0181e-02, 5.9699e-01],\n",
              "         [2.0019e-01, 6.7136e-01, 7.3390e-01, 5.1992e-01, 6.8768e-01,\n",
              "          7.0203e-01, 4.6906e-01, 5.7768e-01, 8.3819e-01, 9.1007e-01],\n",
              "         [7.1977e-02, 3.0642e-01, 8.3691e-01, 7.3000e-01, 5.2693e-02,\n",
              "          4.5610e-01, 7.0523e-01, 9.7279e-01, 8.5675e-01, 3.6446e-01],\n",
              "         [7.5275e-01, 4.7661e-01, 8.0967e-01, 1.0124e-01, 3.4426e-01,\n",
              "          1.7718e-01, 8.5460e-01, 6.6246e-01, 6.2516e-01, 3.7498e-01],\n",
              "         [1.5079e-02, 2.7527e-01, 1.5984e-02, 7.2207e-01, 5.6441e-01,\n",
              "          1.5445e-01, 7.2863e-01, 2.9811e-01, 2.9710e-01, 9.2955e-01]]])"
            ]
          },
          "execution_count": 18,
          "metadata": {},
          "output_type": "execute_result"
        }
      ],
      "source": [
        "random_tensor2 = torch.rand(10,10,10)\n",
        "random_tensor2"
      ]
    },
    {
      "cell_type": "code",
      "execution_count": 19,
      "metadata": {
        "colab": {
          "base_uri": "https://localhost:8080/"
        },
        "id": "DEs01KJNHtj4",
        "outputId": "9415d75e-3d81-42a0-e52f-5f7af7f42f83"
      },
      "outputs": [
        {
          "data": {
            "text/plain": [
              "(torch.Size([224, 224, 3]), 3)"
            ]
          },
          "execution_count": 19,
          "metadata": {},
          "output_type": "execute_result"
        }
      ],
      "source": [
        "#create a random tensor with similar shape to an image tensor\n",
        "\n",
        "random_image_size_tensor = torch.rand(size=(224,224,3)) #height, width, color channels\n",
        "random_image_size_tensor.shape, random_image_size_tensor.ndim"
      ]
    },
    {
      "cell_type": "markdown",
      "metadata": {
        "id": "o1oxzp-FI2Pk"
      },
      "source": [
        "#ZEROs and ONEs Tensor\n"
      ]
    },
    {
      "cell_type": "code",
      "execution_count": 20,
      "metadata": {
        "colab": {
          "base_uri": "https://localhost:8080/"
        },
        "id": "WXxuCKNfJWnM",
        "outputId": "b9efac90-1a88-4ace-9c99-531e02c91d01"
      },
      "outputs": [
        {
          "data": {
            "text/plain": [
              "tensor([[0., 0., 0., 0.],\n",
              "        [0., 0., 0., 0.],\n",
              "        [0., 0., 0., 0.]])"
            ]
          },
          "execution_count": 20,
          "metadata": {},
          "output_type": "execute_result"
        }
      ],
      "source": [
        "zero = torch.zeros(size=(3,4))\n",
        "zero"
      ]
    },
    {
      "cell_type": "code",
      "execution_count": 21,
      "metadata": {
        "colab": {
          "base_uri": "https://localhost:8080/"
        },
        "id": "0DSHDXJRJYdH",
        "outputId": "74ceb571-08a6-4f9f-ba63-baec67b1ea08"
      },
      "outputs": [
        {
          "data": {
            "text/plain": [
              "tensor([[1., 1., 1., 1.],\n",
              "        [1., 1., 1., 1.],\n",
              "        [1., 1., 1., 1.]])"
            ]
          },
          "execution_count": 21,
          "metadata": {},
          "output_type": "execute_result"
        }
      ],
      "source": [
        "ones = torch.ones(size=(3,4))\n",
        "ones"
      ]
    },
    {
      "cell_type": "code",
      "execution_count": 22,
      "metadata": {
        "colab": {
          "base_uri": "https://localhost:8080/"
        },
        "id": "3Feq2v6HJdjF",
        "outputId": "c8dd4347-bb1b-4ccf-feaa-0e3e95c7fcd1"
      },
      "outputs": [
        {
          "data": {
            "text/plain": [
              "(torch.float32, torch.float32)"
            ]
          },
          "execution_count": 22,
          "metadata": {},
          "output_type": "execute_result"
        }
      ],
      "source": [
        "ones.dtype, random_image_size_tensor.dtype"
      ]
    },
    {
      "cell_type": "markdown",
      "metadata": {
        "id": "OU1TQagfJrIF"
      },
      "source": [
        "#Creating a range of Tensor"
      ]
    },
    {
      "cell_type": "code",
      "execution_count": 23,
      "metadata": {
        "colab": {
          "base_uri": "https://localhost:8080/"
        },
        "id": "zu4lEBNpJofs",
        "outputId": "0cb819e3-3eec-431d-9bae-5ca3cf04e456"
      },
      "outputs": [
        {
          "data": {
            "text/plain": [
              "tensor([ 1,  2,  3,  4,  5,  6,  7,  8,  9, 10])"
            ]
          },
          "execution_count": 23,
          "metadata": {},
          "output_type": "execute_result"
        }
      ],
      "source": [
        "torch.arange(1,11)"
      ]
    },
    {
      "cell_type": "markdown",
      "metadata": {
        "id": "7jXT0tqTLmhZ"
      },
      "source": [
        "#Getting info from tensors"
      ]
    },
    {
      "cell_type": "code",
      "execution_count": 24,
      "metadata": {
        "colab": {
          "base_uri": "https://localhost:8080/"
        },
        "id": "QIdcwZKVLlr_",
        "outputId": "20457caf-db26-4d08-bc1e-6814f2f8d23f"
      },
      "outputs": [
        {
          "name": "stdout",
          "output_type": "stream",
          "text": [
            "tensor([[0.9039, 0.1383, 0.1678, 0.3890],\n",
            "        [0.2353, 0.4011, 0.8142, 0.9841],\n",
            "        [0.0243, 0.4921, 0.2416, 0.5581]])\n",
            "Datatype of tensor: torch.float32\n",
            "Shape of tensor: torch.Size([3, 4])\n"
          ]
        }
      ],
      "source": [
        "some_tensor=torch.rand(3,4)\n",
        "print(some_tensor)\n",
        "print(f\"Datatype of tensor: {some_tensor.dtype}\")\n",
        "print(f\"Shape of tensor: {some_tensor.shape}\")"
      ]
    },
    {
      "cell_type": "markdown",
      "metadata": {
        "id": "OkXWVLaDM98r"
      },
      "source": [
        "# Manipulating Tensors\n",
        "* Add\n",
        "* Sub\n",
        "* Mul\n",
        "* Div\n",
        "* Matrix Mul"
      ]
    },
    {
      "cell_type": "code",
      "execution_count": 25,
      "metadata": {
        "colab": {
          "base_uri": "https://localhost:8080/"
        },
        "id": "-NziTZSLNNdh",
        "outputId": "786576a8-63f2-4cd5-a7a6-6ba62c752d5d"
      },
      "outputs": [
        {
          "name": "stdout",
          "output_type": "stream",
          "text": [
            "tensor([11, 12, 13])\n",
            "tensor([-9, -8, -7])\n",
            "tensor([10, 20, 30])\n",
            "tensor([0.1000, 0.2000, 0.3000])\n"
          ]
        }
      ],
      "source": [
        "#creating tensor and do operations\n",
        "tensor = torch.tensor([1,2,3])\n",
        "print(tensor + 10)\n",
        "print(tensor - 10)\n",
        "print(tensor * 10)\n",
        "print(tensor / 10)\n"
      ]
    },
    {
      "cell_type": "code",
      "execution_count": 26,
      "metadata": {
        "colab": {
          "base_uri": "https://localhost:8080/"
        },
        "id": "pyJlXGK1Nisw",
        "outputId": "929f396f-200b-4a56-bbc5-2f94a23bb711"
      },
      "outputs": [
        {
          "data": {
            "text/plain": [
              "tensor([11, 12, 13])"
            ]
          },
          "execution_count": 26,
          "metadata": {},
          "output_type": "execute_result"
        }
      ],
      "source": [
        "# or can use .add  or .operator()\n",
        "#ex\n",
        "tensor.add(10)"
      ]
    },
    {
      "cell_type": "markdown",
      "metadata": {
        "id": "XaCM_SrNOI6r"
      },
      "source": [
        "#Matrix Multiplication"
      ]
    },
    {
      "cell_type": "code",
      "execution_count": 27,
      "metadata": {
        "colab": {
          "base_uri": "https://localhost:8080/"
        },
        "id": "y1JeWw7JOH5i",
        "outputId": "9f70c167-07c1-4b58-86d9-4e7476e069f8"
      },
      "outputs": [
        {
          "name": "stdout",
          "output_type": "stream",
          "text": [
            "tensor([1, 2, 3]) * tensor([1, 2, 3]) = tensor([1, 4, 9])\n"
          ]
        }
      ],
      "source": [
        "#two type of mul\n",
        "#normal multiplication\n",
        "tensor1 = torch.tensor([1,2,3])\n",
        "tensor2 = torch.tensor([1,2,3])\n",
        "print(tensor1,\"*\",tensor2,\"=\",tensor1*tensor2)\n"
      ]
    },
    {
      "cell_type": "code",
      "execution_count": 28,
      "metadata": {
        "colab": {
          "base_uri": "https://localhost:8080/"
        },
        "id": "MA_ICxa1PglR",
        "outputId": "93e9502b-9618-4453-ac49-c18ba97a1860"
      },
      "outputs": [
        {
          "name": "stdout",
          "output_type": "stream",
          "text": [
            "\n",
            "Matrix Mul:  tensor(14)\n"
          ]
        }
      ],
      "source": [
        "#Matrix multiply\n",
        "print(\"\\nMatrix Mul: \",tensor1.matmul(tensor2))"
      ]
    },
    {
      "cell_type": "markdown",
      "metadata": {
        "id": "7s-n1nBAQPDi"
      },
      "source": [
        "### FInding\n",
        "* Min\n",
        "* max\n",
        "* mean\n",
        "* sum"
      ]
    },
    {
      "cell_type": "code",
      "execution_count": 29,
      "metadata": {
        "colab": {
          "base_uri": "https://localhost:8080/"
        },
        "id": "BcTTReO5Qazl",
        "outputId": "d06d18bc-7c65-4e53-80ad-9a31d0ffa89c"
      },
      "outputs": [
        {
          "data": {
            "text/plain": [
              "tensor([ 0, 10, 20, 30, 40, 50, 60, 70, 80, 90])"
            ]
          },
          "execution_count": 29,
          "metadata": {},
          "output_type": "execute_result"
        }
      ],
      "source": [
        "#Create a tensor\n",
        "x = torch.arange(0,100,10)\n",
        "x"
      ]
    },
    {
      "cell_type": "code",
      "execution_count": 30,
      "metadata": {
        "colab": {
          "base_uri": "https://localhost:8080/"
        },
        "id": "fQVK571iQ1nD",
        "outputId": "526f300e-05af-4571-ba7b-2faa78b569a4"
      },
      "outputs": [
        {
          "data": {
            "text/plain": [
              "(tensor(90), tensor(90))"
            ]
          },
          "execution_count": 30,
          "metadata": {},
          "output_type": "execute_result"
        }
      ],
      "source": [
        "torch.max(x),x.max()"
      ]
    },
    {
      "cell_type": "code",
      "execution_count": 31,
      "metadata": {
        "colab": {
          "base_uri": "https://localhost:8080/"
        },
        "id": "v5hcRdN6RnXS",
        "outputId": "9ae322fe-def9-4da4-a6ab-c0042139e342"
      },
      "outputs": [
        {
          "data": {
            "text/plain": [
              "(tensor(0), tensor(0))"
            ]
          },
          "execution_count": 31,
          "metadata": {},
          "output_type": "execute_result"
        }
      ],
      "source": [
        "torch.min(x),x.min()"
      ]
    },
    {
      "cell_type": "code",
      "execution_count": 32,
      "metadata": {
        "colab": {
          "base_uri": "https://localhost:8080/",
          "height": 176
        },
        "id": "HH7Mj_ATQ8zX",
        "outputId": "4b1a3142-11ba-43d5-8f21-5a3aae414463"
      },
      "outputs": [
        {
          "ename": "RuntimeError",
          "evalue": "mean(): could not infer output dtype. Input dtype must be either a floating point or complex dtype. Got: Long",
          "output_type": "error",
          "traceback": [
            "\u001b[1;31m---------------------------------------------------------------------------\u001b[0m",
            "\u001b[1;31mRuntimeError\u001b[0m                              Traceback (most recent call last)",
            "Cell \u001b[1;32mIn[32], line 2\u001b[0m\n\u001b[0;32m      1\u001b[0m \u001b[38;5;66;03m#raise error due to datatype problem\u001b[39;00m\n\u001b[1;32m----> 2\u001b[0m \u001b[43mtorch\u001b[49m\u001b[38;5;241;43m.\u001b[39;49m\u001b[43mmean\u001b[49m\u001b[43m(\u001b[49m\u001b[43mx\u001b[49m\u001b[43m)\u001b[49m\n",
            "\u001b[1;31mRuntimeError\u001b[0m: mean(): could not infer output dtype. Input dtype must be either a floating point or complex dtype. Got: Long"
          ]
        }
      ],
      "source": [
        "#raise error due to datatype problem\n",
        "torch.mean(x)"
      ]
    },
    {
      "cell_type": "code",
      "execution_count": 33,
      "metadata": {
        "colab": {
          "base_uri": "https://localhost:8080/"
        },
        "id": "pSqx7iNtROqj",
        "outputId": "f2691a91-a65b-4721-8f54-87bed0361c9a"
      },
      "outputs": [
        {
          "data": {
            "text/plain": [
              "(tensor(45.), tensor(45.))"
            ]
          },
          "execution_count": 33,
          "metadata": {},
          "output_type": "execute_result"
        }
      ],
      "source": [
        "torch.mean(x.type(torch.float32)),x.type(torch.float32).mean()"
      ]
    },
    {
      "cell_type": "code",
      "execution_count": 34,
      "metadata": {
        "colab": {
          "base_uri": "https://localhost:8080/"
        },
        "id": "-rbiBToNRWcf",
        "outputId": "4d74cbef-2145-4d1c-c4a4-9ca9374576ec"
      },
      "outputs": [
        {
          "data": {
            "text/plain": [
              "(tensor(450), tensor(450))"
            ]
          },
          "execution_count": 34,
          "metadata": {},
          "output_type": "execute_result"
        }
      ],
      "source": [
        "torch.sum(x),x.sum()"
      ]
    },
    {
      "cell_type": "markdown",
      "metadata": {
        "id": "2AwSYuAuS481"
      },
      "source": [
        "# Finding Positional of min and max"
      ]
    },
    {
      "cell_type": "code",
      "execution_count": 35,
      "metadata": {
        "colab": {
          "base_uri": "https://localhost:8080/"
        },
        "id": "w1ye_4fMR09E",
        "outputId": "697d6134-93c6-479f-e4c3-6f9a71dd7734"
      },
      "outputs": [
        {
          "name": "stdout",
          "output_type": "stream",
          "text": [
            "Min pos:  tensor(0)\n",
            "Max pos:  tensor(9)\n"
          ]
        }
      ],
      "source": [
        "print(\"Min pos: \",x.argmin())\n",
        "print(\"Max pos: \",x.argmax())"
      ]
    },
    {
      "cell_type": "markdown",
      "metadata": {
        "id": "9ZleSZ1WfDGN"
      },
      "source": [
        "# Reshaping, sacking, squeezing and unsqueezing"
      ]
    },
    {
      "cell_type": "code",
      "execution_count": 36,
      "metadata": {
        "colab": {
          "base_uri": "https://localhost:8080/"
        },
        "id": "EbtmM9CxfQgu",
        "outputId": "4ee67a4f-2ac5-40f9-cfe4-f6b3041caaa3"
      },
      "outputs": [
        {
          "data": {
            "text/plain": [
              "(tensor([ 1.,  2.,  3.,  4.,  5.,  6.,  7.,  8.,  9., 10., 11., 12.]),\n",
              " torch.Size([12]))"
            ]
          },
          "execution_count": 36,
          "metadata": {},
          "output_type": "execute_result"
        }
      ],
      "source": [
        "x = torch.arange(1.,13.)\n",
        "x,x.shape"
      ]
    },
    {
      "cell_type": "code",
      "execution_count": 37,
      "metadata": {
        "colab": {
          "base_uri": "https://localhost:8080/"
        },
        "id": "T5EsTYQXgGoj",
        "outputId": "997c25e4-f2bd-4014-c6fc-47e8a3d003ae"
      },
      "outputs": [
        {
          "data": {
            "text/plain": [
              "(tensor([[ 1.,  2.],\n",
              "         [ 3.,  4.],\n",
              "         [ 5.,  6.],\n",
              "         [ 7.,  8.],\n",
              "         [ 9., 10.],\n",
              "         [11., 12.]]),\n",
              " torch.Size([6, 2]))"
            ]
          },
          "execution_count": 37,
          "metadata": {},
          "output_type": "execute_result"
        }
      ],
      "source": [
        "x_reshaped = x.reshape(6,2)\n",
        "x_reshaped,x_reshaped.shape"
      ]
    },
    {
      "cell_type": "code",
      "execution_count": 38,
      "metadata": {
        "colab": {
          "base_uri": "https://localhost:8080/"
        },
        "id": "LofHM3rNgSfb",
        "outputId": "27c49bea-9734-4a7c-a59e-3564211dba50"
      },
      "outputs": [
        {
          "data": {
            "text/plain": [
              "(tensor([[ 1.,  2.,  3.,  4.,  5.,  6.,  7.,  8.,  9., 10., 11., 12.]]),\n",
              " torch.Size([1, 12]))"
            ]
          },
          "execution_count": 38,
          "metadata": {},
          "output_type": "execute_result"
        }
      ],
      "source": [
        "#changing the view\n",
        "z = x.view(1,12)\n",
        "z,z.shape"
      ]
    },
    {
      "cell_type": "code",
      "execution_count": 39,
      "metadata": {
        "colab": {
          "base_uri": "https://localhost:8080/"
        },
        "id": "isEdNPmPg6Zp",
        "outputId": "6d73913a-049f-4f74-fb2b-55b59f03f7c4"
      },
      "outputs": [
        {
          "data": {
            "text/plain": [
              "(tensor([[ 5.,  2.,  3.,  4.,  5.,  6.,  7.,  8.,  9., 10., 11., 12.]]),\n",
              " tensor([ 5.,  2.,  3.,  4.,  5.,  6.,  7.,  8.,  9., 10., 11., 12.]))"
            ]
          },
          "execution_count": 39,
          "metadata": {},
          "output_type": "execute_result"
        }
      ],
      "source": [
        "# changing z changes x\n",
        "z[:,0] = 5\n",
        "z,x"
      ]
    },
    {
      "cell_type": "code",
      "execution_count": 40,
      "metadata": {
        "colab": {
          "base_uri": "https://localhost:8080/"
        },
        "id": "VbQ7KdOnhKwR",
        "outputId": "97ac1889-94af-456b-b18f-c3ebd8a6c77b"
      },
      "outputs": [
        {
          "data": {
            "text/plain": [
              "tensor([[ 5.,  2.,  3.,  4.,  5.,  6.,  7.,  8.,  9., 10., 11., 12.],\n",
              "        [ 5.,  2.,  3.,  4.,  5.,  6.,  7.,  8.,  9., 10., 11., 12.],\n",
              "        [ 5.,  2.,  3.,  4.,  5.,  6.,  7.,  8.,  9., 10., 11., 12.],\n",
              "        [ 5.,  2.,  3.,  4.,  5.,  6.,  7.,  8.,  9., 10., 11., 12.]])"
            ]
          },
          "execution_count": 40,
          "metadata": {},
          "output_type": "execute_result"
        }
      ],
      "source": [
        "#Stacking\n",
        "x_stacked = torch.stack([x,x,x,x],dim=0)\n",
        "x_stacked"
      ]
    },
    {
      "cell_type": "code",
      "execution_count": 41,
      "metadata": {
        "colab": {
          "base_uri": "https://localhost:8080/"
        },
        "id": "OUJwJk9lhTyY",
        "outputId": "80a9b6b7-00c7-4656-8c7a-af2d50843989"
      },
      "outputs": [
        {
          "name": "stdout",
          "output_type": "stream",
          "text": [
            "tensor([[ 5.,  2.],\n",
            "        [ 3.,  4.],\n",
            "        [ 5.,  6.],\n",
            "        [ 7.,  8.],\n",
            "        [ 9., 10.],\n",
            "        [11., 12.]])\n",
            "tensor([[ 5.,  2.,  3.,  4.,  5.,  6.,  7.,  8.,  9., 10., 11., 12.]])\n"
          ]
        },
        {
          "data": {
            "text/plain": [
              "tensor([ 5.,  2.,  3.,  4.,  5.,  6.,  7.,  8.,  9., 10., 11., 12.])"
            ]
          },
          "execution_count": 41,
          "metadata": {},
          "output_type": "execute_result"
        }
      ],
      "source": [
        "#squeeze\n",
        "print (x_reshaped)\n",
        "x_reshaped = x_reshaped.reshape(1,12)\n",
        "print(x_reshaped)\n",
        "x_squeezed = x_reshaped.squeeze()\n",
        "x_squeezed"
      ]
    },
    {
      "cell_type": "code",
      "execution_count": 42,
      "metadata": {
        "colab": {
          "base_uri": "https://localhost:8080/"
        },
        "id": "cEqBaB79h8GO",
        "outputId": "304e1de4-a053-4508-8acb-15110544ee3d"
      },
      "outputs": [
        {
          "data": {
            "text/plain": [
              "tensor([[ 5.,  2.,  3.,  4.,  5.,  6.,  7.,  8.,  9., 10., 11., 12.]])"
            ]
          },
          "execution_count": 42,
          "metadata": {},
          "output_type": "execute_result"
        }
      ],
      "source": [
        "#unsqueeze\n",
        "x_unsqueezed = x_squeezed.unsqueeze(dim=0)\n",
        "x_unsqueezed"
      ]
    },
    {
      "cell_type": "code",
      "execution_count": 43,
      "metadata": {
        "colab": {
          "base_uri": "https://localhost:8080/"
        },
        "id": "LkGVtoITibdH",
        "outputId": "dd6af207-3dfb-4da2-97aa-768a4da86712"
      },
      "outputs": [
        {
          "data": {
            "text/plain": [
              "torch.Size([224, 224, 3])"
            ]
          },
          "execution_count": 43,
          "metadata": {},
          "output_type": "execute_result"
        }
      ],
      "source": [
        "#permute\n",
        "x_original = torch.rand(size=(224,224,3))\n",
        "x_original.shape"
      ]
    },
    {
      "cell_type": "code",
      "execution_count": 44,
      "metadata": {
        "colab": {
          "base_uri": "https://localhost:8080/"
        },
        "id": "rZaSCH7-ifvw",
        "outputId": "6c37c86e-7b68-43ed-dd49-87e7b9b6bac8"
      },
      "outputs": [
        {
          "data": {
            "text/plain": [
              "torch.Size([3, 224, 224])"
            ]
          },
          "execution_count": 44,
          "metadata": {},
          "output_type": "execute_result"
        }
      ],
      "source": [
        "x_permuted = x_original.permute(2,0,1)\n",
        "x_permuted.shape"
      ]
    },
    {
      "cell_type": "markdown",
      "metadata": {
        "id": "Poq2jpaKLv4M"
      },
      "source": [
        "# Indexing (Selecting data from tensor)"
      ]
    },
    {
      "cell_type": "code",
      "execution_count": 45,
      "metadata": {
        "colab": {
          "base_uri": "https://localhost:8080/"
        },
        "id": "D2I804SmLvhD",
        "outputId": "8cf36980-93e9-4062-9737-05abc8ff940e"
      },
      "outputs": [
        {
          "data": {
            "text/plain": [
              "(tensor([[[1, 2, 3],\n",
              "          [4, 5, 6],\n",
              "          [7, 8, 9]]]),\n",
              " torch.Size([1, 3, 3]))"
            ]
          },
          "execution_count": 45,
          "metadata": {},
          "output_type": "execute_result"
        }
      ],
      "source": [
        "x = torch.arange(1,10).reshape(1,3,3)\n",
        "x,x.shape"
      ]
    },
    {
      "cell_type": "code",
      "execution_count": 46,
      "metadata": {
        "colab": {
          "base_uri": "https://localhost:8080/"
        },
        "id": "LmUKEMhrik1F",
        "outputId": "6f47812b-8934-4038-89b5-2a83051c92bb"
      },
      "outputs": [
        {
          "data": {
            "text/plain": [
              "tensor([[1, 2, 3],\n",
              "        [4, 5, 6],\n",
              "        [7, 8, 9]])"
            ]
          },
          "execution_count": 46,
          "metadata": {},
          "output_type": "execute_result"
        }
      ],
      "source": [
        "x[0]"
      ]
    },
    {
      "cell_type": "code",
      "execution_count": 47,
      "metadata": {
        "colab": {
          "base_uri": "https://localhost:8080/"
        },
        "id": "EHY6jqteMKsL",
        "outputId": "06a33e48-7c86-41be-df00-bd5e7203d68c"
      },
      "outputs": [
        {
          "data": {
            "text/plain": [
              "tensor([1, 2, 3])"
            ]
          },
          "execution_count": 47,
          "metadata": {},
          "output_type": "execute_result"
        }
      ],
      "source": [
        "x[0][0]"
      ]
    },
    {
      "cell_type": "code",
      "execution_count": 48,
      "metadata": {
        "colab": {
          "base_uri": "https://localhost:8080/"
        },
        "id": "-RWo3LkuMOVV",
        "outputId": "144034a6-61b0-4786-8abe-9b48c72d8160"
      },
      "outputs": [
        {
          "data": {
            "text/plain": [
              "tensor(1)"
            ]
          },
          "execution_count": 48,
          "metadata": {},
          "output_type": "execute_result"
        }
      ],
      "source": [
        "x[0][0][0]"
      ]
    },
    {
      "cell_type": "code",
      "execution_count": 49,
      "metadata": {
        "colab": {
          "base_uri": "https://localhost:8080/"
        },
        "id": "8SvJjp_WMSMX",
        "outputId": "d82714a2-5421-4c6b-817a-64ad5360bc61"
      },
      "outputs": [
        {
          "data": {
            "text/plain": [
              "tensor([[7, 8, 9]])"
            ]
          },
          "execution_count": 49,
          "metadata": {},
          "output_type": "execute_result"
        }
      ],
      "source": [
        "x[:,2]"
      ]
    },
    {
      "cell_type": "code",
      "execution_count": 50,
      "metadata": {
        "colab": {
          "base_uri": "https://localhost:8080/"
        },
        "id": "jar4hVmOMh5X",
        "outputId": "6085c88e-3369-40ca-c6e4-ee29bffae53f"
      },
      "outputs": [
        {
          "data": {
            "text/plain": [
              "tensor([[2, 5, 8]])"
            ]
          },
          "execution_count": 50,
          "metadata": {},
          "output_type": "execute_result"
        }
      ],
      "source": [
        "x[:,:,1]"
      ]
    },
    {
      "cell_type": "code",
      "execution_count": 51,
      "metadata": {
        "colab": {
          "base_uri": "https://localhost:8080/"
        },
        "id": "xmqsN3RcMoeO",
        "outputId": "e8d434e0-7c24-4602-96c2-ce2b00d081db"
      },
      "outputs": [
        {
          "data": {
            "text/plain": [
              "tensor([5])"
            ]
          },
          "execution_count": 51,
          "metadata": {},
          "output_type": "execute_result"
        }
      ],
      "source": [
        "x[:,1,1]"
      ]
    },
    {
      "cell_type": "markdown",
      "metadata": {
        "id": "7u4RiIsRNx1p"
      },
      "source": [
        "## PyTorch tensor and NumPy"
      ]
    },
    {
      "cell_type": "code",
      "execution_count": 52,
      "metadata": {
        "colab": {
          "base_uri": "https://localhost:8080/"
        },
        "id": "lkaHnvSlM0Ft",
        "outputId": "6d919e37-4469-4a3b-e79a-3c0875d0b33d"
      },
      "outputs": [
        {
          "data": {
            "text/plain": [
              "(array([1., 2., 3., 4., 5., 6., 7.]),\n",
              " tensor([1., 2., 3., 4., 5., 6., 7.], dtype=torch.float64))"
            ]
          },
          "execution_count": 52,
          "metadata": {},
          "output_type": "execute_result"
        }
      ],
      "source": [
        "#NumPy arr to Tensors\n",
        "array = np.arange(1.0,8.0)\n",
        "tensor = torch.from_numpy(array)\n",
        "array,tensor"
      ]
    },
    {
      "cell_type": "markdown",
      "metadata": {
        "id": "Hd1TzEvyPIbw"
      },
      "source": [
        "# Reproducbility"
      ]
    },
    {
      "cell_type": "code",
      "execution_count": 53,
      "metadata": {
        "colab": {
          "base_uri": "https://localhost:8080/"
        },
        "id": "PRo-1WZ7Ofhk",
        "outputId": "622101a8-fffd-4f5a-a199-58405196cc45"
      },
      "outputs": [
        {
          "name": "stdout",
          "output_type": "stream",
          "text": [
            "tensor([[0.9708, 0.3574, 0.9489, 0.2684],\n",
            "        [0.0888, 0.2220, 0.5680, 0.8620],\n",
            "        [0.9569, 0.7580, 0.2251, 0.2814]])\n",
            "tensor([[0.1861, 0.9569, 0.9583, 0.4167],\n",
            "        [0.0020, 0.3131, 0.6459, 0.4972],\n",
            "        [0.4368, 0.7835, 0.1060, 0.5558]])\n",
            "tensor([[False, False, False, False],\n",
            "        [False, False, False, False],\n",
            "        [False, False, False, False]])\n"
          ]
        }
      ],
      "source": [
        "#creating random tensor\n",
        "tensora = torch.rand(3,4)\n",
        "tensorb = torch.rand(3,4)\n",
        "print(tensora)\n",
        "print(tensorb)\n",
        "print(tensora==tensorb)"
      ]
    },
    {
      "cell_type": "code",
      "execution_count": 54,
      "metadata": {
        "colab": {
          "base_uri": "https://localhost:8080/"
        },
        "id": "wQfaeedgZfBN",
        "outputId": "1678765c-0293-4d71-aae5-b3deaa5cc224"
      },
      "outputs": [
        {
          "name": "stdout",
          "output_type": "stream",
          "text": [
            "tensor([[0.8823, 0.9150, 0.3829, 0.9593],\n",
            "        [0.3904, 0.6009, 0.2566, 0.7936],\n",
            "        [0.9408, 0.1332, 0.9346, 0.5936]])\n",
            "tensor([[0.8823, 0.9150, 0.3829, 0.9593],\n",
            "        [0.3904, 0.6009, 0.2566, 0.7936],\n",
            "        [0.9408, 0.1332, 0.9346, 0.5936]])\n",
            "tensor([[True, True, True, True],\n",
            "        [True, True, True, True],\n",
            "        [True, True, True, True]])\n"
          ]
        }
      ],
      "source": [
        "#Set the random seed\n",
        "RANDOM_SEED = 42\n",
        "torch.manual_seed(RANDOM_SEED)\n",
        "random_tensor_c = torch.rand(3,4)\n",
        "torch.manual_seed(RANDOM_SEED)\n",
        "random_tensor_d = torch.rand(3,4)\n",
        "print(random_tensor_c)\n",
        "print(random_tensor_d)\n",
        "print(random_tensor_c==random_tensor_d)"
      ]
    },
    {
      "cell_type": "code",
      "execution_count": 55,
      "metadata": {
        "colab": {
          "base_uri": "https://localhost:8080/"
        },
        "id": "tcl_d-QrZe8V",
        "outputId": "a7479ac8-d9b3-441c-c8b0-9b970e556638"
      },
      "outputs": [
        {
          "data": {
            "text/plain": [
              "<torch._C.Generator at 0x1cb7f872950>"
            ]
          },
          "execution_count": 55,
          "metadata": {},
          "output_type": "execute_result"
        }
      ],
      "source": [
        "torch.manual_seed(RANDOM_SEED)"
      ]
    },
    {
      "cell_type": "markdown",
      "metadata": {
        "id": "ZEYQkCk9csEq"
      },
      "source": [
        "# Running code on GPUs\n",
        "Makes the computation faster"
      ]
    },
    {
      "cell_type": "code",
      "execution_count": 56,
      "metadata": {
        "colab": {
          "base_uri": "https://localhost:8080/"
        },
        "id": "Yg76zGipcq1n",
        "outputId": "e3247b65-180d-4bf5-a44c-95b156b6ce78"
      },
      "outputs": [
        {
          "data": {
            "text/plain": [
              "True"
            ]
          },
          "execution_count": 56,
          "metadata": {},
          "output_type": "execute_result"
        }
      ],
      "source": [
        "torch.cuda.is_available()"
      ]
    },
    {
      "cell_type": "code",
      "execution_count": null,
      "metadata": {
        "id": "XPqObIzfcjAl"
      },
      "outputs": [],
      "source": []
    }
  ],
  "metadata": {
    "accelerator": "GPU",
    "colab": {
      "authorship_tag": "ABX9TyMaBztzdo1wzxk3WPK0XXkb",
      "gpuType": "T4",
      "provenance": []
    },
    "kernelspec": {
      "display_name": "Python 3",
      "name": "python3"
    },
    "language_info": {
      "name": "python",
      "version": "3.12.2"
    }
  },
  "nbformat": 4,
  "nbformat_minor": 0
}
