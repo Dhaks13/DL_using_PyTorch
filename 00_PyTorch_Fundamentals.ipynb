{
<<<<<<< HEAD
=======
  "nbformat": 4,
  "nbformat_minor": 0,
  "metadata": {
    "colab": {
      "provenance": [],
      "authorship_tag": "ABX9TyMKD8/zqeUw2qLKUt/a/cmk",
      "include_colab_link": true
    },
    "kernelspec": {
      "name": "python3",
      "display_name": "Python 3"
    },
    "language_info": {
      "name": "python"
    }
  },
>>>>>>> 7df0bacd743f05348ee6b9ce42cecfff76bcd1b5
  "cells": [
    {
      "cell_type": "markdown",
      "metadata": {
        "id": "view-in-github",
        "colab_type": "text"
      },
      "source": [
        "<a href=\"https://colab.research.google.com/github/Dhaks13/DL_using_PyTorch/blob/main/00_PyTorch_Fundamentals.ipynb\" target=\"_parent\"><img src=\"https://colab.research.google.com/assets/colab-badge.svg\" alt=\"Open In Colab\"/></a>"
      ]
    },
    {
      "cell_type": "code",
      "execution_count": 78,
      "metadata": {
        "colab": {
          "base_uri": "https://localhost:8080/"
        },
        "id": "I0D0EPR3wHF_",
        "outputId": "e7186354-3141-489c-8c9d-a622416d0e5f"
      },
      "outputs": [
        {
          "name": "stdout",
          "output_type": "stream",
          "text": [
<<<<<<< HEAD
<<<<<<< HEAD
<<<<<<< HEAD
            "Sat Jul 20 10:23:51 2024       \n",
            "+-----------------------------------------------------------------------------------------+\n",
            "| NVIDIA-SMI 556.12                 Driver Version: 556.12         CUDA Version: 12.5     |\n",
            "|-----------------------------------------+------------------------+----------------------+\n",
            "| GPU  Name                  Driver-Model | Bus-Id          Disp.A | Volatile Uncorr. ECC |\n",
            "| Fan  Temp   Perf          Pwr:Usage/Cap |           Memory-Usage | GPU-Util  Compute M. |\n",
            "|                                         |                        |               MIG M. |\n",
            "|=========================================+========================+======================|\n",
            "|   0  NVIDIA GeForce RTX 3050 ...  WDDM  |   00000000:01:00.0 Off |                  N/A |\n",
            "| N/A   58C    P0             14W /   75W |     414MiB /   4096MiB |     15%      Default |\n",
            "|                                         |                        |                  N/A |\n",
            "+-----------------------------------------+------------------------+----------------------+\n",
            "                                                                                         \n",
            "+-----------------------------------------------------------------------------------------+\n",
            "| Processes:                                                                              |\n",
            "|  GPU   GI   CI        PID   Type   Process name                              GPU Memory |\n",
            "|        ID   ID                                                               Usage      |\n",
            "|=========================================================================================|\n",
            "|    0   N/A  N/A      8660    C+G   ...ekyb3d8bbwe\\PhoneExperienceHost.exe      N/A      |\n",
            "|    0   N/A  N/A     13592    C+G   ...n\\126.0.2592.113\\msedgewebview2.exe      N/A      |\n",
            "|    0   N/A  N/A     14040    C+G   ...US\\ArmouryDevice\\asus_framework.exe      N/A      |\n",
            "|    0   N/A  N/A     16440    C+G   ...CBS_cw5n1h2txyewy\\TextInputHost.exe      N/A      |\n",
            "|    0   N/A  N/A     16960    C+G   ...Desktop\\app-3.4.2\\GitHubDesktop.exe      N/A      |\n",
            "|    0   N/A  N/A     17800    C+G   ...t.LockApp_cw5n1h2txyewy\\LockApp.exe      N/A      |\n",
            "|    0   N/A  N/A     17952    C+G   ...nt.CBS_cw5n1h2txyewy\\SearchHost.exe      N/A      |\n",
            "|    0   N/A  N/A     19780    C+G   ...8.0_x64__cv1g1gvanyjgm\\WhatsApp.exe      N/A      |\n",
            "|    0   N/A  N/A     20956    C+G   ...__8wekyb3d8bbwe\\WindowsTerminal.exe      N/A      |\n",
            "|    0   N/A  N/A     21472    C+G   ...x64__qmba6cd70vzyy\\ArmouryCrate.exe      N/A      |\n",
            "|    0   N/A  N/A     25520    C+G   ...2txyewy\\StartMenuExperienceHost.exe      N/A      |\n",
            "|    0   N/A  N/A     26300    C+G   ...Programs\\Microsoft VS Code\\Code.exe      N/A      |\n",
            "|    0   N/A  N/A     29080    C+G   ...Brave-Browser\\Application\\brave.exe      N/A      |\n",
            "+-----------------------------------------------------------------------------------------+\n"
=======
            "Sat Jul 20 04:51:28 2024       \n",
            "+---------------------------------------------------------------------------------------+\n",
            "| NVIDIA-SMI 535.104.05             Driver Version: 535.104.05   CUDA Version: 12.2     |\n",
            "|-----------------------------------------+----------------------+----------------------+\n",
            "| GPU  Name                 Persistence-M | Bus-Id        Disp.A | Volatile Uncorr. ECC |\n",
            "| Fan  Temp   Perf          Pwr:Usage/Cap |         Memory-Usage | GPU-Util  Compute M. |\n",
            "|                                         |                      |               MIG M. |\n",
            "|=========================================+======================+======================|\n",
            "|   0  Tesla T4                       Off | 00000000:00:04.0 Off |                    0 |\n",
            "| N/A   48C    P8               9W /  70W |      0MiB / 15360MiB |      0%      Default |\n",
            "|                                         |                      |                  N/A |\n",
            "+-----------------------------------------+----------------------+----------------------+\n",
            "                                                                                         \n",
            "+---------------------------------------------------------------------------------------+\n",
            "| Processes:                                                                            |\n",
            "|  GPU   GI   CI        PID   Type   Process name                            GPU Memory |\n",
            "|        ID   ID                                                             Usage      |\n",
            "|=======================================================================================|\n",
            "|  No running processes found                                                           |\n",
            "+---------------------------------------------------------------------------------------+\n"
>>>>>>> 7df0bacd743f05348ee6b9ce42cecfff76bcd1b5
=======
            "/bin/bash: line 1: nvidia-smi: command not found\n"
>>>>>>> parent of 7df0bac (Created using Colab)
=======
            "/bin/bash: line 1: nvidia-smi: command not found\n"
>>>>>>> parent of 7df0bac (Created using Colab)
          ]
        }
      ],
      "source": [
        "!nvidia-smi"
      ]
    },
    {
      "cell_type": "code",
      "execution_count": 2,
      "metadata": {
        "colab": {
          "base_uri": "https://localhost:8080/",
          "height": 35
        },
        "id": "qAMkLySbxjv9",
        "outputId": "799c5486-d533-4145-fc34-1e428c48b807"
      },
<<<<<<< HEAD
<<<<<<< HEAD
<<<<<<< HEAD
<<<<<<< HEAD
=======
      "execution_count": 5,
>>>>>>> 7df0bacd743f05348ee6b9ce42cecfff76bcd1b5
=======
      "execution_count": 2,
>>>>>>> parent of 7df0bac (Created using Colab)
=======
      "execution_count": 2,
>>>>>>> parent of 7df0bac (Created using Colab)
=======
      "execution_count": 79,
>>>>>>> parent of 7c7613f (Created using Colab)
      "outputs": [
        {
          "data": {
            "text/plain": [
              "'2.3.1+cu121'"
            ]
          },
          "execution_count": 2,
          "metadata": {},
<<<<<<< HEAD
<<<<<<< HEAD
<<<<<<< HEAD
<<<<<<< HEAD
          "output_type": "execute_result"
=======
          "execution_count": 5
>>>>>>> 7df0bacd743f05348ee6b9ce42cecfff76bcd1b5
=======
          "execution_count": 2
>>>>>>> parent of 7df0bac (Created using Colab)
=======
          "execution_count": 2
>>>>>>> parent of 7df0bac (Created using Colab)
=======
          "execution_count": 79
>>>>>>> parent of 7c7613f (Created using Colab)
        }
      ],
      "source": [
        "import torch\n",
        "import pandas as pd\n",
        "import numpy as np\n",
        "import matplotlib.pyplot as plt\n",
        "torch.__version__"
      ]
    },
    {
      "cell_type": "markdown",
      "metadata": {
        "id": "Kte0TIxwy6qe"
      },
      "source": [
        "### Introduction to Tensors\n",
        "  Creating Tensors"
      ]
    },
    {
      "cell_type": "code",
      "execution_count": 3,
      "metadata": {
        "colab": {
          "base_uri": "https://localhost:8080/"
        },
        "id": "FS78d2lsypXy",
        "outputId": "040a157c-9501-4067-bcc7-c4a8211b0df0"
      },
<<<<<<< HEAD
<<<<<<< HEAD
<<<<<<< HEAD
<<<<<<< HEAD
=======
      "execution_count": 6,
>>>>>>> 7df0bacd743f05348ee6b9ce42cecfff76bcd1b5
=======
      "execution_count": 3,
>>>>>>> parent of 7df0bac (Created using Colab)
=======
      "execution_count": 3,
>>>>>>> parent of 7df0bac (Created using Colab)
=======
      "execution_count": 80,
>>>>>>> parent of 7c7613f (Created using Colab)
      "outputs": [
        {
          "data": {
            "text/plain": [
              "tensor(7)"
            ]
          },
          "execution_count": 3,
          "metadata": {},
<<<<<<< HEAD
<<<<<<< HEAD
<<<<<<< HEAD
<<<<<<< HEAD
          "output_type": "execute_result"
=======
          "execution_count": 6
>>>>>>> 7df0bacd743f05348ee6b9ce42cecfff76bcd1b5
=======
          "execution_count": 3
>>>>>>> parent of 7df0bac (Created using Colab)
=======
          "execution_count": 3
>>>>>>> parent of 7df0bac (Created using Colab)
=======
          "execution_count": 80
>>>>>>> parent of 7c7613f (Created using Colab)
        }
      ],
      "source": [
        "#scalar\n",
        "scalar = torch.tensor(7)\n",
        "scalar"
      ]
    },
    {
      "cell_type": "code",
      "execution_count": 4,
      "metadata": {
        "colab": {
          "base_uri": "https://localhost:8080/"
        },
        "id": "UlkUxMde33Xz",
        "outputId": "06b6b0f8-f227-4fdc-f681-71e649bd1fab"
      },
<<<<<<< HEAD
<<<<<<< HEAD
<<<<<<< HEAD
<<<<<<< HEAD
=======
      "execution_count": 7,
>>>>>>> 7df0bacd743f05348ee6b9ce42cecfff76bcd1b5
=======
      "execution_count": 4,
>>>>>>> parent of 7df0bac (Created using Colab)
=======
      "execution_count": 4,
>>>>>>> parent of 7df0bac (Created using Colab)
=======
      "execution_count": 81,
>>>>>>> parent of 7c7613f (Created using Colab)
      "outputs": [
        {
          "data": {
            "text/plain": [
              "0"
            ]
          },
          "execution_count": 4,
          "metadata": {},
<<<<<<< HEAD
<<<<<<< HEAD
<<<<<<< HEAD
<<<<<<< HEAD
          "output_type": "execute_result"
=======
          "execution_count": 7
>>>>>>> 7df0bacd743f05348ee6b9ce42cecfff76bcd1b5
=======
          "execution_count": 4
>>>>>>> parent of 7df0bac (Created using Colab)
=======
          "execution_count": 4
>>>>>>> parent of 7df0bac (Created using Colab)
=======
          "execution_count": 81
>>>>>>> parent of 7c7613f (Created using Colab)
        }
      ],
      "source": [
        "scalar.ndim"
      ]
    },
    {
      "cell_type": "code",
      "execution_count": 5,
      "metadata": {
        "colab": {
          "base_uri": "https://localhost:8080/"
        },
        "id": "CLGPCOm74PMk",
        "outputId": "c949ae9d-9dbb-4755-f14b-4661eccd6449"
      },
<<<<<<< HEAD
<<<<<<< HEAD
<<<<<<< HEAD
<<<<<<< HEAD
=======
      "execution_count": 8,
>>>>>>> 7df0bacd743f05348ee6b9ce42cecfff76bcd1b5
=======
      "execution_count": 5,
>>>>>>> parent of 7df0bac (Created using Colab)
=======
      "execution_count": 5,
>>>>>>> parent of 7df0bac (Created using Colab)
=======
      "execution_count": 82,
>>>>>>> parent of 7c7613f (Created using Colab)
      "outputs": [
        {
          "data": {
            "text/plain": [
              "7"
            ]
          },
          "execution_count": 5,
          "metadata": {},
<<<<<<< HEAD
<<<<<<< HEAD
<<<<<<< HEAD
<<<<<<< HEAD
          "output_type": "execute_result"
=======
          "execution_count": 8
>>>>>>> 7df0bacd743f05348ee6b9ce42cecfff76bcd1b5
=======
          "execution_count": 5
>>>>>>> parent of 7df0bac (Created using Colab)
=======
          "execution_count": 5
>>>>>>> parent of 7df0bac (Created using Colab)
=======
          "execution_count": 82
>>>>>>> parent of 7c7613f (Created using Colab)
        }
      ],
      "source": [
        "scalar.item()"
      ]
    },
    {
      "cell_type": "code",
      "execution_count": 6,
      "metadata": {
        "colab": {
          "base_uri": "https://localhost:8080/"
        },
        "id": "nyUqoQ2X4UNS",
        "outputId": "12faaabc-62fb-4fb5-acc2-e24f49135baa"
      },
<<<<<<< HEAD
<<<<<<< HEAD
<<<<<<< HEAD
<<<<<<< HEAD
=======
      "execution_count": 9,
>>>>>>> 7df0bacd743f05348ee6b9ce42cecfff76bcd1b5
=======
      "execution_count": 6,
>>>>>>> parent of 7df0bac (Created using Colab)
=======
      "execution_count": 6,
>>>>>>> parent of 7df0bac (Created using Colab)
=======
      "execution_count": 83,
>>>>>>> parent of 7c7613f (Created using Colab)
      "outputs": [
        {
          "data": {
            "text/plain": [
              "tensor([7, 7])"
            ]
          },
          "execution_count": 6,
          "metadata": {},
<<<<<<< HEAD
<<<<<<< HEAD
<<<<<<< HEAD
<<<<<<< HEAD
          "output_type": "execute_result"
=======
          "execution_count": 9
>>>>>>> 7df0bacd743f05348ee6b9ce42cecfff76bcd1b5
=======
          "execution_count": 6
>>>>>>> parent of 7df0bac (Created using Colab)
=======
          "execution_count": 6
>>>>>>> parent of 7df0bac (Created using Colab)
=======
          "execution_count": 83
>>>>>>> parent of 7c7613f (Created using Colab)
        }
      ],
      "source": [
        "vector = torch.tensor([7,7])\n",
        "vector"
      ]
    },
    {
      "cell_type": "code",
      "execution_count": 7,
      "metadata": {
        "colab": {
          "base_uri": "https://localhost:8080/"
        },
        "id": "ieZlGWwZ4mcD",
        "outputId": "0babf44a-4a72-4c90-90f0-7a6d77f3ef94"
      },
<<<<<<< HEAD
<<<<<<< HEAD
<<<<<<< HEAD
<<<<<<< HEAD
=======
      "execution_count": 10,
>>>>>>> 7df0bacd743f05348ee6b9ce42cecfff76bcd1b5
=======
      "execution_count": 7,
>>>>>>> parent of 7df0bac (Created using Colab)
=======
      "execution_count": 7,
>>>>>>> parent of 7df0bac (Created using Colab)
=======
      "execution_count": 84,
>>>>>>> parent of 7c7613f (Created using Colab)
      "outputs": [
        {
          "data": {
            "text/plain": [
              "1"
            ]
          },
          "execution_count": 7,
          "metadata": {},
<<<<<<< HEAD
<<<<<<< HEAD
<<<<<<< HEAD
<<<<<<< HEAD
          "output_type": "execute_result"
=======
          "execution_count": 10
>>>>>>> 7df0bacd743f05348ee6b9ce42cecfff76bcd1b5
=======
          "execution_count": 7
>>>>>>> parent of 7df0bac (Created using Colab)
=======
          "execution_count": 7
>>>>>>> parent of 7df0bac (Created using Colab)
=======
          "execution_count": 84
>>>>>>> parent of 7c7613f (Created using Colab)
        }
      ],
      "source": [
        "vector.ndim"
      ]
    },
    {
      "cell_type": "code",
      "execution_count": 8,
      "metadata": {
        "colab": {
          "base_uri": "https://localhost:8080/"
        },
        "id": "N48lSUQE4qTw",
        "outputId": "d9fd9c47-725c-418c-9c54-09d3fdda272d"
      },
<<<<<<< HEAD
<<<<<<< HEAD
<<<<<<< HEAD
<<<<<<< HEAD
=======
      "execution_count": 11,
>>>>>>> 7df0bacd743f05348ee6b9ce42cecfff76bcd1b5
=======
      "execution_count": 8,
>>>>>>> parent of 7df0bac (Created using Colab)
=======
      "execution_count": 8,
>>>>>>> parent of 7df0bac (Created using Colab)
=======
      "execution_count": 85,
>>>>>>> parent of 7c7613f (Created using Colab)
      "outputs": [
        {
          "data": {
            "text/plain": [
              "torch.Size([2])"
            ]
          },
          "execution_count": 8,
          "metadata": {},
<<<<<<< HEAD
<<<<<<< HEAD
<<<<<<< HEAD
<<<<<<< HEAD
          "output_type": "execute_result"
=======
          "execution_count": 11
>>>>>>> 7df0bacd743f05348ee6b9ce42cecfff76bcd1b5
=======
          "execution_count": 8
>>>>>>> parent of 7df0bac (Created using Colab)
=======
          "execution_count": 8
>>>>>>> parent of 7df0bac (Created using Colab)
=======
          "execution_count": 85
>>>>>>> parent of 7c7613f (Created using Colab)
        }
      ],
      "source": [
        "vector.shape"
      ]
    },
    {
      "cell_type": "code",
      "execution_count": 9,
      "metadata": {
        "colab": {
          "base_uri": "https://localhost:8080/"
        },
        "id": "q1ZybgaO4u5-",
        "outputId": "6662ebda-e922-420e-f1d7-2ded9d1cb1ed"
      },
<<<<<<< HEAD
<<<<<<< HEAD
<<<<<<< HEAD
<<<<<<< HEAD
=======
      "execution_count": 12,
>>>>>>> 7df0bacd743f05348ee6b9ce42cecfff76bcd1b5
=======
      "execution_count": 9,
>>>>>>> parent of 7df0bac (Created using Colab)
=======
      "execution_count": 9,
>>>>>>> parent of 7df0bac (Created using Colab)
=======
      "execution_count": 86,
>>>>>>> parent of 7c7613f (Created using Colab)
      "outputs": [
        {
          "data": {
            "text/plain": [
              "tensor([[ 7,  8],\n",
              "        [ 9, 10]])"
            ]
          },
          "execution_count": 9,
          "metadata": {},
<<<<<<< HEAD
<<<<<<< HEAD
<<<<<<< HEAD
<<<<<<< HEAD
          "output_type": "execute_result"
=======
          "execution_count": 12
>>>>>>> 7df0bacd743f05348ee6b9ce42cecfff76bcd1b5
=======
          "execution_count": 9
>>>>>>> parent of 7df0bac (Created using Colab)
=======
          "execution_count": 9
>>>>>>> parent of 7df0bac (Created using Colab)
=======
          "execution_count": 86
>>>>>>> parent of 7c7613f (Created using Colab)
        }
      ],
      "source": [
        "#Matrix\n",
        "\n",
        "matrix = torch.tensor([[7,8],\n",
        "                      [9,10]])\n",
        "matrix"
      ]
    },
    {
      "cell_type": "code",
      "execution_count": 10,
      "metadata": {
        "colab": {
          "base_uri": "https://localhost:8080/"
        },
        "id": "f8tq7n6j5adV",
        "outputId": "af99c962-7c7b-4c23-fe09-ab1f52f7d4aa"
      },
<<<<<<< HEAD
<<<<<<< HEAD
<<<<<<< HEAD
<<<<<<< HEAD
=======
      "execution_count": 13,
>>>>>>> 7df0bacd743f05348ee6b9ce42cecfff76bcd1b5
=======
      "execution_count": 10,
>>>>>>> parent of 7df0bac (Created using Colab)
=======
      "execution_count": 10,
>>>>>>> parent of 7df0bac (Created using Colab)
=======
      "execution_count": 87,
>>>>>>> parent of 7c7613f (Created using Colab)
      "outputs": [
        {
          "data": {
            "text/plain": [
              "2"
            ]
          },
          "execution_count": 10,
          "metadata": {},
<<<<<<< HEAD
<<<<<<< HEAD
<<<<<<< HEAD
<<<<<<< HEAD
          "output_type": "execute_result"
=======
          "execution_count": 13
>>>>>>> 7df0bacd743f05348ee6b9ce42cecfff76bcd1b5
=======
          "execution_count": 10
>>>>>>> parent of 7df0bac (Created using Colab)
=======
          "execution_count": 10
>>>>>>> parent of 7df0bac (Created using Colab)
=======
          "execution_count": 87
>>>>>>> parent of 7c7613f (Created using Colab)
        }
      ],
      "source": [
        "matrix.ndim"
      ]
    },
    {
      "cell_type": "code",
      "execution_count": 11,
      "metadata": {
        "colab": {
          "base_uri": "https://localhost:8080/"
        },
        "id": "IHcZIwtM5c5b",
        "outputId": "245bdb48-ebb9-4845-c54f-f28a6830c34f"
      },
<<<<<<< HEAD
<<<<<<< HEAD
<<<<<<< HEAD
<<<<<<< HEAD
=======
      "execution_count": 14,
>>>>>>> 7df0bacd743f05348ee6b9ce42cecfff76bcd1b5
=======
      "execution_count": 11,
>>>>>>> parent of 7df0bac (Created using Colab)
=======
      "execution_count": 11,
>>>>>>> parent of 7df0bac (Created using Colab)
=======
      "execution_count": 88,
>>>>>>> parent of 7c7613f (Created using Colab)
      "outputs": [
        {
          "data": {
            "text/plain": [
              "tensor([ 9, 10])"
            ]
          },
          "execution_count": 11,
          "metadata": {},
<<<<<<< HEAD
<<<<<<< HEAD
<<<<<<< HEAD
<<<<<<< HEAD
          "output_type": "execute_result"
=======
          "execution_count": 14
>>>>>>> 7df0bacd743f05348ee6b9ce42cecfff76bcd1b5
=======
          "execution_count": 11
>>>>>>> parent of 7df0bac (Created using Colab)
=======
          "execution_count": 11
>>>>>>> parent of 7df0bac (Created using Colab)
=======
          "execution_count": 88
>>>>>>> parent of 7c7613f (Created using Colab)
        }
      ],
      "source": [
        "matrix[1]"
      ]
    },
    {
      "cell_type": "code",
      "execution_count": 12,
      "metadata": {
        "colab": {
          "base_uri": "https://localhost:8080/"
        },
<<<<<<< HEAD
<<<<<<< HEAD
<<<<<<< HEAD
<<<<<<< HEAD
        "id": "iv08Na9I5kLY",
        "outputId": "9ba8978b-7495-4684-e1d5-ee60298e1561"
      },
=======
        "outputId": "f97b095a-225c-46ae-9d1d-f931116b0ac4"
      },
      "execution_count": 15,
>>>>>>> 7df0bacd743f05348ee6b9ce42cecfff76bcd1b5
=======
        "outputId": "9ba8978b-7495-4684-e1d5-ee60298e1561"
      },
      "execution_count": 12,
>>>>>>> parent of 7df0bac (Created using Colab)
=======
        "outputId": "9ba8978b-7495-4684-e1d5-ee60298e1561"
      },
      "execution_count": 12,
>>>>>>> parent of 7df0bac (Created using Colab)
=======
        "outputId": "88cf2ab2-9299-473e-e6fe-4d907fa83daf"
      },
      "execution_count": 89,
>>>>>>> parent of 7c7613f (Created using Colab)
      "outputs": [
        {
          "data": {
            "text/plain": [
              "torch.Size([2, 2])"
            ]
          },
          "execution_count": 12,
          "metadata": {},
<<<<<<< HEAD
<<<<<<< HEAD
<<<<<<< HEAD
<<<<<<< HEAD
          "output_type": "execute_result"
=======
          "execution_count": 15
>>>>>>> 7df0bacd743f05348ee6b9ce42cecfff76bcd1b5
=======
          "execution_count": 12
>>>>>>> parent of 7df0bac (Created using Colab)
=======
          "execution_count": 12
>>>>>>> parent of 7df0bac (Created using Colab)
=======
          "execution_count": 89
>>>>>>> parent of 7c7613f (Created using Colab)
        }
      ],
      "source": [
        "matrix.shape"
      ]
    },
    {
      "cell_type": "code",
      "execution_count": 13,
      "metadata": {
        "colab": {
          "base_uri": "https://localhost:8080/"
        },
        "id": "Hcn2GMS0FO6R",
        "outputId": "13bbca96-e45d-4c12-c71f-db99e0641fbd"
      },
      "outputs": [
        {
          "data": {
            "text/plain": [
              "tensor([[[1, 2, 3],\n",
              "         [3, 6, 9],\n",
              "         [2, 4, 5]]])"
            ]
          },
          "execution_count": 13,
          "metadata": {},
          "output_type": "execute_result"
        }
      ],
      "source": [
        "#TENSOR\n",
        "\n",
        "TENSOR = torch.tensor([[\n",
        "    [1,2,3],\n",
        "    [3,6,9],\n",
        "    [2,4,5]\n",
        "]])\n",
        "\n",
        "TENSOR"
<<<<<<< HEAD
=======
      ],
      "metadata": {
        "colab": {
          "base_uri": "https://localhost:8080/"
        },
        "id": "Hcn2GMS0FO6R",
        "outputId": "6a2f82d5-851d-4a31-d929-75053759e396"
      },
      "execution_count": 90,
      "outputs": [
        {
          "output_type": "execute_result",
          "data": {
            "text/plain": [
              "tensor([[[1, 2, 3],\n",
              "         [3, 6, 9],\n",
              "         [2, 4, 5]]])"
            ]
          },
          "metadata": {},
          "execution_count": 90
        }
>>>>>>> 7df0bacd743f05348ee6b9ce42cecfff76bcd1b5
      ]
    },
    {
      "cell_type": "code",
      "execution_count": 14,
      "metadata": {
        "colab": {
          "base_uri": "https://localhost:8080/"
        },
        "id": "u22TmPORFmBT",
        "outputId": "c9091d42-6917-4442-8154-1d2dd9d3a216"
      },
<<<<<<< HEAD
<<<<<<< HEAD
<<<<<<< HEAD
<<<<<<< HEAD
=======
      "execution_count": 17,
>>>>>>> 7df0bacd743f05348ee6b9ce42cecfff76bcd1b5
=======
      "execution_count": 14,
>>>>>>> parent of 7df0bac (Created using Colab)
=======
      "execution_count": 14,
>>>>>>> parent of 7df0bac (Created using Colab)
=======
      "execution_count": 91,
>>>>>>> parent of 7c7613f (Created using Colab)
      "outputs": [
        {
          "data": {
            "text/plain": [
              "3"
            ]
          },
          "execution_count": 14,
          "metadata": {},
<<<<<<< HEAD
<<<<<<< HEAD
<<<<<<< HEAD
<<<<<<< HEAD
          "output_type": "execute_result"
=======
          "execution_count": 17
>>>>>>> 7df0bacd743f05348ee6b9ce42cecfff76bcd1b5
=======
          "execution_count": 14
>>>>>>> parent of 7df0bac (Created using Colab)
=======
          "execution_count": 14
>>>>>>> parent of 7df0bac (Created using Colab)
=======
          "execution_count": 91
>>>>>>> parent of 7c7613f (Created using Colab)
        }
      ],
      "source": [
        "TENSOR.ndim"
      ]
    },
    {
      "cell_type": "code",
      "execution_count": 15,
      "metadata": {
        "colab": {
          "base_uri": "https://localhost:8080/"
        },
        "id": "VOs-n6ZNFph1",
        "outputId": "879dd54d-5fc0-46cd-fdb4-1998b01f9bd3"
      },
<<<<<<< HEAD
<<<<<<< HEAD
<<<<<<< HEAD
<<<<<<< HEAD
=======
      "execution_count": 18,
>>>>>>> 7df0bacd743f05348ee6b9ce42cecfff76bcd1b5
=======
      "execution_count": 15,
>>>>>>> parent of 7df0bac (Created using Colab)
=======
      "execution_count": 15,
>>>>>>> parent of 7df0bac (Created using Colab)
=======
      "execution_count": 92,
>>>>>>> parent of 7c7613f (Created using Colab)
      "outputs": [
        {
          "data": {
            "text/plain": [
              "torch.Size([1, 3, 3])"
            ]
          },
          "execution_count": 15,
          "metadata": {},
<<<<<<< HEAD
<<<<<<< HEAD
<<<<<<< HEAD
<<<<<<< HEAD
          "output_type": "execute_result"
=======
          "execution_count": 18
>>>>>>> 7df0bacd743f05348ee6b9ce42cecfff76bcd1b5
=======
          "execution_count": 15
>>>>>>> parent of 7df0bac (Created using Colab)
=======
          "execution_count": 15
>>>>>>> parent of 7df0bac (Created using Colab)
=======
          "execution_count": 92
>>>>>>> parent of 7c7613f (Created using Colab)
        }
      ],
      "source": [
        "TENSOR.shape"
      ]
    },
    {
      "cell_type": "code",
      "execution_count": 16,
      "metadata": {
        "colab": {
          "base_uri": "https://localhost:8080/"
        },
        "id": "Fowm67ZUFwvY",
        "outputId": "3b93f280-b2be-42ae-85c6-a565437469e5"
      },
<<<<<<< HEAD
<<<<<<< HEAD
<<<<<<< HEAD
<<<<<<< HEAD
=======
      "execution_count": 19,
>>>>>>> 7df0bacd743f05348ee6b9ce42cecfff76bcd1b5
=======
      "execution_count": 16,
>>>>>>> parent of 7df0bac (Created using Colab)
=======
      "execution_count": 16,
>>>>>>> parent of 7df0bac (Created using Colab)
=======
      "execution_count": 93,
>>>>>>> parent of 7c7613f (Created using Colab)
      "outputs": [
        {
          "data": {
            "text/plain": [
              "tensor([[1, 2, 3],\n",
              "        [3, 6, 9],\n",
              "        [2, 4, 5]])"
            ]
          },
          "execution_count": 16,
          "metadata": {},
<<<<<<< HEAD
<<<<<<< HEAD
<<<<<<< HEAD
<<<<<<< HEAD
          "output_type": "execute_result"
=======
          "execution_count": 19
>>>>>>> 7df0bacd743f05348ee6b9ce42cecfff76bcd1b5
=======
          "execution_count": 16
>>>>>>> parent of 7df0bac (Created using Colab)
=======
          "execution_count": 16
>>>>>>> parent of 7df0bac (Created using Colab)
=======
          "execution_count": 93
>>>>>>> parent of 7c7613f (Created using Colab)
        }
      ],
      "source": [
        "TENSOR[0]"
      ]
    },
    {
      "cell_type": "markdown",
      "metadata": {
        "id": "cTBpwDnEG4gM"
      },
      "source": [
        "# Using Random Tensors!"
      ]
    },
    {
      "cell_type": "code",
      "execution_count": 17,
      "metadata": {
        "colab": {
          "base_uri": "https://localhost:8080/"
        },
        "id": "5msz5DzKG818",
        "outputId": "af0b52c4-4cb8-403d-84db-dfe8b30b0455"
      },
<<<<<<< HEAD
<<<<<<< HEAD
<<<<<<< HEAD
<<<<<<< HEAD
=======
      "execution_count": 20,
>>>>>>> 7df0bacd743f05348ee6b9ce42cecfff76bcd1b5
=======
      "execution_count": 17,
>>>>>>> parent of 7df0bac (Created using Colab)
=======
      "execution_count": 17,
>>>>>>> parent of 7df0bac (Created using Colab)
=======
      "execution_count": 94,
>>>>>>> parent of 7c7613f (Created using Colab)
      "outputs": [
        {
          "data": {
            "text/plain": [
<<<<<<< HEAD
<<<<<<< HEAD
<<<<<<< HEAD
<<<<<<< HEAD
              "tensor([[0.4818, 0.6030, 0.7718, 0.2009],\n",
              "        [0.1203, 0.3002, 0.8894, 0.3395],\n",
              "        [0.7608, 0.5421, 0.1306, 0.1010]])"
=======
              "tensor([[0.9369, 0.6295, 0.9428, 0.4347],\n",
              "        [0.3415, 0.3622, 0.1333, 0.4121],\n",
              "        [0.7865, 0.3549, 0.6294, 0.4965]])"
>>>>>>> 7df0bacd743f05348ee6b9ce42cecfff76bcd1b5
=======
              "tensor([[0.3872, 0.9463, 0.5512, 0.1808],\n",
              "        [0.4608, 0.7764, 0.5950, 0.7025],\n",
              "        [0.5362, 0.2094, 0.9354, 0.1585]])"
>>>>>>> parent of 7df0bac (Created using Colab)
=======
              "tensor([[0.3872, 0.9463, 0.5512, 0.1808],\n",
              "        [0.4608, 0.7764, 0.5950, 0.7025],\n",
              "        [0.5362, 0.2094, 0.9354, 0.1585]])"
>>>>>>> parent of 7df0bac (Created using Colab)
=======
              "tensor([[0.7641, 0.4147, 0.5975, 0.8735],\n",
              "        [0.9683, 0.6024, 0.4276, 0.7259],\n",
              "        [0.0721, 0.2907, 0.2563, 0.6301]])"
>>>>>>> parent of 7c7613f (Created using Colab)
            ]
          },
          "execution_count": 17,
          "metadata": {},
<<<<<<< HEAD
<<<<<<< HEAD
<<<<<<< HEAD
<<<<<<< HEAD
          "output_type": "execute_result"
=======
          "execution_count": 20
>>>>>>> 7df0bacd743f05348ee6b9ce42cecfff76bcd1b5
=======
          "execution_count": 17
>>>>>>> parent of 7df0bac (Created using Colab)
=======
          "execution_count": 17
>>>>>>> parent of 7df0bac (Created using Colab)
=======
          "execution_count": 94
>>>>>>> parent of 7c7613f (Created using Colab)
        }
      ],
      "source": [
        "#creating a random tensor size (3,4)\n",
        "\n",
        "random_tensor = torch.rand(3,4)\n",
        "random_tensor"
      ]
    },
    {
      "cell_type": "code",
      "execution_count": 18,
      "metadata": {
        "colab": {
          "base_uri": "https://localhost:8080/"
        },
        "id": "UEeBCOx5HjG7",
        "outputId": "dc5f8e73-f396-4281-d087-ddf2abc0d952"
      },
<<<<<<< HEAD
<<<<<<< HEAD
<<<<<<< HEAD
<<<<<<< HEAD
=======
      "execution_count": 21,
>>>>>>> 7df0bacd743f05348ee6b9ce42cecfff76bcd1b5
=======
      "execution_count": 18,
>>>>>>> parent of 7df0bac (Created using Colab)
=======
      "execution_count": 18,
>>>>>>> parent of 7df0bac (Created using Colab)
=======
      "execution_count": 95,
>>>>>>> parent of 7c7613f (Created using Colab)
      "outputs": [
        {
          "data": {
            "text/plain": [
<<<<<<< HEAD
<<<<<<< HEAD
<<<<<<< HEAD
<<<<<<< HEAD
              "tensor([[[4.3908e-01, 2.9842e-01, 1.9783e-01, 9.2173e-01, 4.7173e-01,\n",
              "          9.5473e-01, 4.6631e-01, 9.5536e-01, 9.4331e-01, 4.0815e-02],\n",
              "         [7.1037e-01, 8.1769e-01, 7.0629e-01, 6.8197e-01, 3.1877e-01,\n",
              "          2.2318e-01, 1.6812e-01, 3.5469e-02, 9.5208e-01, 2.3691e-01],\n",
              "         [3.6869e-01, 7.3766e-01, 4.5267e-01, 7.0032e-01, 8.5627e-02,\n",
              "          5.1850e-01, 5.0212e-01, 2.9993e-01, 3.6671e-01, 3.2754e-01],\n",
              "         [3.7149e-01, 3.2421e-01, 3.5276e-01, 7.7696e-01, 4.9577e-01,\n",
              "          2.3186e-01, 9.3287e-02, 8.9519e-01, 4.6904e-01, 6.4806e-01],\n",
              "         [4.8753e-01, 1.2097e-01, 7.1258e-01, 1.2801e-01, 9.7862e-01,\n",
              "          1.0344e-01, 2.0462e-01, 5.8081e-01, 6.7634e-01, 2.4880e-01],\n",
              "         [8.4437e-02, 2.4211e-01, 6.5772e-01, 1.8393e-01, 4.3148e-01,\n",
              "          1.0455e-01, 4.0979e-01, 2.8522e-01, 5.7935e-01, 1.0172e-01],\n",
              "         [2.3878e-01, 4.5680e-02, 8.4886e-02, 9.5099e-01, 9.5131e-01,\n",
              "          9.5683e-02, 7.1535e-01, 3.4925e-01, 4.9948e-01, 8.8551e-01],\n",
              "         [9.6414e-01, 5.4591e-02, 9.8835e-01, 8.4208e-01, 4.6055e-01,\n",
              "          2.6644e-01, 4.7982e-01, 5.8528e-01, 6.4397e-01, 1.8474e-01],\n",
              "         [3.7539e-01, 6.9965e-01, 2.1511e-01, 2.9175e-02, 6.5145e-01,\n",
              "          7.5855e-01, 8.9061e-01, 2.3850e-01, 5.7783e-01, 8.8488e-01],\n",
              "         [1.1209e-01, 7.9943e-01, 8.3957e-01, 2.2752e-01, 1.7109e-01,\n",
              "          1.8425e-02, 7.8364e-01, 1.9228e-01, 8.8769e-01, 3.4968e-01]],\n",
              "\n",
              "        [[4.0620e-02, 9.5064e-01, 6.6667e-01, 6.9652e-02, 5.7741e-02,\n",
              "          8.7676e-01, 8.2000e-01, 8.4283e-01, 9.8578e-01, 6.1654e-03],\n",
              "         [3.1382e-01, 9.0395e-01, 2.3152e-02, 8.1918e-01, 4.5425e-01,\n",
              "          1.7306e-01, 7.3737e-01, 3.9350e-01, 8.6166e-01, 7.7255e-03],\n",
              "         [5.1460e-01, 9.3785e-01, 5.8797e-03, 8.5649e-01, 4.0172e-01,\n",
              "          4.3345e-01, 1.6308e-01, 8.5898e-01, 2.1825e-01, 7.1041e-01],\n",
              "         [9.4844e-01, 9.9936e-01, 2.0776e-01, 1.4128e-01, 8.1260e-02,\n",
              "          4.6917e-01, 5.3274e-01, 8.7549e-01, 1.3538e-01, 9.6875e-02],\n",
              "         [3.7962e-01, 9.3854e-01, 5.9502e-01, 4.6212e-01, 3.0859e-01,\n",
              "          7.2209e-01, 3.6881e-01, 7.8234e-01, 7.3313e-01, 8.8040e-01],\n",
              "         [3.1757e-02, 1.7381e-01, 3.9024e-01, 4.8390e-01, 7.6293e-01,\n",
              "          8.8980e-01, 4.9283e-01, 1.0506e-01, 7.8432e-01, 1.5887e-01],\n",
              "         [4.7024e-01, 6.9248e-01, 4.0929e-01, 4.7011e-02, 5.2311e-01,\n",
              "          3.3835e-02, 3.8296e-02, 9.6003e-01, 4.8531e-01, 2.2180e-01],\n",
              "         [1.7706e-01, 3.2879e-01, 2.2554e-01, 6.3602e-01, 4.8918e-01,\n",
              "          7.1052e-01, 4.4390e-01, 2.0876e-01, 3.7611e-01, 3.2085e-01],\n",
              "         [9.0225e-01, 7.8654e-01, 9.7309e-01, 1.4274e-01, 1.4251e-01,\n",
              "          4.2021e-01, 1.7812e-01, 9.3380e-01, 1.7428e-01, 8.4168e-01],\n",
              "         [7.1491e-01, 8.9855e-01, 7.1628e-01, 2.1638e-01, 8.9622e-01,\n",
              "          8.3343e-01, 6.2696e-02, 3.0746e-01, 4.7548e-01, 5.3608e-01]],\n",
              "\n",
              "        [[2.6966e-01, 8.7403e-02, 5.3753e-01, 3.1693e-01, 2.7412e-02,\n",
              "          9.5879e-01, 8.7888e-01, 8.3693e-01, 7.0359e-01, 6.5588e-01],\n",
              "         [1.8957e-01, 7.7763e-01, 7.0880e-01, 8.1181e-01, 2.8447e-01,\n",
              "          1.2928e-01, 9.3983e-01, 8.3546e-01, 4.8259e-01, 5.0384e-01],\n",
              "         [6.3470e-01, 7.1357e-01, 4.9329e-01, 3.2986e-01, 2.2617e-01,\n",
              "          6.0273e-01, 5.5846e-01, 1.1525e-01, 5.5139e-01, 1.6237e-01],\n",
              "         [5.1678e-03, 7.7444e-01, 8.6233e-01, 8.8327e-01, 7.0604e-01,\n",
              "          1.9630e-02, 9.1102e-01, 5.0719e-01, 5.5831e-01, 6.3992e-02],\n",
              "         [2.4919e-01, 4.5134e-01, 8.5500e-01, 8.8957e-01, 8.7343e-01,\n",
              "          9.5761e-01, 3.0634e-01, 4.7405e-02, 1.9650e-02, 5.4083e-01],\n",
              "         [4.0089e-01, 5.6900e-01, 6.0689e-02, 3.3401e-01, 3.7008e-01,\n",
              "          7.9201e-01, 8.3019e-01, 5.8303e-01, 2.2199e-01, 4.1257e-01],\n",
              "         [2.3309e-01, 7.9393e-02, 7.7552e-01, 4.7349e-01, 6.3253e-01,\n",
              "          2.6792e-01, 4.5793e-01, 6.9513e-01, 3.0035e-01, 6.9621e-01],\n",
              "         [3.7241e-01, 1.6029e-01, 2.6509e-01, 5.8994e-02, 1.2138e-01,\n",
              "          6.3584e-01, 6.1884e-01, 9.1315e-01, 5.7980e-01, 2.3427e-01],\n",
              "         [3.3902e-01, 4.6011e-01, 8.9411e-03, 1.8716e-01, 2.7826e-01,\n",
              "          6.9721e-01, 7.3123e-01, 3.6077e-01, 3.4525e-01, 5.3729e-01],\n",
              "         [7.2971e-01, 4.3595e-01, 9.1475e-01, 4.7655e-01, 8.7853e-01,\n",
              "          6.4327e-01, 8.1267e-01, 8.6286e-01, 5.0954e-01, 6.7938e-01]],\n",
              "\n",
              "        [[7.8345e-01, 6.3646e-01, 8.0159e-01, 7.1988e-01, 7.6227e-01,\n",
              "          8.6958e-01, 5.3031e-01, 8.8601e-01, 1.1905e-01, 8.9698e-01],\n",
              "         [3.9658e-01, 5.9929e-01, 7.2815e-01, 9.8821e-01, 6.6544e-01,\n",
              "          6.6643e-01, 9.5815e-01, 5.6985e-01, 5.6998e-01, 5.6726e-01],\n",
              "         [7.9880e-01, 6.2345e-01, 4.2166e-01, 8.6548e-01, 6.9540e-01,\n",
              "          5.3430e-01, 8.2365e-01, 1.9561e-01, 3.4274e-01, 4.1013e-02],\n",
              "         [7.3221e-01, 8.5184e-01, 6.5864e-01, 7.5422e-01, 5.4898e-01,\n",
              "          5.3688e-01, 1.8583e-01, 9.4023e-01, 8.0890e-01, 4.4511e-01],\n",
              "         [5.7505e-01, 3.0077e-01, 2.5971e-01, 3.3609e-01, 8.8714e-01,\n",
              "          7.8870e-02, 2.9010e-01, 1.2655e-01, 4.1717e-01, 6.1097e-01],\n",
              "         [2.4315e-01, 3.3198e-01, 2.3917e-01, 3.3573e-01, 6.9062e-01,\n",
              "          8.5174e-01, 9.7667e-01, 6.3127e-02, 5.4885e-01, 2.3050e-01],\n",
              "         [3.4241e-01, 2.0835e-01, 6.7506e-01, 7.0201e-01, 5.5762e-01,\n",
              "          4.6465e-02, 9.1671e-01, 4.4018e-01, 6.3898e-01, 4.9209e-01],\n",
              "         [4.5360e-01, 3.4249e-01, 2.3416e-01, 2.6389e-01, 7.6183e-01,\n",
              "          6.4286e-01, 3.5150e-01, 4.3721e-01, 9.9112e-01, 8.3498e-01],\n",
              "         [4.8438e-01, 8.5510e-01, 7.0657e-01, 9.4011e-01, 9.5057e-01,\n",
              "          3.9482e-02, 3.9546e-01, 4.7209e-01, 9.5319e-01, 4.4972e-01],\n",
              "         [4.7581e-02, 4.0581e-01, 3.5475e-02, 1.7771e-01, 8.3240e-01,\n",
              "          7.8800e-01, 5.9089e-01, 6.8027e-01, 1.2840e-01, 6.9477e-01]],\n",
              "\n",
              "        [[5.0408e-01, 4.0928e-01, 6.5937e-01, 5.3834e-01, 2.8638e-01,\n",
              "          9.4224e-01, 2.1543e-02, 2.6023e-01, 1.2529e-01, 3.0493e-01],\n",
              "         [9.8835e-02, 7.9198e-01, 1.0095e-01, 3.2460e-01, 1.7130e-01,\n",
              "          8.4680e-01, 3.7968e-01, 8.1212e-01, 7.2721e-01, 1.4515e-01],\n",
              "         [1.8085e-02, 5.4281e-01, 2.1512e-01, 9.2507e-01, 5.9695e-01,\n",
              "          1.5400e-01, 6.5424e-01, 1.7848e-01, 7.1000e-01, 9.0111e-01],\n",
              "         [4.6138e-01, 2.2107e-01, 5.5956e-01, 6.4282e-01, 4.3593e-01,\n",
              "          6.4788e-01, 6.8375e-02, 2.0675e-01, 2.0406e-01, 1.2702e-01],\n",
              "         [5.4945e-01, 7.5782e-01, 9.4466e-01, 4.3021e-01, 9.7928e-01,\n",
              "          1.5497e-05, 5.1976e-02, 6.2331e-01, 6.0159e-01, 6.0150e-01],\n",
              "         [5.8136e-01, 3.3254e-01, 6.8579e-01, 3.7748e-01, 9.8397e-01,\n",
              "          3.6147e-01, 4.0890e-01, 5.4450e-01, 3.5985e-01, 6.9581e-01],\n",
              "         [9.1249e-01, 3.7140e-01, 7.5151e-01, 5.2804e-01, 8.0871e-01,\n",
              "          1.1138e-01, 1.7297e-01, 3.4831e-01, 2.3819e-01, 6.2725e-01],\n",
              "         [4.5948e-01, 5.1420e-01, 4.4430e-01, 9.7380e-01, 8.8826e-01,\n",
              "          1.6325e-02, 3.9716e-01, 3.5400e-01, 8.9511e-01, 9.8451e-01],\n",
              "         [6.3197e-01, 2.8530e-01, 6.0842e-01, 2.9462e-01, 7.5859e-01,\n",
              "          2.3225e-01, 8.4142e-01, 3.4274e-01, 5.7200e-01, 8.5240e-02],\n",
              "         [2.3634e-01, 2.9453e-01, 9.8064e-01, 2.3298e-01, 1.2619e-02,\n",
              "          3.5602e-02, 2.6305e-01, 4.3676e-01, 4.6079e-01, 6.7858e-01]],\n",
              "\n",
              "        [[7.7080e-01, 4.6513e-01, 6.5843e-01, 3.5764e-01, 5.4951e-01,\n",
              "          3.6894e-01, 3.5909e-01, 4.2707e-01, 7.9515e-01, 9.7951e-01],\n",
              "         [2.7304e-01, 6.8030e-01, 1.9754e-01, 2.6566e-01, 6.9711e-01,\n",
              "          7.8803e-01, 4.3252e-01, 5.7606e-01, 3.1613e-01, 7.9480e-01],\n",
              "         [9.9676e-01, 6.1665e-01, 4.4190e-01, 8.6947e-01, 7.9385e-01,\n",
              "          5.2418e-01, 5.1593e-01, 7.6934e-01, 7.6063e-01, 6.0398e-01],\n",
              "         [1.5385e-01, 7.2123e-01, 3.2913e-01, 4.4137e-01, 4.4556e-01,\n",
              "          5.2871e-01, 1.0348e-01, 5.0935e-01, 9.3535e-01, 4.6018e-01],\n",
              "         [1.3443e-01, 2.5151e-01, 4.2734e-01, 7.9060e-01, 8.9951e-02,\n",
              "          6.8119e-01, 9.3804e-01, 9.5187e-02, 8.9726e-01, 9.6155e-01],\n",
              "         [7.3689e-01, 8.6430e-01, 1.3087e-01, 6.8201e-02, 6.8409e-01,\n",
              "          4.3709e-01, 3.3064e-01, 7.7918e-01, 8.9942e-02, 8.2015e-01],\n",
              "         [3.7974e-01, 3.6199e-01, 7.6860e-01, 5.4694e-01, 8.9716e-01,\n",
              "          8.7974e-01, 1.1571e-01, 8.4944e-01, 4.1990e-01, 1.7222e-01],\n",
              "         [4.5039e-01, 7.2892e-01, 3.8941e-01, 2.7596e-01, 6.1159e-02,\n",
              "          2.1647e-01, 2.9168e-01, 8.5106e-01, 8.8860e-01, 7.9381e-01],\n",
              "         [1.4492e-02, 6.4355e-01, 1.4286e-01, 3.0056e-01, 7.7207e-01,\n",
              "          5.3914e-01, 3.3545e-02, 8.3324e-02, 6.1469e-01, 9.2360e-01],\n",
              "         [5.8796e-01, 4.4517e-01, 9.3068e-01, 7.4451e-01, 9.6055e-01,\n",
              "          7.2091e-01, 7.8011e-01, 6.1263e-01, 9.4310e-01, 6.8662e-02]],\n",
              "\n",
              "        [[3.5229e-02, 3.3003e-01, 8.5933e-01, 3.2111e-01, 5.6259e-01,\n",
              "          8.1897e-02, 9.5817e-01, 3.2081e-01, 5.9672e-01, 9.2629e-01],\n",
              "         [3.3691e-01, 1.8628e-01, 3.9805e-03, 1.7399e-01, 2.6290e-01,\n",
              "          8.3240e-01, 1.8760e-01, 9.0833e-01, 8.6518e-01, 2.4800e-01],\n",
              "         [9.5748e-01, 7.2836e-01, 4.6703e-01, 6.3823e-01, 9.4504e-01,\n",
              "          5.3760e-03, 1.7697e-01, 5.3215e-02, 9.1315e-01, 9.6054e-01],\n",
              "         [8.3073e-01, 6.5626e-01, 9.5616e-01, 5.8826e-01, 2.2901e-01,\n",
              "          8.2394e-01, 6.6368e-01, 9.7436e-01, 5.9080e-01, 8.1234e-01],\n",
              "         [5.3805e-01, 6.2097e-01, 4.2004e-01, 1.2397e-01, 6.6918e-01,\n",
              "          3.1146e-01, 4.5408e-01, 1.9519e-01, 2.9303e-01, 5.2698e-01],\n",
              "         [7.6972e-01, 7.6432e-01, 2.6015e-01, 3.0403e-02, 2.0362e-01,\n",
              "          1.2568e-01, 6.8905e-01, 4.0556e-01, 9.8467e-01, 2.8064e-01],\n",
              "         [2.1726e-01, 5.7573e-01, 6.0468e-01, 4.3988e-01, 1.4611e-01,\n",
              "          6.3642e-01, 5.2303e-01, 7.5605e-01, 9.9073e-01, 8.2994e-01],\n",
              "         [3.5599e-01, 2.0551e-01, 4.3927e-01, 4.2734e-01, 9.8337e-01,\n",
              "          6.0601e-01, 3.2801e-01, 1.0317e-01, 4.7172e-01, 9.7960e-01],\n",
              "         [5.2901e-02, 8.0590e-01, 4.9108e-01, 2.8526e-01, 8.2085e-01,\n",
              "          3.6391e-01, 1.9717e-01, 8.3608e-01, 4.2548e-01, 5.2777e-01],\n",
              "         [7.7630e-01, 4.2712e-01, 1.4406e-03, 1.6508e-03, 7.9606e-01,\n",
              "          9.7603e-01, 1.1754e-01, 5.7407e-01, 1.7355e-01, 8.0437e-01]],\n",
              "\n",
              "        [[8.3615e-01, 9.5999e-01, 3.5562e-01, 5.1842e-01, 8.9989e-01,\n",
              "          1.9757e-01, 2.7963e-01, 3.0764e-01, 2.1763e-01, 4.2827e-01],\n",
              "         [2.2751e-01, 9.3769e-01, 2.1140e-01, 2.7829e-01, 1.2273e-02,\n",
              "          4.2525e-01, 5.7871e-01, 7.9433e-01, 2.4797e-01, 8.1816e-01],\n",
              "         [8.1396e-01, 6.7213e-01, 4.4071e-01, 3.5250e-01, 6.8966e-01,\n",
              "          7.0898e-01, 2.9014e-01, 3.7110e-01, 7.1719e-01, 7.6151e-01],\n",
              "         [7.9403e-01, 6.9902e-01, 5.2169e-01, 8.2815e-01, 6.1388e-01,\n",
              "          5.5460e-01, 4.8988e-01, 1.5339e-01, 2.2537e-01, 9.7807e-01],\n",
              "         [5.7231e-01, 7.4405e-01, 2.8997e-01, 5.8816e-01, 8.2094e-01,\n",
              "          4.4815e-01, 8.6870e-01, 9.1181e-01, 6.1321e-01, 9.3454e-01],\n",
              "         [6.0138e-01, 2.0253e-01, 4.8033e-01, 4.7018e-01, 5.5147e-01,\n",
              "          3.8233e-02, 5.5609e-01, 1.4710e-01, 3.7134e-01, 7.1141e-01],\n",
              "         [6.5617e-01, 6.0005e-02, 8.8062e-01, 5.4462e-01, 5.5158e-01,\n",
              "          6.7640e-01, 8.1978e-01, 8.1915e-01, 6.8699e-01, 4.2406e-01],\n",
              "         [2.8335e-01, 2.9829e-01, 7.4945e-01, 5.6727e-01, 3.3628e-01,\n",
              "          9.4412e-02, 3.1450e-01, 2.3498e-01, 6.3453e-01, 3.2234e-02],\n",
              "         [9.8155e-01, 3.7077e-01, 3.4211e-01, 6.7803e-01, 9.5562e-01,\n",
              "          7.5901e-01, 9.9864e-01, 1.3754e-01, 4.9349e-01, 3.4384e-01],\n",
              "         [1.5024e-01, 8.6219e-01, 3.4700e-01, 2.4342e-01, 7.7856e-01,\n",
              "          8.1268e-01, 1.2613e-01, 5.0463e-01, 4.2936e-01, 9.1454e-01]],\n",
              "\n",
              "        [[5.2632e-01, 7.3550e-01, 5.9416e-01, 2.3741e-01, 5.4249e-02,\n",
              "          7.1160e-01, 7.3043e-01, 8.5432e-01, 4.2077e-01, 1.1702e-01],\n",
              "         [2.0873e-01, 3.6483e-01, 7.8085e-02, 4.2771e-01, 7.5098e-01,\n",
              "          9.5443e-01, 1.5573e-02, 8.1666e-02, 8.6527e-01, 6.2433e-01],\n",
              "         [1.9115e-02, 8.7334e-01, 4.0936e-01, 4.4733e-01, 3.5333e-01,\n",
              "          3.2593e-01, 4.6668e-01, 7.5457e-01, 2.9199e-01, 3.3057e-01],\n",
              "         [1.2804e-01, 5.7664e-01, 2.0628e-01, 7.5168e-01, 2.5710e-01,\n",
              "          7.1174e-01, 8.8614e-01, 4.1650e-01, 4.1846e-02, 6.3633e-01],\n",
              "         [8.1790e-01, 5.8123e-03, 3.3558e-01, 9.5242e-02, 2.6822e-01,\n",
              "          8.3402e-02, 5.0917e-01, 9.2295e-01, 3.1785e-01, 2.6902e-01],\n",
              "         [8.0489e-01, 4.0479e-01, 1.7195e-01, 3.2455e-01, 1.2169e-01,\n",
              "          4.0062e-01, 5.7468e-01, 2.3102e-01, 1.2938e-01, 5.9358e-01],\n",
              "         [7.2937e-01, 5.8212e-01, 3.1973e-01, 6.7807e-01, 9.0800e-01,\n",
              "          5.1559e-02, 5.8346e-01, 3.1956e-01, 1.5894e-01, 2.8959e-01],\n",
              "         [3.9162e-01, 5.0222e-01, 3.1364e-01, 9.4661e-01, 8.6429e-01,\n",
              "          4.3948e-02, 2.0367e-01, 2.4037e-01, 8.5090e-01, 5.2013e-01],\n",
              "         [9.0032e-01, 2.7762e-01, 1.8822e-01, 5.0690e-01, 9.9224e-01,\n",
              "          4.9888e-01, 8.5866e-01, 4.7703e-01, 6.0112e-01, 6.4230e-02],\n",
              "         [9.5117e-02, 5.5480e-01, 9.0911e-01, 4.5757e-01, 4.0024e-01,\n",
              "          4.6326e-01, 7.1355e-01, 8.1470e-01, 8.3535e-01, 5.3440e-01]],\n",
              "\n",
              "        [[1.8569e-01, 9.9444e-01, 6.5402e-01, 6.9992e-01, 9.5843e-01,\n",
              "          6.7419e-01, 1.3209e-01, 5.8603e-01, 8.0045e-01, 4.7462e-01],\n",
              "         [4.2994e-01, 5.1070e-01, 4.7866e-02, 8.5689e-01, 7.2642e-01,\n",
              "          7.7023e-02, 5.0292e-01, 2.2272e-01, 3.5278e-01, 3.1825e-01],\n",
              "         [4.8296e-01, 3.3819e-01, 2.2475e-01, 5.2502e-01, 5.7634e-01,\n",
              "          5.2203e-01, 1.2352e-01, 2.0904e-02, 1.7278e-01, 3.2267e-01],\n",
              "         [3.3469e-01, 7.0866e-01, 8.5900e-01, 1.3547e-01, 1.2947e-01,\n",
              "          5.8869e-01, 7.2568e-02, 6.2237e-01, 7.7938e-01, 4.9499e-01],\n",
              "         [4.3525e-01, 5.8893e-01, 7.8545e-01, 4.7793e-01, 7.1861e-01,\n",
              "          1.8959e-01, 7.6978e-01, 6.1004e-02, 3.0049e-01, 6.4020e-01],\n",
              "         [4.1908e-01, 8.0955e-01, 1.8321e-01, 4.6636e-01, 5.0765e-01,\n",
              "          6.0601e-01, 8.1539e-01, 1.1741e-01, 1.2704e-01, 8.5258e-01],\n",
              "         [9.5155e-01, 2.7983e-01, 5.2482e-01, 9.2271e-01, 4.5975e-01,\n",
              "          4.7350e-02, 1.5485e-01, 3.4977e-01, 9.8310e-02, 8.1025e-01],\n",
              "         [5.5499e-01, 7.9032e-01, 1.2728e-01, 9.5655e-01, 7.5804e-01,\n",
              "          2.3840e-01, 2.5243e-01, 2.1066e-01, 2.6452e-01, 2.1408e-01],\n",
              "         [6.5242e-01, 4.7299e-01, 8.7022e-01, 5.2528e-03, 3.6504e-01,\n",
              "          7.3265e-01, 5.7128e-01, 4.3236e-01, 4.8880e-01, 1.5098e-01],\n",
              "         [9.4820e-01, 4.2360e-01, 3.6938e-01, 4.4157e-01, 6.0862e-01,\n",
              "          7.6210e-01, 3.1811e-01, 7.0769e-01, 9.2090e-01, 1.6755e-01]]])"
=======
              "tensor([[[6.0228e-01, 9.5259e-02, 5.2197e-01, 4.8435e-01, 5.7351e-01,\n",
              "          5.1907e-01, 8.4273e-01, 1.2708e-01, 6.7976e-01, 7.2893e-01],\n",
              "         [3.0525e-01, 9.2524e-01, 4.5454e-01, 8.8424e-01, 4.8413e-01,\n",
              "          9.1346e-01, 5.7126e-01, 4.6493e-01, 5.1040e-01, 3.2927e-01],\n",
              "         [1.7458e-01, 8.8896e-01, 5.2679e-01, 1.5891e-01, 2.0498e-01,\n",
              "          7.6585e-01, 5.5677e-02, 6.1787e-01, 6.8090e-02, 4.4254e-01],\n",
              "         [4.8462e-01, 4.5516e-01, 8.2666e-02, 5.3205e-01, 6.6954e-03,\n",
              "          2.7748e-01, 7.9553e-01, 1.3821e-01, 2.6808e-01, 6.7516e-01],\n",
              "         [5.5377e-01, 5.5698e-01, 9.0020e-02, 6.5142e-01, 7.1265e-01,\n",
              "          6.8791e-01, 4.7631e-01, 4.2683e-01, 1.9446e-01, 2.7461e-01],\n",
              "         [6.7469e-02, 7.6981e-01, 1.0392e-01, 3.6010e-01, 3.8184e-01,\n",
              "          9.3450e-01, 4.7134e-01, 5.4278e-02, 8.5927e-01, 3.9925e-01],\n",
              "         [8.9334e-01, 8.4333e-01, 8.2614e-01, 4.6109e-01, 7.1462e-01,\n",
              "          8.5429e-01, 2.8066e-01, 6.9030e-01, 7.5554e-01, 4.4418e-01],\n",
              "         [5.9359e-02, 2.4523e-01, 3.6546e-01, 9.3833e-01, 2.0147e-01,\n",
              "          3.0912e-01, 1.0698e-01, 1.0690e-01, 5.6121e-01, 3.8814e-01],\n",
              "         [4.7795e-01, 8.8822e-01, 2.9183e-01, 4.7985e-02, 2.2369e-01,\n",
              "          9.5071e-01, 9.8289e-01, 4.4709e-01, 5.8883e-01, 4.5556e-01],\n",
              "         [7.7623e-01, 1.0571e-01, 6.2966e-01, 2.3286e-01, 7.1852e-01,\n",
              "          3.0090e-01, 8.4429e-01, 5.0425e-02, 6.4744e-01, 4.6964e-02]],\n",
=======
=======
>>>>>>> parent of 7df0bac (Created using Colab)
              "tensor([[[0.4318, 0.6371, 0.2909, 0.3177, 0.6333, 0.2147, 0.2962, 0.7300,\n",
              "          0.8111, 0.2951],\n",
              "         [0.8054, 0.6410, 0.1749, 0.6164, 0.0393, 0.1931, 0.5786, 0.0967,\n",
              "          0.8114, 0.0067],\n",
              "         [0.0189, 0.5144, 0.0667, 0.7439, 0.9258, 0.9467, 0.3097, 0.8256,\n",
              "          0.5042, 0.4494],\n",
              "         [0.7470, 0.1589, 0.3211, 0.1540, 0.5066, 0.6129, 0.7832, 0.7070,\n",
              "          0.4148, 0.6799],\n",
              "         [0.6297, 0.9158, 0.0130, 0.2845, 0.9010, 0.5624, 0.6728, 0.5619,\n",
              "          0.8326, 0.3683],\n",
              "         [0.3632, 0.8408, 0.4439, 0.3834, 0.6190, 0.4156, 0.6083, 0.5189,\n",
              "          0.1107, 0.9044],\n",
              "         [0.1365, 0.8713, 0.6325, 0.1353, 0.6706, 0.9978, 0.1076, 0.3803,\n",
              "          0.1464, 0.8669],\n",
              "         [0.4910, 0.4690, 0.7474, 0.7745, 0.7912, 0.7933, 0.3794, 0.7013,\n",
              "          0.4913, 0.7716],\n",
              "         [0.5476, 0.4424, 0.3217, 0.0968, 0.7304, 0.5894, 0.7214, 0.4098,\n",
              "          0.8928, 0.6211],\n",
              "         [0.9684, 0.7719, 0.2117, 0.6879, 0.9470, 0.5514, 0.8473, 0.5234,\n",
              "          0.1322, 0.1755]],\n",
<<<<<<< HEAD
>>>>>>> parent of 7df0bac (Created using Colab)
=======
>>>>>>> parent of 7df0bac (Created using Colab)
=======
              "tensor([[[0.4986, 0.3788, 0.7808, 0.0548, 0.4513, 0.4090, 0.8661, 0.0310,\n",
              "          0.0399, 0.4725],\n",
              "         [0.7306, 0.7179, 0.9198, 0.5486, 0.2974, 0.1017, 0.7447, 0.2678,\n",
              "          0.5583, 0.2015],\n",
              "         [0.4837, 0.8548, 0.7303, 0.0454, 0.5870, 0.5824, 0.9964, 0.0976,\n",
              "          0.4684, 0.0914],\n",
              "         [0.2898, 0.7084, 0.9063, 0.4698, 0.4898, 0.8904, 0.0679, 0.7022,\n",
              "          0.1869, 0.0592],\n",
              "         [0.7042, 0.4078, 0.5431, 0.5665, 0.7583, 0.1186, 0.0487, 0.4755,\n",
              "          0.6529, 0.8759],\n",
              "         [0.8768, 0.9268, 0.3697, 0.0973, 0.4963, 0.6271, 0.4893, 0.7706,\n",
              "          0.6779, 0.4044],\n",
              "         [0.4726, 0.1311, 0.1237, 0.9102, 0.8520, 0.5159, 0.2046, 0.6405,\n",
              "          0.8835, 0.9474],\n",
              "         [0.6309, 0.1492, 0.7221, 0.7771, 0.1432, 0.7880, 0.6495, 0.6830,\n",
              "          0.1320, 0.7550],\n",
              "         [0.9944, 0.3412, 0.3433, 0.7485, 0.4810, 0.0944, 0.6574, 0.9476,\n",
              "          0.8502, 0.1143],\n",
              "         [0.4880, 0.7855, 0.3515, 0.8420, 0.2589, 0.9793, 0.3683, 0.2728,\n",
              "          0.9600, 0.0099]],\n",
>>>>>>> parent of 7c7613f (Created using Colab)
              "\n",
              "        [[0.3772, 0.9814, 0.9177, 0.8776, 0.2990, 0.1535, 0.0153, 0.3025,\n",
              "          0.2526, 0.3611],\n",
              "         [0.0147, 0.6974, 0.7431, 0.3866, 0.7934, 0.1085, 0.2565, 0.1766,\n",
              "          0.2352, 0.1676],\n",
              "         [0.2738, 0.1065, 0.6211, 0.3103, 0.9822, 0.9993, 0.2431, 0.2572,\n",
              "          0.1308, 0.7871],\n",
              "         [0.7284, 0.1292, 0.3528, 0.7133, 0.4061, 0.3589, 0.3143, 0.0035,\n",
              "          0.3059, 0.5103],\n",
              "         [0.7999, 0.0265, 0.0152, 0.7453, 0.3512, 0.4036, 0.7675, 0.6199,\n",
              "          0.4042, 0.7841],\n",
              "         [0.7157, 0.3351, 0.7631, 0.6800, 0.6676, 0.6423, 0.6799, 0.1057,\n",
              "          0.4460, 0.0953],\n",
              "         [0.1559, 0.3300, 0.7059, 0.6364, 0.4688, 0.9594, 0.1282, 0.0598,\n",
              "          0.0495, 0.0489],\n",
              "         [0.0805, 0.3034, 0.9421, 0.1906, 0.3033, 0.2032, 0.2500, 0.4182,\n",
              "          0.6069, 0.5312],\n",
              "         [0.9318, 0.3235, 0.2620, 0.1997, 0.0816, 0.0159, 0.2377, 0.5354,\n",
              "          0.6447, 0.0777],\n",
              "         [0.3067, 0.5134, 0.0193, 0.9230, 0.8173, 0.2410, 0.8516, 0.3687,\n",
              "          0.3686, 0.0906]],\n",
              "\n",
              "        [[0.9818, 0.9343, 0.4084, 0.8876, 0.1166, 0.7682, 0.5979, 0.5009,\n",
              "          0.5384, 0.7106],\n",
              "         [0.6246, 0.7228, 0.1720, 0.2664, 0.9636, 0.3720, 0.5292, 0.9786,\n",
              "          0.4458, 0.6891],\n",
              "         [0.6219, 0.6920, 0.3011, 0.3670, 0.5303, 0.2217, 0.5144, 0.2987,\n",
              "          0.5181, 0.0283],\n",
              "         [0.8177, 0.0840, 0.2119, 0.9699, 0.3552, 0.9329, 0.9389, 0.5399,\n",
              "          0.9840, 0.2135],\n",
              "         [0.6002, 0.0075, 0.4296, 0.0272, 0.9801, 0.7768, 0.0873, 0.7268,\n",
              "          0.2429, 0.4901],\n",
              "         [0.3408, 0.5567, 0.1268, 0.5217, 0.2273, 0.2145, 0.5977, 0.1821,\n",
              "          0.0058, 0.9715],\n",
              "         [0.8059, 0.5133, 0.0134, 0.4757, 0.2370, 0.3776, 0.4452, 0.6932,\n",
              "          0.1367, 0.6887],\n",
              "         [0.8541, 0.3541, 0.3375, 0.2682, 0.0889, 0.4616, 0.1035, 0.6856,\n",
              "          0.2708, 0.3271],\n",
              "         [0.8640, 0.3568, 0.2799, 0.3648, 0.2244, 0.0495, 0.1675, 0.7881,\n",
              "          0.2176, 0.2843],\n",
              "         [0.7470, 0.7497, 0.5612, 0.5620, 0.4716, 0.9023, 0.0887, 0.6046,\n",
              "          0.6565, 0.7419]],\n",
              "\n",
              "        [[0.1282, 0.0476, 0.6319, 0.1455, 0.0465, 0.6960, 0.8572, 0.4857,\n",
              "          0.3661, 0.3683],\n",
              "         [0.4048, 0.2486, 0.4888, 0.7277, 0.8794, 0.5411, 0.4417, 0.7308,\n",
              "          0.1578, 0.0013],\n",
              "         [0.4028, 0.6265, 0.8306, 0.6772, 0.7058, 0.6511, 0.6375, 0.1419,\n",
              "          0.8738, 0.2032],\n",
              "         [0.3944, 0.6520, 0.4127, 0.0746, 0.9517, 0.8218, 0.8988, 0.8123,\n",
              "          0.0240, 0.6732],\n",
              "         [0.7656, 0.5229, 0.6061, 0.3990, 0.3042, 0.1402, 0.4619, 0.1956,\n",
              "          0.3643, 0.6294],\n",
              "         [0.2003, 0.3000, 0.6011, 0.2478, 0.3305, 0.4425, 0.9794, 0.7442,\n",
              "          0.7752, 0.6852],\n",
              "         [0.7690, 0.0753, 0.7229, 0.3171, 0.3064, 0.9828, 0.7576, 0.8155,\n",
              "          0.2154, 0.0589],\n",
              "         [0.2794, 0.7145, 0.4619, 0.5737, 0.9872, 0.1991, 0.5938, 0.7789,\n",
              "          0.5812, 0.5476],\n",
              "         [0.7799, 0.4462, 0.5198, 0.3494, 0.6850, 0.0687, 0.2443, 0.1016,\n",
              "          0.5431, 0.0980],\n",
              "         [0.0027, 0.6353, 0.9004, 0.2311, 0.9146, 0.9810, 0.8203, 0.6863,\n",
              "          0.0511, 0.8030]],\n",
              "\n",
              "        [[0.3027, 0.5519, 0.4379, 0.8044, 0.7069, 0.3496, 0.6042, 0.4216,\n",
              "          0.2223, 0.2694],\n",
              "         [0.2637, 0.3030, 0.1254, 0.0195, 0.9586, 0.8954, 0.6642, 0.8691,\n",
              "          0.4981, 0.7430],\n",
              "         [0.0764, 0.4108, 0.2869, 0.6634, 0.5441, 0.8085, 0.3751, 0.6297,\n",
              "          0.4344, 0.3968],\n",
              "         [0.7884, 0.4309, 0.4741, 0.7668, 0.5062, 0.5808, 0.1541, 0.2799,\n",
              "          0.9730, 0.1990],\n",
              "         [0.0794, 0.4716, 0.6201, 0.9179, 0.4588, 0.2658, 0.7031, 0.0496,\n",
              "          0.6164, 0.0243],\n",
              "         [0.3048, 0.7007, 0.8630, 0.2569, 0.0944, 0.3977, 0.6297, 0.9197,\n",
              "          0.8590, 0.5219],\n",
              "         [0.8063, 0.8560, 0.0481, 0.8046, 0.8628, 0.6923, 0.3138, 0.3341,\n",
              "          0.3995, 0.7093],\n",
              "         [0.7114, 0.0976, 0.4100, 0.1550, 0.0464, 0.5655, 0.4337, 0.4119,\n",
              "          0.6483, 0.0745],\n",
              "         [0.1393, 0.7718, 0.4397, 0.3294, 0.2806, 0.8269, 0.9941, 0.6333,\n",
              "          0.9666, 0.9331],\n",
              "         [0.0914, 0.7963, 0.8692, 0.0923, 0.4616, 0.5410, 0.5337, 0.7925,\n",
              "          0.0041, 0.3745]],\n",
              "\n",
              "        [[0.0424, 0.1936, 0.9059, 0.8472, 0.3435, 0.7701, 0.9613, 0.5476,\n",
              "          0.5395, 0.2397],\n",
              "         [0.2463, 0.9714, 0.8820, 0.0031, 0.8618, 0.3015, 0.5597, 0.2444,\n",
              "          0.0825, 0.3169],\n",
              "         [0.6688, 0.1641, 0.3406, 0.3206, 0.4248, 0.3548, 0.4333, 0.6068,\n",
              "          0.6361, 0.6583],\n",
              "         [0.0551, 0.6067, 0.8948, 0.0782, 0.1588, 0.1688, 0.2692, 0.4084,\n",
              "          0.3031, 0.8455],\n",
              "         [0.2217, 0.7061, 0.1623, 0.7898, 0.6857, 0.1807, 0.4535, 0.6452,\n",
              "          0.1898, 0.8774],\n",
              "         [0.0830, 0.4493, 0.3796, 0.9328, 0.2306, 0.3176, 0.0901, 0.8173,\n",
              "          0.3125, 0.4217],\n",
              "         [0.4078, 0.9116, 0.9010, 0.0943, 0.4540, 0.4262, 0.4926, 0.5649,\n",
              "          0.7938, 0.2287],\n",
              "         [0.3377, 0.3968, 0.5081, 0.2371, 0.4296, 0.1824, 0.8156, 0.3495,\n",
              "          0.3175, 0.4517],\n",
              "         [0.8900, 0.9387, 0.9653, 0.4285, 0.1387, 0.6078, 0.2999, 0.7360,\n",
              "          0.0502, 0.6900],\n",
              "         [0.6228, 0.7970, 0.0417, 0.6556, 0.6080, 0.1113, 0.8891, 0.6928,\n",
              "          0.5755, 0.3463]],\n",
              "\n",
              "        [[0.1287, 0.9077, 0.2189, 0.5234, 0.6834, 0.9102, 0.2120, 0.2334,\n",
              "          0.1729, 0.0936],\n",
              "         [0.0444, 0.2333, 0.2320, 0.8309, 0.2335, 0.9073, 0.3972, 0.8510,\n",
              "          0.3940, 0.0696],\n",
              "         [0.4068, 0.0441, 0.8164, 0.3125, 0.2242, 0.6868, 0.9965, 0.3052,\n",
              "          0.7860, 0.1183],\n",
              "         [0.8614, 0.4318, 0.1755, 0.9981, 0.0300, 0.2099, 0.6342, 0.0868,\n",
              "          0.1652, 0.6672],\n",
              "         [0.5079, 0.5127, 0.0113, 0.7946, 0.2166, 0.0596, 0.2521, 0.2733,\n",
              "          0.1000, 0.8711],\n",
              "         [0.1417, 0.1412, 0.3478, 0.5238, 0.8891, 0.9945, 0.1128, 0.0416,\n",
              "          0.1739, 0.6322],\n",
              "         [0.9156, 0.0632, 0.8901, 0.6364, 0.3646, 0.9321, 0.6116, 0.7111,\n",
              "          0.3349, 0.3386],\n",
              "         [0.2872, 0.5704, 0.0857, 0.9471, 0.9967, 0.1571, 0.8796, 0.8395,\n",
              "          0.8171, 0.6815],\n",
              "         [0.1433, 0.1718, 0.0131, 0.1590, 0.3774, 0.4527, 0.5265, 0.7279,\n",
              "          0.0351, 0.6781],\n",
              "         [0.9920, 0.9663, 0.8707, 0.0643, 0.4660, 0.5274, 0.9527, 0.7152,\n",
              "          0.9455, 0.5424]],\n",
              "\n",
              "        [[0.3837, 0.4983, 0.5125, 0.1403, 0.2980, 0.6530, 0.2901, 0.1316,\n",
              "          0.9583, 0.2511],\n",
              "         [0.2683, 0.3571, 0.8499, 0.4555, 0.7287, 0.2789, 0.1983, 0.6899,\n",
              "          0.2649, 0.8797],\n",
              "         [0.6534, 0.7716, 0.0428, 0.4993, 0.5987, 0.5236, 0.4433, 0.8655,\n",
              "          0.9219, 0.3854],\n",
              "         [0.2104, 0.5298, 0.3002, 0.4938, 0.8879, 0.8384, 0.0999, 0.9614,\n",
              "          0.9910, 0.0409],\n",
              "         [0.7652, 0.7403, 0.7464, 0.1655, 0.2491, 0.0086, 0.5800, 0.6101,\n",
              "          0.0043, 0.4205],\n",
              "         [0.0775, 0.8105, 0.4227, 0.5452, 0.0874, 0.1944, 0.3338, 0.0266,\n",
              "          0.8777, 0.7663],\n",
              "         [0.4940, 0.3360, 0.2593, 0.1834, 0.9700, 0.9432, 0.6217, 0.2907,\n",
              "          0.0228, 0.1765],\n",
              "         [0.4906, 0.5627, 0.6005, 0.2652, 0.4806, 0.1885, 0.5184, 0.1887,\n",
              "          0.9514, 0.6400],\n",
              "         [0.2132, 0.7970, 0.9758, 0.0212, 0.3691, 0.4775, 0.6218, 0.2059,\n",
              "          0.9916, 0.1415],\n",
              "         [0.0578, 0.3010, 0.0775, 0.2486, 0.0783, 0.2988, 0.1695, 0.6740,\n",
              "          0.5378, 0.9348]],\n",
              "\n",
              "        [[0.3286, 0.1528, 0.7533, 0.8035, 0.7089, 0.4844, 0.5788, 0.9261,\n",
              "          0.4017, 0.7904],\n",
              "         [0.5367, 0.9588, 0.5530, 0.4635, 0.3496, 0.8283, 0.7378, 0.8401,\n",
              "          0.8741, 0.9633],\n",
              "         [0.0778, 0.7773, 0.5226, 0.1456, 0.1792, 0.0606, 0.4031, 0.6770,\n",
              "          0.3251, 0.1759],\n",
              "         [0.9347, 0.8910, 0.8013, 0.7148, 0.4303, 0.2283, 0.3049, 0.8115,\n",
              "          0.4779, 0.4181],\n",
              "         [0.2603, 0.4121, 0.7310, 0.7446, 0.0746, 0.0853, 0.7461, 0.2481,\n",
              "          0.0430, 0.5199],\n",
              "         [0.5076, 0.6367, 0.2722, 0.5827, 0.2295, 0.3977, 0.1282, 0.5043,\n",
              "          0.4395, 0.7440],\n",
              "         [0.3580, 0.6571, 0.6307, 0.3687, 0.2469, 0.4712, 0.7809, 0.3010,\n",
              "          0.9161, 0.2409],\n",
              "         [0.7609, 0.1902, 0.7008, 0.6478, 0.3307, 0.0364, 0.6715, 0.5988,\n",
              "          0.6750, 0.4662],\n",
              "         [0.4354, 0.0455, 0.9280, 0.9429, 0.3851, 0.5395, 0.8089, 0.6278,\n",
              "          0.1276, 0.6875],\n",
              "         [0.2232, 0.9986, 0.5606, 0.1698, 0.0385, 0.0781, 0.9578, 0.1853,\n",
              "          0.4346, 0.9322]],\n",
              "\n",
<<<<<<< HEAD
<<<<<<< HEAD
<<<<<<< HEAD
              "        [[2.1356e-01, 1.2090e-01, 9.4359e-01, 9.0773e-01, 5.3934e-01,\n",
              "          1.8511e-01, 4.6291e-01, 5.2916e-01, 6.1783e-01, 1.1896e-01],\n",
              "         [1.0816e-01, 5.5064e-01, 2.4888e-01, 7.5821e-01, 9.5827e-01,\n",
              "          6.0000e-01, 1.1284e-01, 7.8564e-01, 1.2476e-01, 5.5696e-01],\n",
              "         [8.7574e-01, 2.3769e-01, 8.1071e-01, 7.0460e-02, 2.6240e-01,\n",
              "          2.7062e-02, 8.7421e-01, 9.9869e-01, 6.8245e-01, 4.0582e-01],\n",
              "         [7.7557e-01, 2.1279e-04, 2.3132e-01, 4.1696e-02, 2.8070e-01,\n",
              "          2.5416e-01, 2.4101e-01, 4.1360e-01, 6.0353e-01, 6.1594e-01],\n",
              "         [6.1169e-02, 8.0818e-01, 3.8319e-01, 3.4723e-03, 8.2724e-01,\n",
              "          9.5860e-01, 3.0663e-01, 7.6131e-01, 2.9452e-01, 2.7086e-01],\n",
              "         [8.1544e-01, 9.9911e-01, 9.8991e-01, 7.8018e-01, 6.4951e-01,\n",
              "          7.1308e-01, 6.5283e-01, 9.6308e-01, 4.3409e-01, 6.8744e-02],\n",
              "         [9.2989e-01, 6.6635e-01, 9.6507e-01, 5.1380e-01, 6.4022e-01,\n",
              "          6.6388e-01, 2.1102e-01, 6.7115e-01, 8.6748e-01, 7.0331e-01],\n",
              "         [3.1861e-01, 7.2521e-01, 5.4560e-01, 2.0543e-01, 1.2377e-01,\n",
              "          3.9962e-01, 6.8894e-01, 2.3533e-01, 4.1720e-01, 2.1247e-01],\n",
              "         [1.2392e-01, 6.2940e-01, 8.9775e-01, 5.5622e-01, 1.4360e-01,\n",
              "          7.5758e-01, 5.7330e-01, 5.8237e-01, 6.2323e-01, 2.8560e-01],\n",
              "         [7.9044e-01, 3.6618e-01, 4.3622e-01, 6.2390e-01, 5.0800e-01,\n",
              "          9.2189e-01, 6.9491e-01, 1.2101e-01, 9.3204e-02, 2.9231e-01]]])"
>>>>>>> 7df0bacd743f05348ee6b9ce42cecfff76bcd1b5
=======
=======
>>>>>>> parent of 7df0bac (Created using Colab)
              "        [[0.1302, 0.7033, 0.2822, 0.0765, 0.5985, 0.1528, 0.5057, 0.5394,\n",
              "          0.2527, 0.4153],\n",
              "         [0.5333, 0.2982, 0.2875, 0.4164, 0.1484, 0.8429, 0.8887, 0.2503,\n",
              "          0.1280, 0.3081],\n",
              "         [0.0799, 0.7623, 0.6479, 0.4336, 0.9348, 0.5999, 0.4688, 0.6311,\n",
              "          0.9094, 0.6002],\n",
              "         [0.2493, 0.7784, 0.5397, 0.6551, 0.1084, 0.5492, 0.1830, 0.2925,\n",
              "          0.3462, 0.6773],\n",
              "         [0.3306, 0.7047, 0.6487, 0.1061, 0.8139, 0.6717, 0.8233, 0.3900,\n",
              "          0.2365, 0.5786],\n",
              "         [0.0379, 0.2611, 0.0068, 0.9810, 0.6013, 0.0715, 0.6542, 0.6163,\n",
              "          0.2274, 0.7365],\n",
              "         [0.8359, 0.6210, 0.5477, 0.9515, 0.3826, 0.5281, 0.9910, 0.8994,\n",
              "          0.4210, 0.0469],\n",
              "         [0.5785, 0.7929, 0.3538, 0.6695, 0.1570, 0.4925, 0.8897, 0.3970,\n",
              "          0.8046, 0.7183],\n",
              "         [0.4491, 0.5121, 0.5453, 0.3476, 0.5856, 0.4968, 0.3942, 0.4551,\n",
              "          0.6790, 0.8058],\n",
              "         [0.0275, 0.5490, 0.7693, 0.9482, 0.6273, 0.0539, 0.4548, 0.3936,\n",
              "          0.1285, 0.7030]]])"
<<<<<<< HEAD
>>>>>>> parent of 7df0bac (Created using Colab)
=======
>>>>>>> parent of 7df0bac (Created using Colab)
=======
              "        [[0.6543, 0.0580, 0.1856, 0.7019, 0.8856, 0.4510, 0.2198, 0.4015,\n",
              "          0.5935, 0.8002],\n",
              "         [0.2288, 0.9359, 0.0021, 0.9943, 0.0015, 0.0124, 0.6828, 0.0524,\n",
              "          0.9917, 0.8360],\n",
              "         [0.6913, 0.8610, 0.1440, 0.5826, 0.2581, 0.2341, 0.4102, 0.4583,\n",
              "          0.2265, 0.4222],\n",
              "         [0.5645, 0.5632, 0.8805, 0.3553, 0.7544, 0.7521, 0.8722, 0.9712,\n",
              "          0.4964, 0.9863],\n",
              "         [0.8464, 0.6591, 0.0473, 0.5991, 0.0907, 0.6913, 0.9453, 0.5770,\n",
              "          0.9959, 0.2987],\n",
              "         [0.3892, 0.9662, 0.1810, 0.5136, 0.8749, 0.5240, 0.9642, 0.7684,\n",
              "          0.2519, 0.2052],\n",
              "         [0.6513, 0.1550, 0.0573, 0.8238, 0.5401, 0.9800, 0.1762, 0.1364,\n",
              "          0.6681, 0.9138],\n",
              "         [0.6556, 0.3470, 0.6644, 0.4323, 0.8018, 0.2436, 0.5999, 0.9862,\n",
              "          0.5522, 0.7208],\n",
              "         [0.0750, 0.4342, 0.1406, 0.5746, 0.5483, 0.5066, 0.3255, 0.2895,\n",
              "          0.1692, 0.0470],\n",
              "         [0.9054, 0.7714, 0.5768, 0.5446, 0.6563, 0.7946, 0.3648, 0.9841,\n",
              "          0.9883, 0.5469]]])"
>>>>>>> parent of 7c7613f (Created using Colab)
            ]
          },
          "execution_count": 18,
          "metadata": {},
<<<<<<< HEAD
<<<<<<< HEAD
<<<<<<< HEAD
<<<<<<< HEAD
          "output_type": "execute_result"
=======
          "execution_count": 21
>>>>>>> 7df0bacd743f05348ee6b9ce42cecfff76bcd1b5
=======
          "execution_count": 18
>>>>>>> parent of 7df0bac (Created using Colab)
=======
          "execution_count": 18
>>>>>>> parent of 7df0bac (Created using Colab)
=======
          "execution_count": 95
>>>>>>> parent of 7c7613f (Created using Colab)
        }
      ],
      "source": [
        "random_tensor2 = torch.rand(10,10,10)\n",
        "random_tensor2"
      ]
    },
    {
      "cell_type": "code",
      "execution_count": 19,
      "metadata": {
        "colab": {
          "base_uri": "https://localhost:8080/"
        },
        "id": "DEs01KJNHtj4",
        "outputId": "14c9609f-a859-43ac-bc7d-c035ae3d1a75"
      },
<<<<<<< HEAD
<<<<<<< HEAD
<<<<<<< HEAD
<<<<<<< HEAD
=======
      "execution_count": 22,
>>>>>>> 7df0bacd743f05348ee6b9ce42cecfff76bcd1b5
=======
      "execution_count": 19,
>>>>>>> parent of 7df0bac (Created using Colab)
=======
      "execution_count": 19,
>>>>>>> parent of 7df0bac (Created using Colab)
=======
      "execution_count": 96,
>>>>>>> parent of 7c7613f (Created using Colab)
      "outputs": [
        {
          "data": {
            "text/plain": [
              "(torch.Size([224, 224, 3]), 3)"
            ]
          },
          "execution_count": 19,
          "metadata": {},
<<<<<<< HEAD
<<<<<<< HEAD
<<<<<<< HEAD
<<<<<<< HEAD
          "output_type": "execute_result"
=======
          "execution_count": 22
>>>>>>> 7df0bacd743f05348ee6b9ce42cecfff76bcd1b5
=======
          "execution_count": 19
>>>>>>> parent of 7df0bac (Created using Colab)
=======
          "execution_count": 19
>>>>>>> parent of 7df0bac (Created using Colab)
=======
          "execution_count": 96
>>>>>>> parent of 7c7613f (Created using Colab)
        }
      ],
      "source": [
        "#create a random tensor with similar shape to an image tensor\n",
        "\n",
        "random_image_size_tensor = torch.rand(size=(224,224,3)) #height, width, color channels\n",
        "random_image_size_tensor.shape, random_image_size_tensor.ndim"
      ]
    },
    {
      "cell_type": "markdown",
      "metadata": {
        "id": "o1oxzp-FI2Pk"
      },
      "source": [
        "#ZEROs and ONEs Tensor\n"
      ]
    },
    {
      "cell_type": "code",
      "execution_count": 20,
      "metadata": {
        "colab": {
          "base_uri": "https://localhost:8080/"
        },
        "id": "WXxuCKNfJWnM",
        "outputId": "2cf11640-975f-41eb-b628-e2809f9337c3"
      },
<<<<<<< HEAD
<<<<<<< HEAD
<<<<<<< HEAD
<<<<<<< HEAD
=======
      "execution_count": 23,
>>>>>>> 7df0bacd743f05348ee6b9ce42cecfff76bcd1b5
=======
      "execution_count": 20,
>>>>>>> parent of 7df0bac (Created using Colab)
=======
      "execution_count": 20,
>>>>>>> parent of 7df0bac (Created using Colab)
=======
      "execution_count": 97,
>>>>>>> parent of 7c7613f (Created using Colab)
      "outputs": [
        {
          "data": {
            "text/plain": [
              "tensor([[0., 0., 0., 0.],\n",
              "        [0., 0., 0., 0.],\n",
              "        [0., 0., 0., 0.]])"
            ]
          },
          "execution_count": 20,
          "metadata": {},
<<<<<<< HEAD
<<<<<<< HEAD
<<<<<<< HEAD
<<<<<<< HEAD
          "output_type": "execute_result"
=======
          "execution_count": 23
>>>>>>> 7df0bacd743f05348ee6b9ce42cecfff76bcd1b5
=======
          "execution_count": 20
>>>>>>> parent of 7df0bac (Created using Colab)
=======
          "execution_count": 20
>>>>>>> parent of 7df0bac (Created using Colab)
=======
          "execution_count": 97
>>>>>>> parent of 7c7613f (Created using Colab)
        }
      ],
      "source": [
        "zero = torch.zeros(size=(3,4))\n",
        "zero"
      ]
    },
    {
      "cell_type": "code",
      "execution_count": 21,
      "metadata": {
        "colab": {
          "base_uri": "https://localhost:8080/"
        },
        "id": "0DSHDXJRJYdH",
        "outputId": "2020444a-2a4b-4768-ebdf-e815aef56067"
      },
<<<<<<< HEAD
<<<<<<< HEAD
<<<<<<< HEAD
<<<<<<< HEAD
=======
      "execution_count": 24,
>>>>>>> 7df0bacd743f05348ee6b9ce42cecfff76bcd1b5
=======
      "execution_count": 21,
>>>>>>> parent of 7df0bac (Created using Colab)
=======
      "execution_count": 21,
>>>>>>> parent of 7df0bac (Created using Colab)
=======
      "execution_count": 98,
>>>>>>> parent of 7c7613f (Created using Colab)
      "outputs": [
        {
          "data": {
            "text/plain": [
              "tensor([[1., 1., 1., 1.],\n",
              "        [1., 1., 1., 1.],\n",
              "        [1., 1., 1., 1.]])"
            ]
          },
          "execution_count": 21,
          "metadata": {},
<<<<<<< HEAD
<<<<<<< HEAD
<<<<<<< HEAD
<<<<<<< HEAD
          "output_type": "execute_result"
=======
          "execution_count": 24
>>>>>>> 7df0bacd743f05348ee6b9ce42cecfff76bcd1b5
=======
          "execution_count": 21
>>>>>>> parent of 7df0bac (Created using Colab)
=======
          "execution_count": 21
>>>>>>> parent of 7df0bac (Created using Colab)
=======
          "execution_count": 98
>>>>>>> parent of 7c7613f (Created using Colab)
        }
      ],
      "source": [
        "ones = torch.ones(size=(3,4))\n",
        "ones"
      ]
    },
    {
      "cell_type": "code",
      "execution_count": 22,
      "metadata": {
        "colab": {
          "base_uri": "https://localhost:8080/"
        },
        "id": "3Feq2v6HJdjF",
        "outputId": "54aa3da4-f6ba-45de-a17c-ba89dddb694d"
      },
<<<<<<< HEAD
<<<<<<< HEAD
<<<<<<< HEAD
<<<<<<< HEAD
=======
      "execution_count": 25,
>>>>>>> 7df0bacd743f05348ee6b9ce42cecfff76bcd1b5
=======
      "execution_count": 22,
>>>>>>> parent of 7df0bac (Created using Colab)
=======
      "execution_count": 22,
>>>>>>> parent of 7df0bac (Created using Colab)
=======
      "execution_count": 99,
>>>>>>> parent of 7c7613f (Created using Colab)
      "outputs": [
        {
          "data": {
            "text/plain": [
              "(torch.float32, torch.float32)"
            ]
          },
          "execution_count": 22,
          "metadata": {},
<<<<<<< HEAD
<<<<<<< HEAD
<<<<<<< HEAD
<<<<<<< HEAD
          "output_type": "execute_result"
=======
          "execution_count": 25
>>>>>>> 7df0bacd743f05348ee6b9ce42cecfff76bcd1b5
=======
          "execution_count": 22
>>>>>>> parent of 7df0bac (Created using Colab)
=======
          "execution_count": 22
>>>>>>> parent of 7df0bac (Created using Colab)
=======
          "execution_count": 99
>>>>>>> parent of 7c7613f (Created using Colab)
        }
      ],
      "source": [
        "ones.dtype, random_image_size_tensor.dtype"
      ]
    },
    {
      "cell_type": "markdown",
      "metadata": {
        "id": "OU1TQagfJrIF"
      },
      "source": [
        "#Creating a range of Tensor"
      ]
    },
    {
      "cell_type": "code",
      "execution_count": 23,
      "metadata": {
        "colab": {
          "base_uri": "https://localhost:8080/"
        },
        "id": "zu4lEBNpJofs",
        "outputId": "d84b5735-8dd5-4a88-96e4-d5e0251ea057"
      },
<<<<<<< HEAD
<<<<<<< HEAD
<<<<<<< HEAD
<<<<<<< HEAD
=======
      "execution_count": 26,
>>>>>>> 7df0bacd743f05348ee6b9ce42cecfff76bcd1b5
=======
      "execution_count": 23,
>>>>>>> parent of 7df0bac (Created using Colab)
=======
      "execution_count": 23,
>>>>>>> parent of 7df0bac (Created using Colab)
=======
      "execution_count": 100,
>>>>>>> parent of 7c7613f (Created using Colab)
      "outputs": [
        {
          "data": {
            "text/plain": [
              "tensor([ 1,  2,  3,  4,  5,  6,  7,  8,  9, 10])"
            ]
          },
          "execution_count": 23,
          "metadata": {},
<<<<<<< HEAD
<<<<<<< HEAD
<<<<<<< HEAD
<<<<<<< HEAD
          "output_type": "execute_result"
=======
          "execution_count": 26
>>>>>>> 7df0bacd743f05348ee6b9ce42cecfff76bcd1b5
=======
          "execution_count": 23
>>>>>>> parent of 7df0bac (Created using Colab)
=======
          "execution_count": 23
>>>>>>> parent of 7df0bac (Created using Colab)
=======
          "execution_count": 100
>>>>>>> parent of 7c7613f (Created using Colab)
        }
      ],
      "source": [
        "torch.arange(1,11)"
      ]
    },
    {
      "cell_type": "markdown",
      "metadata": {
        "id": "7jXT0tqTLmhZ"
      },
      "source": [
        "#Getting info from tensors"
      ]
    },
    {
      "cell_type": "code",
      "execution_count": 24,
      "metadata": {
        "colab": {
          "base_uri": "https://localhost:8080/"
        },
        "id": "QIdcwZKVLlr_",
        "outputId": "47e03322-8a09-4156-cd8a-ed7c51ce21a6"
      },
<<<<<<< HEAD
<<<<<<< HEAD
<<<<<<< HEAD
<<<<<<< HEAD
=======
      "execution_count": 27,
>>>>>>> 7df0bacd743f05348ee6b9ce42cecfff76bcd1b5
=======
      "execution_count": 24,
>>>>>>> parent of 7df0bac (Created using Colab)
=======
      "execution_count": 24,
>>>>>>> parent of 7df0bac (Created using Colab)
=======
      "execution_count": 101,
>>>>>>> parent of 7c7613f (Created using Colab)
      "outputs": [
        {
          "name": "stdout",
          "output_type": "stream",
          "text": [
<<<<<<< HEAD
<<<<<<< HEAD
<<<<<<< HEAD
<<<<<<< HEAD
            "tensor([[0.6127, 0.5961, 0.3858, 0.8670],\n",
            "        [0.3072, 0.2170, 0.6230, 0.0776],\n",
            "        [0.2370, 0.1269, 0.3815, 0.6535]])\n",
=======
            "tensor([[0.1271, 0.5440, 0.4965, 0.8567],\n",
            "        [0.7887, 0.5175, 0.4151, 0.0250],\n",
            "        [0.1283, 0.0816, 0.6647, 0.4918]])\n",
>>>>>>> 7df0bacd743f05348ee6b9ce42cecfff76bcd1b5
=======
            "tensor([[0.7582, 0.5189, 0.3942, 0.4708],\n",
            "        [0.6988, 0.9461, 0.8052, 0.9589],\n",
            "        [0.0072, 0.1414, 0.1570, 0.5392]])\n",
>>>>>>> parent of 7df0bac (Created using Colab)
=======
            "tensor([[0.7582, 0.5189, 0.3942, 0.4708],\n",
            "        [0.6988, 0.9461, 0.8052, 0.9589],\n",
            "        [0.0072, 0.1414, 0.1570, 0.5392]])\n",
>>>>>>> parent of 7df0bac (Created using Colab)
=======
            "tensor([[0.3524, 0.3722, 0.8313, 0.4344],\n",
            "        [0.2477, 0.7908, 0.3004, 0.6946],\n",
            "        [0.7984, 0.7819, 0.9456, 0.1602]])\n",
>>>>>>> parent of 7c7613f (Created using Colab)
            "Datatype of tensor: torch.float32\n",
            "Shape of tensor: torch.Size([3, 4])\n"
          ]
        }
      ],
      "source": [
        "some_tensor=torch.rand(3,4)\n",
        "print(some_tensor)\n",
        "print(f\"Datatype of tensor: {some_tensor.dtype}\")\n",
        "print(f\"Shape of tensor: {some_tensor.shape}\")"
      ]
    },
    {
      "cell_type": "markdown",
      "metadata": {
        "id": "OkXWVLaDM98r"
      },
      "source": [
        "# Manipulating Tensors\n",
        "* Add\n",
        "* Sub\n",
        "* Mul\n",
        "* Div\n",
        "* Matrix Mul"
      ]
    },
    {
      "cell_type": "code",
      "execution_count": 25,
      "metadata": {
        "colab": {
          "base_uri": "https://localhost:8080/"
        },
        "id": "-NziTZSLNNdh",
        "outputId": "3159594e-53bc-477b-fb17-3da6ab611bb4"
      },
<<<<<<< HEAD
<<<<<<< HEAD
<<<<<<< HEAD
<<<<<<< HEAD
=======
      "execution_count": 28,
>>>>>>> 7df0bacd743f05348ee6b9ce42cecfff76bcd1b5
=======
      "execution_count": 25,
>>>>>>> parent of 7df0bac (Created using Colab)
=======
      "execution_count": 25,
>>>>>>> parent of 7df0bac (Created using Colab)
=======
      "execution_count": 102,
>>>>>>> parent of 7c7613f (Created using Colab)
      "outputs": [
        {
          "name": "stdout",
          "output_type": "stream",
          "text": [
            "tensor([11, 12, 13])\n",
            "tensor([-9, -8, -7])\n",
            "tensor([10, 20, 30])\n",
            "tensor([0.1000, 0.2000, 0.3000])\n"
          ]
        }
      ],
      "source": [
        "#creating tensor and do operations\n",
        "tensor = torch.tensor([1,2,3])\n",
        "print(tensor + 10)\n",
        "print(tensor - 10)\n",
        "print(tensor * 10)\n",
        "print(tensor / 10)\n"
      ]
    },
    {
      "cell_type": "code",
      "execution_count": 26,
      "metadata": {
        "colab": {
          "base_uri": "https://localhost:8080/"
        },
        "id": "pyJlXGK1Nisw",
        "outputId": "7a82a52b-e471-454e-cde8-52861eb0d546"
      },
<<<<<<< HEAD
<<<<<<< HEAD
<<<<<<< HEAD
<<<<<<< HEAD
=======
      "execution_count": 29,
>>>>>>> 7df0bacd743f05348ee6b9ce42cecfff76bcd1b5
=======
      "execution_count": 26,
>>>>>>> parent of 7df0bac (Created using Colab)
=======
      "execution_count": 26,
>>>>>>> parent of 7df0bac (Created using Colab)
=======
      "execution_count": 103,
>>>>>>> parent of 7c7613f (Created using Colab)
      "outputs": [
        {
          "data": {
            "text/plain": [
              "tensor([11, 12, 13])"
            ]
          },
          "execution_count": 26,
          "metadata": {},
<<<<<<< HEAD
<<<<<<< HEAD
<<<<<<< HEAD
<<<<<<< HEAD
          "output_type": "execute_result"
=======
          "execution_count": 29
>>>>>>> 7df0bacd743f05348ee6b9ce42cecfff76bcd1b5
=======
          "execution_count": 26
>>>>>>> parent of 7df0bac (Created using Colab)
=======
          "execution_count": 26
>>>>>>> parent of 7df0bac (Created using Colab)
=======
          "execution_count": 103
>>>>>>> parent of 7c7613f (Created using Colab)
        }
      ],
      "source": [
        "# or can use .add  or .operator()\n",
        "#ex\n",
        "tensor.add(10)"
      ]
    },
    {
      "cell_type": "markdown",
      "metadata": {
        "id": "XaCM_SrNOI6r"
      },
      "source": [
        "#Matrix Multiplication"
      ]
    },
    {
      "cell_type": "code",
      "execution_count": 29,
      "metadata": {
        "colab": {
          "base_uri": "https://localhost:8080/"
        },
        "id": "y1JeWw7JOH5i",
        "outputId": "b73613c7-cf45-4705-dee1-f663e90ff411"
      },
<<<<<<< HEAD
<<<<<<< HEAD
<<<<<<< HEAD
<<<<<<< HEAD
=======
      "execution_count": 30,
>>>>>>> 7df0bacd743f05348ee6b9ce42cecfff76bcd1b5
=======
      "execution_count": 27,
>>>>>>> parent of 7df0bac (Created using Colab)
=======
      "execution_count": 27,
>>>>>>> parent of 7df0bac (Created using Colab)
=======
      "execution_count": 104,
>>>>>>> parent of 7c7613f (Created using Colab)
      "outputs": [
        {
          "name": "stdout",
          "output_type": "stream",
          "text": [
<<<<<<< HEAD
            "tensor([1, 2, 3]) * tensor([1, 2, 3]) = tensor([1, 4, 9])\n"
=======
            "tensor([1, 2, 3]) * tensor([1, 2, 3]) = tensor([1, 4, 9])\n",
<<<<<<< HEAD
<<<<<<< HEAD
<<<<<<< HEAD
            "CPU times: user 886 µs, sys: 0 ns, total: 886 µs\n",
            "Wall time: 1.2 ms\n"
>>>>>>> 7df0bacd743f05348ee6b9ce42cecfff76bcd1b5
=======
            "CPU times: user 4.04 ms, sys: 1.18 ms, total: 5.21 ms\n",
            "Wall time: 13.1 ms\n"
>>>>>>> parent of 7df0bac (Created using Colab)
=======
            "CPU times: user 4.04 ms, sys: 1.18 ms, total: 5.21 ms\n",
            "Wall time: 13.1 ms\n"
>>>>>>> parent of 7df0bac (Created using Colab)
=======
            "CPU times: user 5.44 ms, sys: 0 ns, total: 5.44 ms\n",
            "Wall time: 9.39 ms\n"
>>>>>>> parent of 7c7613f (Created using Colab)
          ]
        }
      ],
      "source": [
        "#two type of mul\n",
        "#normal multiplication\n",
        "tensor1 = torch.tensor([1,2,3])\n",
        "tensor2 = torch.tensor([1,2,3])\n",
        "print(tensor1,\"*\",tensor2,\"=\",tensor1*tensor2)\n"
      ]
    },
    {
      "cell_type": "code",
      "execution_count": 30,
      "metadata": {
        "colab": {
          "base_uri": "https://localhost:8080/"
        },
        "id": "MA_ICxa1PglR",
        "outputId": "ea1d298b-c339-441b-a0e4-34945d19cbf4"
      },
<<<<<<< HEAD
<<<<<<< HEAD
<<<<<<< HEAD
<<<<<<< HEAD
=======
      "execution_count": 31,
>>>>>>> 7df0bacd743f05348ee6b9ce42cecfff76bcd1b5
=======
      "execution_count": 28,
>>>>>>> parent of 7df0bac (Created using Colab)
=======
      "execution_count": 28,
>>>>>>> parent of 7df0bac (Created using Colab)
=======
      "execution_count": 105,
>>>>>>> parent of 7c7613f (Created using Colab)
      "outputs": [
        {
          "name": "stdout",
          "output_type": "stream",
          "text": [
            "\n",
<<<<<<< HEAD
            "Matrix Mul:  tensor(14)\n"
=======
            "Matrix Mul:  tensor(14)\n",
<<<<<<< HEAD
<<<<<<< HEAD
<<<<<<< HEAD
            "CPU times: user 1.89 ms, sys: 0 ns, total: 1.89 ms\n",
            "Wall time: 6.95 ms\n"
>>>>>>> 7df0bacd743f05348ee6b9ce42cecfff76bcd1b5
=======
            "CPU times: user 4.87 ms, sys: 169 µs, total: 5.04 ms\n",
            "Wall time: 20.7 ms\n"
>>>>>>> parent of 7df0bac (Created using Colab)
=======
            "CPU times: user 4.87 ms, sys: 169 µs, total: 5.04 ms\n",
            "Wall time: 20.7 ms\n"
>>>>>>> parent of 7df0bac (Created using Colab)
=======
            "CPU times: user 2.19 ms, sys: 0 ns, total: 2.19 ms\n",
            "Wall time: 2.2 ms\n"
>>>>>>> parent of 7c7613f (Created using Colab)
          ]
        }
      ],
      "source": [
        "#Matrix multiply\n",
        "print(\"\\nMatrix Mul: \",tensor1.matmul(tensor2))"
      ]
    },
    {
      "cell_type": "markdown",
      "metadata": {
        "id": "7s-n1nBAQPDi"
      },
      "source": [
        "### FInding\n",
        "* Min\n",
        "* max\n",
        "* mean\n",
        "* sum"
      ]
    },
    {
      "cell_type": "code",
      "execution_count": 31,
      "metadata": {
        "colab": {
          "base_uri": "https://localhost:8080/"
        },
        "id": "BcTTReO5Qazl",
        "outputId": "ede37e4d-1f71-469c-d829-25231cf224f5"
      },
<<<<<<< HEAD
<<<<<<< HEAD
<<<<<<< HEAD
<<<<<<< HEAD
=======
      "execution_count": 32,
>>>>>>> 7df0bacd743f05348ee6b9ce42cecfff76bcd1b5
=======
      "execution_count": 29,
>>>>>>> parent of 7df0bac (Created using Colab)
=======
      "execution_count": 29,
>>>>>>> parent of 7df0bac (Created using Colab)
=======
      "execution_count": 106,
>>>>>>> parent of 7c7613f (Created using Colab)
      "outputs": [
        {
          "data": {
            "text/plain": [
              "tensor([ 0, 10, 20, 30, 40, 50, 60, 70, 80, 90])"
            ]
          },
          "execution_count": 31,
          "metadata": {},
<<<<<<< HEAD
<<<<<<< HEAD
<<<<<<< HEAD
<<<<<<< HEAD
          "output_type": "execute_result"
=======
          "execution_count": 32
>>>>>>> 7df0bacd743f05348ee6b9ce42cecfff76bcd1b5
=======
          "execution_count": 29
>>>>>>> parent of 7df0bac (Created using Colab)
=======
          "execution_count": 29
>>>>>>> parent of 7df0bac (Created using Colab)
=======
          "execution_count": 106
>>>>>>> parent of 7c7613f (Created using Colab)
        }
      ],
      "source": [
        "#Create a tensor\n",
        "x = torch.arange(0,100,10)\n",
        "x"
      ]
    },
    {
      "cell_type": "code",
      "execution_count": 32,
      "metadata": {
        "colab": {
          "base_uri": "https://localhost:8080/"
        },
        "id": "fQVK571iQ1nD",
        "outputId": "0577c9d2-7c60-4ceb-f7ca-29863be76474"
      },
<<<<<<< HEAD
<<<<<<< HEAD
<<<<<<< HEAD
<<<<<<< HEAD
=======
      "execution_count": 33,
>>>>>>> 7df0bacd743f05348ee6b9ce42cecfff76bcd1b5
=======
      "execution_count": 30,
>>>>>>> parent of 7df0bac (Created using Colab)
=======
      "execution_count": 30,
>>>>>>> parent of 7df0bac (Created using Colab)
=======
      "execution_count": 107,
>>>>>>> parent of 7c7613f (Created using Colab)
      "outputs": [
        {
          "data": {
            "text/plain": [
              "(tensor(90), tensor(90))"
            ]
          },
          "execution_count": 32,
          "metadata": {},
<<<<<<< HEAD
<<<<<<< HEAD
<<<<<<< HEAD
<<<<<<< HEAD
          "output_type": "execute_result"
=======
          "execution_count": 33
>>>>>>> 7df0bacd743f05348ee6b9ce42cecfff76bcd1b5
=======
          "execution_count": 30
>>>>>>> parent of 7df0bac (Created using Colab)
=======
          "execution_count": 30
>>>>>>> parent of 7df0bac (Created using Colab)
=======
          "execution_count": 107
>>>>>>> parent of 7c7613f (Created using Colab)
        }
      ],
      "source": [
        "torch.max(x),x.max()"
      ]
    },
    {
      "cell_type": "code",
      "execution_count": 34,
      "metadata": {
        "colab": {
          "base_uri": "https://localhost:8080/"
        },
        "id": "v5hcRdN6RnXS",
        "outputId": "f8a1d816-0c85-461f-f26e-f6510b9e2247"
      },
<<<<<<< HEAD
<<<<<<< HEAD
<<<<<<< HEAD
<<<<<<< HEAD
=======
      "execution_count": 34,
>>>>>>> 7df0bacd743f05348ee6b9ce42cecfff76bcd1b5
=======
      "execution_count": 31,
>>>>>>> parent of 7df0bac (Created using Colab)
=======
      "execution_count": 31,
>>>>>>> parent of 7df0bac (Created using Colab)
=======
      "execution_count": 108,
>>>>>>> parent of 7c7613f (Created using Colab)
      "outputs": [
        {
          "data": {
            "text/plain": [
              "(tensor(0), tensor(0))"
            ]
          },
          "execution_count": 34,
          "metadata": {},
<<<<<<< HEAD
<<<<<<< HEAD
<<<<<<< HEAD
<<<<<<< HEAD
          "output_type": "execute_result"
=======
          "execution_count": 34
>>>>>>> 7df0bacd743f05348ee6b9ce42cecfff76bcd1b5
=======
          "execution_count": 31
>>>>>>> parent of 7df0bac (Created using Colab)
=======
          "execution_count": 31
>>>>>>> parent of 7df0bac (Created using Colab)
=======
          "execution_count": 108
>>>>>>> parent of 7c7613f (Created using Colab)
        }
      ],
      "source": [
        "torch.min(x),x.min()"
      ]
    },
    {
      "cell_type": "code",
      "execution_count": 35,
      "metadata": {
        "colab": {
          "base_uri": "https://localhost:8080/",
          "height": 176
        },
        "id": "HH7Mj_ATQ8zX",
        "outputId": "721a4da7-1504-4f4d-c464-0552802a06dc"
      },
<<<<<<< HEAD
<<<<<<< HEAD
<<<<<<< HEAD
<<<<<<< HEAD
=======
      "execution_count": 35,
>>>>>>> 7df0bacd743f05348ee6b9ce42cecfff76bcd1b5
=======
      "execution_count": 33,
>>>>>>> parent of 7df0bac (Created using Colab)
=======
      "execution_count": 33,
>>>>>>> parent of 7df0bac (Created using Colab)
=======
      "execution_count": 109,
>>>>>>> parent of 7c7613f (Created using Colab)
      "outputs": [
        {
          "ename": "RuntimeError",
          "evalue": "mean(): could not infer output dtype. Input dtype must be either a floating point or complex dtype. Got: Long",
          "output_type": "error",
          "traceback": [
<<<<<<< HEAD
            "\u001b[1;31m---------------------------------------------------------------------------\u001b[0m",
            "\u001b[1;31mRuntimeError\u001b[0m                              Traceback (most recent call last)",
            "Cell \u001b[1;32mIn[35], line 2\u001b[0m\n\u001b[0;32m      1\u001b[0m \u001b[38;5;66;03m#raise error due to datatype problem\u001b[39;00m\n\u001b[1;32m----> 2\u001b[0m \u001b[43mtorch\u001b[49m\u001b[38;5;241;43m.\u001b[39;49m\u001b[43mmean\u001b[49m\u001b[43m(\u001b[49m\u001b[43mx\u001b[49m\u001b[43m)\u001b[49m\n",
            "\u001b[1;31mRuntimeError\u001b[0m: mean(): could not infer output dtype. Input dtype must be either a floating point or complex dtype. Got: Long"
=======
            "\u001b[0;31m---------------------------------------------------------------------------\u001b[0m",
            "\u001b[0;31mRuntimeError\u001b[0m                              Traceback (most recent call last)",
            "\u001b[0;32m<ipython-input-109-2a2e1d5a92ad>\u001b[0m in \u001b[0;36m<cell line: 2>\u001b[0;34m()\u001b[0m\n\u001b[1;32m      1\u001b[0m \u001b[0;31m#raise error due to datatype problem\u001b[0m\u001b[0;34m\u001b[0m\u001b[0;34m\u001b[0m\u001b[0m\n\u001b[0;32m----> 2\u001b[0;31m \u001b[0mtorch\u001b[0m\u001b[0;34m.\u001b[0m\u001b[0mmean\u001b[0m\u001b[0;34m(\u001b[0m\u001b[0mx\u001b[0m\u001b[0;34m)\u001b[0m\u001b[0;34m\u001b[0m\u001b[0;34m\u001b[0m\u001b[0m\n\u001b[0m",
            "\u001b[0;31mRuntimeError\u001b[0m: mean(): could not infer output dtype. Input dtype must be either a floating point or complex dtype. Got: Long"
>>>>>>> 7df0bacd743f05348ee6b9ce42cecfff76bcd1b5
          ]
        }
      ],
      "source": [
        "#raise error due to datatype problem\n",
        "torch.mean(x)"
      ]
    },
    {
      "cell_type": "code",
      "execution_count": 36,
      "metadata": {
        "colab": {
          "base_uri": "https://localhost:8080/"
        },
        "id": "pSqx7iNtROqj",
        "outputId": "d6f0f58a-d26c-4bca-a003-f03eaba41d57"
      },
<<<<<<< HEAD
<<<<<<< HEAD
<<<<<<< HEAD
<<<<<<< HEAD
=======
      "execution_count": 36,
>>>>>>> 7df0bacd743f05348ee6b9ce42cecfff76bcd1b5
=======
      "execution_count": 34,
>>>>>>> parent of 7df0bac (Created using Colab)
=======
      "execution_count": 34,
>>>>>>> parent of 7df0bac (Created using Colab)
=======
      "execution_count": 110,
>>>>>>> parent of 7c7613f (Created using Colab)
      "outputs": [
        {
          "data": {
            "text/plain": [
              "(tensor(45.), tensor(45.))"
            ]
          },
          "execution_count": 36,
          "metadata": {},
<<<<<<< HEAD
<<<<<<< HEAD
<<<<<<< HEAD
<<<<<<< HEAD
          "output_type": "execute_result"
=======
          "execution_count": 36
>>>>>>> 7df0bacd743f05348ee6b9ce42cecfff76bcd1b5
=======
          "execution_count": 34
>>>>>>> parent of 7df0bac (Created using Colab)
=======
          "execution_count": 34
>>>>>>> parent of 7df0bac (Created using Colab)
=======
          "execution_count": 110
>>>>>>> parent of 7c7613f (Created using Colab)
        }
      ],
      "source": [
        "torch.mean(x.type(torch.float32)),x.type(torch.float32).mean()"
      ]
    },
    {
      "cell_type": "code",
      "execution_count": 37,
      "metadata": {
        "colab": {
          "base_uri": "https://localhost:8080/"
        },
        "id": "-rbiBToNRWcf",
        "outputId": "d1df2188-da00-4c72-af3e-93bd823d9760"
      },
<<<<<<< HEAD
<<<<<<< HEAD
<<<<<<< HEAD
<<<<<<< HEAD
      "outputs": [
        {
=======
      "execution_count": 37,
      "outputs": [
        {
          "output_type": "execute_result",
>>>>>>> 7df0bacd743f05348ee6b9ce42cecfff76bcd1b5
=======
      "execution_count": 111,
      "outputs": [
        {
          "output_type": "execute_result",
>>>>>>> parent of 7c7613f (Created using Colab)
          "data": {
            "text/plain": [
              "(tensor(450), tensor(450))"
            ]
          },
<<<<<<< HEAD
<<<<<<< HEAD
          "execution_count": 37,
          "metadata": {},
          "output_type": "execute_result"
        }
      ],
      "source": [
        "torch.sum(x),x.sum()"
=======
          "metadata": {},
          "execution_count": 37
        }
>>>>>>> 7df0bacd743f05348ee6b9ce42cecfff76bcd1b5
      ]
=======
      "execution_count": null,
      "outputs": []
>>>>>>> parent of 7df0bac (Created using Colab)
=======
      "execution_count": null,
      "outputs": []
>>>>>>> parent of 7df0bac (Created using Colab)
=======
          "metadata": {},
          "execution_count": 111
        }
      ]
>>>>>>> parent of 7c7613f (Created using Colab)
    },
    {
      "cell_type": "markdown",
      "metadata": {
        "id": "2AwSYuAuS481"
      },
      "source": [
        "# Finding Positional of min and max"
      ]
    },
    {
      "cell_type": "code",
      "execution_count": 39,
      "metadata": {
        "colab": {
          "base_uri": "https://localhost:8080/"
        },
        "id": "w1ye_4fMR09E",
        "outputId": "90160bc5-5c2f-412b-ab7f-1d79cd9695c3"
      },
<<<<<<< HEAD
<<<<<<< HEAD
<<<<<<< HEAD
<<<<<<< HEAD
=======
      "execution_count": 38,
>>>>>>> 7df0bacd743f05348ee6b9ce42cecfff76bcd1b5
=======
      "execution_count": 35,
>>>>>>> parent of 7df0bac (Created using Colab)
=======
      "execution_count": 35,
>>>>>>> parent of 7df0bac (Created using Colab)
=======
      "execution_count": 112,
>>>>>>> parent of 7c7613f (Created using Colab)
      "outputs": [
        {
          "name": "stdout",
          "output_type": "stream",
          "text": [
            "Min pos:  tensor(0)\n",
            "Max pos:  tensor(9)\n"
          ]
        }
      ],
      "source": [
        "print(\"Min pos: \",x.argmin())\n",
        "print(\"Max pos: \",x.argmax())"
      ]
    },
    {
      "cell_type": "markdown",
      "metadata": {
        "id": "9ZleSZ1WfDGN"
      },
      "source": [
        "# Reshaping, sacking, squeezing and unsqueezing"
      ]
    },
    {
      "cell_type": "code",
      "execution_count": 40,
      "metadata": {
        "colab": {
          "base_uri": "https://localhost:8080/"
        },
        "id": "EbtmM9CxfQgu",
        "outputId": "667948bf-4937-43b1-e1cb-7c21cbcc1450"
      },
<<<<<<< HEAD
<<<<<<< HEAD
<<<<<<< HEAD
<<<<<<< HEAD
=======
      "execution_count": 39,
>>>>>>> 7df0bacd743f05348ee6b9ce42cecfff76bcd1b5
=======
      "execution_count": 36,
>>>>>>> parent of 7df0bac (Created using Colab)
=======
      "execution_count": 36,
>>>>>>> parent of 7df0bac (Created using Colab)
=======
      "execution_count": 113,
>>>>>>> parent of 7c7613f (Created using Colab)
      "outputs": [
        {
          "data": {
            "text/plain": [
              "(tensor([ 1.,  2.,  3.,  4.,  5.,  6.,  7.,  8.,  9., 10., 11., 12.]),\n",
              " torch.Size([12]))"
            ]
          },
          "execution_count": 40,
          "metadata": {},
<<<<<<< HEAD
<<<<<<< HEAD
<<<<<<< HEAD
<<<<<<< HEAD
          "output_type": "execute_result"
=======
          "execution_count": 39
>>>>>>> 7df0bacd743f05348ee6b9ce42cecfff76bcd1b5
=======
          "execution_count": 36
>>>>>>> parent of 7df0bac (Created using Colab)
=======
          "execution_count": 36
>>>>>>> parent of 7df0bac (Created using Colab)
=======
          "execution_count": 113
>>>>>>> parent of 7c7613f (Created using Colab)
        }
      ],
      "source": [
        "x = torch.arange(1.,13.)\n",
        "x,x.shape"
      ]
    },
    {
      "cell_type": "code",
      "execution_count": 41,
      "metadata": {
        "colab": {
          "base_uri": "https://localhost:8080/"
        },
        "id": "T5EsTYQXgGoj",
        "outputId": "2decee2c-6d26-4cdb-ca62-120c3edd883a"
      },
<<<<<<< HEAD
<<<<<<< HEAD
<<<<<<< HEAD
<<<<<<< HEAD
=======
      "execution_count": 40,
>>>>>>> 7df0bacd743f05348ee6b9ce42cecfff76bcd1b5
=======
      "execution_count": 37,
>>>>>>> parent of 7df0bac (Created using Colab)
=======
      "execution_count": 37,
>>>>>>> parent of 7df0bac (Created using Colab)
=======
      "execution_count": 114,
>>>>>>> parent of 7c7613f (Created using Colab)
      "outputs": [
        {
          "data": {
            "text/plain": [
              "(tensor([[ 1.,  2.],\n",
              "         [ 3.,  4.],\n",
              "         [ 5.,  6.],\n",
              "         [ 7.,  8.],\n",
              "         [ 9., 10.],\n",
              "         [11., 12.]]),\n",
              " torch.Size([6, 2]))"
            ]
          },
          "execution_count": 41,
          "metadata": {},
<<<<<<< HEAD
<<<<<<< HEAD
<<<<<<< HEAD
<<<<<<< HEAD
          "output_type": "execute_result"
=======
          "execution_count": 40
>>>>>>> 7df0bacd743f05348ee6b9ce42cecfff76bcd1b5
=======
          "execution_count": 37
>>>>>>> parent of 7df0bac (Created using Colab)
=======
          "execution_count": 37
>>>>>>> parent of 7df0bac (Created using Colab)
=======
          "execution_count": 114
>>>>>>> parent of 7c7613f (Created using Colab)
        }
      ],
      "source": [
        "x_reshaped = x.reshape(6,2)\n",
        "x_reshaped,x_reshaped.shape"
      ]
    },
    {
      "cell_type": "code",
      "execution_count": 42,
      "metadata": {
        "colab": {
          "base_uri": "https://localhost:8080/"
        },
        "id": "LofHM3rNgSfb",
        "outputId": "c52123ef-9a91-4999-dca6-106c8558f549"
      },
<<<<<<< HEAD
<<<<<<< HEAD
<<<<<<< HEAD
<<<<<<< HEAD
=======
      "execution_count": 41,
>>>>>>> 7df0bacd743f05348ee6b9ce42cecfff76bcd1b5
=======
      "execution_count": 38,
>>>>>>> parent of 7df0bac (Created using Colab)
=======
      "execution_count": 38,
>>>>>>> parent of 7df0bac (Created using Colab)
=======
      "execution_count": 115,
>>>>>>> parent of 7c7613f (Created using Colab)
      "outputs": [
        {
          "data": {
            "text/plain": [
              "(tensor([[ 1.,  2.,  3.,  4.,  5.,  6.,  7.,  8.,  9., 10., 11., 12.]]),\n",
              " torch.Size([1, 12]))"
            ]
          },
          "execution_count": 42,
          "metadata": {},
<<<<<<< HEAD
<<<<<<< HEAD
<<<<<<< HEAD
<<<<<<< HEAD
          "output_type": "execute_result"
=======
          "execution_count": 41
>>>>>>> 7df0bacd743f05348ee6b9ce42cecfff76bcd1b5
=======
          "execution_count": 38
>>>>>>> parent of 7df0bac (Created using Colab)
=======
          "execution_count": 38
>>>>>>> parent of 7df0bac (Created using Colab)
=======
          "execution_count": 115
>>>>>>> parent of 7c7613f (Created using Colab)
        }
      ],
      "source": [
        "#changing the view\n",
        "z = x.view(1,12)\n",
        "z,z.shape"
      ]
    },
    {
      "cell_type": "code",
      "execution_count": 43,
      "metadata": {
        "colab": {
          "base_uri": "https://localhost:8080/"
        },
        "id": "isEdNPmPg6Zp",
        "outputId": "86fba03e-908a-4907-ddfd-e650d77cabf3"
      },
<<<<<<< HEAD
<<<<<<< HEAD
<<<<<<< HEAD
<<<<<<< HEAD
=======
      "execution_count": 42,
>>>>>>> 7df0bacd743f05348ee6b9ce42cecfff76bcd1b5
=======
      "execution_count": 39,
>>>>>>> parent of 7df0bac (Created using Colab)
=======
      "execution_count": 39,
>>>>>>> parent of 7df0bac (Created using Colab)
=======
      "execution_count": 116,
>>>>>>> parent of 7c7613f (Created using Colab)
      "outputs": [
        {
          "data": {
            "text/plain": [
              "(tensor([[ 5.,  2.,  3.,  4.,  5.,  6.,  7.,  8.,  9., 10., 11., 12.]]),\n",
              " tensor([ 5.,  2.,  3.,  4.,  5.,  6.,  7.,  8.,  9., 10., 11., 12.]))"
            ]
          },
          "execution_count": 43,
          "metadata": {},
<<<<<<< HEAD
<<<<<<< HEAD
<<<<<<< HEAD
<<<<<<< HEAD
          "output_type": "execute_result"
=======
          "execution_count": 42
>>>>>>> 7df0bacd743f05348ee6b9ce42cecfff76bcd1b5
=======
          "execution_count": 39
>>>>>>> parent of 7df0bac (Created using Colab)
=======
          "execution_count": 39
>>>>>>> parent of 7df0bac (Created using Colab)
=======
          "execution_count": 116
>>>>>>> parent of 7c7613f (Created using Colab)
        }
      ],
      "source": [
        "# changing z changes x\n",
        "z[:,0] = 5\n",
        "z,x"
      ]
    },
    {
      "cell_type": "code",
      "execution_count": 44,
      "metadata": {
        "colab": {
          "base_uri": "https://localhost:8080/"
        },
        "id": "VbQ7KdOnhKwR",
        "outputId": "8d9f4bab-a997-4558-8050-dacb3c7c3b73"
      },
<<<<<<< HEAD
<<<<<<< HEAD
<<<<<<< HEAD
<<<<<<< HEAD
=======
      "execution_count": 43,
>>>>>>> 7df0bacd743f05348ee6b9ce42cecfff76bcd1b5
=======
      "execution_count": 40,
>>>>>>> parent of 7df0bac (Created using Colab)
=======
      "execution_count": 40,
>>>>>>> parent of 7df0bac (Created using Colab)
=======
      "execution_count": 117,
>>>>>>> parent of 7c7613f (Created using Colab)
      "outputs": [
        {
          "data": {
            "text/plain": [
              "tensor([[ 5.,  2.,  3.,  4.,  5.,  6.,  7.,  8.,  9., 10., 11., 12.],\n",
              "        [ 5.,  2.,  3.,  4.,  5.,  6.,  7.,  8.,  9., 10., 11., 12.],\n",
              "        [ 5.,  2.,  3.,  4.,  5.,  6.,  7.,  8.,  9., 10., 11., 12.],\n",
              "        [ 5.,  2.,  3.,  4.,  5.,  6.,  7.,  8.,  9., 10., 11., 12.]])"
            ]
          },
          "execution_count": 44,
          "metadata": {},
<<<<<<< HEAD
<<<<<<< HEAD
<<<<<<< HEAD
<<<<<<< HEAD
          "output_type": "execute_result"
=======
          "execution_count": 43
>>>>>>> 7df0bacd743f05348ee6b9ce42cecfff76bcd1b5
=======
          "execution_count": 40
>>>>>>> parent of 7df0bac (Created using Colab)
=======
          "execution_count": 40
>>>>>>> parent of 7df0bac (Created using Colab)
=======
          "execution_count": 117
>>>>>>> parent of 7c7613f (Created using Colab)
        }
      ],
      "source": [
        "#Stacking\n",
        "x_stacked = torch.stack([x,x,x,x],dim=0)\n",
        "x_stacked"
      ]
    },
    {
      "cell_type": "code",
      "execution_count": 45,
      "metadata": {
        "colab": {
          "base_uri": "https://localhost:8080/"
        },
        "id": "OUJwJk9lhTyY",
        "outputId": "8f60d529-937f-4b2b-84ef-f86f15913325"
      },
<<<<<<< HEAD
<<<<<<< HEAD
<<<<<<< HEAD
<<<<<<< HEAD
=======
      "execution_count": 44,
>>>>>>> 7df0bacd743f05348ee6b9ce42cecfff76bcd1b5
=======
      "execution_count": 41,
>>>>>>> parent of 7df0bac (Created using Colab)
=======
      "execution_count": 41,
>>>>>>> parent of 7df0bac (Created using Colab)
=======
      "execution_count": 118,
>>>>>>> parent of 7c7613f (Created using Colab)
      "outputs": [
        {
          "name": "stdout",
          "output_type": "stream",
          "text": [
            "tensor([[ 5.,  2.],\n",
            "        [ 3.,  4.],\n",
            "        [ 5.,  6.],\n",
            "        [ 7.,  8.],\n",
            "        [ 9., 10.],\n",
            "        [11., 12.]])\n",
            "tensor([[ 5.,  2.,  3.,  4.,  5.,  6.,  7.,  8.,  9., 10., 11., 12.]])\n"
          ]
        },
        {
          "data": {
            "text/plain": [
              "tensor([ 5.,  2.,  3.,  4.,  5.,  6.,  7.,  8.,  9., 10., 11., 12.])"
            ]
          },
          "execution_count": 45,
          "metadata": {},
<<<<<<< HEAD
<<<<<<< HEAD
<<<<<<< HEAD
<<<<<<< HEAD
          "output_type": "execute_result"
=======
          "execution_count": 44
>>>>>>> 7df0bacd743f05348ee6b9ce42cecfff76bcd1b5
=======
          "execution_count": 41
>>>>>>> parent of 7df0bac (Created using Colab)
=======
          "execution_count": 41
>>>>>>> parent of 7df0bac (Created using Colab)
=======
          "execution_count": 118
>>>>>>> parent of 7c7613f (Created using Colab)
        }
      ],
      "source": [
        "#squeeze\n",
        "print (x_reshaped)\n",
        "x_reshaped = x_reshaped.reshape(1,12)\n",
        "print(x_reshaped)\n",
        "x_squeezed = x_reshaped.squeeze()\n",
        "x_squeezed"
      ]
    },
    {
      "cell_type": "code",
      "execution_count": 46,
      "metadata": {
        "colab": {
          "base_uri": "https://localhost:8080/"
        },
        "id": "cEqBaB79h8GO",
        "outputId": "fea92070-a849-4c65-aef0-15cea1ac04ba"
      },
<<<<<<< HEAD
<<<<<<< HEAD
<<<<<<< HEAD
<<<<<<< HEAD
=======
      "execution_count": 45,
>>>>>>> 7df0bacd743f05348ee6b9ce42cecfff76bcd1b5
=======
      "execution_count": 42,
>>>>>>> parent of 7df0bac (Created using Colab)
=======
      "execution_count": 42,
>>>>>>> parent of 7df0bac (Created using Colab)
=======
      "execution_count": 119,
>>>>>>> parent of 7c7613f (Created using Colab)
      "outputs": [
        {
          "data": {
            "text/plain": [
              "tensor([[ 5.,  2.,  3.,  4.,  5.,  6.,  7.,  8.,  9., 10., 11., 12.]])"
            ]
          },
          "execution_count": 46,
          "metadata": {},
<<<<<<< HEAD
<<<<<<< HEAD
<<<<<<< HEAD
<<<<<<< HEAD
          "output_type": "execute_result"
=======
          "execution_count": 45
>>>>>>> 7df0bacd743f05348ee6b9ce42cecfff76bcd1b5
=======
          "execution_count": 42
>>>>>>> parent of 7df0bac (Created using Colab)
=======
          "execution_count": 42
>>>>>>> parent of 7df0bac (Created using Colab)
=======
          "execution_count": 119
>>>>>>> parent of 7c7613f (Created using Colab)
        }
      ],
      "source": [
        "#unsqueeze\n",
        "x_unsqueezed = x_squeezed.unsqueeze(dim=0)\n",
        "x_unsqueezed"
      ]
    },
    {
      "cell_type": "code",
      "execution_count": 47,
      "metadata": {
        "colab": {
          "base_uri": "https://localhost:8080/"
        },
        "id": "LkGVtoITibdH",
        "outputId": "bc72dcea-6ee8-49b9-8770-654994eddeef"
      },
<<<<<<< HEAD
<<<<<<< HEAD
<<<<<<< HEAD
<<<<<<< HEAD
=======
      "execution_count": 46,
>>>>>>> 7df0bacd743f05348ee6b9ce42cecfff76bcd1b5
=======
      "execution_count": 43,
>>>>>>> parent of 7df0bac (Created using Colab)
=======
      "execution_count": 43,
>>>>>>> parent of 7df0bac (Created using Colab)
=======
      "execution_count": 120,
>>>>>>> parent of 7c7613f (Created using Colab)
      "outputs": [
        {
          "data": {
            "text/plain": [
              "torch.Size([224, 224, 3])"
            ]
          },
          "execution_count": 47,
          "metadata": {},
<<<<<<< HEAD
<<<<<<< HEAD
<<<<<<< HEAD
<<<<<<< HEAD
          "output_type": "execute_result"
=======
          "execution_count": 46
>>>>>>> 7df0bacd743f05348ee6b9ce42cecfff76bcd1b5
=======
          "execution_count": 43
>>>>>>> parent of 7df0bac (Created using Colab)
=======
          "execution_count": 43
>>>>>>> parent of 7df0bac (Created using Colab)
=======
          "execution_count": 120
>>>>>>> parent of 7c7613f (Created using Colab)
        }
      ],
      "source": [
        "#permute\n",
        "x_original = torch.rand(size=(224,224,3))\n",
        "x_original.shape"
      ]
    },
    {
      "cell_type": "code",
      "execution_count": 48,
      "metadata": {
        "colab": {
          "base_uri": "https://localhost:8080/"
        },
        "id": "rZaSCH7-ifvw",
        "outputId": "9adde9a9-8f39-4f37-f8ab-ca2b18a477a9"
      },
<<<<<<< HEAD
<<<<<<< HEAD
<<<<<<< HEAD
<<<<<<< HEAD
=======
      "execution_count": 47,
>>>>>>> 7df0bacd743f05348ee6b9ce42cecfff76bcd1b5
=======
      "execution_count": 44,
>>>>>>> parent of 7df0bac (Created using Colab)
=======
      "execution_count": 44,
>>>>>>> parent of 7df0bac (Created using Colab)
=======
      "execution_count": 121,
>>>>>>> parent of 7c7613f (Created using Colab)
      "outputs": [
        {
          "data": {
            "text/plain": [
              "torch.Size([3, 224, 224])"
            ]
          },
          "execution_count": 48,
          "metadata": {},
<<<<<<< HEAD
<<<<<<< HEAD
<<<<<<< HEAD
<<<<<<< HEAD
          "output_type": "execute_result"
=======
          "execution_count": 47
>>>>>>> 7df0bacd743f05348ee6b9ce42cecfff76bcd1b5
=======
          "execution_count": 44
>>>>>>> parent of 7df0bac (Created using Colab)
=======
          "execution_count": 44
>>>>>>> parent of 7df0bac (Created using Colab)
=======
          "execution_count": 121
>>>>>>> parent of 7c7613f (Created using Colab)
        }
      ],
      "source": [
        "x_permuted = x_original.permute(2,0,1)\n",
        "x_permuted.shape"
      ]
    },
    {
<<<<<<< HEAD
      "cell_type": "markdown",
      "metadata": {
        "id": "Poq2jpaKLv4M"
      },
      "source": [
        "# Indexing (Selecting data from tensor)"
      ]
    },
    {
      "cell_type": "code",
      "execution_count": 49,
      "metadata": {
        "colab": {
          "base_uri": "https://localhost:8080/"
        },
        "id": "D2I804SmLvhD",
        "outputId": "e4750c12-93d4-4f8e-9755-d9b84adcc7fb"
      },
<<<<<<< HEAD
<<<<<<< HEAD
<<<<<<< HEAD
=======
      "execution_count": 48,
>>>>>>> 7df0bacd743f05348ee6b9ce42cecfff76bcd1b5
=======
      "execution_count": 46,
>>>>>>> parent of 7df0bac (Created using Colab)
=======
      "execution_count": 46,
>>>>>>> parent of 7df0bac (Created using Colab)
      "outputs": [
        {
          "data": {
            "text/plain": [
              "(tensor([[[1, 2, 3],\n",
              "          [4, 5, 6],\n",
              "          [7, 8, 9]]]),\n",
              " torch.Size([1, 3, 3]))"
            ]
          },
          "execution_count": 49,
          "metadata": {},
<<<<<<< HEAD
<<<<<<< HEAD
<<<<<<< HEAD
          "output_type": "execute_result"
=======
          "execution_count": 48
>>>>>>> 7df0bacd743f05348ee6b9ce42cecfff76bcd1b5
=======
          "execution_count": 46
>>>>>>> parent of 7df0bac (Created using Colab)
=======
          "execution_count": 46
>>>>>>> parent of 7df0bac (Created using Colab)
        }
      ],
      "source": [
        "x = torch.arange(1,10).reshape(1,3,3)\n",
        "x,x.shape"
      ]
    },
    {
      "cell_type": "code",
      "execution_count": 50,
      "metadata": {
        "colab": {
          "base_uri": "https://localhost:8080/"
        },
<<<<<<< HEAD
<<<<<<< HEAD
<<<<<<< HEAD
        "id": "LmUKEMhrik1F",
        "outputId": "2fb0ea76-83bc-4570-99d3-051e6cd47559"
      },
=======
        "outputId": "6f47812b-8934-4038-89b5-2a83051c92bb"
      },
      "execution_count": 49,
>>>>>>> 7df0bacd743f05348ee6b9ce42cecfff76bcd1b5
=======
        "outputId": "2fb0ea76-83bc-4570-99d3-051e6cd47559"
      },
      "execution_count": 47,
>>>>>>> parent of 7df0bac (Created using Colab)
=======
        "outputId": "2fb0ea76-83bc-4570-99d3-051e6cd47559"
      },
      "execution_count": 47,
>>>>>>> parent of 7df0bac (Created using Colab)
      "outputs": [
        {
          "data": {
            "text/plain": [
              "tensor([[1, 2, 3],\n",
              "        [4, 5, 6],\n",
              "        [7, 8, 9]])"
            ]
          },
          "execution_count": 50,
          "metadata": {},
<<<<<<< HEAD
<<<<<<< HEAD
<<<<<<< HEAD
          "output_type": "execute_result"
=======
          "execution_count": 49
>>>>>>> 7df0bacd743f05348ee6b9ce42cecfff76bcd1b5
=======
          "execution_count": 47
>>>>>>> parent of 7df0bac (Created using Colab)
=======
          "execution_count": 47
>>>>>>> parent of 7df0bac (Created using Colab)
        }
      ],
      "source": [
        "x[0]"
      ]
    },
    {
      "cell_type": "code",
      "execution_count": 51,
      "metadata": {
        "colab": {
          "base_uri": "https://localhost:8080/"
        },
        "id": "EHY6jqteMKsL",
        "outputId": "48b2fd80-208c-46af-d830-89ba71c8902f"
      },
<<<<<<< HEAD
<<<<<<< HEAD
<<<<<<< HEAD
=======
      "execution_count": 50,
>>>>>>> 7df0bacd743f05348ee6b9ce42cecfff76bcd1b5
=======
      "execution_count": 48,
>>>>>>> parent of 7df0bac (Created using Colab)
=======
      "execution_count": 48,
>>>>>>> parent of 7df0bac (Created using Colab)
      "outputs": [
        {
          "data": {
            "text/plain": [
              "tensor([1, 2, 3])"
            ]
          },
          "execution_count": 51,
          "metadata": {},
<<<<<<< HEAD
<<<<<<< HEAD
<<<<<<< HEAD
          "output_type": "execute_result"
=======
          "execution_count": 50
>>>>>>> 7df0bacd743f05348ee6b9ce42cecfff76bcd1b5
=======
          "execution_count": 48
>>>>>>> parent of 7df0bac (Created using Colab)
=======
          "execution_count": 48
>>>>>>> parent of 7df0bac (Created using Colab)
        }
      ],
      "source": [
        "x[0][0]"
      ]
    },
    {
      "cell_type": "code",
      "execution_count": 52,
      "metadata": {
        "colab": {
          "base_uri": "https://localhost:8080/"
        },
        "id": "-RWo3LkuMOVV",
        "outputId": "fe7614f2-e1cf-43e1-c294-36cdb63ce5c4"
      },
<<<<<<< HEAD
<<<<<<< HEAD
<<<<<<< HEAD
=======
      "execution_count": 51,
>>>>>>> 7df0bacd743f05348ee6b9ce42cecfff76bcd1b5
=======
      "execution_count": 49,
>>>>>>> parent of 7df0bac (Created using Colab)
=======
      "execution_count": 49,
>>>>>>> parent of 7df0bac (Created using Colab)
      "outputs": [
        {
          "data": {
            "text/plain": [
              "tensor(1)"
            ]
          },
          "execution_count": 52,
          "metadata": {},
<<<<<<< HEAD
<<<<<<< HEAD
<<<<<<< HEAD
          "output_type": "execute_result"
=======
          "execution_count": 51
>>>>>>> 7df0bacd743f05348ee6b9ce42cecfff76bcd1b5
=======
          "execution_count": 49
>>>>>>> parent of 7df0bac (Created using Colab)
=======
          "execution_count": 49
>>>>>>> parent of 7df0bac (Created using Colab)
        }
      ],
      "source": [
        "x[0][0][0]"
      ]
    },
    {
      "cell_type": "code",
      "execution_count": 53,
      "metadata": {
        "colab": {
          "base_uri": "https://localhost:8080/"
        },
        "id": "8SvJjp_WMSMX",
        "outputId": "9164eb41-7c91-4455-8790-1fa9c03d7e44"
      },
<<<<<<< HEAD
<<<<<<< HEAD
<<<<<<< HEAD
=======
      "execution_count": 52,
>>>>>>> 7df0bacd743f05348ee6b9ce42cecfff76bcd1b5
=======
      "execution_count": 51,
>>>>>>> parent of 7df0bac (Created using Colab)
=======
      "execution_count": 51,
>>>>>>> parent of 7df0bac (Created using Colab)
      "outputs": [
        {
          "data": {
            "text/plain": [
              "tensor([[7, 8, 9]])"
            ]
          },
          "execution_count": 53,
          "metadata": {},
<<<<<<< HEAD
<<<<<<< HEAD
<<<<<<< HEAD
          "output_type": "execute_result"
=======
          "execution_count": 52
>>>>>>> 7df0bacd743f05348ee6b9ce42cecfff76bcd1b5
=======
          "execution_count": 51
>>>>>>> parent of 7df0bac (Created using Colab)
=======
          "execution_count": 51
>>>>>>> parent of 7df0bac (Created using Colab)
        }
      ],
      "source": [
        "x[:,2]"
      ]
    },
    {
      "cell_type": "code",
      "execution_count": 54,
      "metadata": {
        "colab": {
          "base_uri": "https://localhost:8080/"
        },
        "id": "jar4hVmOMh5X",
        "outputId": "8745e209-aaea-42be-fbcd-2378891a51a2"
      },
<<<<<<< HEAD
<<<<<<< HEAD
<<<<<<< HEAD
=======
      "execution_count": 53,
>>>>>>> 7df0bacd743f05348ee6b9ce42cecfff76bcd1b5
=======
      "execution_count": 52,
>>>>>>> parent of 7df0bac (Created using Colab)
=======
      "execution_count": 52,
>>>>>>> parent of 7df0bac (Created using Colab)
      "outputs": [
        {
          "data": {
            "text/plain": [
              "tensor([[2, 5, 8]])"
            ]
          },
          "execution_count": 54,
          "metadata": {},
<<<<<<< HEAD
<<<<<<< HEAD
<<<<<<< HEAD
          "output_type": "execute_result"
=======
          "execution_count": 53
>>>>>>> 7df0bacd743f05348ee6b9ce42cecfff76bcd1b5
=======
          "execution_count": 52
>>>>>>> parent of 7df0bac (Created using Colab)
=======
          "execution_count": 52
>>>>>>> parent of 7df0bac (Created using Colab)
        }
      ],
      "source": [
        "x[:,:,1]"
      ]
    },
    {
      "cell_type": "code",
      "execution_count": 55,
      "metadata": {
        "colab": {
          "base_uri": "https://localhost:8080/"
        },
        "id": "xmqsN3RcMoeO",
        "outputId": "d4c09378-9802-4e38-e0bd-91b1204954f3"
      },
<<<<<<< HEAD
<<<<<<< HEAD
<<<<<<< HEAD
=======
      "execution_count": 54,
>>>>>>> 7df0bacd743f05348ee6b9ce42cecfff76bcd1b5
=======
      "execution_count": 57,
>>>>>>> parent of 7df0bac (Created using Colab)
=======
      "execution_count": 57,
>>>>>>> parent of 7df0bac (Created using Colab)
      "outputs": [
        {
          "data": {
            "text/plain": [
              "tensor([5])"
            ]
          },
          "execution_count": 55,
          "metadata": {},
<<<<<<< HEAD
<<<<<<< HEAD
<<<<<<< HEAD
          "output_type": "execute_result"
=======
          "execution_count": 54
>>>>>>> 7df0bacd743f05348ee6b9ce42cecfff76bcd1b5
=======
          "execution_count": 57
>>>>>>> parent of 7df0bac (Created using Colab)
=======
          "execution_count": 57
>>>>>>> parent of 7df0bac (Created using Colab)
        }
      ],
      "source": [
        "x[:,1,1]"
      ]
    },
    {
      "cell_type": "markdown",
      "metadata": {
        "id": "7u4RiIsRNx1p"
      },
      "source": [
        "## PyTorch tensor and NumPy"
      ]
    },
    {
      "cell_type": "code",
      "execution_count": 56,
      "metadata": {
        "colab": {
          "base_uri": "https://localhost:8080/"
        },
        "id": "lkaHnvSlM0Ft",
        "outputId": "e52dab75-58f5-4e63-ecf8-c08c6cdec8b5"
      },
<<<<<<< HEAD
<<<<<<< HEAD
<<<<<<< HEAD
=======
      "execution_count": 55,
>>>>>>> 7df0bacd743f05348ee6b9ce42cecfff76bcd1b5
=======
      "execution_count": 58,
>>>>>>> parent of 7df0bac (Created using Colab)
=======
      "execution_count": 58,
>>>>>>> parent of 7df0bac (Created using Colab)
      "outputs": [
        {
          "data": {
            "text/plain": [
              "(array([1., 2., 3., 4., 5., 6., 7.]),\n",
              " tensor([1., 2., 3., 4., 5., 6., 7.], dtype=torch.float64))"
            ]
          },
          "execution_count": 56,
          "metadata": {},
<<<<<<< HEAD
<<<<<<< HEAD
<<<<<<< HEAD
          "output_type": "execute_result"
=======
          "execution_count": 55
>>>>>>> 7df0bacd743f05348ee6b9ce42cecfff76bcd1b5
=======
          "execution_count": 58
>>>>>>> parent of 7df0bac (Created using Colab)
=======
          "execution_count": 58
>>>>>>> parent of 7df0bac (Created using Colab)
        }
      ],
      "source": [
        "#NumPy arr to Tensors\n",
        "array = np.arange(1.0,8.0)\n",
        "tensor = torch.from_numpy(array)\n",
        "array,tensor"
      ]
    },
    {
      "cell_type": "markdown",
      "metadata": {
        "id": "Hd1TzEvyPIbw"
      },
      "source": [
        "# Reproducbility"
      ]
    },
    {
      "cell_type": "code",
      "execution_count": 57,
      "metadata": {
        "colab": {
          "base_uri": "https://localhost:8080/"
        },
        "id": "PRo-1WZ7Ofhk",
        "outputId": "14914d75-34b6-42ee-f5e3-746b951f6ecc"
      },
<<<<<<< HEAD
<<<<<<< HEAD
=======
      "execution_count": 56,
>>>>>>> 7df0bacd743f05348ee6b9ce42cecfff76bcd1b5
=======
      "execution_count": 61,
>>>>>>> parent of 7df0bac (Created using Colab)
      "outputs": [
        {
          "name": "stdout",
          "output_type": "stream",
          "text": [
<<<<<<< HEAD
<<<<<<< HEAD
            "tensor([[0.5199, 0.6624, 0.1158, 0.6271],\n",
            "        [0.2643, 0.1837, 0.7430, 0.5605],\n",
            "        [0.6783, 0.7117, 0.2313, 0.7904]])\n",
            "tensor([[0.0457, 0.0274, 0.2871, 0.9550],\n",
            "        [0.3203, 0.1607, 0.1208, 0.5600],\n",
            "        [0.9864, 0.5996, 0.7245, 0.8183]])\n",
=======
            "tensor([[0.5527, 0.0093, 0.4139, 0.1552],\n",
            "        [0.6930, 0.6984, 0.9492, 0.5784],\n",
            "        [0.9673, 0.7580, 0.4352, 0.5020]])\n",
            "tensor([[0.2210, 0.2898, 0.1604, 0.7409],\n",
            "        [0.4807, 0.9687, 0.3524, 0.9186],\n",
            "        [0.1001, 0.0655, 0.4527, 0.4771]])\n",
>>>>>>> 7df0bacd743f05348ee6b9ce42cecfff76bcd1b5
=======
            "tensor([[0.5178, 0.8702, 0.3783, 0.2519],\n",
            "        [0.6478, 0.4301, 0.3315, 0.0259],\n",
            "        [0.8952, 0.5951, 0.6630, 0.5176]])\n",
            "tensor([[0.2705, 0.3757, 0.8396, 0.6060],\n",
            "        [0.4612, 0.1924, 0.8504, 0.0856],\n",
            "        [0.5542, 0.8061, 0.2655, 0.3330]])\n",
>>>>>>> parent of 7df0bac (Created using Colab)
            "tensor([[False, False, False, False],\n",
            "        [False, False, False, False],\n",
            "        [False, False, False, False]])\n"
          ]
        }
      ],
      "source": [
        "#creating random tensor\n",
        "tensora = torch.rand(3,4)\n",
        "tensorb = torch.rand(3,4)\n",
        "print(tensora)\n",
        "print(tensorb)\n",
        "print(tensora==tensorb)"
<<<<<<< HEAD
=======
      ],
      "metadata": {
        "colab": {
          "base_uri": "https://localhost:8080/"
        },
        "id": "PRo-1WZ7Ofhk",
        "outputId": "14914d75-34b6-42ee-f5e3-746b951f6ecc"
      },
      "execution_count": 61,
      "outputs": [
        {
          "output_type": "stream",
          "name": "stdout",
          "text": [
            "tensor([[0.5178, 0.8702, 0.3783, 0.2519],\n",
            "        [0.6478, 0.4301, 0.3315, 0.0259],\n",
            "        [0.8952, 0.5951, 0.6630, 0.5176]])\n",
            "tensor([[0.2705, 0.3757, 0.8396, 0.6060],\n",
            "        [0.4612, 0.1924, 0.8504, 0.0856],\n",
            "        [0.5542, 0.8061, 0.2655, 0.3330]])\n",
            "tensor([[False, False, False, False],\n",
            "        [False, False, False, False],\n",
            "        [False, False, False, False]])\n"
          ]
        }
>>>>>>> parent of 7df0bac (Created using Colab)
      ]
    },
    {
      "cell_type": "code",
      "execution_count": 58,
      "metadata": {
        "colab": {
          "base_uri": "https://localhost:8080/"
        },
        "id": "wQfaeedgZfBN",
        "outputId": "804641fc-09a8-47ee-9976-376b8b1a8719"
      },
<<<<<<< HEAD
<<<<<<< HEAD
<<<<<<< HEAD
=======
      "execution_count": 57,
>>>>>>> 7df0bacd743f05348ee6b9ce42cecfff76bcd1b5
=======
      "execution_count": 65,
>>>>>>> parent of 7df0bac (Created using Colab)
=======
      "execution_count": 65,
>>>>>>> parent of 7df0bac (Created using Colab)
      "outputs": [
        {
          "name": "stdout",
          "output_type": "stream",
          "text": [
            "tensor([[0.8823, 0.9150, 0.3829, 0.9593],\n",
            "        [0.3904, 0.6009, 0.2566, 0.7936],\n",
            "        [0.9408, 0.1332, 0.9346, 0.5936]])\n",
            "tensor([[0.8823, 0.9150, 0.3829, 0.9593],\n",
            "        [0.3904, 0.6009, 0.2566, 0.7936],\n",
            "        [0.9408, 0.1332, 0.9346, 0.5936]])\n",
            "tensor([[True, True, True, True],\n",
            "        [True, True, True, True],\n",
            "        [True, True, True, True]])\n"
          ]
        }
      ],
      "source": [
        "#Set the random seed\n",
        "RANDOM_SEED = 42\n",
        "torch.manual_seed(RANDOM_SEED)\n",
        "random_tensor_c = torch.rand(3,4)\n",
        "torch.manual_seed(RANDOM_SEED)\n",
        "random_tensor_d = torch.rand(3,4)\n",
        "print(random_tensor_c)\n",
        "print(random_tensor_d)\n",
        "print(random_tensor_c==random_tensor_d)"
      ]
    },
    {
      "cell_type": "code",
      "execution_count": 59,
      "metadata": {
        "colab": {
          "base_uri": "https://localhost:8080/"
        },
        "id": "tcl_d-QrZe8V",
        "outputId": "d59ee6c7-80c5-4823-dfdf-8a63e339e569"
      },
<<<<<<< HEAD
<<<<<<< HEAD
<<<<<<< HEAD
=======
      "execution_count": 58,
>>>>>>> 7df0bacd743f05348ee6b9ce42cecfff76bcd1b5
=======
      "execution_count": 67,
>>>>>>> parent of 7df0bac (Created using Colab)
=======
      "execution_count": 67,
>>>>>>> parent of 7df0bac (Created using Colab)
      "outputs": [
        {
          "data": {
            "text/plain": [
<<<<<<< HEAD
<<<<<<< HEAD
<<<<<<< HEAD
              "<torch._C.Generator at 0x215c8fc2950>"
=======
              "<torch._C.Generator at 0x7aa74a1d4a70>"
>>>>>>> 7df0bacd743f05348ee6b9ce42cecfff76bcd1b5
=======
              "<torch._C.Generator at 0x7b22f810c910>"
>>>>>>> parent of 7df0bac (Created using Colab)
=======
              "<torch._C.Generator at 0x7b22f810c910>"
>>>>>>> parent of 7df0bac (Created using Colab)
            ]
          },
          "execution_count": 59,
          "metadata": {},
<<<<<<< HEAD
<<<<<<< HEAD
<<<<<<< HEAD
          "output_type": "execute_result"
=======
          "execution_count": 58
>>>>>>> 7df0bacd743f05348ee6b9ce42cecfff76bcd1b5
=======
          "execution_count": 67
>>>>>>> parent of 7df0bac (Created using Colab)
=======
          "execution_count": 67
>>>>>>> parent of 7df0bac (Created using Colab)
        }
      ],
      "source": [
        "torch.manual_seed(RANDOM_SEED)"
      ]
    },
    {
      "cell_type": "markdown",
      "metadata": {
        "id": "ZEYQkCk9csEq"
      },
      "source": [
        "# Running code on GPUs\n",
        "Makes the computation faster"
      ]
    },
    {
=======
>>>>>>> parent of 7c7613f (Created using Colab)
      "cell_type": "code",
<<<<<<< HEAD
<<<<<<< HEAD
<<<<<<< HEAD
      "execution_count": 60,
=======
      "source": [
        "torch.cuda.is_available()"
      ],
>>>>>>> 7df0bacd743f05348ee6b9ce42cecfff76bcd1b5
=======
      "source": [],
>>>>>>> parent of 7df0bac (Created using Colab)
      "metadata": {
        "id": "Yg76zGipcq1n"
      },
<<<<<<< HEAD
<<<<<<< HEAD
      "outputs": [
        {
=======
      "execution_count": 59,
      "outputs": [
        {
          "output_type": "execute_result",
>>>>>>> 7df0bacd743f05348ee6b9ce42cecfff76bcd1b5
          "data": {
            "text/plain": [
              "True"
            ]
          },
<<<<<<< HEAD
          "execution_count": 60,
          "metadata": {},
          "output_type": "execute_result"
        }
      ],
      "source": [
        "torch.cuda.is_available()"
=======
          "metadata": {},
          "execution_count": 59
        }
>>>>>>> 7df0bacd743f05348ee6b9ce42cecfff76bcd1b5
      ]
=======
      "execution_count": null,
      "outputs": []
>>>>>>> parent of 7df0bac (Created using Colab)
=======
      "source": [],
      "metadata": {
<<<<<<< HEAD
        "id": "Yg76zGipcq1n"
      },
      "execution_count": null,
      "outputs": []
>>>>>>> parent of 7df0bac (Created using Colab)
    },
    {
      "cell_type": "code",
      "execution_count": null,
      "metadata": {
        "id": "XPqObIzfcjAl"
=======
        "id": "LmUKEMhrik1F"
>>>>>>> parent of 7c7613f (Created using Colab)
      },
      "outputs": [],
      "source": []
    }
  ],
  "metadata": {
    "colab": {
      "authorship_tag": "ABX9TyMlUwSC1NZZBEen75wZZjHR",
      "include_colab_link": true,
      "provenance": []
    },
    "kernelspec": {
      "display_name": "Python 3",
      "name": "python3"
    },
    "language_info": {
      "codemirror_mode": {
        "name": "ipython",
        "version": 3
      },
      "file_extension": ".py",
      "mimetype": "text/x-python",
      "name": "python",
      "nbconvert_exporter": "python",
      "pygments_lexer": "ipython3",
      "version": "3.12.2"
    }
  },
  "nbformat": 4,
  "nbformat_minor": 0
}
