{
  "cells": [
    {
      "cell_type": "code",
      "execution_count": 1,
      "metadata": {
        "colab": {
          "base_uri": "https://localhost:8080/"
        },
        "id": "I0D0EPR3wHF_",
        "outputId": "d8ca45a5-63ad-4499-aa0a-02f3f6914995"
      },
      "outputs": [
        {
          "name": "stdout",
          "output_type": "stream",
          "text": [
            "Sat Jul 20 10:23:51 2024       \n",
            "+-----------------------------------------------------------------------------------------+\n",
            "| NVIDIA-SMI 556.12                 Driver Version: 556.12         CUDA Version: 12.5     |\n",
            "|-----------------------------------------+------------------------+----------------------+\n",
            "| GPU  Name                  Driver-Model | Bus-Id          Disp.A | Volatile Uncorr. ECC |\n",
            "| Fan  Temp   Perf          Pwr:Usage/Cap |           Memory-Usage | GPU-Util  Compute M. |\n",
            "|                                         |                        |               MIG M. |\n",
            "|=========================================+========================+======================|\n",
            "|   0  NVIDIA GeForce RTX 3050 ...  WDDM  |   00000000:01:00.0 Off |                  N/A |\n",
            "| N/A   58C    P0             14W /   75W |     414MiB /   4096MiB |     15%      Default |\n",
            "|                                         |                        |                  N/A |\n",
            "+-----------------------------------------+------------------------+----------------------+\n",
            "                                                                                         \n",
            "+-----------------------------------------------------------------------------------------+\n",
            "| Processes:                                                                              |\n",
            "|  GPU   GI   CI        PID   Type   Process name                              GPU Memory |\n",
            "|        ID   ID                                                               Usage      |\n",
            "|=========================================================================================|\n",
            "|    0   N/A  N/A      8660    C+G   ...ekyb3d8bbwe\\PhoneExperienceHost.exe      N/A      |\n",
            "|    0   N/A  N/A     13592    C+G   ...n\\126.0.2592.113\\msedgewebview2.exe      N/A      |\n",
            "|    0   N/A  N/A     14040    C+G   ...US\\ArmouryDevice\\asus_framework.exe      N/A      |\n",
            "|    0   N/A  N/A     16440    C+G   ...CBS_cw5n1h2txyewy\\TextInputHost.exe      N/A      |\n",
            "|    0   N/A  N/A     16960    C+G   ...Desktop\\app-3.4.2\\GitHubDesktop.exe      N/A      |\n",
            "|    0   N/A  N/A     17800    C+G   ...t.LockApp_cw5n1h2txyewy\\LockApp.exe      N/A      |\n",
            "|    0   N/A  N/A     17952    C+G   ...nt.CBS_cw5n1h2txyewy\\SearchHost.exe      N/A      |\n",
            "|    0   N/A  N/A     19780    C+G   ...8.0_x64__cv1g1gvanyjgm\\WhatsApp.exe      N/A      |\n",
            "|    0   N/A  N/A     20956    C+G   ...__8wekyb3d8bbwe\\WindowsTerminal.exe      N/A      |\n",
            "|    0   N/A  N/A     21472    C+G   ...x64__qmba6cd70vzyy\\ArmouryCrate.exe      N/A      |\n",
            "|    0   N/A  N/A     25520    C+G   ...2txyewy\\StartMenuExperienceHost.exe      N/A      |\n",
            "|    0   N/A  N/A     26300    C+G   ...Programs\\Microsoft VS Code\\Code.exe      N/A      |\n",
            "|    0   N/A  N/A     29080    C+G   ...Brave-Browser\\Application\\brave.exe      N/A      |\n",
            "+-----------------------------------------------------------------------------------------+\n"
          ]
        }
      ],
      "source": [
        "!nvidia-smi"
      ]
    },
    {
      "cell_type": "code",
      "execution_count": 2,
      "metadata": {
        "colab": {
          "base_uri": "https://localhost:8080/",
          "height": 35
        },
        "id": "qAMkLySbxjv9",
        "outputId": "9725f4e7-8897-4718-c452-5734b9b908d3"
      },
      "outputs": [
        {
          "data": {
            "text/plain": [
              "'2.3.1+cu121'"
            ]
          },
          "execution_count": 2,
          "metadata": {},
          "output_type": "execute_result"
        }
      ],
      "source": [
        "import torch\n",
        "import pandas as pd\n",
        "import numpy as np\n",
        "import matplotlib.pyplot as plt\n",
        "torch.__version__"
      ]
    },
    {
      "cell_type": "markdown",
      "metadata": {
        "id": "Kte0TIxwy6qe"
      },
      "source": [
        "### Introduction to Tensors\n",
        "  Creating Tensors"
      ]
    },
    {
      "cell_type": "code",
      "execution_count": 3,
      "metadata": {
        "colab": {
          "base_uri": "https://localhost:8080/"
        },
        "id": "FS78d2lsypXy",
        "outputId": "3626112f-b06a-424e-8a8a-79a24b62b0dd"
      },
      "outputs": [
        {
          "data": {
            "text/plain": [
              "tensor(7)"
            ]
          },
          "execution_count": 3,
          "metadata": {},
          "output_type": "execute_result"
        }
      ],
      "source": [
        "#scalar\n",
        "scalar = torch.tensor(7)\n",
        "scalar"
      ]
    },
    {
      "cell_type": "code",
      "execution_count": 4,
      "metadata": {
        "colab": {
          "base_uri": "https://localhost:8080/"
        },
        "id": "UlkUxMde33Xz",
        "outputId": "392c7523-0d9a-484a-a17c-dcb22fd0bdd6"
      },
      "outputs": [
        {
          "data": {
            "text/plain": [
              "0"
            ]
          },
          "execution_count": 4,
          "metadata": {},
          "output_type": "execute_result"
        }
      ],
      "source": [
        "scalar.ndim"
      ]
    },
    {
      "cell_type": "code",
      "execution_count": 5,
      "metadata": {
        "colab": {
          "base_uri": "https://localhost:8080/"
        },
        "id": "CLGPCOm74PMk",
        "outputId": "d93ddd02-8083-4cf7-8a49-75c3141b4682"
      },
      "outputs": [
        {
          "data": {
            "text/plain": [
              "7"
            ]
          },
          "execution_count": 5,
          "metadata": {},
          "output_type": "execute_result"
        }
      ],
      "source": [
        "scalar.item()"
      ]
    },
    {
      "cell_type": "code",
      "execution_count": 6,
      "metadata": {
        "colab": {
          "base_uri": "https://localhost:8080/"
        },
        "id": "nyUqoQ2X4UNS",
        "outputId": "477058d3-8fba-47ea-9438-c26af30424b6"
      },
      "outputs": [
        {
          "data": {
            "text/plain": [
              "tensor([7, 7])"
            ]
          },
          "execution_count": 6,
          "metadata": {},
          "output_type": "execute_result"
        }
      ],
      "source": [
        "vector = torch.tensor([7,7])\n",
        "vector"
      ]
    },
    {
      "cell_type": "code",
      "execution_count": 7,
      "metadata": {
        "colab": {
          "base_uri": "https://localhost:8080/"
        },
        "id": "ieZlGWwZ4mcD",
        "outputId": "7f02354f-da86-4017-c5f6-471f45a15aa8"
      },
      "outputs": [
        {
          "data": {
            "text/plain": [
              "1"
            ]
          },
          "execution_count": 7,
          "metadata": {},
          "output_type": "execute_result"
        }
      ],
      "source": [
        "vector.ndim"
      ]
    },
    {
      "cell_type": "code",
      "execution_count": 8,
      "metadata": {
        "colab": {
          "base_uri": "https://localhost:8080/"
        },
        "id": "N48lSUQE4qTw",
        "outputId": "33b26d9a-1733-4558-e305-9f9a82b91be5"
      },
      "outputs": [
        {
          "data": {
            "text/plain": [
              "torch.Size([2])"
            ]
          },
          "execution_count": 8,
          "metadata": {},
          "output_type": "execute_result"
        }
      ],
      "source": [
        "vector.shape"
      ]
    },
    {
      "cell_type": "code",
      "execution_count": 9,
      "metadata": {
        "colab": {
          "base_uri": "https://localhost:8080/"
        },
        "id": "q1ZybgaO4u5-",
        "outputId": "1af74b87-974e-451b-db70-dce65bd57a61"
      },
      "outputs": [
        {
          "data": {
            "text/plain": [
              "tensor([[ 7,  8],\n",
              "        [ 9, 10]])"
            ]
          },
          "execution_count": 9,
          "metadata": {},
          "output_type": "execute_result"
        }
      ],
      "source": [
        "#Matrix\n",
        "\n",
        "matrix = torch.tensor([[7,8],\n",
        "                      [9,10]])\n",
        "matrix"
      ]
    },
    {
      "cell_type": "code",
      "execution_count": 10,
      "metadata": {
        "colab": {
          "base_uri": "https://localhost:8080/"
        },
        "id": "f8tq7n6j5adV",
        "outputId": "a74da87b-2860-44a4-cb97-793eb9d3f9eb"
      },
      "outputs": [
        {
          "data": {
            "text/plain": [
              "2"
            ]
          },
          "execution_count": 10,
          "metadata": {},
          "output_type": "execute_result"
        }
      ],
      "source": [
        "matrix.ndim"
      ]
    },
    {
      "cell_type": "code",
      "execution_count": 11,
      "metadata": {
        "colab": {
          "base_uri": "https://localhost:8080/"
        },
        "id": "IHcZIwtM5c5b",
        "outputId": "95ab29df-0f8f-4c29-91af-8c6b7d1bf1eb"
      },
      "outputs": [
        {
          "data": {
            "text/plain": [
              "tensor([ 9, 10])"
            ]
          },
          "execution_count": 11,
          "metadata": {},
          "output_type": "execute_result"
        }
      ],
      "source": [
        "matrix[1]"
      ]
    },
    {
      "cell_type": "code",
      "execution_count": 12,
      "metadata": {
        "colab": {
          "base_uri": "https://localhost:8080/"
        },
        "id": "iv08Na9I5kLY",
        "outputId": "9ba8978b-7495-4684-e1d5-ee60298e1561"
      },
      "outputs": [
        {
          "data": {
            "text/plain": [
              "torch.Size([2, 2])"
            ]
          },
          "execution_count": 12,
          "metadata": {},
          "output_type": "execute_result"
        }
      ],
      "source": [
        "matrix.shape"
      ]
    },
    {
      "cell_type": "code",
      "execution_count": 13,
      "metadata": {
        "colab": {
          "base_uri": "https://localhost:8080/"
        },
        "id": "Hcn2GMS0FO6R",
        "outputId": "13bbca96-e45d-4c12-c71f-db99e0641fbd"
      },
      "outputs": [
        {
          "data": {
            "text/plain": [
              "tensor([[[1, 2, 3],\n",
              "         [3, 6, 9],\n",
              "         [2, 4, 5]]])"
            ]
          },
          "execution_count": 13,
          "metadata": {},
          "output_type": "execute_result"
        }
      ],
      "source": [
        "#TENSOR\n",
        "\n",
        "TENSOR = torch.tensor([[\n",
        "    [1,2,3],\n",
        "    [3,6,9],\n",
        "    [2,4,5]\n",
        "]])\n",
        "\n",
        "TENSOR"
      ]
    },
    {
      "cell_type": "code",
      "execution_count": 14,
      "metadata": {
        "colab": {
          "base_uri": "https://localhost:8080/"
        },
        "id": "u22TmPORFmBT",
        "outputId": "777b01f2-a2ee-45e8-c58d-c48da15e7031"
      },
      "outputs": [
        {
          "data": {
            "text/plain": [
              "3"
            ]
          },
          "execution_count": 14,
          "metadata": {},
          "output_type": "execute_result"
        }
      ],
      "source": [
        "TENSOR.ndim"
      ]
    },
    {
      "cell_type": "code",
      "execution_count": 15,
      "metadata": {
        "colab": {
          "base_uri": "https://localhost:8080/"
        },
        "id": "VOs-n6ZNFph1",
        "outputId": "eb850e10-92a8-4d6a-fe71-e99157ba5ab0"
      },
      "outputs": [
        {
          "data": {
            "text/plain": [
              "torch.Size([1, 3, 3])"
            ]
          },
          "execution_count": 15,
          "metadata": {},
          "output_type": "execute_result"
        }
      ],
      "source": [
        "TENSOR.shape"
      ]
    },
    {
      "cell_type": "code",
      "execution_count": 16,
      "metadata": {
        "colab": {
          "base_uri": "https://localhost:8080/"
        },
        "id": "Fowm67ZUFwvY",
        "outputId": "d94a8ed7-cd62-48c2-dca9-ee709cfadb84"
      },
      "outputs": [
        {
          "data": {
            "text/plain": [
              "tensor([[1, 2, 3],\n",
              "        [3, 6, 9],\n",
              "        [2, 4, 5]])"
            ]
          },
          "execution_count": 16,
          "metadata": {},
          "output_type": "execute_result"
        }
      ],
      "source": [
        "TENSOR[0]"
      ]
    },
    {
      "cell_type": "markdown",
      "metadata": {
        "id": "cTBpwDnEG4gM"
      },
      "source": [
        "# Using Random Tensors!"
      ]
    },
    {
      "cell_type": "code",
      "execution_count": 17,
      "metadata": {
        "colab": {
          "base_uri": "https://localhost:8080/"
        },
        "id": "5msz5DzKG818",
        "outputId": "5b23a0f1-3425-4042-eb75-91cfd6ebbbc1"
      },
      "outputs": [
        {
          "data": {
            "text/plain": [
              "tensor([[0.4818, 0.6030, 0.7718, 0.2009],\n",
              "        [0.1203, 0.3002, 0.8894, 0.3395],\n",
              "        [0.7608, 0.5421, 0.1306, 0.1010]])"
            ]
          },
          "execution_count": 17,
          "metadata": {},
          "output_type": "execute_result"
        }
      ],
      "source": [
        "#creating a random tensor size (3,4)\n",
        "\n",
        "random_tensor = torch.rand(3,4)\n",
        "random_tensor"
      ]
    },
    {
      "cell_type": "code",
      "execution_count": 18,
      "metadata": {
        "colab": {
          "base_uri": "https://localhost:8080/"
        },
        "id": "UEeBCOx5HjG7",
        "outputId": "50bd88a5-e7f1-40ac-ad29-90338a122bae"
      },
      "outputs": [
        {
          "data": {
            "text/plain": [
              "tensor([[[4.3908e-01, 2.9842e-01, 1.9783e-01, 9.2173e-01, 4.7173e-01,\n",
              "          9.5473e-01, 4.6631e-01, 9.5536e-01, 9.4331e-01, 4.0815e-02],\n",
              "         [7.1037e-01, 8.1769e-01, 7.0629e-01, 6.8197e-01, 3.1877e-01,\n",
              "          2.2318e-01, 1.6812e-01, 3.5469e-02, 9.5208e-01, 2.3691e-01],\n",
              "         [3.6869e-01, 7.3766e-01, 4.5267e-01, 7.0032e-01, 8.5627e-02,\n",
              "          5.1850e-01, 5.0212e-01, 2.9993e-01, 3.6671e-01, 3.2754e-01],\n",
              "         [3.7149e-01, 3.2421e-01, 3.5276e-01, 7.7696e-01, 4.9577e-01,\n",
              "          2.3186e-01, 9.3287e-02, 8.9519e-01, 4.6904e-01, 6.4806e-01],\n",
              "         [4.8753e-01, 1.2097e-01, 7.1258e-01, 1.2801e-01, 9.7862e-01,\n",
              "          1.0344e-01, 2.0462e-01, 5.8081e-01, 6.7634e-01, 2.4880e-01],\n",
              "         [8.4437e-02, 2.4211e-01, 6.5772e-01, 1.8393e-01, 4.3148e-01,\n",
              "          1.0455e-01, 4.0979e-01, 2.8522e-01, 5.7935e-01, 1.0172e-01],\n",
              "         [2.3878e-01, 4.5680e-02, 8.4886e-02, 9.5099e-01, 9.5131e-01,\n",
              "          9.5683e-02, 7.1535e-01, 3.4925e-01, 4.9948e-01, 8.8551e-01],\n",
              "         [9.6414e-01, 5.4591e-02, 9.8835e-01, 8.4208e-01, 4.6055e-01,\n",
              "          2.6644e-01, 4.7982e-01, 5.8528e-01, 6.4397e-01, 1.8474e-01],\n",
              "         [3.7539e-01, 6.9965e-01, 2.1511e-01, 2.9175e-02, 6.5145e-01,\n",
              "          7.5855e-01, 8.9061e-01, 2.3850e-01, 5.7783e-01, 8.8488e-01],\n",
              "         [1.1209e-01, 7.9943e-01, 8.3957e-01, 2.2752e-01, 1.7109e-01,\n",
              "          1.8425e-02, 7.8364e-01, 1.9228e-01, 8.8769e-01, 3.4968e-01]],\n",
              "\n",
              "        [[4.0620e-02, 9.5064e-01, 6.6667e-01, 6.9652e-02, 5.7741e-02,\n",
              "          8.7676e-01, 8.2000e-01, 8.4283e-01, 9.8578e-01, 6.1654e-03],\n",
              "         [3.1382e-01, 9.0395e-01, 2.3152e-02, 8.1918e-01, 4.5425e-01,\n",
              "          1.7306e-01, 7.3737e-01, 3.9350e-01, 8.6166e-01, 7.7255e-03],\n",
              "         [5.1460e-01, 9.3785e-01, 5.8797e-03, 8.5649e-01, 4.0172e-01,\n",
              "          4.3345e-01, 1.6308e-01, 8.5898e-01, 2.1825e-01, 7.1041e-01],\n",
              "         [9.4844e-01, 9.9936e-01, 2.0776e-01, 1.4128e-01, 8.1260e-02,\n",
              "          4.6917e-01, 5.3274e-01, 8.7549e-01, 1.3538e-01, 9.6875e-02],\n",
              "         [3.7962e-01, 9.3854e-01, 5.9502e-01, 4.6212e-01, 3.0859e-01,\n",
              "          7.2209e-01, 3.6881e-01, 7.8234e-01, 7.3313e-01, 8.8040e-01],\n",
              "         [3.1757e-02, 1.7381e-01, 3.9024e-01, 4.8390e-01, 7.6293e-01,\n",
              "          8.8980e-01, 4.9283e-01, 1.0506e-01, 7.8432e-01, 1.5887e-01],\n",
              "         [4.7024e-01, 6.9248e-01, 4.0929e-01, 4.7011e-02, 5.2311e-01,\n",
              "          3.3835e-02, 3.8296e-02, 9.6003e-01, 4.8531e-01, 2.2180e-01],\n",
              "         [1.7706e-01, 3.2879e-01, 2.2554e-01, 6.3602e-01, 4.8918e-01,\n",
              "          7.1052e-01, 4.4390e-01, 2.0876e-01, 3.7611e-01, 3.2085e-01],\n",
              "         [9.0225e-01, 7.8654e-01, 9.7309e-01, 1.4274e-01, 1.4251e-01,\n",
              "          4.2021e-01, 1.7812e-01, 9.3380e-01, 1.7428e-01, 8.4168e-01],\n",
              "         [7.1491e-01, 8.9855e-01, 7.1628e-01, 2.1638e-01, 8.9622e-01,\n",
              "          8.3343e-01, 6.2696e-02, 3.0746e-01, 4.7548e-01, 5.3608e-01]],\n",
              "\n",
              "        [[2.6966e-01, 8.7403e-02, 5.3753e-01, 3.1693e-01, 2.7412e-02,\n",
              "          9.5879e-01, 8.7888e-01, 8.3693e-01, 7.0359e-01, 6.5588e-01],\n",
              "         [1.8957e-01, 7.7763e-01, 7.0880e-01, 8.1181e-01, 2.8447e-01,\n",
              "          1.2928e-01, 9.3983e-01, 8.3546e-01, 4.8259e-01, 5.0384e-01],\n",
              "         [6.3470e-01, 7.1357e-01, 4.9329e-01, 3.2986e-01, 2.2617e-01,\n",
              "          6.0273e-01, 5.5846e-01, 1.1525e-01, 5.5139e-01, 1.6237e-01],\n",
              "         [5.1678e-03, 7.7444e-01, 8.6233e-01, 8.8327e-01, 7.0604e-01,\n",
              "          1.9630e-02, 9.1102e-01, 5.0719e-01, 5.5831e-01, 6.3992e-02],\n",
              "         [2.4919e-01, 4.5134e-01, 8.5500e-01, 8.8957e-01, 8.7343e-01,\n",
              "          9.5761e-01, 3.0634e-01, 4.7405e-02, 1.9650e-02, 5.4083e-01],\n",
              "         [4.0089e-01, 5.6900e-01, 6.0689e-02, 3.3401e-01, 3.7008e-01,\n",
              "          7.9201e-01, 8.3019e-01, 5.8303e-01, 2.2199e-01, 4.1257e-01],\n",
              "         [2.3309e-01, 7.9393e-02, 7.7552e-01, 4.7349e-01, 6.3253e-01,\n",
              "          2.6792e-01, 4.5793e-01, 6.9513e-01, 3.0035e-01, 6.9621e-01],\n",
              "         [3.7241e-01, 1.6029e-01, 2.6509e-01, 5.8994e-02, 1.2138e-01,\n",
              "          6.3584e-01, 6.1884e-01, 9.1315e-01, 5.7980e-01, 2.3427e-01],\n",
              "         [3.3902e-01, 4.6011e-01, 8.9411e-03, 1.8716e-01, 2.7826e-01,\n",
              "          6.9721e-01, 7.3123e-01, 3.6077e-01, 3.4525e-01, 5.3729e-01],\n",
              "         [7.2971e-01, 4.3595e-01, 9.1475e-01, 4.7655e-01, 8.7853e-01,\n",
              "          6.4327e-01, 8.1267e-01, 8.6286e-01, 5.0954e-01, 6.7938e-01]],\n",
              "\n",
              "        [[7.8345e-01, 6.3646e-01, 8.0159e-01, 7.1988e-01, 7.6227e-01,\n",
              "          8.6958e-01, 5.3031e-01, 8.8601e-01, 1.1905e-01, 8.9698e-01],\n",
              "         [3.9658e-01, 5.9929e-01, 7.2815e-01, 9.8821e-01, 6.6544e-01,\n",
              "          6.6643e-01, 9.5815e-01, 5.6985e-01, 5.6998e-01, 5.6726e-01],\n",
              "         [7.9880e-01, 6.2345e-01, 4.2166e-01, 8.6548e-01, 6.9540e-01,\n",
              "          5.3430e-01, 8.2365e-01, 1.9561e-01, 3.4274e-01, 4.1013e-02],\n",
              "         [7.3221e-01, 8.5184e-01, 6.5864e-01, 7.5422e-01, 5.4898e-01,\n",
              "          5.3688e-01, 1.8583e-01, 9.4023e-01, 8.0890e-01, 4.4511e-01],\n",
              "         [5.7505e-01, 3.0077e-01, 2.5971e-01, 3.3609e-01, 8.8714e-01,\n",
              "          7.8870e-02, 2.9010e-01, 1.2655e-01, 4.1717e-01, 6.1097e-01],\n",
              "         [2.4315e-01, 3.3198e-01, 2.3917e-01, 3.3573e-01, 6.9062e-01,\n",
              "          8.5174e-01, 9.7667e-01, 6.3127e-02, 5.4885e-01, 2.3050e-01],\n",
              "         [3.4241e-01, 2.0835e-01, 6.7506e-01, 7.0201e-01, 5.5762e-01,\n",
              "          4.6465e-02, 9.1671e-01, 4.4018e-01, 6.3898e-01, 4.9209e-01],\n",
              "         [4.5360e-01, 3.4249e-01, 2.3416e-01, 2.6389e-01, 7.6183e-01,\n",
              "          6.4286e-01, 3.5150e-01, 4.3721e-01, 9.9112e-01, 8.3498e-01],\n",
              "         [4.8438e-01, 8.5510e-01, 7.0657e-01, 9.4011e-01, 9.5057e-01,\n",
              "          3.9482e-02, 3.9546e-01, 4.7209e-01, 9.5319e-01, 4.4972e-01],\n",
              "         [4.7581e-02, 4.0581e-01, 3.5475e-02, 1.7771e-01, 8.3240e-01,\n",
              "          7.8800e-01, 5.9089e-01, 6.8027e-01, 1.2840e-01, 6.9477e-01]],\n",
              "\n",
              "        [[5.0408e-01, 4.0928e-01, 6.5937e-01, 5.3834e-01, 2.8638e-01,\n",
              "          9.4224e-01, 2.1543e-02, 2.6023e-01, 1.2529e-01, 3.0493e-01],\n",
              "         [9.8835e-02, 7.9198e-01, 1.0095e-01, 3.2460e-01, 1.7130e-01,\n",
              "          8.4680e-01, 3.7968e-01, 8.1212e-01, 7.2721e-01, 1.4515e-01],\n",
              "         [1.8085e-02, 5.4281e-01, 2.1512e-01, 9.2507e-01, 5.9695e-01,\n",
              "          1.5400e-01, 6.5424e-01, 1.7848e-01, 7.1000e-01, 9.0111e-01],\n",
              "         [4.6138e-01, 2.2107e-01, 5.5956e-01, 6.4282e-01, 4.3593e-01,\n",
              "          6.4788e-01, 6.8375e-02, 2.0675e-01, 2.0406e-01, 1.2702e-01],\n",
              "         [5.4945e-01, 7.5782e-01, 9.4466e-01, 4.3021e-01, 9.7928e-01,\n",
              "          1.5497e-05, 5.1976e-02, 6.2331e-01, 6.0159e-01, 6.0150e-01],\n",
              "         [5.8136e-01, 3.3254e-01, 6.8579e-01, 3.7748e-01, 9.8397e-01,\n",
              "          3.6147e-01, 4.0890e-01, 5.4450e-01, 3.5985e-01, 6.9581e-01],\n",
              "         [9.1249e-01, 3.7140e-01, 7.5151e-01, 5.2804e-01, 8.0871e-01,\n",
              "          1.1138e-01, 1.7297e-01, 3.4831e-01, 2.3819e-01, 6.2725e-01],\n",
              "         [4.5948e-01, 5.1420e-01, 4.4430e-01, 9.7380e-01, 8.8826e-01,\n",
              "          1.6325e-02, 3.9716e-01, 3.5400e-01, 8.9511e-01, 9.8451e-01],\n",
              "         [6.3197e-01, 2.8530e-01, 6.0842e-01, 2.9462e-01, 7.5859e-01,\n",
              "          2.3225e-01, 8.4142e-01, 3.4274e-01, 5.7200e-01, 8.5240e-02],\n",
              "         [2.3634e-01, 2.9453e-01, 9.8064e-01, 2.3298e-01, 1.2619e-02,\n",
              "          3.5602e-02, 2.6305e-01, 4.3676e-01, 4.6079e-01, 6.7858e-01]],\n",
              "\n",
              "        [[7.7080e-01, 4.6513e-01, 6.5843e-01, 3.5764e-01, 5.4951e-01,\n",
              "          3.6894e-01, 3.5909e-01, 4.2707e-01, 7.9515e-01, 9.7951e-01],\n",
              "         [2.7304e-01, 6.8030e-01, 1.9754e-01, 2.6566e-01, 6.9711e-01,\n",
              "          7.8803e-01, 4.3252e-01, 5.7606e-01, 3.1613e-01, 7.9480e-01],\n",
              "         [9.9676e-01, 6.1665e-01, 4.4190e-01, 8.6947e-01, 7.9385e-01,\n",
              "          5.2418e-01, 5.1593e-01, 7.6934e-01, 7.6063e-01, 6.0398e-01],\n",
              "         [1.5385e-01, 7.2123e-01, 3.2913e-01, 4.4137e-01, 4.4556e-01,\n",
              "          5.2871e-01, 1.0348e-01, 5.0935e-01, 9.3535e-01, 4.6018e-01],\n",
              "         [1.3443e-01, 2.5151e-01, 4.2734e-01, 7.9060e-01, 8.9951e-02,\n",
              "          6.8119e-01, 9.3804e-01, 9.5187e-02, 8.9726e-01, 9.6155e-01],\n",
              "         [7.3689e-01, 8.6430e-01, 1.3087e-01, 6.8201e-02, 6.8409e-01,\n",
              "          4.3709e-01, 3.3064e-01, 7.7918e-01, 8.9942e-02, 8.2015e-01],\n",
              "         [3.7974e-01, 3.6199e-01, 7.6860e-01, 5.4694e-01, 8.9716e-01,\n",
              "          8.7974e-01, 1.1571e-01, 8.4944e-01, 4.1990e-01, 1.7222e-01],\n",
              "         [4.5039e-01, 7.2892e-01, 3.8941e-01, 2.7596e-01, 6.1159e-02,\n",
              "          2.1647e-01, 2.9168e-01, 8.5106e-01, 8.8860e-01, 7.9381e-01],\n",
              "         [1.4492e-02, 6.4355e-01, 1.4286e-01, 3.0056e-01, 7.7207e-01,\n",
              "          5.3914e-01, 3.3545e-02, 8.3324e-02, 6.1469e-01, 9.2360e-01],\n",
              "         [5.8796e-01, 4.4517e-01, 9.3068e-01, 7.4451e-01, 9.6055e-01,\n",
              "          7.2091e-01, 7.8011e-01, 6.1263e-01, 9.4310e-01, 6.8662e-02]],\n",
              "\n",
              "        [[3.5229e-02, 3.3003e-01, 8.5933e-01, 3.2111e-01, 5.6259e-01,\n",
              "          8.1897e-02, 9.5817e-01, 3.2081e-01, 5.9672e-01, 9.2629e-01],\n",
              "         [3.3691e-01, 1.8628e-01, 3.9805e-03, 1.7399e-01, 2.6290e-01,\n",
              "          8.3240e-01, 1.8760e-01, 9.0833e-01, 8.6518e-01, 2.4800e-01],\n",
              "         [9.5748e-01, 7.2836e-01, 4.6703e-01, 6.3823e-01, 9.4504e-01,\n",
              "          5.3760e-03, 1.7697e-01, 5.3215e-02, 9.1315e-01, 9.6054e-01],\n",
              "         [8.3073e-01, 6.5626e-01, 9.5616e-01, 5.8826e-01, 2.2901e-01,\n",
              "          8.2394e-01, 6.6368e-01, 9.7436e-01, 5.9080e-01, 8.1234e-01],\n",
              "         [5.3805e-01, 6.2097e-01, 4.2004e-01, 1.2397e-01, 6.6918e-01,\n",
              "          3.1146e-01, 4.5408e-01, 1.9519e-01, 2.9303e-01, 5.2698e-01],\n",
              "         [7.6972e-01, 7.6432e-01, 2.6015e-01, 3.0403e-02, 2.0362e-01,\n",
              "          1.2568e-01, 6.8905e-01, 4.0556e-01, 9.8467e-01, 2.8064e-01],\n",
              "         [2.1726e-01, 5.7573e-01, 6.0468e-01, 4.3988e-01, 1.4611e-01,\n",
              "          6.3642e-01, 5.2303e-01, 7.5605e-01, 9.9073e-01, 8.2994e-01],\n",
              "         [3.5599e-01, 2.0551e-01, 4.3927e-01, 4.2734e-01, 9.8337e-01,\n",
              "          6.0601e-01, 3.2801e-01, 1.0317e-01, 4.7172e-01, 9.7960e-01],\n",
              "         [5.2901e-02, 8.0590e-01, 4.9108e-01, 2.8526e-01, 8.2085e-01,\n",
              "          3.6391e-01, 1.9717e-01, 8.3608e-01, 4.2548e-01, 5.2777e-01],\n",
              "         [7.7630e-01, 4.2712e-01, 1.4406e-03, 1.6508e-03, 7.9606e-01,\n",
              "          9.7603e-01, 1.1754e-01, 5.7407e-01, 1.7355e-01, 8.0437e-01]],\n",
              "\n",
              "        [[8.3615e-01, 9.5999e-01, 3.5562e-01, 5.1842e-01, 8.9989e-01,\n",
              "          1.9757e-01, 2.7963e-01, 3.0764e-01, 2.1763e-01, 4.2827e-01],\n",
              "         [2.2751e-01, 9.3769e-01, 2.1140e-01, 2.7829e-01, 1.2273e-02,\n",
              "          4.2525e-01, 5.7871e-01, 7.9433e-01, 2.4797e-01, 8.1816e-01],\n",
              "         [8.1396e-01, 6.7213e-01, 4.4071e-01, 3.5250e-01, 6.8966e-01,\n",
              "          7.0898e-01, 2.9014e-01, 3.7110e-01, 7.1719e-01, 7.6151e-01],\n",
              "         [7.9403e-01, 6.9902e-01, 5.2169e-01, 8.2815e-01, 6.1388e-01,\n",
              "          5.5460e-01, 4.8988e-01, 1.5339e-01, 2.2537e-01, 9.7807e-01],\n",
              "         [5.7231e-01, 7.4405e-01, 2.8997e-01, 5.8816e-01, 8.2094e-01,\n",
              "          4.4815e-01, 8.6870e-01, 9.1181e-01, 6.1321e-01, 9.3454e-01],\n",
              "         [6.0138e-01, 2.0253e-01, 4.8033e-01, 4.7018e-01, 5.5147e-01,\n",
              "          3.8233e-02, 5.5609e-01, 1.4710e-01, 3.7134e-01, 7.1141e-01],\n",
              "         [6.5617e-01, 6.0005e-02, 8.8062e-01, 5.4462e-01, 5.5158e-01,\n",
              "          6.7640e-01, 8.1978e-01, 8.1915e-01, 6.8699e-01, 4.2406e-01],\n",
              "         [2.8335e-01, 2.9829e-01, 7.4945e-01, 5.6727e-01, 3.3628e-01,\n",
              "          9.4412e-02, 3.1450e-01, 2.3498e-01, 6.3453e-01, 3.2234e-02],\n",
              "         [9.8155e-01, 3.7077e-01, 3.4211e-01, 6.7803e-01, 9.5562e-01,\n",
              "          7.5901e-01, 9.9864e-01, 1.3754e-01, 4.9349e-01, 3.4384e-01],\n",
              "         [1.5024e-01, 8.6219e-01, 3.4700e-01, 2.4342e-01, 7.7856e-01,\n",
              "          8.1268e-01, 1.2613e-01, 5.0463e-01, 4.2936e-01, 9.1454e-01]],\n",
              "\n",
              "        [[5.2632e-01, 7.3550e-01, 5.9416e-01, 2.3741e-01, 5.4249e-02,\n",
              "          7.1160e-01, 7.3043e-01, 8.5432e-01, 4.2077e-01, 1.1702e-01],\n",
              "         [2.0873e-01, 3.6483e-01, 7.8085e-02, 4.2771e-01, 7.5098e-01,\n",
              "          9.5443e-01, 1.5573e-02, 8.1666e-02, 8.6527e-01, 6.2433e-01],\n",
              "         [1.9115e-02, 8.7334e-01, 4.0936e-01, 4.4733e-01, 3.5333e-01,\n",
              "          3.2593e-01, 4.6668e-01, 7.5457e-01, 2.9199e-01, 3.3057e-01],\n",
              "         [1.2804e-01, 5.7664e-01, 2.0628e-01, 7.5168e-01, 2.5710e-01,\n",
              "          7.1174e-01, 8.8614e-01, 4.1650e-01, 4.1846e-02, 6.3633e-01],\n",
              "         [8.1790e-01, 5.8123e-03, 3.3558e-01, 9.5242e-02, 2.6822e-01,\n",
              "          8.3402e-02, 5.0917e-01, 9.2295e-01, 3.1785e-01, 2.6902e-01],\n",
              "         [8.0489e-01, 4.0479e-01, 1.7195e-01, 3.2455e-01, 1.2169e-01,\n",
              "          4.0062e-01, 5.7468e-01, 2.3102e-01, 1.2938e-01, 5.9358e-01],\n",
              "         [7.2937e-01, 5.8212e-01, 3.1973e-01, 6.7807e-01, 9.0800e-01,\n",
              "          5.1559e-02, 5.8346e-01, 3.1956e-01, 1.5894e-01, 2.8959e-01],\n",
              "         [3.9162e-01, 5.0222e-01, 3.1364e-01, 9.4661e-01, 8.6429e-01,\n",
              "          4.3948e-02, 2.0367e-01, 2.4037e-01, 8.5090e-01, 5.2013e-01],\n",
              "         [9.0032e-01, 2.7762e-01, 1.8822e-01, 5.0690e-01, 9.9224e-01,\n",
              "          4.9888e-01, 8.5866e-01, 4.7703e-01, 6.0112e-01, 6.4230e-02],\n",
              "         [9.5117e-02, 5.5480e-01, 9.0911e-01, 4.5757e-01, 4.0024e-01,\n",
              "          4.6326e-01, 7.1355e-01, 8.1470e-01, 8.3535e-01, 5.3440e-01]],\n",
              "\n",
              "        [[1.8569e-01, 9.9444e-01, 6.5402e-01, 6.9992e-01, 9.5843e-01,\n",
              "          6.7419e-01, 1.3209e-01, 5.8603e-01, 8.0045e-01, 4.7462e-01],\n",
              "         [4.2994e-01, 5.1070e-01, 4.7866e-02, 8.5689e-01, 7.2642e-01,\n",
              "          7.7023e-02, 5.0292e-01, 2.2272e-01, 3.5278e-01, 3.1825e-01],\n",
              "         [4.8296e-01, 3.3819e-01, 2.2475e-01, 5.2502e-01, 5.7634e-01,\n",
              "          5.2203e-01, 1.2352e-01, 2.0904e-02, 1.7278e-01, 3.2267e-01],\n",
              "         [3.3469e-01, 7.0866e-01, 8.5900e-01, 1.3547e-01, 1.2947e-01,\n",
              "          5.8869e-01, 7.2568e-02, 6.2237e-01, 7.7938e-01, 4.9499e-01],\n",
              "         [4.3525e-01, 5.8893e-01, 7.8545e-01, 4.7793e-01, 7.1861e-01,\n",
              "          1.8959e-01, 7.6978e-01, 6.1004e-02, 3.0049e-01, 6.4020e-01],\n",
              "         [4.1908e-01, 8.0955e-01, 1.8321e-01, 4.6636e-01, 5.0765e-01,\n",
              "          6.0601e-01, 8.1539e-01, 1.1741e-01, 1.2704e-01, 8.5258e-01],\n",
              "         [9.5155e-01, 2.7983e-01, 5.2482e-01, 9.2271e-01, 4.5975e-01,\n",
              "          4.7350e-02, 1.5485e-01, 3.4977e-01, 9.8310e-02, 8.1025e-01],\n",
              "         [5.5499e-01, 7.9032e-01, 1.2728e-01, 9.5655e-01, 7.5804e-01,\n",
              "          2.3840e-01, 2.5243e-01, 2.1066e-01, 2.6452e-01, 2.1408e-01],\n",
              "         [6.5242e-01, 4.7299e-01, 8.7022e-01, 5.2528e-03, 3.6504e-01,\n",
              "          7.3265e-01, 5.7128e-01, 4.3236e-01, 4.8880e-01, 1.5098e-01],\n",
              "         [9.4820e-01, 4.2360e-01, 3.6938e-01, 4.4157e-01, 6.0862e-01,\n",
              "          7.6210e-01, 3.1811e-01, 7.0769e-01, 9.2090e-01, 1.6755e-01]]])"
            ]
          },
          "execution_count": 18,
          "metadata": {},
          "output_type": "execute_result"
        }
      ],
      "source": [
        "random_tensor2 = torch.rand(10,10,10)\n",
        "random_tensor2"
      ]
    },
    {
      "cell_type": "code",
      "execution_count": 19,
      "metadata": {
        "colab": {
          "base_uri": "https://localhost:8080/"
        },
        "id": "DEs01KJNHtj4",
        "outputId": "3187ce6e-19bb-45cd-d128-635f6d915ee2"
      },
      "outputs": [
        {
          "data": {
            "text/plain": [
              "(torch.Size([224, 224, 3]), 3)"
            ]
          },
          "execution_count": 19,
          "metadata": {},
          "output_type": "execute_result"
        }
      ],
      "source": [
        "#create a random tensor with similar shape to an image tensor\n",
        "\n",
        "random_image_size_tensor = torch.rand(size=(224,224,3)) #height, width, color channels\n",
        "random_image_size_tensor.shape, random_image_size_tensor.ndim"
      ]
    },
    {
      "cell_type": "markdown",
      "metadata": {
        "id": "o1oxzp-FI2Pk"
      },
      "source": [
        "#ZEROs and ONEs Tensor\n"
      ]
    },
    {
      "cell_type": "code",
      "execution_count": 20,
      "metadata": {
        "colab": {
          "base_uri": "https://localhost:8080/"
        },
        "id": "WXxuCKNfJWnM",
        "outputId": "5dd22b06-704b-42c2-8b65-82b59eec7f09"
      },
      "outputs": [
        {
          "data": {
            "text/plain": [
              "tensor([[0., 0., 0., 0.],\n",
              "        [0., 0., 0., 0.],\n",
              "        [0., 0., 0., 0.]])"
            ]
          },
          "execution_count": 20,
          "metadata": {},
          "output_type": "execute_result"
        }
      ],
      "source": [
        "zero = torch.zeros(size=(3,4))\n",
        "zero"
      ]
    },
    {
      "cell_type": "code",
      "execution_count": 21,
      "metadata": {
        "colab": {
          "base_uri": "https://localhost:8080/"
        },
        "id": "0DSHDXJRJYdH",
        "outputId": "c0d13a0b-af4d-4fbf-adf1-6e835a83f82b"
      },
      "outputs": [
        {
          "data": {
            "text/plain": [
              "tensor([[1., 1., 1., 1.],\n",
              "        [1., 1., 1., 1.],\n",
              "        [1., 1., 1., 1.]])"
            ]
          },
          "execution_count": 21,
          "metadata": {},
          "output_type": "execute_result"
        }
      ],
      "source": [
        "ones = torch.ones(size=(3,4))\n",
        "ones"
      ]
    },
    {
      "cell_type": "code",
      "execution_count": 22,
      "metadata": {
        "colab": {
          "base_uri": "https://localhost:8080/"
        },
        "id": "3Feq2v6HJdjF",
        "outputId": "81386b8f-d1c8-49a6-8730-d6004708ed16"
      },
      "outputs": [
        {
          "data": {
            "text/plain": [
              "(torch.float32, torch.float32)"
            ]
          },
          "execution_count": 22,
          "metadata": {},
          "output_type": "execute_result"
        }
      ],
      "source": [
        "ones.dtype, random_image_size_tensor.dtype"
      ]
    },
    {
      "cell_type": "markdown",
      "metadata": {
        "id": "OU1TQagfJrIF"
      },
      "source": [
        "#Creating a range of Tensor"
      ]
    },
    {
      "cell_type": "code",
      "execution_count": 23,
      "metadata": {
        "colab": {
          "base_uri": "https://localhost:8080/"
        },
        "id": "zu4lEBNpJofs",
        "outputId": "36970bcd-a9f5-44ba-9557-28aff80af06b"
      },
      "outputs": [
        {
          "data": {
            "text/plain": [
              "tensor([ 1,  2,  3,  4,  5,  6,  7,  8,  9, 10])"
            ]
          },
          "execution_count": 23,
          "metadata": {},
          "output_type": "execute_result"
        }
      ],
      "source": [
        "torch.arange(1,11)"
      ]
    },
    {
      "cell_type": "markdown",
      "metadata": {
        "id": "7jXT0tqTLmhZ"
      },
      "source": [
        "#Getting info from tensors"
      ]
    },
    {
      "cell_type": "code",
      "execution_count": 24,
      "metadata": {
        "colab": {
          "base_uri": "https://localhost:8080/"
        },
        "id": "QIdcwZKVLlr_",
        "outputId": "160a0036-bcaa-45a0-a119-022cb41d89cd"
      },
      "outputs": [
        {
          "name": "stdout",
          "output_type": "stream",
          "text": [
            "tensor([[0.6127, 0.5961, 0.3858, 0.8670],\n",
            "        [0.3072, 0.2170, 0.6230, 0.0776],\n",
            "        [0.2370, 0.1269, 0.3815, 0.6535]])\n",
            "Datatype of tensor: torch.float32\n",
            "Shape of tensor: torch.Size([3, 4])\n"
          ]
        }
      ],
      "source": [
        "some_tensor=torch.rand(3,4)\n",
        "print(some_tensor)\n",
        "print(f\"Datatype of tensor: {some_tensor.dtype}\")\n",
        "print(f\"Shape of tensor: {some_tensor.shape}\")"
      ]
    },
    {
      "cell_type": "markdown",
      "metadata": {
        "id": "OkXWVLaDM98r"
      },
      "source": [
        "# Manipulating Tensors\n",
        "* Add\n",
        "* Sub\n",
        "* Mul\n",
        "* Div\n",
        "* Matrix Mul"
      ]
    },
    {
      "cell_type": "code",
      "execution_count": 25,
      "metadata": {
        "colab": {
          "base_uri": "https://localhost:8080/"
        },
        "id": "-NziTZSLNNdh",
        "outputId": "7f081fbf-abd4-4509-c95c-46a1f3dd0464"
      },
      "outputs": [
        {
          "name": "stdout",
          "output_type": "stream",
          "text": [
            "tensor([11, 12, 13])\n",
            "tensor([-9, -8, -7])\n",
            "tensor([10, 20, 30])\n",
            "tensor([0.1000, 0.2000, 0.3000])\n"
          ]
        }
      ],
      "source": [
        "#creating tensor and do operations\n",
        "tensor = torch.tensor([1,2,3])\n",
        "print(tensor + 10)\n",
        "print(tensor - 10)\n",
        "print(tensor * 10)\n",
        "print(tensor / 10)\n"
      ]
    },
    {
      "cell_type": "code",
      "execution_count": 26,
      "metadata": {
        "colab": {
          "base_uri": "https://localhost:8080/"
        },
        "id": "pyJlXGK1Nisw",
        "outputId": "2c295ec7-5964-4154-980e-6c447b172f76"
      },
      "outputs": [
        {
          "data": {
            "text/plain": [
              "tensor([11, 12, 13])"
            ]
          },
          "execution_count": 26,
          "metadata": {},
          "output_type": "execute_result"
        }
      ],
      "source": [
        "# or can use .add  or .operator()\n",
        "#ex\n",
        "tensor.add(10)"
      ]
    },
    {
      "cell_type": "markdown",
      "metadata": {
        "id": "XaCM_SrNOI6r"
      },
      "source": [
        "#Matrix Multiplication"
      ]
    },
    {
      "cell_type": "code",
      "execution_count": 29,
      "metadata": {
        "colab": {
          "base_uri": "https://localhost:8080/"
        },
        "id": "y1JeWw7JOH5i",
        "outputId": "3ded9e17-843e-452f-e3c5-9fca302b9ede"
      },
      "outputs": [
        {
          "name": "stdout",
          "output_type": "stream",
          "text": [
            "tensor([1, 2, 3]) * tensor([1, 2, 3]) = tensor([1, 4, 9])\n"
          ]
        }
      ],
      "source": [
        "#two type of mul\n",
        "#normal multiplication\n",
        "tensor1 = torch.tensor([1,2,3])\n",
        "tensor2 = torch.tensor([1,2,3])\n",
        "print(tensor1,\"*\",tensor2,\"=\",tensor1*tensor2)\n"
      ]
    },
    {
      "cell_type": "code",
      "execution_count": 30,
      "metadata": {
        "colab": {
          "base_uri": "https://localhost:8080/"
        },
        "id": "MA_ICxa1PglR",
        "outputId": "97926bee-50c0-4671-c4da-6e9b0227b084"
      },
      "outputs": [
        {
          "name": "stdout",
          "output_type": "stream",
          "text": [
            "\n",
            "Matrix Mul:  tensor(14)\n"
          ]
        }
      ],
      "source": [
        "#Matrix multiply\n",
        "print(\"\\nMatrix Mul: \",tensor1.matmul(tensor2))"
      ]
    },
    {
      "cell_type": "markdown",
      "metadata": {
        "id": "7s-n1nBAQPDi"
      },
      "source": [
        "### FInding\n",
        "* Min\n",
        "* max\n",
        "* mean\n",
        "* sum"
      ]
    },
    {
      "cell_type": "code",
      "execution_count": 31,
      "metadata": {
        "colab": {
          "base_uri": "https://localhost:8080/"
        },
        "id": "BcTTReO5Qazl",
        "outputId": "746498b3-a5dc-4ceb-f12c-ec4b5bba5513"
      },
      "outputs": [
        {
          "data": {
            "text/plain": [
              "tensor([ 0, 10, 20, 30, 40, 50, 60, 70, 80, 90])"
            ]
          },
          "execution_count": 31,
          "metadata": {},
          "output_type": "execute_result"
        }
      ],
      "source": [
        "#Create a tensor\n",
        "x = torch.arange(0,100,10)\n",
        "x"
      ]
    },
    {
      "cell_type": "code",
      "execution_count": 32,
      "metadata": {
        "colab": {
          "base_uri": "https://localhost:8080/"
        },
        "id": "fQVK571iQ1nD",
        "outputId": "023797a0-852c-407f-e0f0-b9aec01fc1e7"
      },
      "outputs": [
        {
          "data": {
            "text/plain": [
              "(tensor(90), tensor(90))"
            ]
          },
          "execution_count": 32,
          "metadata": {},
          "output_type": "execute_result"
        }
      ],
      "source": [
        "torch.max(x),x.max()"
      ]
    },
    {
      "cell_type": "code",
      "execution_count": 34,
      "metadata": {
        "colab": {
          "base_uri": "https://localhost:8080/"
        },
        "id": "v5hcRdN6RnXS",
        "outputId": "9f5f76d2-039f-4871-c902-96c5fd28ffba"
      },
      "outputs": [
        {
          "data": {
            "text/plain": [
              "(tensor(0), tensor(0))"
            ]
          },
          "execution_count": 34,
          "metadata": {},
          "output_type": "execute_result"
        }
      ],
      "source": [
        "torch.min(x),x.min()"
      ]
    },
    {
      "cell_type": "code",
      "execution_count": 35,
      "metadata": {
        "colab": {
          "base_uri": "https://localhost:8080/",
          "height": 176
        },
        "id": "HH7Mj_ATQ8zX",
        "outputId": "aaa4343a-20bf-40ae-ee87-2e37e5a3c940"
      },
      "outputs": [
        {
          "ename": "RuntimeError",
          "evalue": "mean(): could not infer output dtype. Input dtype must be either a floating point or complex dtype. Got: Long",
          "output_type": "error",
          "traceback": [
            "\u001b[1;31m---------------------------------------------------------------------------\u001b[0m",
            "\u001b[1;31mRuntimeError\u001b[0m                              Traceback (most recent call last)",
            "Cell \u001b[1;32mIn[35], line 2\u001b[0m\n\u001b[0;32m      1\u001b[0m \u001b[38;5;66;03m#raise error due to datatype problem\u001b[39;00m\n\u001b[1;32m----> 2\u001b[0m \u001b[43mtorch\u001b[49m\u001b[38;5;241;43m.\u001b[39;49m\u001b[43mmean\u001b[49m\u001b[43m(\u001b[49m\u001b[43mx\u001b[49m\u001b[43m)\u001b[49m\n",
            "\u001b[1;31mRuntimeError\u001b[0m: mean(): could not infer output dtype. Input dtype must be either a floating point or complex dtype. Got: Long"
          ]
        }
      ],
      "source": [
        "#raise error due to datatype problem\n",
        "torch.mean(x)"
      ]
    },
    {
      "cell_type": "code",
      "execution_count": 36,
      "metadata": {
        "colab": {
          "base_uri": "https://localhost:8080/"
        },
        "id": "pSqx7iNtROqj",
        "outputId": "eabd92b9-2571-4d66-8994-2a94f21465ef"
      },
      "outputs": [
        {
          "data": {
            "text/plain": [
              "(tensor(45.), tensor(45.))"
            ]
          },
          "execution_count": 36,
          "metadata": {},
          "output_type": "execute_result"
        }
      ],
      "source": [
        "torch.mean(x.type(torch.float32)),x.type(torch.float32).mean()"
      ]
    },
    {
      "cell_type": "code",
      "execution_count": 37,
      "metadata": {
        "id": "-rbiBToNRWcf"
      },
      "outputs": [
        {
          "data": {
            "text/plain": [
              "(tensor(450), tensor(450))"
            ]
          },
          "execution_count": 37,
          "metadata": {},
          "output_type": "execute_result"
        }
      ],
      "source": [
        "torch.sum(x),x.sum()"
      ]
    },
    {
      "cell_type": "markdown",
      "metadata": {
        "id": "2AwSYuAuS481"
      },
      "source": [
        "# Finding Positional of min and max"
      ]
    },
    {
      "cell_type": "code",
      "execution_count": 39,
      "metadata": {
        "colab": {
          "base_uri": "https://localhost:8080/"
        },
        "id": "w1ye_4fMR09E",
        "outputId": "9b3f74fd-aa81-4bae-bf4b-6caf2bdcc1c0"
      },
      "outputs": [
        {
          "name": "stdout",
          "output_type": "stream",
          "text": [
            "Min pos:  tensor(0)\n",
            "Max pos:  tensor(9)\n"
          ]
        }
      ],
      "source": [
        "print(\"Min pos: \",x.argmin())\n",
        "print(\"Max pos: \",x.argmax())"
      ]
    },
    {
      "cell_type": "markdown",
      "metadata": {
        "id": "9ZleSZ1WfDGN"
      },
      "source": [
        "# Reshaping, sacking, squeezing and unsqueezing"
      ]
    },
    {
      "cell_type": "code",
      "execution_count": 40,
      "metadata": {
        "colab": {
          "base_uri": "https://localhost:8080/"
        },
        "id": "EbtmM9CxfQgu",
        "outputId": "9a6ba98a-294a-4650-8f8b-fb1a16acab12"
      },
      "outputs": [
        {
          "data": {
            "text/plain": [
              "(tensor([ 1.,  2.,  3.,  4.,  5.,  6.,  7.,  8.,  9., 10., 11., 12.]),\n",
              " torch.Size([12]))"
            ]
          },
          "execution_count": 40,
          "metadata": {},
          "output_type": "execute_result"
        }
      ],
      "source": [
        "x = torch.arange(1.,13.)\n",
        "x,x.shape"
      ]
    },
    {
      "cell_type": "code",
      "execution_count": 41,
      "metadata": {
        "colab": {
          "base_uri": "https://localhost:8080/"
        },
        "id": "T5EsTYQXgGoj",
        "outputId": "469489b5-26e7-4c59-a09e-1fee2e26fb04"
      },
      "outputs": [
        {
          "data": {
            "text/plain": [
              "(tensor([[ 1.,  2.],\n",
              "         [ 3.,  4.],\n",
              "         [ 5.,  6.],\n",
              "         [ 7.,  8.],\n",
              "         [ 9., 10.],\n",
              "         [11., 12.]]),\n",
              " torch.Size([6, 2]))"
            ]
          },
          "execution_count": 41,
          "metadata": {},
          "output_type": "execute_result"
        }
      ],
      "source": [
        "x_reshaped = x.reshape(6,2)\n",
        "x_reshaped,x_reshaped.shape"
      ]
    },
    {
      "cell_type": "code",
      "execution_count": 42,
      "metadata": {
        "colab": {
          "base_uri": "https://localhost:8080/"
        },
        "id": "LofHM3rNgSfb",
        "outputId": "c7cbab31-6a11-4265-b751-de200582806c"
      },
      "outputs": [
        {
          "data": {
            "text/plain": [
              "(tensor([[ 1.,  2.,  3.,  4.,  5.,  6.,  7.,  8.,  9., 10., 11., 12.]]),\n",
              " torch.Size([1, 12]))"
            ]
          },
          "execution_count": 42,
          "metadata": {},
          "output_type": "execute_result"
        }
      ],
      "source": [
        "#changing the view\n",
        "z = x.view(1,12)\n",
        "z,z.shape"
      ]
    },
    {
      "cell_type": "code",
      "execution_count": 43,
      "metadata": {
        "colab": {
          "base_uri": "https://localhost:8080/"
        },
        "id": "isEdNPmPg6Zp",
        "outputId": "bc6b74cf-345f-46e9-c164-fd79c1c39f5f"
      },
      "outputs": [
        {
          "data": {
            "text/plain": [
              "(tensor([[ 5.,  2.,  3.,  4.,  5.,  6.,  7.,  8.,  9., 10., 11., 12.]]),\n",
              " tensor([ 5.,  2.,  3.,  4.,  5.,  6.,  7.,  8.,  9., 10., 11., 12.]))"
            ]
          },
          "execution_count": 43,
          "metadata": {},
          "output_type": "execute_result"
        }
      ],
      "source": [
        "# changing z changes x\n",
        "z[:,0] = 5\n",
        "z,x"
      ]
    },
    {
      "cell_type": "code",
      "execution_count": 44,
      "metadata": {
        "colab": {
          "base_uri": "https://localhost:8080/"
        },
        "id": "VbQ7KdOnhKwR",
        "outputId": "aebe95a1-0b8e-4d47-9c42-e2d144f21a35"
      },
      "outputs": [
        {
          "data": {
            "text/plain": [
              "tensor([[ 5.,  2.,  3.,  4.,  5.,  6.,  7.,  8.,  9., 10., 11., 12.],\n",
              "        [ 5.,  2.,  3.,  4.,  5.,  6.,  7.,  8.,  9., 10., 11., 12.],\n",
              "        [ 5.,  2.,  3.,  4.,  5.,  6.,  7.,  8.,  9., 10., 11., 12.],\n",
              "        [ 5.,  2.,  3.,  4.,  5.,  6.,  7.,  8.,  9., 10., 11., 12.]])"
            ]
          },
          "execution_count": 44,
          "metadata": {},
          "output_type": "execute_result"
        }
      ],
      "source": [
        "#Stacking\n",
        "x_stacked = torch.stack([x,x,x,x],dim=0)\n",
        "x_stacked"
      ]
    },
    {
      "cell_type": "code",
      "execution_count": 45,
      "metadata": {
        "colab": {
          "base_uri": "https://localhost:8080/"
        },
        "id": "OUJwJk9lhTyY",
        "outputId": "a2174a80-70eb-40e7-a14d-72c270d74d44"
      },
      "outputs": [
        {
          "name": "stdout",
          "output_type": "stream",
          "text": [
            "tensor([[ 5.,  2.],\n",
            "        [ 3.,  4.],\n",
            "        [ 5.,  6.],\n",
            "        [ 7.,  8.],\n",
            "        [ 9., 10.],\n",
            "        [11., 12.]])\n",
            "tensor([[ 5.,  2.,  3.,  4.,  5.,  6.,  7.,  8.,  9., 10., 11., 12.]])\n"
          ]
        },
        {
          "data": {
            "text/plain": [
              "tensor([ 5.,  2.,  3.,  4.,  5.,  6.,  7.,  8.,  9., 10., 11., 12.])"
            ]
          },
          "execution_count": 45,
          "metadata": {},
          "output_type": "execute_result"
        }
      ],
      "source": [
        "#squeeze\n",
        "print (x_reshaped)\n",
        "x_reshaped = x_reshaped.reshape(1,12)\n",
        "print(x_reshaped)\n",
        "x_squeezed = x_reshaped.squeeze()\n",
        "x_squeezed"
      ]
    },
    {
      "cell_type": "code",
      "execution_count": 46,
      "metadata": {
        "colab": {
          "base_uri": "https://localhost:8080/"
        },
        "id": "cEqBaB79h8GO",
        "outputId": "c704a165-3b82-4120-fa97-ce0c2fc46589"
      },
      "outputs": [
        {
          "data": {
            "text/plain": [
              "tensor([[ 5.,  2.,  3.,  4.,  5.,  6.,  7.,  8.,  9., 10., 11., 12.]])"
            ]
          },
          "execution_count": 46,
          "metadata": {},
          "output_type": "execute_result"
        }
      ],
      "source": [
        "#unsqueeze\n",
        "x_unsqueezed = x_squeezed.unsqueeze(dim=0)\n",
        "x_unsqueezed"
      ]
    },
    {
      "cell_type": "code",
      "execution_count": 47,
      "metadata": {
        "colab": {
          "base_uri": "https://localhost:8080/"
        },
        "id": "LkGVtoITibdH",
        "outputId": "7fcda8b4-1025-40a3-f04e-c42ca7388839"
      },
      "outputs": [
        {
          "data": {
            "text/plain": [
              "torch.Size([224, 224, 3])"
            ]
          },
          "execution_count": 47,
          "metadata": {},
          "output_type": "execute_result"
        }
      ],
      "source": [
        "#permute\n",
        "x_original = torch.rand(size=(224,224,3))\n",
        "x_original.shape"
      ]
    },
    {
      "cell_type": "code",
      "execution_count": 48,
      "metadata": {
        "colab": {
          "base_uri": "https://localhost:8080/"
        },
        "id": "rZaSCH7-ifvw",
        "outputId": "4204c034-02a3-418d-d5dd-17cbceb29d9b"
      },
      "outputs": [
        {
          "data": {
            "text/plain": [
              "torch.Size([3, 224, 224])"
            ]
          },
          "execution_count": 48,
          "metadata": {},
          "output_type": "execute_result"
        }
      ],
      "source": [
        "x_permuted = x_original.permute(2,0,1)\n",
        "x_permuted.shape"
      ]
    },
    {
      "cell_type": "markdown",
      "metadata": {
        "id": "Poq2jpaKLv4M"
      },
      "source": [
        "# Indexing (Selecting data from tensor)"
      ]
    },
    {
      "cell_type": "code",
      "execution_count": 49,
      "metadata": {
        "colab": {
          "base_uri": "https://localhost:8080/"
        },
        "id": "D2I804SmLvhD",
        "outputId": "e4750c12-93d4-4f8e-9755-d9b84adcc7fb"
      },
      "outputs": [
        {
          "data": {
            "text/plain": [
              "(tensor([[[1, 2, 3],\n",
              "          [4, 5, 6],\n",
              "          [7, 8, 9]]]),\n",
              " torch.Size([1, 3, 3]))"
            ]
          },
          "execution_count": 49,
          "metadata": {},
          "output_type": "execute_result"
        }
      ],
      "source": [
        "x = torch.arange(1,10).reshape(1,3,3)\n",
        "x,x.shape"
      ]
    },
    {
      "cell_type": "code",
      "execution_count": 50,
      "metadata": {
        "colab": {
          "base_uri": "https://localhost:8080/"
        },
        "id": "LmUKEMhrik1F",
        "outputId": "2fb0ea76-83bc-4570-99d3-051e6cd47559"
      },
      "outputs": [
        {
          "data": {
            "text/plain": [
              "tensor([[1, 2, 3],\n",
              "        [4, 5, 6],\n",
              "        [7, 8, 9]])"
            ]
          },
          "execution_count": 50,
          "metadata": {},
          "output_type": "execute_result"
        }
      ],
      "source": [
        "x[0]"
      ]
    },
    {
      "cell_type": "code",
      "execution_count": 51,
      "metadata": {
        "colab": {
          "base_uri": "https://localhost:8080/"
        },
        "id": "EHY6jqteMKsL",
        "outputId": "48b2fd80-208c-46af-d830-89ba71c8902f"
      },
      "outputs": [
        {
          "data": {
            "text/plain": [
              "tensor([1, 2, 3])"
            ]
          },
          "execution_count": 51,
          "metadata": {},
          "output_type": "execute_result"
        }
      ],
      "source": [
        "x[0][0]"
      ]
    },
    {
      "cell_type": "code",
      "execution_count": 52,
      "metadata": {
        "colab": {
          "base_uri": "https://localhost:8080/"
        },
        "id": "-RWo3LkuMOVV",
        "outputId": "fe7614f2-e1cf-43e1-c294-36cdb63ce5c4"
      },
      "outputs": [
        {
          "data": {
            "text/plain": [
              "tensor(1)"
            ]
          },
          "execution_count": 52,
          "metadata": {},
          "output_type": "execute_result"
        }
      ],
      "source": [
        "x[0][0][0]"
      ]
    },
    {
      "cell_type": "code",
      "execution_count": 53,
      "metadata": {
        "colab": {
          "base_uri": "https://localhost:8080/"
        },
        "id": "8SvJjp_WMSMX",
        "outputId": "9164eb41-7c91-4455-8790-1fa9c03d7e44"
      },
      "outputs": [
        {
          "data": {
            "text/plain": [
              "tensor([[7, 8, 9]])"
            ]
          },
          "execution_count": 53,
          "metadata": {},
          "output_type": "execute_result"
        }
      ],
      "source": [
        "x[:,2]"
      ]
    },
    {
      "cell_type": "code",
      "execution_count": 54,
      "metadata": {
        "colab": {
          "base_uri": "https://localhost:8080/"
        },
        "id": "jar4hVmOMh5X",
        "outputId": "8745e209-aaea-42be-fbcd-2378891a51a2"
      },
      "outputs": [
        {
          "data": {
            "text/plain": [
              "tensor([[2, 5, 8]])"
            ]
          },
          "execution_count": 54,
          "metadata": {},
          "output_type": "execute_result"
        }
      ],
      "source": [
        "x[:,:,1]"
      ]
    },
    {
      "cell_type": "code",
      "execution_count": 55,
      "metadata": {
        "colab": {
          "base_uri": "https://localhost:8080/"
        },
        "id": "xmqsN3RcMoeO",
        "outputId": "d4c09378-9802-4e38-e0bd-91b1204954f3"
      },
      "outputs": [
        {
          "data": {
            "text/plain": [
              "tensor([5])"
            ]
          },
          "execution_count": 55,
          "metadata": {},
          "output_type": "execute_result"
        }
      ],
      "source": [
        "x[:,1,1]"
      ]
    },
    {
      "cell_type": "markdown",
      "metadata": {
        "id": "7u4RiIsRNx1p"
      },
      "source": [
        "## PyTorch tensor and NumPy"
      ]
    },
    {
      "cell_type": "code",
      "execution_count": 56,
      "metadata": {
        "colab": {
          "base_uri": "https://localhost:8080/"
        },
        "id": "lkaHnvSlM0Ft",
        "outputId": "e52dab75-58f5-4e63-ecf8-c08c6cdec8b5"
      },
      "outputs": [
        {
          "data": {
            "text/plain": [
              "(array([1., 2., 3., 4., 5., 6., 7.]),\n",
              " tensor([1., 2., 3., 4., 5., 6., 7.], dtype=torch.float64))"
            ]
          },
          "execution_count": 56,
          "metadata": {},
          "output_type": "execute_result"
        }
      ],
      "source": [
        "#NumPy arr to Tensors\n",
        "array = np.arange(1.0,8.0)\n",
        "tensor = torch.from_numpy(array)\n",
        "array,tensor"
      ]
    },
    {
      "cell_type": "markdown",
      "metadata": {
        "id": "Hd1TzEvyPIbw"
      },
      "source": [
        "# Reproducbility"
      ]
    },
    {
      "cell_type": "code",
      "execution_count": 57,
      "metadata": {
        "colab": {
          "base_uri": "https://localhost:8080/"
        },
        "id": "PRo-1WZ7Ofhk",
        "outputId": "14914d75-34b6-42ee-f5e3-746b951f6ecc"
      },
      "outputs": [
        {
          "name": "stdout",
          "output_type": "stream",
          "text": [
            "tensor([[0.5199, 0.6624, 0.1158, 0.6271],\n",
            "        [0.2643, 0.1837, 0.7430, 0.5605],\n",
            "        [0.6783, 0.7117, 0.2313, 0.7904]])\n",
            "tensor([[0.0457, 0.0274, 0.2871, 0.9550],\n",
            "        [0.3203, 0.1607, 0.1208, 0.5600],\n",
            "        [0.9864, 0.5996, 0.7245, 0.8183]])\n",
            "tensor([[False, False, False, False],\n",
            "        [False, False, False, False],\n",
            "        [False, False, False, False]])\n"
          ]
        }
      ],
      "source": [
        "#creating random tensor\n",
        "tensora = torch.rand(3,4)\n",
        "tensorb = torch.rand(3,4)\n",
        "print(tensora)\n",
        "print(tensorb)\n",
        "print(tensora==tensorb)"
      ]
    },
    {
      "cell_type": "code",
      "execution_count": 58,
      "metadata": {
        "colab": {
          "base_uri": "https://localhost:8080/"
        },
        "id": "wQfaeedgZfBN",
        "outputId": "804641fc-09a8-47ee-9976-376b8b1a8719"
      },
      "outputs": [
        {
          "name": "stdout",
          "output_type": "stream",
          "text": [
            "tensor([[0.8823, 0.9150, 0.3829, 0.9593],\n",
            "        [0.3904, 0.6009, 0.2566, 0.7936],\n",
            "        [0.9408, 0.1332, 0.9346, 0.5936]])\n",
            "tensor([[0.8823, 0.9150, 0.3829, 0.9593],\n",
            "        [0.3904, 0.6009, 0.2566, 0.7936],\n",
            "        [0.9408, 0.1332, 0.9346, 0.5936]])\n",
            "tensor([[True, True, True, True],\n",
            "        [True, True, True, True],\n",
            "        [True, True, True, True]])\n"
          ]
        }
      ],
      "source": [
        "#Set the random seed\n",
        "RANDOM_SEED = 42\n",
        "torch.manual_seed(RANDOM_SEED)\n",
        "random_tensor_c = torch.rand(3,4)\n",
        "torch.manual_seed(RANDOM_SEED)\n",
        "random_tensor_d = torch.rand(3,4)\n",
        "print(random_tensor_c)\n",
        "print(random_tensor_d)\n",
        "print(random_tensor_c==random_tensor_d)"
      ]
    },
    {
      "cell_type": "code",
      "execution_count": 59,
      "metadata": {
        "colab": {
          "base_uri": "https://localhost:8080/"
        },
        "id": "tcl_d-QrZe8V",
        "outputId": "d59ee6c7-80c5-4823-dfdf-8a63e339e569"
      },
      "outputs": [
        {
          "data": {
            "text/plain": [
              "<torch._C.Generator at 0x215c8fc2950>"
            ]
          },
          "execution_count": 59,
          "metadata": {},
          "output_type": "execute_result"
        }
      ],
      "source": [
        "torch.manual_seed(RANDOM_SEED)"
      ]
    },
    {
      "cell_type": "markdown",
      "metadata": {
        "id": "ZEYQkCk9csEq"
      },
      "source": [
        "# Running code on GPUs\n",
        "Makes the computation faster"
      ]
    },
    {
      "cell_type": "code",
      "execution_count": 60,
      "metadata": {
        "id": "Yg76zGipcq1n"
      },
      "outputs": [
        {
          "data": {
            "text/plain": [
              "True"
            ]
          },
          "execution_count": 60,
          "metadata": {},
          "output_type": "execute_result"
        }
      ],
      "source": [
        "torch.cuda.is_available()"
      ]
    },
    {
      "cell_type": "code",
      "execution_count": null,
      "metadata": {
        "id": "XPqObIzfcjAl"
      },
      "outputs": [],
      "source": []
    }
  ],
  "metadata": {
    "colab": {
      "authorship_tag": "ABX9TyMlUwSC1NZZBEen75wZZjHR",
      "include_colab_link": true,
      "provenance": []
    },
    "kernelspec": {
      "display_name": "Python 3",
      "name": "python3"
    },
    "language_info": {
      "codemirror_mode": {
        "name": "ipython",
        "version": 3
      },
      "file_extension": ".py",
      "mimetype": "text/x-python",
      "name": "python",
      "nbconvert_exporter": "python",
      "pygments_lexer": "ipython3",
      "version": "3.12.2"
    }
  },
  "nbformat": 4,
  "nbformat_minor": 0
}
