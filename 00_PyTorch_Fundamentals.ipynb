{
  "nbformat": 4,
  "nbformat_minor": 0,
  "metadata": {
    "colab": {
      "provenance": [],
      "gpuType": "T4",
      "authorship_tag": "ABX9TyMaBztzdo1wzxk3WPK0XXkb"
    },
    "kernelspec": {
      "name": "python3",
      "display_name": "Python 3"
    },
    "language_info": {
      "name": "python"
    },
    "accelerator": "GPU"
  },
  "cells": [
    {
      "cell_type": "code",
      "execution_count": null,
      "metadata": {
        "colab": {
          "base_uri": "https://localhost:8080/"
        },
        "id": "I0D0EPR3wHF_",
        "outputId": "b5c547e9-60e0-452c-981f-76b509d58ec0"
      },
      "outputs": [
        {
          "output_type": "stream",
          "name": "stdout",
          "text": [
            "Sat Jul 20 04:51:28 2024       \n",
            "+---------------------------------------------------------------------------------------+\n",
            "| NVIDIA-SMI 535.104.05             Driver Version: 535.104.05   CUDA Version: 12.2     |\n",
            "|-----------------------------------------+----------------------+----------------------+\n",
            "| GPU  Name                 Persistence-M | Bus-Id        Disp.A | Volatile Uncorr. ECC |\n",
            "| Fan  Temp   Perf          Pwr:Usage/Cap |         Memory-Usage | GPU-Util  Compute M. |\n",
            "|                                         |                      |               MIG M. |\n",
            "|=========================================+======================+======================|\n",
            "|   0  Tesla T4                       Off | 00000000:00:04.0 Off |                    0 |\n",
            "| N/A   48C    P8               9W /  70W |      0MiB / 15360MiB |      0%      Default |\n",
            "|                                         |                      |                  N/A |\n",
            "+-----------------------------------------+----------------------+----------------------+\n",
            "                                                                                         \n",
            "+---------------------------------------------------------------------------------------+\n",
            "| Processes:                                                                            |\n",
            "|  GPU   GI   CI        PID   Type   Process name                            GPU Memory |\n",
            "|        ID   ID                                                             Usage      |\n",
            "|=======================================================================================|\n",
            "|  No running processes found                                                           |\n",
            "+---------------------------------------------------------------------------------------+\n"
          ]
        }
      ],
      "source": [
        "!nvidia-smi"
      ]
    },
    {
      "cell_type": "code",
      "source": [
        "import torch\n",
        "import pandas as pd\n",
        "import numpy as np\n",
        "import matplotlib.pyplot as plt\n",
        "torch.__version__"
      ],
      "metadata": {
        "colab": {
          "base_uri": "https://localhost:8080/",
          "height": 35
        },
        "id": "qAMkLySbxjv9",
        "outputId": "3c8dc3c0-f426-4653-a383-fe88a601ab9e"
      },
      "execution_count": null,
      "outputs": [
        {
          "output_type": "execute_result",
          "data": {
            "text/plain": [
              "'2.3.1+cu121'"
            ],
            "application/vnd.google.colaboratory.intrinsic+json": {
              "type": "string"
            }
          },
          "metadata": {},
          "execution_count": 5
        }
      ]
    },
    {
      "cell_type": "markdown",
      "source": [
        "### Introduction to Tensors\n",
        "  Creating Tensors"
      ],
      "metadata": {
        "id": "Kte0TIxwy6qe"
      }
    },
    {
      "cell_type": "code",
      "source": [
        "#scalar\n",
        "scalar = torch.tensor(7)\n",
        "scalar"
      ],
      "metadata": {
        "colab": {
          "base_uri": "https://localhost:8080/"
        },
        "id": "FS78d2lsypXy",
        "outputId": "0b16892f-b6ad-4869-c4d2-edff3e76ac45"
      },
      "execution_count": null,
      "outputs": [
        {
          "output_type": "execute_result",
          "data": {
            "text/plain": [
              "tensor(7)"
            ]
          },
          "metadata": {},
          "execution_count": 6
        }
      ]
    },
    {
      "cell_type": "code",
      "source": [
        "scalar.ndim"
      ],
      "metadata": {
        "colab": {
          "base_uri": "https://localhost:8080/"
        },
        "id": "UlkUxMde33Xz",
        "outputId": "839b148d-30a5-4fc1-f9d0-0f7d322fef92"
      },
      "execution_count": null,
      "outputs": [
        {
          "output_type": "execute_result",
          "data": {
            "text/plain": [
              "0"
            ]
          },
          "metadata": {},
          "execution_count": 7
        }
      ]
    },
    {
      "cell_type": "code",
      "source": [
        "scalar.item()"
      ],
      "metadata": {
        "colab": {
          "base_uri": "https://localhost:8080/"
        },
        "id": "CLGPCOm74PMk",
        "outputId": "2c29b67c-56ba-4053-8482-d9d757681c1c"
      },
      "execution_count": null,
      "outputs": [
        {
          "output_type": "execute_result",
          "data": {
            "text/plain": [
              "7"
            ]
          },
          "metadata": {},
          "execution_count": 8
        }
      ]
    },
    {
      "cell_type": "code",
      "source": [
        "vector = torch.tensor([7,7])\n",
        "vector"
      ],
      "metadata": {
        "colab": {
          "base_uri": "https://localhost:8080/"
        },
        "id": "nyUqoQ2X4UNS",
        "outputId": "a61745b7-23fe-446f-a98f-f142e629fd03"
      },
      "execution_count": null,
      "outputs": [
        {
          "output_type": "execute_result",
          "data": {
            "text/plain": [
              "tensor([7, 7])"
            ]
          },
          "metadata": {},
          "execution_count": 9
        }
      ]
    },
    {
      "cell_type": "code",
      "source": [
        "vector.ndim"
      ],
      "metadata": {
        "colab": {
          "base_uri": "https://localhost:8080/"
        },
        "id": "ieZlGWwZ4mcD",
        "outputId": "4fb16007-174c-4305-a4d8-0deac365212c"
      },
      "execution_count": null,
      "outputs": [
        {
          "output_type": "execute_result",
          "data": {
            "text/plain": [
              "1"
            ]
          },
          "metadata": {},
          "execution_count": 10
        }
      ]
    },
    {
      "cell_type": "code",
      "source": [
        "vector.shape"
      ],
      "metadata": {
        "colab": {
          "base_uri": "https://localhost:8080/"
        },
        "id": "N48lSUQE4qTw",
        "outputId": "1a8ed27b-5816-4380-f8f5-fb93a21ccdf1"
      },
      "execution_count": null,
      "outputs": [
        {
          "output_type": "execute_result",
          "data": {
            "text/plain": [
              "torch.Size([2])"
            ]
          },
          "metadata": {},
          "execution_count": 11
        }
      ]
    },
    {
      "cell_type": "code",
      "source": [
        "#Matrix\n",
        "\n",
        "matrix = torch.tensor([[7,8],\n",
        "                      [9,10]])\n",
        "matrix"
      ],
      "metadata": {
        "colab": {
          "base_uri": "https://localhost:8080/"
        },
        "id": "q1ZybgaO4u5-",
        "outputId": "9059cf85-4c80-41ad-9b21-ed923d0671b2"
      },
      "execution_count": null,
      "outputs": [
        {
          "output_type": "execute_result",
          "data": {
            "text/plain": [
              "tensor([[ 7,  8],\n",
              "        [ 9, 10]])"
            ]
          },
          "metadata": {},
          "execution_count": 12
        }
      ]
    },
    {
      "cell_type": "code",
      "source": [
        "matrix.ndim"
      ],
      "metadata": {
        "colab": {
          "base_uri": "https://localhost:8080/"
        },
        "id": "f8tq7n6j5adV",
        "outputId": "ec2ef396-b4cd-4be9-e154-378c377752c8"
      },
      "execution_count": null,
      "outputs": [
        {
          "output_type": "execute_result",
          "data": {
            "text/plain": [
              "2"
            ]
          },
          "metadata": {},
          "execution_count": 13
        }
      ]
    },
    {
      "cell_type": "code",
      "source": [
        "matrix[1]"
      ],
      "metadata": {
        "colab": {
          "base_uri": "https://localhost:8080/"
        },
        "id": "IHcZIwtM5c5b",
        "outputId": "db7cb07d-f30c-439a-eeed-03027a67ed70"
      },
      "execution_count": null,
      "outputs": [
        {
          "output_type": "execute_result",
          "data": {
            "text/plain": [
              "tensor([ 9, 10])"
            ]
          },
          "metadata": {},
          "execution_count": 14
        }
      ]
    },
    {
      "cell_type": "code",
      "source": [
        "matrix.shape"
      ],
      "metadata": {
        "id": "iv08Na9I5kLY",
        "colab": {
          "base_uri": "https://localhost:8080/"
        },
        "outputId": "f97b095a-225c-46ae-9d1d-f931116b0ac4"
      },
      "execution_count": null,
      "outputs": [
        {
          "output_type": "execute_result",
          "data": {
            "text/plain": [
              "torch.Size([2, 2])"
            ]
          },
          "metadata": {},
          "execution_count": 15
        }
      ]
    },
    {
      "cell_type": "code",
      "source": [
        "#TENSOR\n",
        "\n",
        "TENSOR = torch.tensor([[\n",
        "    [1,2,3],\n",
        "    [3,6,9],\n",
        "    [2,4,5]\n",
        "]])\n",
        "\n",
        "TENSOR"
      ],
      "metadata": {
        "colab": {
          "base_uri": "https://localhost:8080/"
        },
        "id": "Hcn2GMS0FO6R",
        "outputId": "651083ad-a5ba-40f7-d012-3384270b0d80"
      },
      "execution_count": null,
      "outputs": [
        {
          "output_type": "execute_result",
          "data": {
            "text/plain": [
              "tensor([[[1, 2, 3],\n",
              "         [3, 6, 9],\n",
              "         [2, 4, 5]]])"
            ]
          },
          "metadata": {},
          "execution_count": 16
        }
      ]
    },
    {
      "cell_type": "code",
      "source": [
        "TENSOR.ndim"
      ],
      "metadata": {
        "colab": {
          "base_uri": "https://localhost:8080/"
        },
        "id": "u22TmPORFmBT",
        "outputId": "2bd94bd8-2122-4c38-d0d7-e844b2e6a696"
      },
      "execution_count": null,
      "outputs": [
        {
          "output_type": "execute_result",
          "data": {
            "text/plain": [
              "3"
            ]
          },
          "metadata": {},
          "execution_count": 17
        }
      ]
    },
    {
      "cell_type": "code",
      "source": [
        "TENSOR.shape"
      ],
      "metadata": {
        "colab": {
          "base_uri": "https://localhost:8080/"
        },
        "id": "VOs-n6ZNFph1",
        "outputId": "c8049772-e9c3-4914-e93f-2209bcdcda21"
      },
      "execution_count": null,
      "outputs": [
        {
          "output_type": "execute_result",
          "data": {
            "text/plain": [
              "torch.Size([1, 3, 3])"
            ]
          },
          "metadata": {},
          "execution_count": 18
        }
      ]
    },
    {
      "cell_type": "code",
      "source": [
        "TENSOR[0]"
      ],
      "metadata": {
        "colab": {
          "base_uri": "https://localhost:8080/"
        },
        "id": "Fowm67ZUFwvY",
        "outputId": "574332d5-7a1e-4c06-dd19-3be4f1fe75e9"
      },
      "execution_count": null,
      "outputs": [
        {
          "output_type": "execute_result",
          "data": {
            "text/plain": [
              "tensor([[1, 2, 3],\n",
              "        [3, 6, 9],\n",
              "        [2, 4, 5]])"
            ]
          },
          "metadata": {},
          "execution_count": 19
        }
      ]
    },
    {
      "cell_type": "markdown",
      "source": [
        "# Using Random Tensors!"
      ],
      "metadata": {
        "id": "cTBpwDnEG4gM"
      }
    },
    {
      "cell_type": "code",
      "source": [
        "#creating a random tensor size (3,4)\n",
        "\n",
        "random_tensor = torch.rand(3,4)\n",
        "random_tensor"
      ],
      "metadata": {
        "colab": {
          "base_uri": "https://localhost:8080/"
        },
        "id": "5msz5DzKG818",
        "outputId": "a7a93db2-6d91-4fc6-8506-0de99ffb9c96"
      },
      "execution_count": null,
      "outputs": [
        {
          "output_type": "execute_result",
          "data": {
            "text/plain": [
              "tensor([[0.9369, 0.6295, 0.9428, 0.4347],\n",
              "        [0.3415, 0.3622, 0.1333, 0.4121],\n",
              "        [0.7865, 0.3549, 0.6294, 0.4965]])"
            ]
          },
          "metadata": {},
          "execution_count": 20
        }
      ]
    },
    {
      "cell_type": "code",
      "source": [
        "random_tensor2 = torch.rand(10,10,10)\n",
        "random_tensor2"
      ],
      "metadata": {
        "colab": {
          "base_uri": "https://localhost:8080/"
        },
        "id": "UEeBCOx5HjG7",
        "outputId": "9a2836a7-b451-4a82-cf99-37adfa318838"
      },
      "execution_count": null,
      "outputs": [
        {
          "output_type": "execute_result",
          "data": {
            "text/plain": [
              "tensor([[[6.0228e-01, 9.5259e-02, 5.2197e-01, 4.8435e-01, 5.7351e-01,\n",
              "          5.1907e-01, 8.4273e-01, 1.2708e-01, 6.7976e-01, 7.2893e-01],\n",
              "         [3.0525e-01, 9.2524e-01, 4.5454e-01, 8.8424e-01, 4.8413e-01,\n",
              "          9.1346e-01, 5.7126e-01, 4.6493e-01, 5.1040e-01, 3.2927e-01],\n",
              "         [1.7458e-01, 8.8896e-01, 5.2679e-01, 1.5891e-01, 2.0498e-01,\n",
              "          7.6585e-01, 5.5677e-02, 6.1787e-01, 6.8090e-02, 4.4254e-01],\n",
              "         [4.8462e-01, 4.5516e-01, 8.2666e-02, 5.3205e-01, 6.6954e-03,\n",
              "          2.7748e-01, 7.9553e-01, 1.3821e-01, 2.6808e-01, 6.7516e-01],\n",
              "         [5.5377e-01, 5.5698e-01, 9.0020e-02, 6.5142e-01, 7.1265e-01,\n",
              "          6.8791e-01, 4.7631e-01, 4.2683e-01, 1.9446e-01, 2.7461e-01],\n",
              "         [6.7469e-02, 7.6981e-01, 1.0392e-01, 3.6010e-01, 3.8184e-01,\n",
              "          9.3450e-01, 4.7134e-01, 5.4278e-02, 8.5927e-01, 3.9925e-01],\n",
              "         [8.9334e-01, 8.4333e-01, 8.2614e-01, 4.6109e-01, 7.1462e-01,\n",
              "          8.5429e-01, 2.8066e-01, 6.9030e-01, 7.5554e-01, 4.4418e-01],\n",
              "         [5.9359e-02, 2.4523e-01, 3.6546e-01, 9.3833e-01, 2.0147e-01,\n",
              "          3.0912e-01, 1.0698e-01, 1.0690e-01, 5.6121e-01, 3.8814e-01],\n",
              "         [4.7795e-01, 8.8822e-01, 2.9183e-01, 4.7985e-02, 2.2369e-01,\n",
              "          9.5071e-01, 9.8289e-01, 4.4709e-01, 5.8883e-01, 4.5556e-01],\n",
              "         [7.7623e-01, 1.0571e-01, 6.2966e-01, 2.3286e-01, 7.1852e-01,\n",
              "          3.0090e-01, 8.4429e-01, 5.0425e-02, 6.4744e-01, 4.6964e-02]],\n",
              "\n",
              "        [[6.9576e-01, 6.9085e-01, 9.7017e-01, 2.3008e-01, 9.9311e-01,\n",
              "          6.2881e-01, 5.2886e-01, 9.3745e-01, 9.6431e-01, 6.6584e-01],\n",
              "         [8.7330e-01, 6.6715e-01, 6.7485e-01, 3.5388e-01, 4.3061e-01,\n",
              "          4.1563e-01, 4.0852e-01, 4.9867e-01, 9.0844e-01, 5.5407e-01],\n",
              "         [2.0003e-01, 7.5910e-01, 9.1731e-01, 8.5188e-02, 7.9881e-01,\n",
              "          4.8967e-01, 3.9339e-01, 8.0336e-01, 9.3824e-01, 9.8365e-01],\n",
              "         [6.0265e-01, 5.5520e-01, 9.5176e-01, 4.7037e-01, 5.4274e-01,\n",
              "          1.8229e-03, 7.9756e-01, 3.1925e-01, 2.3896e-01, 2.2067e-01],\n",
              "         [1.0157e-01, 7.5838e-01, 3.5706e-01, 6.6680e-01, 2.0831e-01,\n",
              "          3.9288e-01, 2.2531e-01, 7.6102e-01, 2.0269e-01, 6.5213e-01],\n",
              "         [3.1823e-01, 6.6599e-02, 5.0411e-01, 9.8509e-01, 6.3194e-01,\n",
              "          8.3187e-01, 7.5503e-02, 3.5019e-01, 3.3781e-01, 4.2342e-01],\n",
              "         [3.5378e-01, 6.2304e-01, 2.3736e-01, 5.6029e-01, 5.7832e-01,\n",
              "          7.4950e-01, 3.2460e-01, 4.7253e-01, 3.8871e-01, 8.3030e-01],\n",
              "         [3.3155e-01, 8.8194e-01, 4.3069e-01, 7.2852e-01, 1.2435e-01,\n",
              "          6.3656e-01, 4.0189e-01, 2.3419e-01, 5.1076e-01, 7.2523e-01],\n",
              "         [6.7821e-01, 9.1089e-01, 9.9161e-01, 3.7911e-01, 9.8159e-01,\n",
              "          6.9411e-01, 5.6520e-01, 9.7108e-01, 2.5175e-02, 1.5696e-01],\n",
              "         [6.4511e-01, 1.6145e-01, 7.3362e-01, 8.4807e-01, 4.4404e-01,\n",
              "          6.9287e-01, 5.5163e-01, 3.6554e-01, 8.3360e-01, 3.8714e-01]],\n",
              "\n",
              "        [[4.3902e-01, 5.2571e-01, 7.1303e-01, 7.4599e-01, 1.2265e-02,\n",
              "          8.1739e-01, 1.9677e-01, 8.4159e-01, 9.4296e-01, 6.6922e-01],\n",
              "         [3.4065e-01, 3.9216e-01, 3.0164e-01, 8.5004e-01, 8.5246e-01,\n",
              "          7.2110e-01, 5.8732e-01, 9.1932e-01, 2.4398e-01, 9.0273e-01],\n",
              "         [6.4919e-01, 2.7366e-01, 2.5161e-01, 2.7601e-01, 6.7447e-01,\n",
              "          3.4211e-01, 3.4109e-01, 1.4552e-01, 8.7205e-01, 1.6356e-01],\n",
              "         [3.2193e-01, 4.2772e-01, 7.1563e-02, 4.6915e-01, 5.8436e-01,\n",
              "          9.7353e-01, 9.5793e-01, 6.4863e-01, 4.4989e-01, 3.4599e-01],\n",
              "         [4.7194e-01, 1.6914e-01, 3.7939e-01, 9.5332e-02, 6.9391e-01,\n",
              "          1.4066e-01, 2.7605e-01, 7.4635e-01, 8.3104e-01, 9.5340e-01],\n",
              "         [3.7417e-01, 1.0882e-01, 3.3107e-01, 5.8719e-01, 2.9672e-01,\n",
              "          3.5008e-02, 4.8909e-01, 5.7929e-01, 2.1823e-02, 9.4545e-01],\n",
              "         [6.1985e-01, 9.9883e-02, 1.4064e-02, 7.7274e-01, 6.0587e-01,\n",
              "          5.1744e-01, 7.6521e-02, 8.7522e-01, 5.0177e-01, 5.2747e-01],\n",
              "         [3.8835e-01, 4.1884e-01, 6.5466e-01, 1.4234e-01, 5.3850e-01,\n",
              "          3.7694e-01, 8.6609e-01, 6.2829e-02, 1.3574e-01, 8.3396e-01],\n",
              "         [5.0160e-01, 2.7315e-01, 8.7433e-01, 5.5624e-01, 4.3253e-01,\n",
              "          5.2522e-01, 3.1889e-01, 2.5516e-01, 9.0710e-01, 8.9035e-01],\n",
              "         [4.3332e-01, 3.8595e-01, 5.4272e-01, 7.1699e-01, 6.2369e-01,\n",
              "          8.7967e-01, 6.5730e-01, 1.1824e-02, 3.3018e-01, 7.3213e-01]],\n",
              "\n",
              "        [[7.3038e-01, 4.9361e-01, 2.1017e-01, 7.1877e-01, 7.4552e-01,\n",
              "          1.1447e-01, 6.8465e-01, 7.3882e-01, 3.3249e-01, 3.5043e-01],\n",
              "         [1.2065e-01, 9.0943e-01, 9.9778e-01, 9.4555e-01, 5.2725e-01,\n",
              "          9.1530e-01, 3.3604e-01, 8.9686e-01, 1.8083e-01, 9.1349e-01],\n",
              "         [1.7388e-01, 9.0842e-01, 1.1192e-01, 6.1171e-01, 9.9241e-01,\n",
              "          9.9709e-01, 5.2219e-01, 1.0521e-01, 5.8128e-01, 3.8945e-01],\n",
              "         [2.2464e-01, 8.4775e-01, 3.6423e-01, 1.6297e-01, 2.4450e-02,\n",
              "          5.7015e-01, 5.0499e-01, 3.4192e-01, 8.2060e-01, 2.3608e-03],\n",
              "         [9.1648e-01, 5.6948e-01, 8.5648e-01, 6.6460e-01, 8.9633e-01,\n",
              "          2.6318e-02, 3.4940e-01, 9.4640e-01, 1.5909e-01, 9.2469e-03],\n",
              "         [1.3453e-01, 8.8913e-01, 5.3236e-01, 3.0800e-01, 3.0612e-01,\n",
              "          7.6029e-01, 6.5260e-01, 5.0509e-01, 4.0692e-01, 6.4474e-01],\n",
              "         [8.4709e-01, 2.2929e-01, 3.2035e-01, 3.4296e-01, 7.8371e-01,\n",
              "          1.4725e-01, 3.9887e-01, 4.7792e-01, 5.5495e-01, 4.9682e-01],\n",
              "         [7.8216e-01, 7.1771e-01, 6.0047e-01, 9.4060e-01, 4.0047e-01,\n",
              "          2.1021e-01, 4.1546e-01, 6.1491e-01, 7.0864e-01, 2.1994e-01],\n",
              "         [8.0576e-01, 4.1193e-01, 9.8552e-01, 3.1341e-01, 6.3402e-01,\n",
              "          1.7456e-01, 9.7825e-01, 2.4274e-01, 8.7599e-01, 5.6985e-01],\n",
              "         [7.9105e-01, 6.8198e-01, 9.2377e-02, 4.3401e-01, 9.0634e-01,\n",
              "          5.0436e-01, 8.1168e-01, 7.5390e-01, 9.2313e-01, 9.0846e-01]],\n",
              "\n",
              "        [[7.4181e-01, 2.3701e-01, 6.5974e-01, 4.6882e-01, 2.7332e-01,\n",
              "          7.8047e-01, 9.6497e-01, 6.9771e-02, 8.0843e-01, 7.8772e-01],\n",
              "         [3.4283e-01, 8.3423e-01, 9.7174e-02, 4.0290e-01, 8.7515e-01,\n",
              "          6.3484e-01, 8.5182e-01, 1.6782e-01, 4.9354e-01, 2.8791e-01],\n",
              "         [6.7531e-01, 8.1784e-02, 1.2791e-01, 7.5114e-01, 6.1092e-01,\n",
              "          9.2992e-01, 6.1485e-02, 6.9137e-01, 3.1822e-01, 7.5366e-01],\n",
              "         [1.2791e-01, 9.8852e-01, 8.6402e-01, 6.3372e-01, 9.9247e-01,\n",
              "          9.6578e-01, 1.0962e-01, 9.9835e-01, 8.8640e-01, 5.2649e-01],\n",
              "         [9.5756e-01, 3.5395e-02, 2.5599e-01, 3.7648e-01, 1.3840e-01,\n",
              "          5.1584e-01, 3.0431e-01, 1.6410e-01, 5.2522e-02, 4.1340e-01],\n",
              "         [4.5792e-02, 1.6331e-01, 1.8782e-01, 9.7425e-01, 2.3400e-01,\n",
              "          7.1426e-01, 4.9555e-01, 4.6781e-01, 3.4084e-01, 8.0747e-01],\n",
              "         [3.2887e-01, 3.5134e-01, 8.4894e-01, 9.2792e-01, 3.4818e-01,\n",
              "          3.6354e-01, 6.4905e-01, 2.7813e-01, 8.3487e-01, 1.3566e-01],\n",
              "         [8.7491e-01, 7.6765e-01, 9.0774e-01, 8.3028e-01, 3.1340e-01,\n",
              "          6.2562e-01, 8.5007e-01, 8.2717e-01, 9.3115e-01, 5.0078e-01],\n",
              "         [9.0217e-01, 9.6896e-01, 1.2431e-01, 1.5525e-01, 2.5273e-01,\n",
              "          3.0987e-01, 5.4219e-01, 1.2892e-01, 1.2078e-02, 7.5960e-01],\n",
              "         [4.8841e-01, 8.6003e-01, 5.9939e-01, 7.1467e-01, 4.7946e-01,\n",
              "          8.8439e-01, 9.4510e-01, 6.3768e-01, 2.7492e-02, 8.7593e-02]],\n",
              "\n",
              "        [[9.0812e-01, 4.9699e-01, 5.4240e-01, 8.5634e-01, 3.6131e-01,\n",
              "          7.7115e-01, 7.3573e-01, 4.2474e-01, 2.3951e-01, 1.3464e-01],\n",
              "         [7.1853e-01, 9.3163e-01, 6.0826e-01, 9.4828e-01, 7.3943e-01,\n",
              "          3.9692e-01, 9.2876e-01, 2.0334e-01, 5.5108e-01, 4.6440e-01],\n",
              "         [3.2254e-01, 4.0396e-01, 9.0021e-01, 3.3236e-01, 6.2678e-02,\n",
              "          5.0777e-01, 9.1757e-01, 1.0935e-01, 5.2459e-01, 8.6261e-01],\n",
              "         [3.1374e-01, 1.6882e-01, 9.7452e-01, 5.8552e-01, 2.2010e-01,\n",
              "          6.0950e-01, 7.3749e-01, 6.7347e-01, 2.2959e-02, 6.0528e-01],\n",
              "         [3.2960e-02, 9.9632e-01, 3.7746e-01, 3.9514e-01, 1.2182e-01,\n",
              "          7.4265e-01, 1.3708e-01, 8.6573e-01, 3.7567e-01, 1.2139e-01],\n",
              "         [7.9677e-01, 2.4337e-01, 6.9999e-01, 5.6235e-01, 4.7328e-01,\n",
              "          3.0651e-02, 6.9768e-01, 6.4434e-01, 3.6261e-02, 8.0673e-01],\n",
              "         [1.2244e-01, 3.2881e-01, 3.1636e-02, 8.0254e-01, 1.1865e-01,\n",
              "          2.0954e-01, 3.8416e-01, 8.6423e-02, 2.7117e-01, 8.9364e-01],\n",
              "         [3.5796e-01, 5.8788e-01, 5.0528e-01, 5.1560e-01, 4.2570e-01,\n",
              "          3.8473e-01, 6.4160e-01, 4.7776e-01, 4.4892e-01, 3.4580e-02],\n",
              "         [2.7051e-01, 7.1927e-01, 2.3768e-01, 8.1910e-01, 7.9505e-01,\n",
              "          2.0685e-01, 5.6362e-01, 3.3233e-01, 8.5264e-01, 9.0340e-01],\n",
              "         [9.3689e-01, 5.6180e-01, 8.4970e-01, 5.3661e-02, 2.5329e-01,\n",
              "          6.3747e-01, 8.3864e-01, 3.4232e-01, 2.3823e-01, 7.8101e-01]],\n",
              "\n",
              "        [[4.8698e-01, 1.2198e-01, 6.0528e-01, 8.8844e-01, 9.1114e-01,\n",
              "          3.1267e-01, 3.0102e-01, 2.0266e-01, 9.9857e-01, 2.2194e-01],\n",
              "         [9.3714e-01, 7.3734e-01, 9.2801e-01, 4.5585e-01, 2.6366e-01,\n",
              "          9.6280e-01, 9.5996e-01, 4.3922e-01, 1.1149e-01, 6.4495e-01],\n",
              "         [9.4260e-01, 7.6407e-01, 8.1598e-02, 7.4258e-01, 5.3227e-01,\n",
              "          4.4379e-01, 4.0962e-01, 9.3806e-02, 6.5072e-01, 8.5151e-01],\n",
              "         [7.9563e-01, 1.2487e-01, 6.9849e-01, 6.0581e-01, 6.3551e-01,\n",
              "          8.5807e-02, 9.0058e-01, 6.9740e-01, 2.5476e-02, 1.3894e-01],\n",
              "         [7.4596e-01, 7.0524e-01, 5.5933e-01, 1.5355e-02, 9.3236e-02,\n",
              "          3.8537e-01, 1.7773e-01, 9.9644e-01, 1.3930e-01, 7.3337e-01],\n",
              "         [5.3108e-02, 8.3307e-01, 4.9561e-02, 9.8892e-01, 6.2745e-02,\n",
              "          9.8862e-01, 6.1995e-01, 3.2160e-01, 1.8205e-01, 7.9328e-02],\n",
              "         [5.4703e-01, 6.2197e-01, 6.9200e-01, 1.0812e-02, 4.9281e-01,\n",
              "          2.3240e-01, 1.6859e-01, 5.1677e-01, 6.5240e-01, 2.0486e-01],\n",
              "         [5.7882e-01, 2.7606e-01, 6.7525e-01, 2.2886e-01, 4.7765e-01,\n",
              "          6.5635e-01, 3.9382e-01, 7.2456e-01, 1.9330e-01, 1.0804e-01],\n",
              "         [8.2011e-02, 8.0243e-01, 3.9230e-01, 7.9675e-01, 9.7042e-01,\n",
              "          4.0419e-01, 2.8437e-01, 1.4124e-01, 8.6438e-01, 1.5399e-01],\n",
              "         [3.2456e-01, 9.7142e-01, 4.4005e-01, 5.5565e-01, 9.8153e-01,\n",
              "          1.1107e-01, 8.6025e-02, 9.6458e-01, 8.2479e-01, 9.5787e-02]],\n",
              "\n",
              "        [[1.8955e-01, 3.9101e-02, 7.7960e-01, 6.4990e-01, 5.7717e-01,\n",
              "          3.3130e-01, 9.2611e-01, 3.7495e-01, 6.3376e-01, 4.3172e-01],\n",
              "         [9.1243e-03, 7.2150e-01, 4.5902e-01, 3.3126e-01, 1.3314e-01,\n",
              "          3.1304e-01, 7.4431e-01, 6.2325e-01, 3.1584e-01, 9.9124e-01],\n",
              "         [5.9287e-02, 6.8613e-01, 9.3619e-01, 7.6971e-03, 5.7867e-01,\n",
              "          4.8680e-01, 5.9622e-01, 8.1745e-01, 4.5598e-01, 6.7938e-01],\n",
              "         [2.8406e-01, 7.4587e-01, 5.7563e-01, 8.5263e-01, 7.3512e-02,\n",
              "          5.8564e-01, 5.1997e-02, 4.7606e-01, 5.5831e-01, 1.4804e-01],\n",
              "         [5.4091e-01, 9.5262e-01, 8.5158e-01, 2.6297e-01, 8.4805e-01,\n",
              "          8.5410e-01, 7.2165e-01, 4.2668e-01, 4.1992e-01, 6.1646e-01],\n",
              "         [5.8586e-01, 3.0462e-01, 5.5907e-01, 2.5647e-01, 6.7370e-01,\n",
              "          9.8659e-01, 7.6870e-01, 1.2916e-01, 9.7104e-02, 3.2778e-01],\n",
              "         [7.6656e-01, 4.3721e-01, 1.8511e-01, 1.4120e-01, 7.6808e-01,\n",
              "          5.8074e-01, 8.1232e-01, 9.1133e-01, 7.9041e-01, 1.8520e-01],\n",
              "         [1.1593e-01, 4.4277e-01, 1.8815e-01, 2.4873e-04, 3.5485e-01,\n",
              "          8.5831e-01, 3.5816e-01, 7.3921e-02, 3.7329e-01, 2.1675e-01],\n",
              "         [5.4589e-01, 6.0229e-01, 9.0768e-01, 6.9664e-01, 8.7649e-01,\n",
              "          4.9870e-02, 4.0913e-01, 1.3225e-01, 4.5197e-01, 9.6379e-02],\n",
              "         [6.5934e-01, 1.3386e-01, 6.5230e-01, 5.0475e-01, 7.2165e-01,\n",
              "          7.6042e-01, 2.4120e-01, 9.3740e-01, 2.6772e-02, 5.4108e-01]],\n",
              "\n",
              "        [[8.4900e-01, 7.7732e-01, 6.6989e-01, 8.5487e-01, 8.6093e-01,\n",
              "          1.0709e-02, 8.0930e-02, 5.2126e-01, 3.1736e-01, 8.3726e-01],\n",
              "         [9.5601e-01, 7.4624e-01, 1.3778e-01, 7.5980e-01, 5.8072e-01,\n",
              "          7.9460e-01, 1.6487e-01, 5.2909e-01, 7.5781e-01, 8.5551e-01],\n",
              "         [9.1380e-02, 3.6963e-01, 6.1141e-02, 6.9028e-01, 7.5116e-01,\n",
              "          2.4203e-01, 7.9042e-01, 3.2334e-01, 7.4024e-02, 8.7081e-01],\n",
              "         [8.0998e-01, 9.2248e-01, 7.9205e-01, 6.3725e-01, 3.2412e-01,\n",
              "          4.7061e-02, 7.6569e-01, 2.0187e-01, 6.3186e-01, 3.3595e-02],\n",
              "         [7.2141e-01, 3.7542e-01, 9.5518e-01, 6.5449e-01, 8.0028e-02,\n",
              "          8.7634e-01, 7.1028e-01, 9.8520e-01, 2.2271e-01, 6.9551e-01],\n",
              "         [5.9129e-01, 9.9549e-01, 1.8155e-01, 9.1957e-01, 8.6621e-02,\n",
              "          7.2525e-03, 2.7097e-01, 3.6744e-01, 7.0930e-01, 6.8543e-01],\n",
              "         [9.2349e-01, 7.8969e-01, 1.1492e-01, 1.1455e-01, 8.7280e-02,\n",
              "          5.2862e-01, 7.4937e-01, 6.0411e-01, 3.3552e-01, 4.9488e-01],\n",
              "         [1.2735e-01, 4.6440e-01, 1.2830e-01, 1.3563e-01, 8.0268e-01,\n",
              "          4.6969e-01, 4.1840e-01, 2.2612e-01, 7.8188e-01, 9.6386e-01],\n",
              "         [8.0501e-01, 6.3151e-01, 9.3323e-02, 1.8330e-01, 6.1337e-01,\n",
              "          7.1458e-01, 3.8307e-01, 4.5438e-01, 9.2301e-01, 4.7612e-01],\n",
              "         [4.4369e-01, 6.4651e-01, 8.3413e-01, 4.3388e-01, 9.1596e-01,\n",
              "          9.3235e-01, 3.4074e-01, 6.4891e-01, 5.0668e-01, 7.1599e-01]],\n",
              "\n",
              "        [[2.1356e-01, 1.2090e-01, 9.4359e-01, 9.0773e-01, 5.3934e-01,\n",
              "          1.8511e-01, 4.6291e-01, 5.2916e-01, 6.1783e-01, 1.1896e-01],\n",
              "         [1.0816e-01, 5.5064e-01, 2.4888e-01, 7.5821e-01, 9.5827e-01,\n",
              "          6.0000e-01, 1.1284e-01, 7.8564e-01, 1.2476e-01, 5.5696e-01],\n",
              "         [8.7574e-01, 2.3769e-01, 8.1071e-01, 7.0460e-02, 2.6240e-01,\n",
              "          2.7062e-02, 8.7421e-01, 9.9869e-01, 6.8245e-01, 4.0582e-01],\n",
              "         [7.7557e-01, 2.1279e-04, 2.3132e-01, 4.1696e-02, 2.8070e-01,\n",
              "          2.5416e-01, 2.4101e-01, 4.1360e-01, 6.0353e-01, 6.1594e-01],\n",
              "         [6.1169e-02, 8.0818e-01, 3.8319e-01, 3.4723e-03, 8.2724e-01,\n",
              "          9.5860e-01, 3.0663e-01, 7.6131e-01, 2.9452e-01, 2.7086e-01],\n",
              "         [8.1544e-01, 9.9911e-01, 9.8991e-01, 7.8018e-01, 6.4951e-01,\n",
              "          7.1308e-01, 6.5283e-01, 9.6308e-01, 4.3409e-01, 6.8744e-02],\n",
              "         [9.2989e-01, 6.6635e-01, 9.6507e-01, 5.1380e-01, 6.4022e-01,\n",
              "          6.6388e-01, 2.1102e-01, 6.7115e-01, 8.6748e-01, 7.0331e-01],\n",
              "         [3.1861e-01, 7.2521e-01, 5.4560e-01, 2.0543e-01, 1.2377e-01,\n",
              "          3.9962e-01, 6.8894e-01, 2.3533e-01, 4.1720e-01, 2.1247e-01],\n",
              "         [1.2392e-01, 6.2940e-01, 8.9775e-01, 5.5622e-01, 1.4360e-01,\n",
              "          7.5758e-01, 5.7330e-01, 5.8237e-01, 6.2323e-01, 2.8560e-01],\n",
              "         [7.9044e-01, 3.6618e-01, 4.3622e-01, 6.2390e-01, 5.0800e-01,\n",
              "          9.2189e-01, 6.9491e-01, 1.2101e-01, 9.3204e-02, 2.9231e-01]]])"
            ]
          },
          "metadata": {},
          "execution_count": 21
        }
      ]
    },
    {
      "cell_type": "code",
      "source": [
        "#create a random tensor with similar shape to an image tensor\n",
        "\n",
        "random_image_size_tensor = torch.rand(size=(224,224,3)) #height, width, color channels\n",
        "random_image_size_tensor.shape, random_image_size_tensor.ndim"
      ],
      "metadata": {
        "colab": {
          "base_uri": "https://localhost:8080/"
        },
        "id": "DEs01KJNHtj4",
        "outputId": "9415d75e-3d81-42a0-e52f-5f7af7f42f83"
      },
      "execution_count": null,
      "outputs": [
        {
          "output_type": "execute_result",
          "data": {
            "text/plain": [
              "(torch.Size([224, 224, 3]), 3)"
            ]
          },
          "metadata": {},
          "execution_count": 22
        }
      ]
    },
    {
      "cell_type": "markdown",
      "source": [
        "#ZEROs and ONEs Tensor\n"
      ],
      "metadata": {
        "id": "o1oxzp-FI2Pk"
      }
    },
    {
      "cell_type": "code",
      "source": [
        "zero = torch.zeros(size=(3,4))\n",
        "zero"
      ],
      "metadata": {
        "colab": {
          "base_uri": "https://localhost:8080/"
        },
        "id": "WXxuCKNfJWnM",
        "outputId": "b9efac90-1a88-4ace-9c99-531e02c91d01"
      },
      "execution_count": null,
      "outputs": [
        {
          "output_type": "execute_result",
          "data": {
            "text/plain": [
              "tensor([[0., 0., 0., 0.],\n",
              "        [0., 0., 0., 0.],\n",
              "        [0., 0., 0., 0.]])"
            ]
          },
          "metadata": {},
          "execution_count": 23
        }
      ]
    },
    {
      "cell_type": "code",
      "source": [
        "ones = torch.ones(size=(3,4))\n",
        "ones"
      ],
      "metadata": {
        "colab": {
          "base_uri": "https://localhost:8080/"
        },
        "id": "0DSHDXJRJYdH",
        "outputId": "74ceb571-08a6-4f9f-ba63-baec67b1ea08"
      },
      "execution_count": null,
      "outputs": [
        {
          "output_type": "execute_result",
          "data": {
            "text/plain": [
              "tensor([[1., 1., 1., 1.],\n",
              "        [1., 1., 1., 1.],\n",
              "        [1., 1., 1., 1.]])"
            ]
          },
          "metadata": {},
          "execution_count": 24
        }
      ]
    },
    {
      "cell_type": "code",
      "source": [
        "ones.dtype, random_image_size_tensor.dtype"
      ],
      "metadata": {
        "colab": {
          "base_uri": "https://localhost:8080/"
        },
        "id": "3Feq2v6HJdjF",
        "outputId": "c8dd4347-bb1b-4ccf-feaa-0e3e95c7fcd1"
      },
      "execution_count": null,
      "outputs": [
        {
          "output_type": "execute_result",
          "data": {
            "text/plain": [
              "(torch.float32, torch.float32)"
            ]
          },
          "metadata": {},
          "execution_count": 25
        }
      ]
    },
    {
      "cell_type": "markdown",
      "source": [
        "#Creating a range of Tensor"
      ],
      "metadata": {
        "id": "OU1TQagfJrIF"
      }
    },
    {
      "cell_type": "code",
      "source": [
        "torch.arange(1,11)"
      ],
      "metadata": {
        "colab": {
          "base_uri": "https://localhost:8080/"
        },
        "id": "zu4lEBNpJofs",
        "outputId": "0cb819e3-3eec-431d-9bae-5ca3cf04e456"
      },
      "execution_count": null,
      "outputs": [
        {
          "output_type": "execute_result",
          "data": {
            "text/plain": [
              "tensor([ 1,  2,  3,  4,  5,  6,  7,  8,  9, 10])"
            ]
          },
          "metadata": {},
          "execution_count": 26
        }
      ]
    },
    {
      "cell_type": "markdown",
      "source": [
        "#Getting info from tensors"
      ],
      "metadata": {
        "id": "7jXT0tqTLmhZ"
      }
    },
    {
      "cell_type": "code",
      "source": [
        "some_tensor=torch.rand(3,4)\n",
        "print(some_tensor)\n",
        "print(f\"Datatype of tensor: {some_tensor.dtype}\")\n",
        "print(f\"Shape of tensor: {some_tensor.shape}\")"
      ],
      "metadata": {
        "colab": {
          "base_uri": "https://localhost:8080/"
        },
        "id": "QIdcwZKVLlr_",
        "outputId": "20457caf-db26-4d08-bc1e-6814f2f8d23f"
      },
      "execution_count": null,
      "outputs": [
        {
          "output_type": "stream",
          "name": "stdout",
          "text": [
            "tensor([[0.1271, 0.5440, 0.4965, 0.8567],\n",
            "        [0.7887, 0.5175, 0.4151, 0.0250],\n",
            "        [0.1283, 0.0816, 0.6647, 0.4918]])\n",
            "Datatype of tensor: torch.float32\n",
            "Shape of tensor: torch.Size([3, 4])\n"
          ]
        }
      ]
    },
    {
      "cell_type": "markdown",
      "source": [
        "# Manipulating Tensors\n",
        "* Add\n",
        "* Sub\n",
        "* Mul\n",
        "* Div\n",
        "* Matrix Mul"
      ],
      "metadata": {
        "id": "OkXWVLaDM98r"
      }
    },
    {
      "cell_type": "code",
      "source": [
        "#creating tensor and do operations\n",
        "tensor = torch.tensor([1,2,3])\n",
        "print(tensor + 10)\n",
        "print(tensor - 10)\n",
        "print(tensor * 10)\n",
        "print(tensor / 10)\n"
      ],
      "metadata": {
        "colab": {
          "base_uri": "https://localhost:8080/"
        },
        "id": "-NziTZSLNNdh",
        "outputId": "786576a8-63f2-4cd5-a7a6-6ba62c752d5d"
      },
      "execution_count": null,
      "outputs": [
        {
          "output_type": "stream",
          "name": "stdout",
          "text": [
            "tensor([11, 12, 13])\n",
            "tensor([-9, -8, -7])\n",
            "tensor([10, 20, 30])\n",
            "tensor([0.1000, 0.2000, 0.3000])\n"
          ]
        }
      ]
    },
    {
      "cell_type": "code",
      "source": [
        "# or can use .add  or .operator()\n",
        "#ex\n",
        "tensor.add(10)"
      ],
      "metadata": {
        "colab": {
          "base_uri": "https://localhost:8080/"
        },
        "id": "pyJlXGK1Nisw",
        "outputId": "929f396f-200b-4a56-bbc5-2f94a23bb711"
      },
      "execution_count": null,
      "outputs": [
        {
          "output_type": "execute_result",
          "data": {
            "text/plain": [
              "tensor([11, 12, 13])"
            ]
          },
          "metadata": {},
          "execution_count": 29
        }
      ]
    },
    {
      "cell_type": "markdown",
      "source": [
        "#Matrix Multiplication"
      ],
      "metadata": {
        "id": "XaCM_SrNOI6r"
      }
    },
    {
      "cell_type": "code",
      "source": [
        "#two type of mul\n",
        "%%time\n",
        "#normal multiplication\n",
        "tensor1 = torch.tensor([1,2,3])\n",
        "tensor2 = torch.tensor([1,2,3])\n",
        "print(tensor1,\"*\",tensor2,\"=\",tensor1*tensor2)\n"
      ],
      "metadata": {
        "colab": {
          "base_uri": "https://localhost:8080/"
        },
        "id": "y1JeWw7JOH5i",
        "outputId": "9f70c167-07c1-4b58-86d9-4e7476e069f8"
      },
      "execution_count": null,
      "outputs": [
        {
          "output_type": "stream",
          "name": "stdout",
          "text": [
            "tensor([1, 2, 3]) * tensor([1, 2, 3]) = tensor([1, 4, 9])\n",
            "CPU times: user 886 µs, sys: 0 ns, total: 886 µs\n",
            "Wall time: 1.2 ms\n"
          ]
        }
      ]
    },
    {
      "cell_type": "code",
      "source": [
        "%%time\n",
        "#Matrix multiply\n",
        "print(\"\\nMatrix Mul: \",tensor1.matmul(tensor2))"
      ],
      "metadata": {
        "colab": {
          "base_uri": "https://localhost:8080/"
        },
        "id": "MA_ICxa1PglR",
        "outputId": "93e9502b-9618-4453-ac49-c18ba97a1860"
      },
      "execution_count": null,
      "outputs": [
        {
          "output_type": "stream",
          "name": "stdout",
          "text": [
            "\n",
            "Matrix Mul:  tensor(14)\n",
            "CPU times: user 1.89 ms, sys: 0 ns, total: 1.89 ms\n",
            "Wall time: 6.95 ms\n"
          ]
        }
      ]
    },
    {
      "cell_type": "markdown",
      "source": [
        "### FInding\n",
        "* Min\n",
        "* max\n",
        "* mean\n",
        "* sum"
      ],
      "metadata": {
        "id": "7s-n1nBAQPDi"
      }
    },
    {
      "cell_type": "code",
      "source": [
        "#Create a tensor\n",
        "x = torch.arange(0,100,10)\n",
        "x"
      ],
      "metadata": {
        "colab": {
          "base_uri": "https://localhost:8080/"
        },
        "id": "BcTTReO5Qazl",
        "outputId": "d06d18bc-7c65-4e53-80ad-9a31d0ffa89c"
      },
      "execution_count": null,
      "outputs": [
        {
          "output_type": "execute_result",
          "data": {
            "text/plain": [
              "tensor([ 0, 10, 20, 30, 40, 50, 60, 70, 80, 90])"
            ]
          },
          "metadata": {},
          "execution_count": 32
        }
      ]
    },
    {
      "cell_type": "code",
      "source": [
        "torch.max(x),x.max()"
      ],
      "metadata": {
        "colab": {
          "base_uri": "https://localhost:8080/"
        },
        "id": "fQVK571iQ1nD",
        "outputId": "526f300e-05af-4571-ba7b-2faa78b569a4"
      },
      "execution_count": null,
      "outputs": [
        {
          "output_type": "execute_result",
          "data": {
            "text/plain": [
              "(tensor(90), tensor(90))"
            ]
          },
          "metadata": {},
          "execution_count": 33
        }
      ]
    },
    {
      "cell_type": "code",
      "source": [
        "torch.min(x),x.min()"
      ],
      "metadata": {
        "colab": {
          "base_uri": "https://localhost:8080/"
        },
        "id": "v5hcRdN6RnXS",
        "outputId": "9ae322fe-def9-4da4-a6ab-c0042139e342"
      },
      "execution_count": null,
      "outputs": [
        {
          "output_type": "execute_result",
          "data": {
            "text/plain": [
              "(tensor(0), tensor(0))"
            ]
          },
          "metadata": {},
          "execution_count": 34
        }
      ]
    },
    {
      "cell_type": "code",
      "source": [
        "#raise error due to datatype problem\n",
        "torch.mean(x)"
      ],
      "metadata": {
        "colab": {
          "base_uri": "https://localhost:8080/",
          "height": 176
        },
        "id": "HH7Mj_ATQ8zX",
        "outputId": "4b1a3142-11ba-43d5-8f21-5a3aae414463"
      },
      "execution_count": null,
      "outputs": [
        {
          "output_type": "error",
          "ename": "RuntimeError",
          "evalue": "mean(): could not infer output dtype. Input dtype must be either a floating point or complex dtype. Got: Long",
          "traceback": [
            "\u001b[0;31m---------------------------------------------------------------------------\u001b[0m",
            "\u001b[0;31mRuntimeError\u001b[0m                              Traceback (most recent call last)",
            "\u001b[0;32m<ipython-input-35-2a2e1d5a92ad>\u001b[0m in \u001b[0;36m<cell line: 2>\u001b[0;34m()\u001b[0m\n\u001b[1;32m      1\u001b[0m \u001b[0;31m#raise error due to datatype problem\u001b[0m\u001b[0;34m\u001b[0m\u001b[0;34m\u001b[0m\u001b[0m\n\u001b[0;32m----> 2\u001b[0;31m \u001b[0mtorch\u001b[0m\u001b[0;34m.\u001b[0m\u001b[0mmean\u001b[0m\u001b[0;34m(\u001b[0m\u001b[0mx\u001b[0m\u001b[0;34m)\u001b[0m\u001b[0;34m\u001b[0m\u001b[0;34m\u001b[0m\u001b[0m\n\u001b[0m",
            "\u001b[0;31mRuntimeError\u001b[0m: mean(): could not infer output dtype. Input dtype must be either a floating point or complex dtype. Got: Long"
          ]
        }
      ]
    },
    {
      "cell_type": "code",
      "source": [
        "torch.mean(x.type(torch.float32)),x.type(torch.float32).mean()"
      ],
      "metadata": {
        "colab": {
          "base_uri": "https://localhost:8080/"
        },
        "id": "pSqx7iNtROqj",
        "outputId": "f2691a91-a65b-4721-8f54-87bed0361c9a"
      },
      "execution_count": null,
      "outputs": [
        {
          "output_type": "execute_result",
          "data": {
            "text/plain": [
              "(tensor(45.), tensor(45.))"
            ]
          },
          "metadata": {},
          "execution_count": 36
        }
      ]
    },
    {
      "cell_type": "code",
      "source": [
        "torch.sum(x),x.sum()"
      ],
      "metadata": {
        "colab": {
          "base_uri": "https://localhost:8080/"
        },
        "id": "-rbiBToNRWcf",
        "outputId": "4d74cbef-2145-4d1c-c4a4-9ca9374576ec"
      },
      "execution_count": null,
      "outputs": [
        {
          "output_type": "execute_result",
          "data": {
            "text/plain": [
              "(tensor(450), tensor(450))"
            ]
          },
          "metadata": {},
          "execution_count": 37
        }
      ]
    },
    {
      "cell_type": "markdown",
      "source": [
        "# Finding Positional of min and max"
      ],
      "metadata": {
        "id": "2AwSYuAuS481"
      }
    },
    {
      "cell_type": "code",
      "source": [
        "print(\"Min pos: \",x.argmin())\n",
        "print(\"Max pos: \",x.argmax())"
      ],
      "metadata": {
        "colab": {
          "base_uri": "https://localhost:8080/"
        },
        "id": "w1ye_4fMR09E",
        "outputId": "697d6134-93c6-479f-e4c3-6f9a71dd7734"
      },
      "execution_count": null,
      "outputs": [
        {
          "output_type": "stream",
          "name": "stdout",
          "text": [
            "Min pos:  tensor(0)\n",
            "Max pos:  tensor(9)\n"
          ]
        }
      ]
    },
    {
      "cell_type": "markdown",
      "source": [
        "# Reshaping, sacking, squeezing and unsqueezing"
      ],
      "metadata": {
        "id": "9ZleSZ1WfDGN"
      }
    },
    {
      "cell_type": "code",
      "source": [
        "x = torch.arange(1.,13.)\n",
        "x,x.shape"
      ],
      "metadata": {
        "colab": {
          "base_uri": "https://localhost:8080/"
        },
        "id": "EbtmM9CxfQgu",
        "outputId": "4ee67a4f-2ac5-40f9-cfe4-f6b3041caaa3"
      },
      "execution_count": null,
      "outputs": [
        {
          "output_type": "execute_result",
          "data": {
            "text/plain": [
              "(tensor([ 1.,  2.,  3.,  4.,  5.,  6.,  7.,  8.,  9., 10., 11., 12.]),\n",
              " torch.Size([12]))"
            ]
          },
          "metadata": {},
          "execution_count": 39
        }
      ]
    },
    {
      "cell_type": "code",
      "source": [
        "x_reshaped = x.reshape(6,2)\n",
        "x_reshaped,x_reshaped.shape"
      ],
      "metadata": {
        "colab": {
          "base_uri": "https://localhost:8080/"
        },
        "id": "T5EsTYQXgGoj",
        "outputId": "997c25e4-f2bd-4014-c6fc-47e8a3d003ae"
      },
      "execution_count": null,
      "outputs": [
        {
          "output_type": "execute_result",
          "data": {
            "text/plain": [
              "(tensor([[ 1.,  2.],\n",
              "         [ 3.,  4.],\n",
              "         [ 5.,  6.],\n",
              "         [ 7.,  8.],\n",
              "         [ 9., 10.],\n",
              "         [11., 12.]]),\n",
              " torch.Size([6, 2]))"
            ]
          },
          "metadata": {},
          "execution_count": 40
        }
      ]
    },
    {
      "cell_type": "code",
      "source": [
        "#changing the view\n",
        "z = x.view(1,12)\n",
        "z,z.shape"
      ],
      "metadata": {
        "colab": {
          "base_uri": "https://localhost:8080/"
        },
        "id": "LofHM3rNgSfb",
        "outputId": "27c49bea-9734-4a7c-a59e-3564211dba50"
      },
      "execution_count": null,
      "outputs": [
        {
          "output_type": "execute_result",
          "data": {
            "text/plain": [
              "(tensor([[ 1.,  2.,  3.,  4.,  5.,  6.,  7.,  8.,  9., 10., 11., 12.]]),\n",
              " torch.Size([1, 12]))"
            ]
          },
          "metadata": {},
          "execution_count": 41
        }
      ]
    },
    {
      "cell_type": "code",
      "source": [
        "# changing z changes x\n",
        "z[:,0] = 5\n",
        "z,x"
      ],
      "metadata": {
        "colab": {
          "base_uri": "https://localhost:8080/"
        },
        "id": "isEdNPmPg6Zp",
        "outputId": "6d73913a-049f-4f74-fb2b-55b59f03f7c4"
      },
      "execution_count": null,
      "outputs": [
        {
          "output_type": "execute_result",
          "data": {
            "text/plain": [
              "(tensor([[ 5.,  2.,  3.,  4.,  5.,  6.,  7.,  8.,  9., 10., 11., 12.]]),\n",
              " tensor([ 5.,  2.,  3.,  4.,  5.,  6.,  7.,  8.,  9., 10., 11., 12.]))"
            ]
          },
          "metadata": {},
          "execution_count": 42
        }
      ]
    },
    {
      "cell_type": "code",
      "source": [
        "#Stacking\n",
        "x_stacked = torch.stack([x,x,x,x],dim=0)\n",
        "x_stacked"
      ],
      "metadata": {
        "colab": {
          "base_uri": "https://localhost:8080/"
        },
        "id": "VbQ7KdOnhKwR",
        "outputId": "97ac1889-94af-456b-b18f-c3ebd8a6c77b"
      },
      "execution_count": null,
      "outputs": [
        {
          "output_type": "execute_result",
          "data": {
            "text/plain": [
              "tensor([[ 5.,  2.,  3.,  4.,  5.,  6.,  7.,  8.,  9., 10., 11., 12.],\n",
              "        [ 5.,  2.,  3.,  4.,  5.,  6.,  7.,  8.,  9., 10., 11., 12.],\n",
              "        [ 5.,  2.,  3.,  4.,  5.,  6.,  7.,  8.,  9., 10., 11., 12.],\n",
              "        [ 5.,  2.,  3.,  4.,  5.,  6.,  7.,  8.,  9., 10., 11., 12.]])"
            ]
          },
          "metadata": {},
          "execution_count": 43
        }
      ]
    },
    {
      "cell_type": "code",
      "source": [
        "#squeeze\n",
        "print (x_reshaped)\n",
        "x_reshaped = x_reshaped.reshape(1,12)\n",
        "print(x_reshaped)\n",
        "x_squeezed = x_reshaped.squeeze()\n",
        "x_squeezed"
      ],
      "metadata": {
        "colab": {
          "base_uri": "https://localhost:8080/"
        },
        "id": "OUJwJk9lhTyY",
        "outputId": "80a9b6b7-00c7-4656-8c7a-af2d50843989"
      },
      "execution_count": null,
      "outputs": [
        {
          "output_type": "stream",
          "name": "stdout",
          "text": [
            "tensor([[ 5.,  2.],\n",
            "        [ 3.,  4.],\n",
            "        [ 5.,  6.],\n",
            "        [ 7.,  8.],\n",
            "        [ 9., 10.],\n",
            "        [11., 12.]])\n",
            "tensor([[ 5.,  2.,  3.,  4.,  5.,  6.,  7.,  8.,  9., 10., 11., 12.]])\n"
          ]
        },
        {
          "output_type": "execute_result",
          "data": {
            "text/plain": [
              "tensor([ 5.,  2.,  3.,  4.,  5.,  6.,  7.,  8.,  9., 10., 11., 12.])"
            ]
          },
          "metadata": {},
          "execution_count": 44
        }
      ]
    },
    {
      "cell_type": "code",
      "source": [
        "#unsqueeze\n",
        "x_unsqueezed = x_squeezed.unsqueeze(dim=0)\n",
        "x_unsqueezed"
      ],
      "metadata": {
        "colab": {
          "base_uri": "https://localhost:8080/"
        },
        "id": "cEqBaB79h8GO",
        "outputId": "304e1de4-a053-4508-8acb-15110544ee3d"
      },
      "execution_count": null,
      "outputs": [
        {
          "output_type": "execute_result",
          "data": {
            "text/plain": [
              "tensor([[ 5.,  2.,  3.,  4.,  5.,  6.,  7.,  8.,  9., 10., 11., 12.]])"
            ]
          },
          "metadata": {},
          "execution_count": 45
        }
      ]
    },
    {
      "cell_type": "code",
      "source": [
        "#permute\n",
        "x_original = torch.rand(size=(224,224,3))\n",
        "x_original.shape"
      ],
      "metadata": {
        "colab": {
          "base_uri": "https://localhost:8080/"
        },
        "id": "LkGVtoITibdH",
        "outputId": "dd6af207-3dfb-4da2-97aa-768a4da86712"
      },
      "execution_count": null,
      "outputs": [
        {
          "output_type": "execute_result",
          "data": {
            "text/plain": [
              "torch.Size([224, 224, 3])"
            ]
          },
          "metadata": {},
          "execution_count": 46
        }
      ]
    },
    {
      "cell_type": "code",
      "source": [
        "x_permuted = x_original.permute(2,0,1)\n",
        "x_permuted.shape"
      ],
      "metadata": {
        "colab": {
          "base_uri": "https://localhost:8080/"
        },
        "id": "rZaSCH7-ifvw",
        "outputId": "6c37c86e-7b68-43ed-dd49-87e7b9b6bac8"
      },
      "execution_count": null,
      "outputs": [
        {
          "output_type": "execute_result",
          "data": {
            "text/plain": [
              "torch.Size([3, 224, 224])"
            ]
          },
          "metadata": {},
          "execution_count": 47
        }
      ]
    },
    {
      "cell_type": "markdown",
      "source": [
        "# Indexing (Selecting data from tensor)"
      ],
      "metadata": {
        "id": "Poq2jpaKLv4M"
      }
    },
    {
      "cell_type": "code",
      "source": [
        "x = torch.arange(1,10).reshape(1,3,3)\n",
        "x,x.shape"
      ],
      "metadata": {
        "colab": {
          "base_uri": "https://localhost:8080/"
        },
        "id": "D2I804SmLvhD",
        "outputId": "8cf36980-93e9-4062-9737-05abc8ff940e"
      },
      "execution_count": null,
      "outputs": [
        {
          "output_type": "execute_result",
          "data": {
            "text/plain": [
              "(tensor([[[1, 2, 3],\n",
              "          [4, 5, 6],\n",
              "          [7, 8, 9]]]),\n",
              " torch.Size([1, 3, 3]))"
            ]
          },
          "metadata": {},
          "execution_count": 48
        }
      ]
    },
    {
      "cell_type": "code",
      "source": [
        "x[0]"
      ],
      "metadata": {
        "id": "LmUKEMhrik1F",
        "colab": {
          "base_uri": "https://localhost:8080/"
        },
        "outputId": "6f47812b-8934-4038-89b5-2a83051c92bb"
      },
      "execution_count": null,
      "outputs": [
        {
          "output_type": "execute_result",
          "data": {
            "text/plain": [
              "tensor([[1, 2, 3],\n",
              "        [4, 5, 6],\n",
              "        [7, 8, 9]])"
            ]
          },
          "metadata": {},
          "execution_count": 49
        }
      ]
    },
    {
      "cell_type": "code",
      "source": [
        "x[0][0]"
      ],
      "metadata": {
        "colab": {
          "base_uri": "https://localhost:8080/"
        },
        "id": "EHY6jqteMKsL",
        "outputId": "06a33e48-7c86-41be-df00-bd5e7203d68c"
      },
      "execution_count": null,
      "outputs": [
        {
          "output_type": "execute_result",
          "data": {
            "text/plain": [
              "tensor([1, 2, 3])"
            ]
          },
          "metadata": {},
          "execution_count": 50
        }
      ]
    },
    {
      "cell_type": "code",
      "source": [
        "x[0][0][0]"
      ],
      "metadata": {
        "colab": {
          "base_uri": "https://localhost:8080/"
        },
        "id": "-RWo3LkuMOVV",
        "outputId": "144034a6-61b0-4786-8abe-9b48c72d8160"
      },
      "execution_count": null,
      "outputs": [
        {
          "output_type": "execute_result",
          "data": {
            "text/plain": [
              "tensor(1)"
            ]
          },
          "metadata": {},
          "execution_count": 51
        }
      ]
    },
    {
      "cell_type": "code",
      "source": [
        "x[:,2]"
      ],
      "metadata": {
        "colab": {
          "base_uri": "https://localhost:8080/"
        },
        "id": "8SvJjp_WMSMX",
        "outputId": "d82714a2-5421-4c6b-817a-64ad5360bc61"
      },
      "execution_count": null,
      "outputs": [
        {
          "output_type": "execute_result",
          "data": {
            "text/plain": [
              "tensor([[7, 8, 9]])"
            ]
          },
          "metadata": {},
          "execution_count": 52
        }
      ]
    },
    {
      "cell_type": "code",
      "source": [
        "x[:,:,1]"
      ],
      "metadata": {
        "colab": {
          "base_uri": "https://localhost:8080/"
        },
        "id": "jar4hVmOMh5X",
        "outputId": "6085c88e-3369-40ca-c6e4-ee29bffae53f"
      },
      "execution_count": null,
      "outputs": [
        {
          "output_type": "execute_result",
          "data": {
            "text/plain": [
              "tensor([[2, 5, 8]])"
            ]
          },
          "metadata": {},
          "execution_count": 53
        }
      ]
    },
    {
      "cell_type": "code",
      "source": [
        "x[:,1,1]"
      ],
      "metadata": {
        "colab": {
          "base_uri": "https://localhost:8080/"
        },
        "id": "xmqsN3RcMoeO",
        "outputId": "e8d434e0-7c24-4602-96c2-ce2b00d081db"
      },
      "execution_count": null,
      "outputs": [
        {
          "output_type": "execute_result",
          "data": {
            "text/plain": [
              "tensor([5])"
            ]
          },
          "metadata": {},
          "execution_count": 54
        }
      ]
    },
    {
      "cell_type": "markdown",
      "source": [
        "## PyTorch tensor and NumPy"
      ],
      "metadata": {
        "id": "7u4RiIsRNx1p"
      }
    },
    {
      "cell_type": "code",
      "source": [
        "#NumPy arr to Tensors\n",
        "array = np.arange(1.0,8.0)\n",
        "tensor = torch.from_numpy(array)\n",
        "array,tensor"
      ],
      "metadata": {
        "colab": {
          "base_uri": "https://localhost:8080/"
        },
        "id": "lkaHnvSlM0Ft",
        "outputId": "6d919e37-4469-4a3b-e79a-3c0875d0b33d"
      },
      "execution_count": null,
      "outputs": [
        {
          "output_type": "execute_result",
          "data": {
            "text/plain": [
              "(array([1., 2., 3., 4., 5., 6., 7.]),\n",
              " tensor([1., 2., 3., 4., 5., 6., 7.], dtype=torch.float64))"
            ]
          },
          "metadata": {},
          "execution_count": 55
        }
      ]
    },
    {
      "cell_type": "markdown",
      "source": [
        "# Reproducbility"
      ],
      "metadata": {
        "id": "Hd1TzEvyPIbw"
      }
    },
    {
      "cell_type": "code",
      "source": [
        "#creating random tensor\n",
        "tensora = torch.rand(3,4)\n",
        "tensorb = torch.rand(3,4)\n",
        "print(tensora)\n",
        "print(tensorb)\n",
        "print(tensora==tensorb)"
      ],
      "metadata": {
        "colab": {
          "base_uri": "https://localhost:8080/"
        },
        "id": "PRo-1WZ7Ofhk",
        "outputId": "622101a8-fffd-4f5a-a199-58405196cc45"
      },
      "execution_count": null,
      "outputs": [
        {
          "output_type": "stream",
          "name": "stdout",
          "text": [
            "tensor([[0.5527, 0.0093, 0.4139, 0.1552],\n",
            "        [0.6930, 0.6984, 0.9492, 0.5784],\n",
            "        [0.9673, 0.7580, 0.4352, 0.5020]])\n",
            "tensor([[0.2210, 0.2898, 0.1604, 0.7409],\n",
            "        [0.4807, 0.9687, 0.3524, 0.9186],\n",
            "        [0.1001, 0.0655, 0.4527, 0.4771]])\n",
            "tensor([[False, False, False, False],\n",
            "        [False, False, False, False],\n",
            "        [False, False, False, False]])\n"
          ]
        }
      ]
    },
    {
      "cell_type": "code",
      "source": [
        "#Set the random seed\n",
        "RANDOM_SEED = 42\n",
        "torch.manual_seed(RANDOM_SEED)\n",
        "random_tensor_c = torch.rand(3,4)\n",
        "torch.manual_seed(RANDOM_SEED)\n",
        "random_tensor_d = torch.rand(3,4)\n",
        "print(random_tensor_c)\n",
        "print(random_tensor_d)\n",
        "print(random_tensor_c==random_tensor_d)"
      ],
      "metadata": {
        "colab": {
          "base_uri": "https://localhost:8080/"
        },
        "id": "wQfaeedgZfBN",
        "outputId": "1678765c-0293-4d71-aae5-b3deaa5cc224"
      },
      "execution_count": null,
      "outputs": [
        {
          "output_type": "stream",
          "name": "stdout",
          "text": [
            "tensor([[0.8823, 0.9150, 0.3829, 0.9593],\n",
            "        [0.3904, 0.6009, 0.2566, 0.7936],\n",
            "        [0.9408, 0.1332, 0.9346, 0.5936]])\n",
            "tensor([[0.8823, 0.9150, 0.3829, 0.9593],\n",
            "        [0.3904, 0.6009, 0.2566, 0.7936],\n",
            "        [0.9408, 0.1332, 0.9346, 0.5936]])\n",
            "tensor([[True, True, True, True],\n",
            "        [True, True, True, True],\n",
            "        [True, True, True, True]])\n"
          ]
        }
      ]
    },
    {
      "cell_type": "code",
      "source": [
        "torch.manual_seed(RANDOM_SEED)"
      ],
      "metadata": {
        "colab": {
          "base_uri": "https://localhost:8080/"
        },
        "id": "tcl_d-QrZe8V",
        "outputId": "a7479ac8-d9b3-441c-c8b0-9b970e556638"
      },
      "execution_count": null,
      "outputs": [
        {
          "output_type": "execute_result",
          "data": {
            "text/plain": [
              "<torch._C.Generator at 0x7aa74a1d4a70>"
            ]
          },
          "metadata": {},
          "execution_count": 58
        }
      ]
    },
    {
      "cell_type": "markdown",
      "source": [
        "# Running code on GPUs\n",
        "Makes the computation faster"
      ],
      "metadata": {
        "id": "ZEYQkCk9csEq"
      }
    },
    {
      "cell_type": "code",
      "source": [
        "torch.cuda.is_available()"
      ],
      "metadata": {
        "colab": {
          "base_uri": "https://localhost:8080/"
        },
        "id": "Yg76zGipcq1n",
        "outputId": "e3247b65-180d-4bf5-a44c-95b156b6ce78"
      },
      "execution_count": null,
      "outputs": [
        {
          "output_type": "execute_result",
          "data": {
            "text/plain": [
              "True"
            ]
          },
          "metadata": {},
          "execution_count": 59
        }
      ]
    },
    {
      "cell_type": "code",
      "source": [],
      "metadata": {
        "id": "XPqObIzfcjAl"
      },
      "execution_count": null,
      "outputs": []
    }
  ]
}