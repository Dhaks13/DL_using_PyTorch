{
  "nbformat": 4,
  "nbformat_minor": 0,
  "metadata": {
    "colab": {
      "provenance": [],
      "authorship_tag": "ABX9TyMlUwSC1NZZBEen75wZZjHR",
      "include_colab_link": true
    },
    "kernelspec": {
      "name": "python3",
      "display_name": "Python 3"
    },
    "language_info": {
      "name": "python"
    }
  },
  "cells": [
    {
      "cell_type": "markdown",
      "metadata": {
        "id": "view-in-github",
        "colab_type": "text"
      },
      "source": [
        "<a href=\"https://colab.research.google.com/github/Dhaks13/DL_using_PyTorch/blob/main/00_PyTorch_Fundamentals.ipynb\" target=\"_parent\"><img src=\"https://colab.research.google.com/assets/colab-badge.svg\" alt=\"Open In Colab\"/></a>"
      ]
    },
    {
      "cell_type": "code",
      "execution_count": 1,
      "metadata": {
        "colab": {
          "base_uri": "https://localhost:8080/"
        },
        "id": "I0D0EPR3wHF_",
        "outputId": "d8ca45a5-63ad-4499-aa0a-02f3f6914995"
      },
      "outputs": [
        {
          "output_type": "stream",
          "name": "stdout",
          "text": [
            "/bin/bash: line 1: nvidia-smi: command not found\n"
          ]
        }
      ],
      "source": [
        "!nvidia-smi"
      ]
    },
    {
      "cell_type": "code",
      "source": [
        "import torch\n",
        "import pandas as pd\n",
        "import numpy as np\n",
        "import matplotlib.pyplot as plt\n",
        "torch.__version__"
      ],
      "metadata": {
        "colab": {
          "base_uri": "https://localhost:8080/",
          "height": 35
        },
        "id": "qAMkLySbxjv9",
        "outputId": "9725f4e7-8897-4718-c452-5734b9b908d3"
      },
      "execution_count": 2,
      "outputs": [
        {
          "output_type": "execute_result",
          "data": {
            "text/plain": [
              "'2.3.1+cu121'"
            ],
            "application/vnd.google.colaboratory.intrinsic+json": {
              "type": "string"
            }
          },
          "metadata": {},
          "execution_count": 2
        }
      ]
    },
    {
      "cell_type": "markdown",
      "source": [
        "### Introduction to Tensors\n",
        "  Creating Tensors"
      ],
      "metadata": {
        "id": "Kte0TIxwy6qe"
      }
    },
    {
      "cell_type": "code",
      "source": [
        "#scalar\n",
        "scalar = torch.tensor(7)\n",
        "scalar"
      ],
      "metadata": {
        "colab": {
          "base_uri": "https://localhost:8080/"
        },
        "id": "FS78d2lsypXy",
        "outputId": "3626112f-b06a-424e-8a8a-79a24b62b0dd"
      },
      "execution_count": 3,
      "outputs": [
        {
          "output_type": "execute_result",
          "data": {
            "text/plain": [
              "tensor(7)"
            ]
          },
          "metadata": {},
          "execution_count": 3
        }
      ]
    },
    {
      "cell_type": "code",
      "source": [
        "scalar.ndim"
      ],
      "metadata": {
        "colab": {
          "base_uri": "https://localhost:8080/"
        },
        "id": "UlkUxMde33Xz",
        "outputId": "392c7523-0d9a-484a-a17c-dcb22fd0bdd6"
      },
      "execution_count": 4,
      "outputs": [
        {
          "output_type": "execute_result",
          "data": {
            "text/plain": [
              "0"
            ]
          },
          "metadata": {},
          "execution_count": 4
        }
      ]
    },
    {
      "cell_type": "code",
      "source": [
        "scalar.item()"
      ],
      "metadata": {
        "colab": {
          "base_uri": "https://localhost:8080/"
        },
        "id": "CLGPCOm74PMk",
        "outputId": "d93ddd02-8083-4cf7-8a49-75c3141b4682"
      },
      "execution_count": 5,
      "outputs": [
        {
          "output_type": "execute_result",
          "data": {
            "text/plain": [
              "7"
            ]
          },
          "metadata": {},
          "execution_count": 5
        }
      ]
    },
    {
      "cell_type": "code",
      "source": [
        "vector = torch.tensor([7,7])\n",
        "vector"
      ],
      "metadata": {
        "colab": {
          "base_uri": "https://localhost:8080/"
        },
        "id": "nyUqoQ2X4UNS",
        "outputId": "477058d3-8fba-47ea-9438-c26af30424b6"
      },
      "execution_count": 6,
      "outputs": [
        {
          "output_type": "execute_result",
          "data": {
            "text/plain": [
              "tensor([7, 7])"
            ]
          },
          "metadata": {},
          "execution_count": 6
        }
      ]
    },
    {
      "cell_type": "code",
      "source": [
        "vector.ndim"
      ],
      "metadata": {
        "colab": {
          "base_uri": "https://localhost:8080/"
        },
        "id": "ieZlGWwZ4mcD",
        "outputId": "7f02354f-da86-4017-c5f6-471f45a15aa8"
      },
      "execution_count": 7,
      "outputs": [
        {
          "output_type": "execute_result",
          "data": {
            "text/plain": [
              "1"
            ]
          },
          "metadata": {},
          "execution_count": 7
        }
      ]
    },
    {
      "cell_type": "code",
      "source": [
        "vector.shape"
      ],
      "metadata": {
        "colab": {
          "base_uri": "https://localhost:8080/"
        },
        "id": "N48lSUQE4qTw",
        "outputId": "33b26d9a-1733-4558-e305-9f9a82b91be5"
      },
      "execution_count": 8,
      "outputs": [
        {
          "output_type": "execute_result",
          "data": {
            "text/plain": [
              "torch.Size([2])"
            ]
          },
          "metadata": {},
          "execution_count": 8
        }
      ]
    },
    {
      "cell_type": "code",
      "source": [
        "#Matrix\n",
        "\n",
        "matrix = torch.tensor([[7,8],\n",
        "                      [9,10]])\n",
        "matrix"
      ],
      "metadata": {
        "colab": {
          "base_uri": "https://localhost:8080/"
        },
        "id": "q1ZybgaO4u5-",
        "outputId": "1af74b87-974e-451b-db70-dce65bd57a61"
      },
      "execution_count": 9,
      "outputs": [
        {
          "output_type": "execute_result",
          "data": {
            "text/plain": [
              "tensor([[ 7,  8],\n",
              "        [ 9, 10]])"
            ]
          },
          "metadata": {},
          "execution_count": 9
        }
      ]
    },
    {
      "cell_type": "code",
      "source": [
        "matrix.ndim"
      ],
      "metadata": {
        "colab": {
          "base_uri": "https://localhost:8080/"
        },
        "id": "f8tq7n6j5adV",
        "outputId": "a74da87b-2860-44a4-cb97-793eb9d3f9eb"
      },
      "execution_count": 10,
      "outputs": [
        {
          "output_type": "execute_result",
          "data": {
            "text/plain": [
              "2"
            ]
          },
          "metadata": {},
          "execution_count": 10
        }
      ]
    },
    {
      "cell_type": "code",
      "source": [
        "matrix[1]"
      ],
      "metadata": {
        "colab": {
          "base_uri": "https://localhost:8080/"
        },
        "id": "IHcZIwtM5c5b",
        "outputId": "95ab29df-0f8f-4c29-91af-8c6b7d1bf1eb"
      },
      "execution_count": 11,
      "outputs": [
        {
          "output_type": "execute_result",
          "data": {
            "text/plain": [
              "tensor([ 9, 10])"
            ]
          },
          "metadata": {},
          "execution_count": 11
        }
      ]
    },
    {
      "cell_type": "code",
      "source": [
        "matrix.shape"
      ],
      "metadata": {
        "id": "iv08Na9I5kLY",
        "colab": {
          "base_uri": "https://localhost:8080/"
        },
        "outputId": "9ba8978b-7495-4684-e1d5-ee60298e1561"
      },
      "execution_count": 12,
      "outputs": [
        {
          "output_type": "execute_result",
          "data": {
            "text/plain": [
              "torch.Size([2, 2])"
            ]
          },
          "metadata": {},
          "execution_count": 12
        }
      ]
    },
    {
      "cell_type": "code",
      "source": [
        "#TENSOR\n",
        "\n",
        "TENSOR = torch.tensor([[\n",
        "    [1,2,3],\n",
        "    [3,6,9],\n",
        "    [2,4,5]\n",
        "]])\n",
        "\n",
        "TENSOR"
      ],
      "metadata": {
        "colab": {
          "base_uri": "https://localhost:8080/"
        },
        "id": "Hcn2GMS0FO6R",
        "outputId": "13bbca96-e45d-4c12-c71f-db99e0641fbd"
      },
      "execution_count": 13,
      "outputs": [
        {
          "output_type": "execute_result",
          "data": {
            "text/plain": [
              "tensor([[[1, 2, 3],\n",
              "         [3, 6, 9],\n",
              "         [2, 4, 5]]])"
            ]
          },
          "metadata": {},
          "execution_count": 13
        }
      ]
    },
    {
      "cell_type": "code",
      "source": [
        "TENSOR.ndim"
      ],
      "metadata": {
        "colab": {
          "base_uri": "https://localhost:8080/"
        },
        "id": "u22TmPORFmBT",
        "outputId": "777b01f2-a2ee-45e8-c58d-c48da15e7031"
      },
      "execution_count": 14,
      "outputs": [
        {
          "output_type": "execute_result",
          "data": {
            "text/plain": [
              "3"
            ]
          },
          "metadata": {},
          "execution_count": 14
        }
      ]
    },
    {
      "cell_type": "code",
      "source": [
        "TENSOR.shape"
      ],
      "metadata": {
        "colab": {
          "base_uri": "https://localhost:8080/"
        },
        "id": "VOs-n6ZNFph1",
        "outputId": "eb850e10-92a8-4d6a-fe71-e99157ba5ab0"
      },
      "execution_count": 15,
      "outputs": [
        {
          "output_type": "execute_result",
          "data": {
            "text/plain": [
              "torch.Size([1, 3, 3])"
            ]
          },
          "metadata": {},
          "execution_count": 15
        }
      ]
    },
    {
      "cell_type": "code",
      "source": [
        "TENSOR[0]"
      ],
      "metadata": {
        "colab": {
          "base_uri": "https://localhost:8080/"
        },
        "id": "Fowm67ZUFwvY",
        "outputId": "d94a8ed7-cd62-48c2-dca9-ee709cfadb84"
      },
      "execution_count": 16,
      "outputs": [
        {
          "output_type": "execute_result",
          "data": {
            "text/plain": [
              "tensor([[1, 2, 3],\n",
              "        [3, 6, 9],\n",
              "        [2, 4, 5]])"
            ]
          },
          "metadata": {},
          "execution_count": 16
        }
      ]
    },
    {
      "cell_type": "markdown",
      "source": [
        "# Using Random Tensors!"
      ],
      "metadata": {
        "id": "cTBpwDnEG4gM"
      }
    },
    {
      "cell_type": "code",
      "source": [
        "#creating a random tensor size (3,4)\n",
        "\n",
        "random_tensor = torch.rand(3,4)\n",
        "random_tensor"
      ],
      "metadata": {
        "colab": {
          "base_uri": "https://localhost:8080/"
        },
        "id": "5msz5DzKG818",
        "outputId": "5b23a0f1-3425-4042-eb75-91cfd6ebbbc1"
      },
      "execution_count": 17,
      "outputs": [
        {
          "output_type": "execute_result",
          "data": {
            "text/plain": [
              "tensor([[0.3872, 0.9463, 0.5512, 0.1808],\n",
              "        [0.4608, 0.7764, 0.5950, 0.7025],\n",
              "        [0.5362, 0.2094, 0.9354, 0.1585]])"
            ]
          },
          "metadata": {},
          "execution_count": 17
        }
      ]
    },
    {
      "cell_type": "code",
      "source": [
        "random_tensor2 = torch.rand(10,10,10)\n",
        "random_tensor2"
      ],
      "metadata": {
        "colab": {
          "base_uri": "https://localhost:8080/"
        },
        "id": "UEeBCOx5HjG7",
        "outputId": "50bd88a5-e7f1-40ac-ad29-90338a122bae"
      },
      "execution_count": 18,
      "outputs": [
        {
          "output_type": "execute_result",
          "data": {
            "text/plain": [
              "tensor([[[0.4318, 0.6371, 0.2909, 0.3177, 0.6333, 0.2147, 0.2962, 0.7300,\n",
              "          0.8111, 0.2951],\n",
              "         [0.8054, 0.6410, 0.1749, 0.6164, 0.0393, 0.1931, 0.5786, 0.0967,\n",
              "          0.8114, 0.0067],\n",
              "         [0.0189, 0.5144, 0.0667, 0.7439, 0.9258, 0.9467, 0.3097, 0.8256,\n",
              "          0.5042, 0.4494],\n",
              "         [0.7470, 0.1589, 0.3211, 0.1540, 0.5066, 0.6129, 0.7832, 0.7070,\n",
              "          0.4148, 0.6799],\n",
              "         [0.6297, 0.9158, 0.0130, 0.2845, 0.9010, 0.5624, 0.6728, 0.5619,\n",
              "          0.8326, 0.3683],\n",
              "         [0.3632, 0.8408, 0.4439, 0.3834, 0.6190, 0.4156, 0.6083, 0.5189,\n",
              "          0.1107, 0.9044],\n",
              "         [0.1365, 0.8713, 0.6325, 0.1353, 0.6706, 0.9978, 0.1076, 0.3803,\n",
              "          0.1464, 0.8669],\n",
              "         [0.4910, 0.4690, 0.7474, 0.7745, 0.7912, 0.7933, 0.3794, 0.7013,\n",
              "          0.4913, 0.7716],\n",
              "         [0.5476, 0.4424, 0.3217, 0.0968, 0.7304, 0.5894, 0.7214, 0.4098,\n",
              "          0.8928, 0.6211],\n",
              "         [0.9684, 0.7719, 0.2117, 0.6879, 0.9470, 0.5514, 0.8473, 0.5234,\n",
              "          0.1322, 0.1755]],\n",
              "\n",
              "        [[0.0446, 0.2869, 0.4775, 0.5684, 0.2027, 0.8896, 0.0038, 0.1685,\n",
              "          0.2603, 0.0651],\n",
              "         [0.0038, 0.3787, 0.4311, 0.6570, 0.6344, 0.5318, 0.0171, 0.3275,\n",
              "          0.0598, 0.5641],\n",
              "         [0.1752, 0.4553, 0.2961, 0.1365, 0.5253, 0.5043, 0.3487, 0.3578,\n",
              "          0.9451, 0.2298],\n",
              "         [0.2104, 0.0263, 0.3537, 0.8891, 0.1703, 0.0256, 0.9150, 0.9884,\n",
              "          0.9525, 0.4735],\n",
              "         [0.5795, 0.0290, 0.2964, 0.8690, 0.5980, 0.2712, 0.8890, 0.4363,\n",
              "          0.2428, 0.4830],\n",
              "         [0.8291, 0.6301, 0.5340, 0.6336, 0.6887, 0.2977, 0.2665, 0.7077,\n",
              "          0.4781, 0.2032],\n",
              "         [0.5419, 0.8306, 0.0102, 0.8389, 0.0779, 0.3719, 0.5872, 0.8836,\n",
              "          0.4562, 0.9637],\n",
              "         [0.1787, 0.6361, 0.1183, 0.7929, 0.7010, 0.0692, 0.0703, 0.2071,\n",
              "          0.9210, 0.1003],\n",
              "         [0.2801, 0.9876, 0.8506, 0.1461, 0.7196, 0.6856, 0.3985, 0.0799,\n",
              "          0.7615, 0.8275],\n",
              "         [0.5023, 0.4043, 0.9544, 0.2287, 0.6031, 0.9627, 0.3361, 0.3138,\n",
              "          0.8224, 0.6174]],\n",
              "\n",
              "        [[0.1970, 0.6173, 0.2891, 0.8424, 0.4266, 0.0746, 0.9354, 0.4979,\n",
              "          0.8783, 0.0577],\n",
              "         [0.0511, 0.0454, 0.3879, 0.3174, 0.6302, 0.2840, 0.9943, 0.2975,\n",
              "          0.6597, 0.3417],\n",
              "         [0.4217, 0.2017, 0.1817, 0.2960, 0.9938, 0.6210, 0.1280, 0.3256,\n",
              "          0.3786, 0.9094],\n",
              "         [0.0654, 0.3932, 0.2812, 0.8461, 0.9141, 0.3581, 0.3530, 0.8482,\n",
              "          0.7990, 0.4265],\n",
              "         [0.9025, 0.9836, 0.6360, 0.2766, 0.2050, 0.1159, 0.5223, 0.6649,\n",
              "          0.4221, 0.5141],\n",
              "         [0.0601, 0.4151, 0.9509, 0.6415, 0.9958, 0.2575, 0.1346, 0.4358,\n",
              "          0.7736, 0.0743],\n",
              "         [0.1002, 0.5332, 0.4592, 0.2754, 0.5506, 0.0434, 0.6622, 0.4074,\n",
              "          0.3126, 0.8545],\n",
              "         [0.3582, 0.1326, 0.0426, 0.2765, 0.1746, 0.5509, 0.3365, 0.6283,\n",
              "          0.1733, 0.1445],\n",
              "         [0.5152, 0.8319, 0.7805, 0.6524, 0.7461, 0.5509, 0.9691, 0.6818,\n",
              "          0.7235, 0.8961],\n",
              "         [0.7233, 0.1626, 0.9901, 0.5123, 0.2167, 0.0961, 0.1574, 0.4057,\n",
              "          0.6412, 0.2964]],\n",
              "\n",
              "        [[0.1143, 0.6281, 0.3779, 0.1952, 0.4631, 0.4019, 0.6170, 0.9317,\n",
              "          0.8385, 0.5403],\n",
              "         [0.0673, 0.8468, 0.4337, 0.8442, 0.8699, 0.9162, 0.4619, 0.3415,\n",
              "          0.5288, 0.0863],\n",
              "         [0.2731, 0.8817, 0.5412, 0.6803, 0.7799, 0.5977, 0.6678, 0.1902,\n",
              "          0.4900, 0.9377],\n",
              "         [0.7642, 0.8638, 0.9187, 0.3931, 0.8679, 0.0737, 0.2412, 0.7045,\n",
              "          0.2809, 0.6024],\n",
              "         [0.9870, 0.2861, 0.1456, 0.3892, 0.8592, 0.3143, 0.0738, 0.4166,\n",
              "          0.9389, 0.3529],\n",
              "         [0.5001, 0.1773, 0.8358, 0.0457, 0.2301, 0.3266, 0.6825, 0.4327,\n",
              "          0.9618, 0.7578],\n",
              "         [0.0807, 0.1096, 0.0464, 0.4176, 0.2619, 0.0366, 0.2592, 0.3690,\n",
              "          0.2742, 0.6570],\n",
              "         [0.0560, 0.8656, 0.8613, 0.9787, 0.5876, 0.3516, 0.4612, 0.4978,\n",
              "          0.0732, 0.1831],\n",
              "         [0.5030, 0.9051, 0.9920, 0.8330, 0.3300, 0.5268, 0.1658, 0.7197,\n",
              "          0.4342, 0.7042],\n",
              "         [0.4975, 0.3179, 0.3711, 0.8816, 0.8766, 0.6557, 0.5282, 0.6999,\n",
              "          0.5076, 0.9094]],\n",
              "\n",
              "        [[0.2789, 0.4315, 0.2809, 0.7704, 0.1908, 0.7667, 0.7369, 0.6834,\n",
              "          0.3655, 0.9352],\n",
              "         [0.7353, 0.8515, 0.9511, 0.3599, 0.5453, 0.1809, 0.5818, 0.7262,\n",
              "          0.8877, 0.1559],\n",
              "         [0.9644, 0.1879, 0.9910, 0.7669, 0.8119, 0.5540, 0.2219, 0.0474,\n",
              "          0.0902, 0.4648],\n",
              "         [0.1714, 0.5109, 0.9003, 0.6514, 0.3941, 0.7206, 0.8239, 0.5478,\n",
              "          0.6025, 0.9549],\n",
              "         [0.3214, 0.7429, 0.4869, 0.1724, 0.9521, 0.4356, 0.8172, 0.9159,\n",
              "          0.2987, 0.4297],\n",
              "         [0.3249, 0.9109, 0.9878, 0.4976, 0.4961, 0.1594, 0.5336, 0.6279,\n",
              "          0.4422, 0.1649],\n",
              "         [0.0627, 0.4003, 0.6031, 0.1995, 0.8935, 0.9229, 0.2614, 0.6804,\n",
              "          0.5848, 0.0207],\n",
              "         [0.9655, 0.9975, 0.9031, 0.2416, 0.3308, 0.5818, 0.7618, 0.9547,\n",
              "          0.7612, 0.1007],\n",
              "         [0.1756, 0.5929, 0.1858, 0.9384, 0.7990, 0.3337, 0.7175, 0.8092,\n",
              "          0.3207, 0.7995],\n",
              "         [0.4125, 0.6010, 0.0925, 0.4324, 0.4971, 0.1302, 0.9449, 0.8345,\n",
              "          0.2081, 0.5604]],\n",
              "\n",
              "        [[0.0714, 0.5314, 0.7482, 0.1220, 0.3790, 0.8960, 0.4409, 0.2475,\n",
              "          0.8073, 0.5062],\n",
              "         [0.0555, 0.6655, 0.5731, 0.1485, 0.4545, 0.2208, 0.7409, 0.1020,\n",
              "          0.2599, 0.0937],\n",
              "         [0.8920, 0.9195, 0.9974, 0.5022, 0.2790, 0.2023, 0.5127, 0.0591,\n",
              "          0.6721, 0.6006],\n",
              "         [0.9093, 0.3822, 0.2794, 0.5008, 0.7572, 0.4326, 0.4940, 0.0174,\n",
              "          0.2838, 0.7658],\n",
              "         [0.8327, 0.9350, 0.0107, 0.1921, 0.4819, 0.1191, 0.4596, 0.4484,\n",
              "          0.0201, 0.8790],\n",
              "         [0.9357, 0.4703, 0.0071, 0.9137, 0.2338, 0.3249, 0.5634, 0.0625,\n",
              "          0.0239, 0.5170],\n",
              "         [0.0273, 0.2339, 0.7294, 0.7205, 0.8071, 0.0266, 0.3704, 0.6066,\n",
              "          0.4794, 0.1530],\n",
              "         [0.8971, 0.1490, 0.0931, 0.7771, 0.2913, 0.3198, 0.0256, 0.2928,\n",
              "          0.3542, 0.1261],\n",
              "         [0.5580, 0.0658, 0.7425, 0.3144, 0.5696, 0.7646, 0.3395, 0.2956,\n",
              "          0.8188, 0.3222],\n",
              "         [0.2834, 0.4263, 0.6425, 0.4164, 0.4423, 0.1170, 0.6114, 0.7068,\n",
              "          0.5761, 0.0178]],\n",
              "\n",
              "        [[0.1083, 0.5839, 0.6589, 0.3580, 0.7943, 0.5430, 0.3002, 0.4841,\n",
              "          0.7452, 0.1864],\n",
              "         [0.7914, 0.2149, 0.6262, 0.4831, 0.0966, 0.8155, 0.6128, 0.7286,\n",
              "          0.6551, 0.4965],\n",
              "         [0.1734, 0.1152, 0.2447, 0.8195, 0.2069, 0.9145, 0.3314, 0.8848,\n",
              "          0.9012, 0.7335],\n",
              "         [0.8154, 0.5021, 0.0648, 0.2659, 0.0058, 0.3999, 0.8020, 0.4988,\n",
              "          0.9242, 0.3604],\n",
              "         [0.1705, 0.1471, 0.1767, 0.8766, 0.5982, 0.3849, 0.4739, 0.8772,\n",
              "          0.0689, 0.6064],\n",
              "         [0.7742, 0.8969, 0.1914, 0.9527, 0.0669, 0.5233, 0.1050, 0.6249,\n",
              "          0.4045, 0.6889],\n",
              "         [0.6742, 0.8483, 0.0921, 0.3484, 0.4641, 0.3955, 0.0387, 0.8054,\n",
              "          0.4746, 0.2963],\n",
              "         [0.8395, 0.5154, 0.5503, 0.3185, 0.3662, 0.7728, 0.4487, 0.9937,\n",
              "          0.0950, 0.0253],\n",
              "         [0.7114, 0.8589, 0.3434, 0.3131, 0.2364, 0.8364, 0.8360, 0.4197,\n",
              "          0.0721, 0.1148],\n",
              "         [0.7512, 0.5231, 0.1912, 0.8193, 0.0981, 0.9050, 0.6100, 0.5924,\n",
              "          0.3624, 0.4601]],\n",
              "\n",
              "        [[0.8303, 0.1472, 0.0289, 0.5848, 0.9835, 0.4623, 0.6647, 0.5633,\n",
              "          0.2388, 0.4477],\n",
              "         [0.0453, 0.7410, 0.4198, 0.1121, 0.6058, 0.9054, 0.1700, 0.2803,\n",
              "          0.4218, 0.9574],\n",
              "         [0.0444, 0.5235, 0.8233, 0.3373, 0.8602, 0.3995, 0.5197, 0.5534,\n",
              "          0.3771, 0.4403],\n",
              "         [0.9205, 0.6095, 0.3512, 0.4833, 0.2623, 0.6015, 0.1735, 0.7784,\n",
              "          0.6274, 0.3991],\n",
              "         [0.8753, 0.5486, 0.5253, 0.0823, 0.3584, 0.5127, 0.3883, 0.6391,\n",
              "          0.1356, 0.6317],\n",
              "         [0.5292, 0.0403, 0.7489, 0.5077, 0.3906, 0.7619, 0.1637, 0.7445,\n",
              "          0.5313, 0.9711],\n",
              "         [0.8760, 0.4999, 0.0957, 0.6823, 0.0548, 0.6673, 0.5953, 0.1070,\n",
              "          0.0735, 0.7721],\n",
              "         [0.4886, 0.6560, 0.1023, 0.3874, 0.1617, 0.1031, 0.0097, 0.1404,\n",
              "          0.9535, 0.7499],\n",
              "         [0.1521, 0.3252, 0.8161, 0.3886, 0.7193, 0.4351, 0.6805, 0.7708,\n",
              "          0.3256, 0.5373],\n",
              "         [0.9307, 0.4721, 0.8825, 0.0263, 0.3476, 0.2846, 0.5374, 0.0295,\n",
              "          0.9045, 0.3297]],\n",
              "\n",
              "        [[0.6433, 0.5312, 0.6643, 0.2524, 0.2474, 0.6964, 0.9817, 0.8441,\n",
              "          0.2839, 0.2343],\n",
              "         [0.0393, 0.0877, 0.5768, 0.1347, 0.9936, 0.5721, 0.8429, 0.5698,\n",
              "          0.6661, 0.0464],\n",
              "         [0.7819, 0.7315, 0.6199, 0.4822, 0.1929, 0.2948, 0.8856, 0.8598,\n",
              "          0.9605, 0.9911],\n",
              "         [0.5172, 0.9072, 0.5616, 0.4379, 0.7757, 0.0983, 0.0943, 0.2034,\n",
              "          0.9693, 0.3613],\n",
              "         [0.1749, 0.9053, 0.5619, 0.3764, 0.1194, 0.9755, 0.3698, 0.5814,\n",
              "          0.8883, 0.1313],\n",
              "         [0.3550, 0.9089, 0.8525, 0.7214, 0.1431, 0.1019, 0.8221, 0.8344,\n",
              "          0.4308, 0.8529],\n",
              "         [0.6721, 0.6419, 0.9138, 0.6261, 0.5540, 0.7840, 0.4443, 0.2525,\n",
              "          0.0893, 0.8203],\n",
              "         [0.8824, 0.9818, 0.8329, 0.8865, 0.4565, 0.6395, 0.2270, 0.2533,\n",
              "          0.5850, 0.2281],\n",
              "         [0.9575, 0.9290, 0.6366, 0.0512, 0.2636, 0.6356, 0.4244, 0.4835,\n",
              "          0.0858, 0.7791],\n",
              "         [0.1227, 0.0457, 0.6291, 0.2482, 0.3555, 0.5152, 0.1095, 0.9891,\n",
              "          0.7761, 0.4491]],\n",
              "\n",
              "        [[0.1302, 0.7033, 0.2822, 0.0765, 0.5985, 0.1528, 0.5057, 0.5394,\n",
              "          0.2527, 0.4153],\n",
              "         [0.5333, 0.2982, 0.2875, 0.4164, 0.1484, 0.8429, 0.8887, 0.2503,\n",
              "          0.1280, 0.3081],\n",
              "         [0.0799, 0.7623, 0.6479, 0.4336, 0.9348, 0.5999, 0.4688, 0.6311,\n",
              "          0.9094, 0.6002],\n",
              "         [0.2493, 0.7784, 0.5397, 0.6551, 0.1084, 0.5492, 0.1830, 0.2925,\n",
              "          0.3462, 0.6773],\n",
              "         [0.3306, 0.7047, 0.6487, 0.1061, 0.8139, 0.6717, 0.8233, 0.3900,\n",
              "          0.2365, 0.5786],\n",
              "         [0.0379, 0.2611, 0.0068, 0.9810, 0.6013, 0.0715, 0.6542, 0.6163,\n",
              "          0.2274, 0.7365],\n",
              "         [0.8359, 0.6210, 0.5477, 0.9515, 0.3826, 0.5281, 0.9910, 0.8994,\n",
              "          0.4210, 0.0469],\n",
              "         [0.5785, 0.7929, 0.3538, 0.6695, 0.1570, 0.4925, 0.8897, 0.3970,\n",
              "          0.8046, 0.7183],\n",
              "         [0.4491, 0.5121, 0.5453, 0.3476, 0.5856, 0.4968, 0.3942, 0.4551,\n",
              "          0.6790, 0.8058],\n",
              "         [0.0275, 0.5490, 0.7693, 0.9482, 0.6273, 0.0539, 0.4548, 0.3936,\n",
              "          0.1285, 0.7030]]])"
            ]
          },
          "metadata": {},
          "execution_count": 18
        }
      ]
    },
    {
      "cell_type": "code",
      "source": [
        "#create a random tensor with similar shape to an image tensor\n",
        "\n",
        "random_image_size_tensor = torch.rand(size=(224,224,3)) #height, width, color channels\n",
        "random_image_size_tensor.shape, random_image_size_tensor.ndim"
      ],
      "metadata": {
        "colab": {
          "base_uri": "https://localhost:8080/"
        },
        "id": "DEs01KJNHtj4",
        "outputId": "3187ce6e-19bb-45cd-d128-635f6d915ee2"
      },
      "execution_count": 19,
      "outputs": [
        {
          "output_type": "execute_result",
          "data": {
            "text/plain": [
              "(torch.Size([224, 224, 3]), 3)"
            ]
          },
          "metadata": {},
          "execution_count": 19
        }
      ]
    },
    {
      "cell_type": "markdown",
      "source": [
        "#ZEROs and ONEs Tensor\n"
      ],
      "metadata": {
        "id": "o1oxzp-FI2Pk"
      }
    },
    {
      "cell_type": "code",
      "source": [
        "zero = torch.zeros(size=(3,4))\n",
        "zero"
      ],
      "metadata": {
        "colab": {
          "base_uri": "https://localhost:8080/"
        },
        "id": "WXxuCKNfJWnM",
        "outputId": "5dd22b06-704b-42c2-8b65-82b59eec7f09"
      },
      "execution_count": 20,
      "outputs": [
        {
          "output_type": "execute_result",
          "data": {
            "text/plain": [
              "tensor([[0., 0., 0., 0.],\n",
              "        [0., 0., 0., 0.],\n",
              "        [0., 0., 0., 0.]])"
            ]
          },
          "metadata": {},
          "execution_count": 20
        }
      ]
    },
    {
      "cell_type": "code",
      "source": [
        "ones = torch.ones(size=(3,4))\n",
        "ones"
      ],
      "metadata": {
        "colab": {
          "base_uri": "https://localhost:8080/"
        },
        "id": "0DSHDXJRJYdH",
        "outputId": "c0d13a0b-af4d-4fbf-adf1-6e835a83f82b"
      },
      "execution_count": 21,
      "outputs": [
        {
          "output_type": "execute_result",
          "data": {
            "text/plain": [
              "tensor([[1., 1., 1., 1.],\n",
              "        [1., 1., 1., 1.],\n",
              "        [1., 1., 1., 1.]])"
            ]
          },
          "metadata": {},
          "execution_count": 21
        }
      ]
    },
    {
      "cell_type": "code",
      "source": [
        "ones.dtype, random_image_size_tensor.dtype"
      ],
      "metadata": {
        "colab": {
          "base_uri": "https://localhost:8080/"
        },
        "id": "3Feq2v6HJdjF",
        "outputId": "81386b8f-d1c8-49a6-8730-d6004708ed16"
      },
      "execution_count": 22,
      "outputs": [
        {
          "output_type": "execute_result",
          "data": {
            "text/plain": [
              "(torch.float32, torch.float32)"
            ]
          },
          "metadata": {},
          "execution_count": 22
        }
      ]
    },
    {
      "cell_type": "markdown",
      "source": [
        "#Creating a range of Tensor"
      ],
      "metadata": {
        "id": "OU1TQagfJrIF"
      }
    },
    {
      "cell_type": "code",
      "source": [
        "torch.arange(1,11)"
      ],
      "metadata": {
        "colab": {
          "base_uri": "https://localhost:8080/"
        },
        "id": "zu4lEBNpJofs",
        "outputId": "36970bcd-a9f5-44ba-9557-28aff80af06b"
      },
      "execution_count": 23,
      "outputs": [
        {
          "output_type": "execute_result",
          "data": {
            "text/plain": [
              "tensor([ 1,  2,  3,  4,  5,  6,  7,  8,  9, 10])"
            ]
          },
          "metadata": {},
          "execution_count": 23
        }
      ]
    },
    {
      "cell_type": "markdown",
      "source": [
        "#Getting info from tensors"
      ],
      "metadata": {
        "id": "7jXT0tqTLmhZ"
      }
    },
    {
      "cell_type": "code",
      "source": [
        "some_tensor=torch.rand(3,4)\n",
        "print(some_tensor)\n",
        "print(f\"Datatype of tensor: {some_tensor.dtype}\")\n",
        "print(f\"Shape of tensor: {some_tensor.shape}\")"
      ],
      "metadata": {
        "colab": {
          "base_uri": "https://localhost:8080/"
        },
        "id": "QIdcwZKVLlr_",
        "outputId": "160a0036-bcaa-45a0-a119-022cb41d89cd"
      },
      "execution_count": 24,
      "outputs": [
        {
          "output_type": "stream",
          "name": "stdout",
          "text": [
            "tensor([[0.7582, 0.5189, 0.3942, 0.4708],\n",
            "        [0.6988, 0.9461, 0.8052, 0.9589],\n",
            "        [0.0072, 0.1414, 0.1570, 0.5392]])\n",
            "Datatype of tensor: torch.float32\n",
            "Shape of tensor: torch.Size([3, 4])\n"
          ]
        }
      ]
    },
    {
      "cell_type": "markdown",
      "source": [
        "# Manipulating Tensors\n",
        "* Add\n",
        "* Sub\n",
        "* Mul\n",
        "* Div\n",
        "* Matrix Mul"
      ],
      "metadata": {
        "id": "OkXWVLaDM98r"
      }
    },
    {
      "cell_type": "code",
      "source": [
        "#creating tensor and do operations\n",
        "tensor = torch.tensor([1,2,3])\n",
        "print(tensor + 10)\n",
        "print(tensor - 10)\n",
        "print(tensor * 10)\n",
        "print(tensor / 10)\n"
      ],
      "metadata": {
        "colab": {
          "base_uri": "https://localhost:8080/"
        },
        "id": "-NziTZSLNNdh",
        "outputId": "7f081fbf-abd4-4509-c95c-46a1f3dd0464"
      },
      "execution_count": 25,
      "outputs": [
        {
          "output_type": "stream",
          "name": "stdout",
          "text": [
            "tensor([11, 12, 13])\n",
            "tensor([-9, -8, -7])\n",
            "tensor([10, 20, 30])\n",
            "tensor([0.1000, 0.2000, 0.3000])\n"
          ]
        }
      ]
    },
    {
      "cell_type": "code",
      "source": [
        "# or can use .add  or .operator()\n",
        "#ex\n",
        "tensor.add(10)"
      ],
      "metadata": {
        "colab": {
          "base_uri": "https://localhost:8080/"
        },
        "id": "pyJlXGK1Nisw",
        "outputId": "2c295ec7-5964-4154-980e-6c447b172f76"
      },
      "execution_count": 26,
      "outputs": [
        {
          "output_type": "execute_result",
          "data": {
            "text/plain": [
              "tensor([11, 12, 13])"
            ]
          },
          "metadata": {},
          "execution_count": 26
        }
      ]
    },
    {
      "cell_type": "markdown",
      "source": [
        "#Matrix Multiplication"
      ],
      "metadata": {
        "id": "XaCM_SrNOI6r"
      }
    },
    {
      "cell_type": "code",
      "source": [
        "#two type of mul\n",
        "%%time\n",
        "#normal multiplication\n",
        "tensor1 = torch.tensor([1,2,3])\n",
        "tensor2 = torch.tensor([1,2,3])\n",
        "print(tensor1,\"*\",tensor2,\"=\",tensor1*tensor2)\n"
      ],
      "metadata": {
        "colab": {
          "base_uri": "https://localhost:8080/"
        },
        "id": "y1JeWw7JOH5i",
        "outputId": "3ded9e17-843e-452f-e3c5-9fca302b9ede"
      },
      "execution_count": 27,
      "outputs": [
        {
          "output_type": "stream",
          "name": "stdout",
          "text": [
            "tensor([1, 2, 3]) * tensor([1, 2, 3]) = tensor([1, 4, 9])\n",
            "CPU times: user 4.04 ms, sys: 1.18 ms, total: 5.21 ms\n",
            "Wall time: 13.1 ms\n"
          ]
        }
      ]
    },
    {
      "cell_type": "code",
      "source": [
        "%%time\n",
        "#Matrix multiply\n",
        "print(\"\\nMatrix Mul: \",tensor1.matmul(tensor2))"
      ],
      "metadata": {
        "colab": {
          "base_uri": "https://localhost:8080/"
        },
        "id": "MA_ICxa1PglR",
        "outputId": "97926bee-50c0-4671-c4da-6e9b0227b084"
      },
      "execution_count": 28,
      "outputs": [
        {
          "output_type": "stream",
          "name": "stdout",
          "text": [
            "\n",
            "Matrix Mul:  tensor(14)\n",
            "CPU times: user 4.87 ms, sys: 169 µs, total: 5.04 ms\n",
            "Wall time: 20.7 ms\n"
          ]
        }
      ]
    },
    {
      "cell_type": "markdown",
      "source": [
        "### FInding\n",
        "* Min\n",
        "* max\n",
        "* mean\n",
        "* sum"
      ],
      "metadata": {
        "id": "7s-n1nBAQPDi"
      }
    },
    {
      "cell_type": "code",
      "source": [
        "#Create a tensor\n",
        "x = torch.arange(0,100,10)\n",
        "x"
      ],
      "metadata": {
        "colab": {
          "base_uri": "https://localhost:8080/"
        },
        "id": "BcTTReO5Qazl",
        "outputId": "746498b3-a5dc-4ceb-f12c-ec4b5bba5513"
      },
      "execution_count": 29,
      "outputs": [
        {
          "output_type": "execute_result",
          "data": {
            "text/plain": [
              "tensor([ 0, 10, 20, 30, 40, 50, 60, 70, 80, 90])"
            ]
          },
          "metadata": {},
          "execution_count": 29
        }
      ]
    },
    {
      "cell_type": "code",
      "source": [
        "torch.max(x),x.max()"
      ],
      "metadata": {
        "colab": {
          "base_uri": "https://localhost:8080/"
        },
        "id": "fQVK571iQ1nD",
        "outputId": "023797a0-852c-407f-e0f0-b9aec01fc1e7"
      },
      "execution_count": 30,
      "outputs": [
        {
          "output_type": "execute_result",
          "data": {
            "text/plain": [
              "(tensor(90), tensor(90))"
            ]
          },
          "metadata": {},
          "execution_count": 30
        }
      ]
    },
    {
      "cell_type": "code",
      "source": [
        "torch.min(x),x.min()"
      ],
      "metadata": {
        "colab": {
          "base_uri": "https://localhost:8080/"
        },
        "id": "v5hcRdN6RnXS",
        "outputId": "9f5f76d2-039f-4871-c902-96c5fd28ffba"
      },
      "execution_count": 31,
      "outputs": [
        {
          "output_type": "execute_result",
          "data": {
            "text/plain": [
              "(tensor(0), tensor(0))"
            ]
          },
          "metadata": {},
          "execution_count": 31
        }
      ]
    },
    {
      "cell_type": "code",
      "source": [
        "#raise error due to datatype problem\n",
        "torch.mean(x)"
      ],
      "metadata": {
        "colab": {
          "base_uri": "https://localhost:8080/",
          "height": 176
        },
        "id": "HH7Mj_ATQ8zX",
        "outputId": "aaa4343a-20bf-40ae-ee87-2e37e5a3c940"
      },
      "execution_count": 33,
      "outputs": [
        {
          "output_type": "error",
          "ename": "RuntimeError",
          "evalue": "mean(): could not infer output dtype. Input dtype must be either a floating point or complex dtype. Got: Long",
          "traceback": [
            "\u001b[0;31m---------------------------------------------------------------------------\u001b[0m",
            "\u001b[0;31mRuntimeError\u001b[0m                              Traceback (most recent call last)",
            "\u001b[0;32m<ipython-input-33-2a2e1d5a92ad>\u001b[0m in \u001b[0;36m<cell line: 2>\u001b[0;34m()\u001b[0m\n\u001b[1;32m      1\u001b[0m \u001b[0;31m#raise error due to datatype problem\u001b[0m\u001b[0;34m\u001b[0m\u001b[0;34m\u001b[0m\u001b[0m\n\u001b[0;32m----> 2\u001b[0;31m \u001b[0mtorch\u001b[0m\u001b[0;34m.\u001b[0m\u001b[0mmean\u001b[0m\u001b[0;34m(\u001b[0m\u001b[0mx\u001b[0m\u001b[0;34m)\u001b[0m\u001b[0;34m\u001b[0m\u001b[0;34m\u001b[0m\u001b[0m\n\u001b[0m",
            "\u001b[0;31mRuntimeError\u001b[0m: mean(): could not infer output dtype. Input dtype must be either a floating point or complex dtype. Got: Long"
          ]
        }
      ]
    },
    {
      "cell_type": "code",
      "source": [
        "torch.mean(x.type(torch.float32)),x.type(torch.float32).mean()"
      ],
      "metadata": {
        "colab": {
          "base_uri": "https://localhost:8080/"
        },
        "id": "pSqx7iNtROqj",
        "outputId": "eabd92b9-2571-4d66-8994-2a94f21465ef"
      },
      "execution_count": 34,
      "outputs": [
        {
          "output_type": "execute_result",
          "data": {
            "text/plain": [
              "(tensor(45.), tensor(45.))"
            ]
          },
          "metadata": {},
          "execution_count": 34
        }
      ]
    },
    {
      "cell_type": "code",
      "source": [
        "torch.sum(x),x.sum()"
      ],
      "metadata": {
        "id": "-rbiBToNRWcf"
      },
      "execution_count": null,
      "outputs": []
    },
    {
      "cell_type": "markdown",
      "source": [
        "# Finding Positional of min and max"
      ],
      "metadata": {
        "id": "2AwSYuAuS481"
      }
    },
    {
      "cell_type": "code",
      "source": [
        "print(\"Min pos: \",x.argmin())\n",
        "print(\"Max pos: \",x.argmax())"
      ],
      "metadata": {
        "colab": {
          "base_uri": "https://localhost:8080/"
        },
        "id": "w1ye_4fMR09E",
        "outputId": "9b3f74fd-aa81-4bae-bf4b-6caf2bdcc1c0"
      },
      "execution_count": 35,
      "outputs": [
        {
          "output_type": "stream",
          "name": "stdout",
          "text": [
            "Min pos:  tensor(0)\n",
            "Max pos:  tensor(9)\n"
          ]
        }
      ]
    },
    {
      "cell_type": "markdown",
      "source": [
        "# Reshaping, sacking, squeezing and unsqueezing"
      ],
      "metadata": {
        "id": "9ZleSZ1WfDGN"
      }
    },
    {
      "cell_type": "code",
      "source": [
        "x = torch.arange(1.,13.)\n",
        "x,x.shape"
      ],
      "metadata": {
        "colab": {
          "base_uri": "https://localhost:8080/"
        },
        "id": "EbtmM9CxfQgu",
        "outputId": "9a6ba98a-294a-4650-8f8b-fb1a16acab12"
      },
      "execution_count": 36,
      "outputs": [
        {
          "output_type": "execute_result",
          "data": {
            "text/plain": [
              "(tensor([ 1.,  2.,  3.,  4.,  5.,  6.,  7.,  8.,  9., 10., 11., 12.]),\n",
              " torch.Size([12]))"
            ]
          },
          "metadata": {},
          "execution_count": 36
        }
      ]
    },
    {
      "cell_type": "code",
      "source": [
        "x_reshaped = x.reshape(6,2)\n",
        "x_reshaped,x_reshaped.shape"
      ],
      "metadata": {
        "colab": {
          "base_uri": "https://localhost:8080/"
        },
        "id": "T5EsTYQXgGoj",
        "outputId": "469489b5-26e7-4c59-a09e-1fee2e26fb04"
      },
      "execution_count": 37,
      "outputs": [
        {
          "output_type": "execute_result",
          "data": {
            "text/plain": [
              "(tensor([[ 1.,  2.],\n",
              "         [ 3.,  4.],\n",
              "         [ 5.,  6.],\n",
              "         [ 7.,  8.],\n",
              "         [ 9., 10.],\n",
              "         [11., 12.]]),\n",
              " torch.Size([6, 2]))"
            ]
          },
          "metadata": {},
          "execution_count": 37
        }
      ]
    },
    {
      "cell_type": "code",
      "source": [
        "#changing the view\n",
        "z = x.view(1,12)\n",
        "z,z.shape"
      ],
      "metadata": {
        "colab": {
          "base_uri": "https://localhost:8080/"
        },
        "id": "LofHM3rNgSfb",
        "outputId": "c7cbab31-6a11-4265-b751-de200582806c"
      },
      "execution_count": 38,
      "outputs": [
        {
          "output_type": "execute_result",
          "data": {
            "text/plain": [
              "(tensor([[ 1.,  2.,  3.,  4.,  5.,  6.,  7.,  8.,  9., 10., 11., 12.]]),\n",
              " torch.Size([1, 12]))"
            ]
          },
          "metadata": {},
          "execution_count": 38
        }
      ]
    },
    {
      "cell_type": "code",
      "source": [
        "# changing z changes x\n",
        "z[:,0] = 5\n",
        "z,x"
      ],
      "metadata": {
        "colab": {
          "base_uri": "https://localhost:8080/"
        },
        "id": "isEdNPmPg6Zp",
        "outputId": "bc6b74cf-345f-46e9-c164-fd79c1c39f5f"
      },
      "execution_count": 39,
      "outputs": [
        {
          "output_type": "execute_result",
          "data": {
            "text/plain": [
              "(tensor([[ 5.,  2.,  3.,  4.,  5.,  6.,  7.,  8.,  9., 10., 11., 12.]]),\n",
              " tensor([ 5.,  2.,  3.,  4.,  5.,  6.,  7.,  8.,  9., 10., 11., 12.]))"
            ]
          },
          "metadata": {},
          "execution_count": 39
        }
      ]
    },
    {
      "cell_type": "code",
      "source": [
        "#Stacking\n",
        "x_stacked = torch.stack([x,x,x,x],dim=0)\n",
        "x_stacked"
      ],
      "metadata": {
        "colab": {
          "base_uri": "https://localhost:8080/"
        },
        "id": "VbQ7KdOnhKwR",
        "outputId": "aebe95a1-0b8e-4d47-9c42-e2d144f21a35"
      },
      "execution_count": 40,
      "outputs": [
        {
          "output_type": "execute_result",
          "data": {
            "text/plain": [
              "tensor([[ 5.,  2.,  3.,  4.,  5.,  6.,  7.,  8.,  9., 10., 11., 12.],\n",
              "        [ 5.,  2.,  3.,  4.,  5.,  6.,  7.,  8.,  9., 10., 11., 12.],\n",
              "        [ 5.,  2.,  3.,  4.,  5.,  6.,  7.,  8.,  9., 10., 11., 12.],\n",
              "        [ 5.,  2.,  3.,  4.,  5.,  6.,  7.,  8.,  9., 10., 11., 12.]])"
            ]
          },
          "metadata": {},
          "execution_count": 40
        }
      ]
    },
    {
      "cell_type": "code",
      "source": [
        "#squeeze\n",
        "print (x_reshaped)\n",
        "x_reshaped = x_reshaped.reshape(1,12)\n",
        "print(x_reshaped)\n",
        "x_squeezed = x_reshaped.squeeze()\n",
        "x_squeezed"
      ],
      "metadata": {
        "colab": {
          "base_uri": "https://localhost:8080/"
        },
        "id": "OUJwJk9lhTyY",
        "outputId": "a2174a80-70eb-40e7-a14d-72c270d74d44"
      },
      "execution_count": 41,
      "outputs": [
        {
          "output_type": "stream",
          "name": "stdout",
          "text": [
            "tensor([[ 5.,  2.],\n",
            "        [ 3.,  4.],\n",
            "        [ 5.,  6.],\n",
            "        [ 7.,  8.],\n",
            "        [ 9., 10.],\n",
            "        [11., 12.]])\n",
            "tensor([[ 5.,  2.,  3.,  4.,  5.,  6.,  7.,  8.,  9., 10., 11., 12.]])\n"
          ]
        },
        {
          "output_type": "execute_result",
          "data": {
            "text/plain": [
              "tensor([ 5.,  2.,  3.,  4.,  5.,  6.,  7.,  8.,  9., 10., 11., 12.])"
            ]
          },
          "metadata": {},
          "execution_count": 41
        }
      ]
    },
    {
      "cell_type": "code",
      "source": [
        "#unsqueeze\n",
        "x_unsqueezed = x_squeezed.unsqueeze(dim=0)\n",
        "x_unsqueezed"
      ],
      "metadata": {
        "colab": {
          "base_uri": "https://localhost:8080/"
        },
        "id": "cEqBaB79h8GO",
        "outputId": "c704a165-3b82-4120-fa97-ce0c2fc46589"
      },
      "execution_count": 42,
      "outputs": [
        {
          "output_type": "execute_result",
          "data": {
            "text/plain": [
              "tensor([[ 5.,  2.,  3.,  4.,  5.,  6.,  7.,  8.,  9., 10., 11., 12.]])"
            ]
          },
          "metadata": {},
          "execution_count": 42
        }
      ]
    },
    {
      "cell_type": "code",
      "source": [
        "#permute\n",
        "x_original = torch.rand(size=(224,224,3))\n",
        "x_original.shape"
      ],
      "metadata": {
        "colab": {
          "base_uri": "https://localhost:8080/"
        },
        "id": "LkGVtoITibdH",
        "outputId": "7fcda8b4-1025-40a3-f04e-c42ca7388839"
      },
      "execution_count": 43,
      "outputs": [
        {
          "output_type": "execute_result",
          "data": {
            "text/plain": [
              "torch.Size([224, 224, 3])"
            ]
          },
          "metadata": {},
          "execution_count": 43
        }
      ]
    },
    {
      "cell_type": "code",
      "source": [
        "x_permuted = x_original.permute(2,0,1)\n",
        "x_permuted.shape"
      ],
      "metadata": {
        "colab": {
          "base_uri": "https://localhost:8080/"
        },
        "id": "rZaSCH7-ifvw",
        "outputId": "4204c034-02a3-418d-d5dd-17cbceb29d9b"
      },
      "execution_count": 44,
      "outputs": [
        {
          "output_type": "execute_result",
          "data": {
            "text/plain": [
              "torch.Size([3, 224, 224])"
            ]
          },
          "metadata": {},
          "execution_count": 44
        }
      ]
    },
    {
      "cell_type": "markdown",
      "source": [
        "# Indexing (Selecting data from tensor)"
      ],
      "metadata": {
        "id": "Poq2jpaKLv4M"
      }
    },
    {
      "cell_type": "code",
      "source": [
        "x = torch.arange(1,10).reshape(1,3,3)\n",
        "x,x.shape"
      ],
      "metadata": {
        "colab": {
          "base_uri": "https://localhost:8080/"
        },
        "id": "D2I804SmLvhD",
        "outputId": "e4750c12-93d4-4f8e-9755-d9b84adcc7fb"
      },
      "execution_count": 46,
      "outputs": [
        {
          "output_type": "execute_result",
          "data": {
            "text/plain": [
              "(tensor([[[1, 2, 3],\n",
              "          [4, 5, 6],\n",
              "          [7, 8, 9]]]),\n",
              " torch.Size([1, 3, 3]))"
            ]
          },
          "metadata": {},
          "execution_count": 46
        }
      ]
    },
    {
      "cell_type": "code",
      "source": [
        "x[0]"
      ],
      "metadata": {
        "id": "LmUKEMhrik1F",
        "colab": {
          "base_uri": "https://localhost:8080/"
        },
        "outputId": "2fb0ea76-83bc-4570-99d3-051e6cd47559"
      },
      "execution_count": 47,
      "outputs": [
        {
          "output_type": "execute_result",
          "data": {
            "text/plain": [
              "tensor([[1, 2, 3],\n",
              "        [4, 5, 6],\n",
              "        [7, 8, 9]])"
            ]
          },
          "metadata": {},
          "execution_count": 47
        }
      ]
    },
    {
      "cell_type": "code",
      "source": [
        "x[0][0]"
      ],
      "metadata": {
        "colab": {
          "base_uri": "https://localhost:8080/"
        },
        "id": "EHY6jqteMKsL",
        "outputId": "48b2fd80-208c-46af-d830-89ba71c8902f"
      },
      "execution_count": 48,
      "outputs": [
        {
          "output_type": "execute_result",
          "data": {
            "text/plain": [
              "tensor([1, 2, 3])"
            ]
          },
          "metadata": {},
          "execution_count": 48
        }
      ]
    },
    {
      "cell_type": "code",
      "source": [
        "x[0][0][0]"
      ],
      "metadata": {
        "colab": {
          "base_uri": "https://localhost:8080/"
        },
        "id": "-RWo3LkuMOVV",
        "outputId": "fe7614f2-e1cf-43e1-c294-36cdb63ce5c4"
      },
      "execution_count": 49,
      "outputs": [
        {
          "output_type": "execute_result",
          "data": {
            "text/plain": [
              "tensor(1)"
            ]
          },
          "metadata": {},
          "execution_count": 49
        }
      ]
    },
    {
      "cell_type": "code",
      "source": [
        "x[:,2]"
      ],
      "metadata": {
        "colab": {
          "base_uri": "https://localhost:8080/"
        },
        "id": "8SvJjp_WMSMX",
        "outputId": "9164eb41-7c91-4455-8790-1fa9c03d7e44"
      },
      "execution_count": 51,
      "outputs": [
        {
          "output_type": "execute_result",
          "data": {
            "text/plain": [
              "tensor([[7, 8, 9]])"
            ]
          },
          "metadata": {},
          "execution_count": 51
        }
      ]
    },
    {
      "cell_type": "code",
      "source": [
        "x[:,:,1]"
      ],
      "metadata": {
        "colab": {
          "base_uri": "https://localhost:8080/"
        },
        "id": "jar4hVmOMh5X",
        "outputId": "8745e209-aaea-42be-fbcd-2378891a51a2"
      },
      "execution_count": 52,
      "outputs": [
        {
          "output_type": "execute_result",
          "data": {
            "text/plain": [
              "tensor([[2, 5, 8]])"
            ]
          },
          "metadata": {},
          "execution_count": 52
        }
      ]
    },
    {
      "cell_type": "code",
      "source": [
        "x[:,1,1]"
      ],
      "metadata": {
        "colab": {
          "base_uri": "https://localhost:8080/"
        },
        "id": "xmqsN3RcMoeO",
        "outputId": "d4c09378-9802-4e38-e0bd-91b1204954f3"
      },
      "execution_count": 57,
      "outputs": [
        {
          "output_type": "execute_result",
          "data": {
            "text/plain": [
              "tensor([5])"
            ]
          },
          "metadata": {},
          "execution_count": 57
        }
      ]
    },
    {
      "cell_type": "markdown",
      "source": [
        "## PyTorch tensor and NumPy"
      ],
      "metadata": {
        "id": "7u4RiIsRNx1p"
      }
    },
    {
      "cell_type": "code",
      "source": [
        "#NumPy arr to Tensors\n",
        "array = np.arange(1.0,8.0)\n",
        "tensor = torch.from_numpy(array)\n",
        "array,tensor"
      ],
      "metadata": {
        "colab": {
          "base_uri": "https://localhost:8080/"
        },
        "id": "lkaHnvSlM0Ft",
        "outputId": "e52dab75-58f5-4e63-ecf8-c08c6cdec8b5"
      },
      "execution_count": 58,
      "outputs": [
        {
          "output_type": "execute_result",
          "data": {
            "text/plain": [
              "(array([1., 2., 3., 4., 5., 6., 7.]),\n",
              " tensor([1., 2., 3., 4., 5., 6., 7.], dtype=torch.float64))"
            ]
          },
          "metadata": {},
          "execution_count": 58
        }
      ]
    },
    {
      "cell_type": "markdown",
      "source": [
        "# Reproducbility"
      ],
      "metadata": {
        "id": "Hd1TzEvyPIbw"
      }
    },
    {
      "cell_type": "code",
      "source": [
        "#creating random tensor\n",
        "tensora = torch.rand(3,4)\n",
        "tensorb = torch.rand(3,4)\n",
        "print(tensora)\n",
        "print(tensorb)\n",
        "print(tensora==tensorb)"
      ],
      "metadata": {
        "colab": {
          "base_uri": "https://localhost:8080/"
        },
        "id": "PRo-1WZ7Ofhk",
        "outputId": "14914d75-34b6-42ee-f5e3-746b951f6ecc"
      },
      "execution_count": 61,
      "outputs": [
        {
          "output_type": "stream",
          "name": "stdout",
          "text": [
            "tensor([[0.5178, 0.8702, 0.3783, 0.2519],\n",
            "        [0.6478, 0.4301, 0.3315, 0.0259],\n",
            "        [0.8952, 0.5951, 0.6630, 0.5176]])\n",
            "tensor([[0.2705, 0.3757, 0.8396, 0.6060],\n",
            "        [0.4612, 0.1924, 0.8504, 0.0856],\n",
            "        [0.5542, 0.8061, 0.2655, 0.3330]])\n",
            "tensor([[False, False, False, False],\n",
            "        [False, False, False, False],\n",
            "        [False, False, False, False]])\n"
          ]
        }
      ]
    },
    {
      "cell_type": "code",
      "source": [
        "#Set the random seed\n",
        "RANDOM_SEED = 42\n",
        "torch.manual_seed(RANDOM_SEED)\n",
        "random_tensor_c = torch.rand(3,4)\n",
        "torch.manual_seed(RANDOM_SEED)\n",
        "random_tensor_d = torch.rand(3,4)\n",
        "print(random_tensor_c)\n",
        "print(random_tensor_d)\n",
        "print(random_tensor_c==random_tensor_d)"
      ],
      "metadata": {
        "colab": {
          "base_uri": "https://localhost:8080/"
        },
        "id": "wQfaeedgZfBN",
        "outputId": "804641fc-09a8-47ee-9976-376b8b1a8719"
      },
      "execution_count": 65,
      "outputs": [
        {
          "output_type": "stream",
          "name": "stdout",
          "text": [
            "tensor([[0.8823, 0.9150, 0.3829, 0.9593],\n",
            "        [0.3904, 0.6009, 0.2566, 0.7936],\n",
            "        [0.9408, 0.1332, 0.9346, 0.5936]])\n",
            "tensor([[0.8823, 0.9150, 0.3829, 0.9593],\n",
            "        [0.3904, 0.6009, 0.2566, 0.7936],\n",
            "        [0.9408, 0.1332, 0.9346, 0.5936]])\n",
            "tensor([[True, True, True, True],\n",
            "        [True, True, True, True],\n",
            "        [True, True, True, True]])\n"
          ]
        }
      ]
    },
    {
      "cell_type": "code",
      "source": [
        "torch.manual_seed(RANDOM_SEED)"
      ],
      "metadata": {
        "colab": {
          "base_uri": "https://localhost:8080/"
        },
        "id": "tcl_d-QrZe8V",
        "outputId": "d59ee6c7-80c5-4823-dfdf-8a63e339e569"
      },
      "execution_count": 67,
      "outputs": [
        {
          "output_type": "execute_result",
          "data": {
            "text/plain": [
              "<torch._C.Generator at 0x7b22f810c910>"
            ]
          },
          "metadata": {},
          "execution_count": 67
        }
      ]
    },
    {
      "cell_type": "markdown",
      "source": [
        "# Running code on GPUs\n",
        "Makes the computation faster"
      ],
      "metadata": {
        "id": "ZEYQkCk9csEq"
      }
    },
    {
      "cell_type": "code",
      "source": [],
      "metadata": {
        "id": "Yg76zGipcq1n"
      },
      "execution_count": null,
      "outputs": []
    },
    {
      "cell_type": "code",
      "source": [],
      "metadata": {
        "id": "XPqObIzfcjAl"
      },
      "execution_count": null,
      "outputs": []
    }
  ]
}