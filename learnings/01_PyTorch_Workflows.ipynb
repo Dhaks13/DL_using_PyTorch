{
 "cells": [
  {
   "cell_type": "markdown",
   "metadata": {},
   "source": [
    "# Exploring PyTorch Workflow"
   ]
  },
  {
   "cell_type": "markdown",
   "metadata": {},
   "source": [
    "* Preapre Data\n",
    "* Build Model\n",
    "* Training Model\n",
    "* Make Predictions\n",
    "* Save and load model\n",
    "* Putting all together"
   ]
  },
  {
   "cell_type": "code",
   "execution_count": 1,
   "metadata": {},
   "outputs": [
    {
     "name": "stdout",
     "output_type": "stream",
     "text": [
      "2.3.1+cu121\n",
      "True\n",
      "True\n"
     ]
    }
   ],
   "source": [
    "import torch\n",
    "import torch.nn as nn\n",
    "import matplotlib.pyplot as plt\n",
    "import numpy as np\n",
    "\n",
    "# Check PyTorch version\n",
    "print(torch.__version__)\n",
    "\n",
    "# Check if CUDA is available\n",
    "print(torch.cuda.is_available())\n",
    "\n",
    "# Check if cuDNN is enabled \n",
    "print(torch.backends.cudnn.enabled)"
   ]
  },
  {
   "cell_type": "markdown",
   "metadata": {},
   "source": [
    "# Collecting/Preparing Data"
   ]
  },
  {
   "cell_type": "code",
   "execution_count": 2,
   "metadata": {},
   "outputs": [
    {
     "data": {
      "text/plain": [
       "(tensor([[0.0000],\n",
       "         [0.0200],\n",
       "         [0.0400],\n",
       "         [0.0600],\n",
       "         [0.0800],\n",
       "         [0.1000],\n",
       "         [0.1200],\n",
       "         [0.1400],\n",
       "         [0.1600],\n",
       "         [0.1800]]),\n",
       " tensor([[0.3000],\n",
       "         [0.3140],\n",
       "         [0.3280],\n",
       "         [0.3420],\n",
       "         [0.3560],\n",
       "         [0.3700],\n",
       "         [0.3840],\n",
       "         [0.3980],\n",
       "         [0.4120],\n",
       "         [0.4260]]))"
      ]
     },
     "execution_count": 2,
     "metadata": {},
     "output_type": "execute_result"
    }
   ],
   "source": [
    "# Create *Known* Parameters\n",
    "weight = 0.7\n",
    "bias = 0.3\n",
    "\n",
    "#create\n",
    "start = 0\n",
    "end = 1\n",
    "step = 0.02\n",
    "x = torch.arange(start, end, step).unsqueeze(1)\n",
    "y = weight * x + bias\n",
    "\n",
    "x[: 10], y[: 10]"
   ]
  },
  {
   "cell_type": "markdown",
   "metadata": {},
   "source": [
    "# Spliting data for train, validate, test"
   ]
  },
  {
   "cell_type": "code",
   "execution_count": 3,
   "metadata": {},
   "outputs": [],
   "source": [
    "from sklearn.model_selection import train_test_split"
   ]
  },
  {
   "cell_type": "code",
   "execution_count": 4,
   "metadata": {},
   "outputs": [
    {
     "data": {
      "text/plain": [
       "(torch.Size([40, 1]),\n",
       " torch.Size([10, 1]),\n",
       " torch.Size([40, 1]),\n",
       " torch.Size([10, 1]))"
      ]
     },
     "execution_count": 4,
     "metadata": {},
     "output_type": "execute_result"
    }
   ],
   "source": [
    "x_train, x_test, y_train, y_test = train_test_split(x, y, test_size=0.2, random_state=42)\n",
    "x_train.shape, x_test.shape, y_train.shape, y_test.shape    \n"
   ]
  },
  {
   "cell_type": "markdown",
   "metadata": {},
   "source": [
    "# Visualize the data"
   ]
  },
  {
   "cell_type": "code",
   "execution_count": 5,
   "metadata": {},
   "outputs": [],
   "source": [
    "def plot(x, y,x_test,y_test, y_pred=None):\n",
    "    plt.figure(figsize=(10, 6))\n",
    "    plt.scatter(x, y, label='y_true', color='green')\n",
    "    plt.scatter(x_test, y_test, label='y_test', color='red')\n",
    "    if y_pred is not None:\n",
    "        plt.scatter(x, y_pred, label='y_pred', color='red')\n",
    "    plt.legend()\n",
    "    plt.show()\n",
    "\n"
   ]
  },
  {
   "cell_type": "code",
   "execution_count": 6,
   "metadata": {},
   "outputs": [
    {
     "data": {
      "image/png": "[encoded data removed]",
      "text/plain": [
       "<Figure size 1000x600 with 1 Axes>"
      ]
     },
     "metadata": {},
     "output_type": "display_data"
    }
   ],
   "source": [
    "plot(x_train, y_train,x_test,y_test)"
   ]
  },
  {
   "cell_type": "markdown",
   "metadata": {},
   "source": [
    "# Building Model\n"
   ]
  },
  {
   "cell_type": "code",
   "execution_count": 7,
   "metadata": {},
   "outputs": [],
   "source": [
    "# Linear Regression Model\n",
    "class LinearRegression(nn.Module):\n",
    "    def __init__(self):\n",
    "        super().__init__()\n",
    "        self.weights = nn.Parameter(torch.randn(1,requires_grad=True,dtype=torch.float))\n",
    "        self.bias = nn.Parameter(torch.randn(1,requires_grad=True,dtype=torch.float))\n",
    "\n",
    "    def forward(self, x: torch.Tensor) -> torch.Tensor:\n",
    "        return self.weights * x + self.bias"
   ]
  },
  {
   "cell_type": "markdown",
   "metadata": {},
   "source": [
    "### CHecking the content of our model"
   ]
  },
  {
   "cell_type": "code",
   "execution_count": 8,
   "metadata": {},
   "outputs": [
    {
     "name": "stdout",
     "output_type": "stream",
     "text": [
      "LinearRegression()\n",
      "[Parameter containing:\n",
      "tensor([0.3367], requires_grad=True), Parameter containing:\n",
      "tensor([0.1288], requires_grad=True)]\n",
      "OrderedDict({'weights': tensor([0.3367]), 'bias': tensor([0.1288])})\n"
     ]
    }
   ],
   "source": [
    "#creating a random seed\n",
    "torch.manual_seed(42)\n",
    "\n",
    "#create an instance of the model\n",
    "model_0 = LinearRegression()\n",
    "print(model_0)\n",
    "print(list(model_0.parameters()))\n",
    "print(model_0.state_dict())"
   ]
  },
  {
   "cell_type": "markdown",
   "metadata": {},
   "source": [
    "# Checking the model Preditive power"
   ]
  },
  {
   "cell_type": "code",
   "execution_count": 9,
   "metadata": {},
   "outputs": [
    {
     "name": "stdout",
     "output_type": "stream",
     "text": [
      "tensor([[0.2163],\n",
      "        [0.3914],\n",
      "        [0.3308],\n",
      "        [0.4318],\n",
      "        [0.2433]])\n"
     ]
    }
   ],
   "source": [
    "with torch.inference_mode():\n",
    "    y_pred = model_0(x_test)\n",
    "    print(y_pred[:5])"
   ]
  },
  {
   "cell_type": "code",
   "execution_count": 10,
   "metadata": {},
   "outputs": [
    {
     "data": {
      "image/png": "[encoded data removed]",
      "text/plain": [
       "<Figure size 1000x600 with 1 Axes>"
      ]
     },
     "metadata": {},
     "output_type": "display_data"
    }
   ],
   "source": [
    "plot(x_test, y_test,x_test, y_pred)"
   ]
  },
  {
   "cell_type": "code",
   "execution_count": 11,
   "metadata": {},
   "outputs": [
    {
     "name": "stdout",
     "output_type": "stream",
     "text": [
      "tensor([[0.2163],\n",
      "        [0.3914],\n",
      "        [0.3308],\n",
      "        [0.4318],\n",
      "        [0.2433]])\n"
     ]
    },
    {
     "data": {
      "image/png": "[encoded data removed]",
      "text/plain": [
       "<Figure size 1000x600 with 1 Axes>"
      ]
     },
     "metadata": {},
     "output_type": "display_data"
    }
   ],
   "source": [
    "with torch.no_grad():\n",
    "    y_pred = model_0(x_test)\n",
    "    print(y_pred[:5])\n",
    "\n",
    "plot(x_test, y_test,x_test, y_pred)"
   ]
  },
  {
   "cell_type": "markdown",
   "metadata": {},
   "source": [
    "# Train the model\n",
    "Model should be trained to get accurate results"
   ]
  },
  {
   "cell_type": "markdown",
   "metadata": {},
   "source": [
    "### Setup loss function and Optimizer"
   ]
  },
  {
   "cell_type": "code",
   "execution_count": 12,
   "metadata": {},
   "outputs": [],
   "source": [
    "# Loss Function\n",
    "loss_fn = nn.MSELoss()\n",
    "\n",
    "#Optimizer\n",
    "optimizer = torch.optim.SGD(params=model_0.parameters(), lr=0.001)"
   ]
  },
  {
   "cell_type": "markdown",
   "metadata": {},
   "source": [
    "### Building a training loop"
   ]
  },
  {
   "cell_type": "code",
   "execution_count": 13,
   "metadata": {},
   "outputs": [
    {
     "name": "stdout",
     "output_type": "stream",
     "text": [
      "Epoch 1, Loss: 0.1275089979171753\n",
      "Epoch 2, Loss: 0.12690117955207825\n",
      "Epoch 3, Loss: 0.12629631161689758\n",
      "Epoch 4, Loss: 0.12569445371627808\n",
      "Epoch 5, Loss: 0.12509554624557495\n",
      "Epoch 6, Loss: 0.12449957430362701\n",
      "Epoch 7, Loss: 0.12390655279159546\n",
      "Epoch 8, Loss: 0.1233164444565773\n",
      "Epoch 9, Loss: 0.12272921949625015\n",
      "Epoch 10, Loss: 0.1221449002623558\n",
      "Epoch 11, Loss: 0.12156344950199127\n",
      "Epoch 12, Loss: 0.12098486721515656\n",
      "Epoch 13, Loss: 0.12040913105010986\n",
      "Epoch 14, Loss: 0.11983621120452881\n",
      "Epoch 15, Loss: 0.11926611512899399\n",
      "Epoch 16, Loss: 0.11869882047176361\n",
      "Epoch 17, Loss: 0.11813431978225708\n",
      "Epoch 18, Loss: 0.1175725907087326\n",
      "Epoch 19, Loss: 0.11701363325119019\n",
      "Epoch 20, Loss: 0.11645741760730743\n",
      "Epoch 21, Loss: 0.11590392887592316\n",
      "Epoch 22, Loss: 0.11535316705703735\n",
      "Epoch 23, Loss: 0.11480511724948883\n",
      "Epoch 24, Loss: 0.1142597645521164\n",
      "Epoch 25, Loss: 0.11371706426143646\n",
      "Epoch 26, Loss: 0.11317707598209381\n",
      "Epoch 27, Loss: 0.11263972520828247\n",
      "Epoch 28, Loss: 0.11210501194000244\n",
      "Epoch 29, Loss: 0.11157294362783432\n",
      "Epoch 30, Loss: 0.11104347556829453\n",
      "Epoch 31, Loss: 0.11051662266254425\n",
      "Epoch 32, Loss: 0.10999234020709991\n",
      "Epoch 33, Loss: 0.10947064310312271\n",
      "Epoch 34, Loss: 0.10895152390003204\n",
      "Epoch 35, Loss: 0.10843493789434433\n",
      "Epoch 36, Loss: 0.10792090743780136\n",
      "Epoch 37, Loss: 0.10740940272808075\n",
      "Epoch 38, Loss: 0.1069004088640213\n",
      "Epoch 39, Loss: 0.10639391839504242\n",
      "Epoch 40, Loss: 0.10588991641998291\n",
      "Epoch 41, Loss: 0.10538838058710098\n",
      "Epoch 42, Loss: 0.10488931834697723\n",
      "Epoch 43, Loss: 0.10439272224903107\n",
      "Epoch 44, Loss: 0.1038985475897789\n",
      "Epoch 45, Loss: 0.10340683162212372\n",
      "Epoch 46, Loss: 0.10291750729084015\n",
      "Epoch 47, Loss: 0.10243060439825058\n",
      "Epoch 48, Loss: 0.10194607079029083\n",
      "Epoch 49, Loss: 0.10146395117044449\n",
      "Epoch 50, Loss: 0.10098415613174438\n",
      "Epoch 51, Loss: 0.10050676017999649\n",
      "Epoch 52, Loss: 0.10003171116113663\n",
      "Epoch 53, Loss: 0.09955897927284241\n",
      "Epoch 54, Loss: 0.09908858686685562\n",
      "Epoch 55, Loss: 0.09862048923969269\n",
      "Epoch 56, Loss: 0.0981547012925148\n",
      "Epoch 57, Loss: 0.09769120067358017\n",
      "Epoch 58, Loss: 0.0972299724817276\n",
      "Epoch 59, Loss: 0.09677103161811829\n",
      "Epoch 60, Loss: 0.09631433337926865\n",
      "Epoch 61, Loss: 0.09585988521575928\n",
      "Epoch 62, Loss: 0.09540766477584839\n",
      "Epoch 63, Loss: 0.09495766460895538\n",
      "Epoch 64, Loss: 0.09450987726449966\n",
      "Epoch 65, Loss: 0.09406428039073944\n",
      "Epoch 66, Loss: 0.09362088143825531\n",
      "Epoch 67, Loss: 0.09317967295646667\n",
      "Epoch 68, Loss: 0.09274063259363174\n",
      "Epoch 69, Loss: 0.09230373799800873\n",
      "Epoch 70, Loss: 0.09186899662017822\n",
      "Epoch 71, Loss: 0.09143640100955963\n",
      "Epoch 72, Loss: 0.09100592881441116\n",
      "Epoch 73, Loss: 0.09057755768299103\n",
      "Epoch 74, Loss: 0.09015128761529922\n",
      "Epoch 75, Loss: 0.08972714096307755\n",
      "Epoch 76, Loss: 0.08930505812168121\n",
      "Epoch 77, Loss: 0.08888505399227142\n",
      "Epoch 78, Loss: 0.08846710622310638\n",
      "Epoch 79, Loss: 0.0880512148141861\n",
      "Epoch 80, Loss: 0.08763737231492996\n",
      "Epoch 81, Loss: 0.08722555637359619\n",
      "Epoch 82, Loss: 0.08681575953960419\n",
      "Epoch 83, Loss: 0.08640798181295395\n",
      "Epoch 84, Loss: 0.08600221574306488\n",
      "Epoch 85, Loss: 0.08559844642877579\n",
      "Epoch 86, Loss: 0.08519665896892548\n",
      "Epoch 87, Loss: 0.08479683101177216\n",
      "Epoch 88, Loss: 0.08439897000789642\n",
      "Epoch 89, Loss: 0.08400307595729828\n",
      "Epoch 90, Loss: 0.08360910415649414\n",
      "Epoch 91, Loss: 0.08321709930896759\n",
      "Epoch 92, Loss: 0.08282700181007385\n",
      "Epoch 93, Loss: 0.08243883401155472\n",
      "Epoch 94, Loss: 0.0820525661110878\n",
      "Epoch 95, Loss: 0.0816681906580925\n",
      "Epoch 96, Loss: 0.08128572255373001\n",
      "Epoch 97, Loss: 0.08090510964393616\n",
      "Epoch 98, Loss: 0.08052637428045273\n",
      "Epoch 99, Loss: 0.08014951646327972\n",
      "Epoch 100, Loss: 0.07977449893951416\n",
      "Epoch 101, Loss: 0.07940131425857544\n",
      "Epoch 102, Loss: 0.07902996987104416\n",
      "Epoch 103, Loss: 0.07866045087575912\n",
      "Epoch 104, Loss: 0.07829274982213974\n",
      "Epoch 105, Loss: 0.07792684435844421\n",
      "Epoch 106, Loss: 0.07756273448467255\n",
      "Epoch 107, Loss: 0.07720041275024414\n",
      "Epoch 108, Loss: 0.076839879155159\n",
      "Epoch 109, Loss: 0.07648111879825592\n",
      "Epoch 110, Loss: 0.07612411677837372\n",
      "Epoch 111, Loss: 0.0757688656449318\n",
      "Epoch 112, Loss: 0.07541535794734955\n",
      "Epoch 113, Loss: 0.07506358623504639\n",
      "Epoch 114, Loss: 0.07471355050802231\n",
      "Epoch 115, Loss: 0.07436523586511612\n",
      "Epoch 116, Loss: 0.07401862740516663\n",
      "Epoch 117, Loss: 0.07367373257875443\n",
      "Epoch 118, Loss: 0.07333050668239594\n",
      "Epoch 119, Loss: 0.07298898696899414\n",
      "Epoch 120, Loss: 0.07264912873506546\n",
      "Epoch 121, Loss: 0.07231093943119049\n",
      "Epoch 122, Loss: 0.07197443395853043\n",
      "Epoch 123, Loss: 0.07163956016302109\n",
      "Epoch 124, Loss: 0.07130633294582367\n",
      "Epoch 125, Loss: 0.07097474485635757\n",
      "Epoch 126, Loss: 0.0706447884440422\n",
      "Epoch 127, Loss: 0.07031644880771637\n",
      "Epoch 128, Loss: 0.06998971849679947\n",
      "Epoch 129, Loss: 0.0696645975112915\n",
      "Epoch 130, Loss: 0.06934107840061188\n",
      "Epoch 131, Loss: 0.0690191388130188\n",
      "Epoch 132, Loss: 0.06869878619909286\n",
      "Epoch 133, Loss: 0.06838000565767288\n",
      "Epoch 134, Loss: 0.06806278973817825\n",
      "Epoch 135, Loss: 0.06774712353944778\n",
      "Epoch 136, Loss: 0.06743301451206207\n",
      "Epoch 137, Loss: 0.06712044775485992\n",
      "Epoch 138, Loss: 0.06680940836668015\n",
      "Epoch 139, Loss: 0.06649990379810333\n",
      "Epoch 140, Loss: 0.06619192659854889\n",
      "Epoch 141, Loss: 0.06588544696569443\n",
      "Epoch 142, Loss: 0.06558047980070114\n",
      "Epoch 143, Loss: 0.06527701020240784\n",
      "Epoch 144, Loss: 0.06497502326965332\n",
      "Epoch 145, Loss: 0.064674511551857\n",
      "Epoch 146, Loss: 0.06437549740076065\n",
      "Epoch 147, Loss: 0.0640779361128807\n",
      "Epoch 148, Loss: 0.06378183513879776\n",
      "Epoch 149, Loss: 0.06348719447851181\n",
      "Epoch 150, Loss: 0.06319399923086166\n",
      "Epoch 151, Loss: 0.06290222704410553\n",
      "Epoch 152, Loss: 0.06261191517114639\n",
      "Epoch 153, Loss: 0.06232301518321037\n",
      "Epoch 154, Loss: 0.06203552335500717\n",
      "Epoch 155, Loss: 0.06174945831298828\n",
      "Epoch 156, Loss: 0.06146479770541191\n",
      "Epoch 157, Loss: 0.06118152290582657\n",
      "Epoch 158, Loss: 0.060899652540683746\n",
      "Epoch 159, Loss: 0.06061915308237076\n",
      "Epoch 160, Loss: 0.0603400282561779\n",
      "Epoch 161, Loss: 0.06006227806210518\n",
      "Epoch 162, Loss: 0.05978589132428169\n",
      "Epoch 163, Loss: 0.05951084941625595\n",
      "Epoch 164, Loss: 0.059237174689769745\n",
      "Epoch 165, Loss: 0.05896483734250069\n",
      "Epoch 166, Loss: 0.058693837374448776\n",
      "Epoch 167, Loss: 0.05842416360974312\n",
      "Epoch 168, Loss: 0.05815582349896431\n",
      "Epoch 169, Loss: 0.05788878723978996\n",
      "Epoch 170, Loss: 0.057623058557510376\n",
      "Epoch 171, Loss: 0.05735864117741585\n",
      "Epoch 172, Loss: 0.057095520198345184\n",
      "Epoch 173, Loss: 0.05683369189500809\n",
      "Epoch 174, Loss: 0.05657315254211426\n",
      "Epoch 175, Loss: 0.0563138909637928\n",
      "Epoch 176, Loss: 0.05605589225888252\n",
      "Epoch 177, Loss: 0.05579915642738342\n",
      "Epoch 178, Loss: 0.0555436834692955\n",
      "Epoch 179, Loss: 0.05528947710990906\n",
      "Epoch 180, Loss: 0.055036503821611404\n",
      "Epoch 181, Loss: 0.05478476732969284\n",
      "Epoch 182, Loss: 0.054534267634153366\n",
      "Epoch 183, Loss: 0.05428500100970268\n",
      "Epoch 184, Loss: 0.054036956280469894\n",
      "Epoch 185, Loss: 0.053790133446455\n",
      "Epoch 186, Loss: 0.05354452133178711\n",
      "Epoch 187, Loss: 0.05330010503530502\n",
      "Epoch 188, Loss: 0.05305689573287964\n",
      "Epoch 189, Loss: 0.05281487852334976\n",
      "Epoch 190, Loss: 0.052574049681425095\n",
      "Epoch 191, Loss: 0.05233440548181534\n",
      "Epoch 192, Loss: 0.052095927298069\n",
      "Epoch 193, Loss: 0.05185861513018608\n",
      "Epoch 194, Loss: 0.05162247270345688\n",
      "Epoch 195, Loss: 0.051387496292591095\n",
      "Epoch 196, Loss: 0.05115366727113724\n",
      "Epoch 197, Loss: 0.05092098191380501\n",
      "Epoch 198, Loss: 0.050689440220594406\n",
      "Epoch 199, Loss: 0.05045902729034424\n",
      "Epoch 200, Loss: 0.0502297580242157\n",
      "Epoch 201, Loss: 0.050001610070466995\n",
      "Epoch 202, Loss: 0.04977456480264664\n",
      "Epoch 203, Loss: 0.04954863712191582\n",
      "Epoch 204, Loss: 0.049323827028274536\n",
      "Epoch 205, Loss: 0.0491001158952713\n",
      "Epoch 206, Loss: 0.04887750372290611\n",
      "Epoch 207, Loss: 0.048655979335308075\n",
      "Epoch 208, Loss: 0.04843553900718689\n",
      "Epoch 209, Loss: 0.04821618273854256\n",
      "Epoch 210, Loss: 0.04799789935350418\n",
      "Epoch 211, Loss: 0.04778068885207176\n",
      "Epoch 212, Loss: 0.047564536333084106\n",
      "Epoch 213, Loss: 0.04734945297241211\n",
      "Epoch 214, Loss: 0.04713542014360428\n",
      "Epoch 215, Loss: 0.04692242667078972\n",
      "Epoch 216, Loss: 0.04671049863100052\n",
      "Epoch 217, Loss: 0.0464995913207531\n",
      "Epoch 218, Loss: 0.04628972336649895\n",
      "Epoch 219, Loss: 0.04608088359236717\n",
      "Epoch 220, Loss: 0.04587307199835777\n",
      "Epoch 221, Loss: 0.045666277408599854\n",
      "Epoch 222, Loss: 0.045460496097803116\n",
      "Epoch 223, Loss: 0.04525572434067726\n",
      "Epoch 224, Loss: 0.045051950961351395\n",
      "Epoch 225, Loss: 0.044849179685115814\n",
      "Epoch 226, Loss: 0.04464740306138992\n",
      "Epoch 227, Loss: 0.044446609914302826\n",
      "Epoch 228, Loss: 0.04424680024385452\n",
      "Epoch 229, Loss: 0.04404797405004501\n",
      "Epoch 230, Loss: 0.0438501201570034\n",
      "Epoch 231, Loss: 0.04365323483943939\n",
      "Epoch 232, Loss: 0.04345732182264328\n",
      "Epoch 233, Loss: 0.043262362480163574\n",
      "Epoch 234, Loss: 0.043068356812000275\n",
      "Epoch 235, Loss: 0.04287531226873398\n",
      "Epoch 236, Loss: 0.042683202773332596\n",
      "Epoch 237, Loss: 0.04249204695224762\n",
      "Epoch 238, Loss: 0.042301807552576065\n",
      "Epoch 239, Loss: 0.04211250692605972\n",
      "Epoch 240, Loss: 0.0419241301715374\n",
      "Epoch 241, Loss: 0.04173668473958969\n",
      "Epoch 242, Loss: 0.041550152003765106\n",
      "Epoch 243, Loss: 0.041364531964063644\n",
      "Epoch 244, Loss: 0.041179824620485306\n",
      "Epoch 245, Loss: 0.040996015071868896\n",
      "Epoch 246, Loss: 0.04081312194466591\n",
      "Epoch 247, Loss: 0.04063110798597336\n",
      "Epoch 248, Loss: 0.04044999182224274\n",
      "Epoch 249, Loss: 0.04026976227760315\n",
      "Epoch 250, Loss: 0.0400904081761837\n",
      "Epoch 251, Loss: 0.03991194814443588\n",
      "Epoch 252, Loss: 0.039734359830617905\n",
      "Epoch 253, Loss: 0.03955764323472977\n",
      "Epoch 254, Loss: 0.039381787180900574\n",
      "Epoch 255, Loss: 0.039206795394420624\n",
      "Epoch 256, Loss: 0.03903265669941902\n",
      "Epoch 257, Loss: 0.03885936737060547\n",
      "Epoch 258, Loss: 0.03868693858385086\n",
      "Epoch 259, Loss: 0.03851534053683281\n",
      "Epoch 260, Loss: 0.03834459185600281\n",
      "Epoch 261, Loss: 0.038174670189619064\n",
      "Epoch 262, Loss: 0.03800559043884277\n",
      "Epoch 263, Loss: 0.03783733770251274\n",
      "Epoch 264, Loss: 0.03766990080475807\n",
      "Epoch 265, Loss: 0.037503283470869064\n",
      "Epoch 266, Loss: 0.03733748197555542\n",
      "Epoch 267, Loss: 0.03717248886823654\n",
      "Epoch 268, Loss: 0.037008319050073624\n",
      "Epoch 269, Loss: 0.03684494271874428\n",
      "Epoch 270, Loss: 0.0366823635995388\n",
      "Epoch 271, Loss: 0.0365205779671669\n",
      "Epoch 272, Loss: 0.03635958582162857\n",
      "Epoch 273, Loss: 0.036199383437633514\n",
      "Epoch 274, Loss: 0.03603995963931084\n",
      "Epoch 275, Loss: 0.035881318151950836\n",
      "Epoch 276, Loss: 0.035723455250263214\n",
      "Epoch 277, Loss: 0.03556636720895767\n",
      "Epoch 278, Loss: 0.03541005030274391\n",
      "Epoch 279, Loss: 0.035254497081041336\n",
      "Epoch 280, Loss: 0.03509970381855965\n",
      "Epoch 281, Loss: 0.034945666790008545\n",
      "Epoch 282, Loss: 0.03479238599538803\n",
      "Epoch 283, Loss: 0.03463985398411751\n",
      "Epoch 284, Loss: 0.03448806330561638\n",
      "Epoch 285, Loss: 0.03433702141046524\n",
      "Epoch 286, Loss: 0.034186720848083496\n",
      "Epoch 287, Loss: 0.03403715044260025\n",
      "Epoch 288, Loss: 0.0338883176445961\n",
      "Epoch 289, Loss: 0.03374020382761955\n",
      "Epoch 290, Loss: 0.033592820167541504\n",
      "Epoch 291, Loss: 0.03344614803791046\n",
      "Epoch 292, Loss: 0.03330019861459732\n",
      "Epoch 293, Loss: 0.03315497189760208\n",
      "Epoch 294, Loss: 0.03301045298576355\n",
      "Epoch 295, Loss: 0.03286663442850113\n",
      "Epoch 296, Loss: 0.032723523676395416\n",
      "Epoch 297, Loss: 0.03258110210299492\n",
      "Epoch 298, Loss: 0.03243938460946083\n",
      "Epoch 299, Loss: 0.032298363745212555\n",
      "Epoch 300, Loss: 0.0321580246090889\n",
      "Epoch 301, Loss: 0.03201837092638016\n",
      "Epoch 302, Loss: 0.03187940642237663\n",
      "Epoch 303, Loss: 0.031741123646497726\n",
      "Epoch 304, Loss: 0.031603507697582245\n",
      "Epoch 305, Loss: 0.03146656975150108\n",
      "Epoch 306, Loss: 0.031330306082963943\n",
      "Epoch 307, Loss: 0.03119470179080963\n",
      "Epoch 308, Loss: 0.031059766188263893\n",
      "Epoch 309, Loss: 0.030925482511520386\n",
      "Epoch 310, Loss: 0.030791858211159706\n",
      "Epoch 311, Loss: 0.030658891424536705\n",
      "Epoch 312, Loss: 0.030526569113135338\n",
      "Epoch 313, Loss: 0.030394893139600754\n",
      "Epoch 314, Loss: 0.030263865366578102\n",
      "Epoch 315, Loss: 0.030133476480841637\n",
      "Epoch 316, Loss: 0.03000372275710106\n",
      "Epoch 317, Loss: 0.029874607920646667\n",
      "Epoch 318, Loss: 0.029746124520897865\n",
      "Epoch 319, Loss: 0.029618259519338608\n",
      "Epoch 320, Loss: 0.02949102595448494\n",
      "Epoch 321, Loss: 0.029364410787820816\n",
      "Epoch 322, Loss: 0.029238417744636536\n",
      "Epoch 323, Loss: 0.029113033786416054\n",
      "Epoch 324, Loss: 0.02898826077580452\n",
      "Epoch 325, Loss: 0.02886410616338253\n",
      "Epoch 326, Loss: 0.02874055504798889\n",
      "Epoch 327, Loss: 0.028617609292268753\n",
      "Epoch 328, Loss: 0.028495263308286667\n",
      "Epoch 329, Loss: 0.028373509645462036\n",
      "Epoch 330, Loss: 0.02825235389173031\n",
      "Epoch 331, Loss: 0.02813178300857544\n",
      "Epoch 332, Loss: 0.028011810034513474\n",
      "Epoch 333, Loss: 0.02789241448044777\n",
      "Epoch 334, Loss: 0.02777360938489437\n",
      "Epoch 335, Loss: 0.027655381709337234\n",
      "Epoch 336, Loss: 0.02753772959113121\n",
      "Epoch 337, Loss: 0.027420660480856895\n",
      "Epoch 338, Loss: 0.027304157614707947\n",
      "Epoch 339, Loss: 0.027188222855329514\n",
      "Epoch 340, Loss: 0.027072858065366745\n",
      "Epoch 341, Loss: 0.026958059519529343\n",
      "Epoch 342, Loss: 0.026843812316656113\n",
      "Epoch 343, Loss: 0.026730123907327652\n",
      "Epoch 344, Loss: 0.026616986840963364\n",
      "Epoch 345, Loss: 0.026504406705498695\n",
      "Epoch 346, Loss: 0.026392381638288498\n",
      "Epoch 347, Loss: 0.026280894875526428\n",
      "Epoch 348, Loss: 0.02616996131837368\n",
      "Epoch 349, Loss: 0.026059558615088463\n",
      "Epoch 350, Loss: 0.02594970166683197\n",
      "Epoch 351, Loss: 0.025840377435088158\n",
      "Epoch 352, Loss: 0.025731587782502174\n",
      "Epoch 353, Loss: 0.025623321533203125\n",
      "Epoch 354, Loss: 0.025515586137771606\n",
      "Epoch 355, Loss: 0.02540838159620762\n",
      "Epoch 356, Loss: 0.025301698595285416\n",
      "Epoch 357, Loss: 0.025195535272359848\n",
      "Epoch 358, Loss: 0.025089899078011513\n",
      "Epoch 359, Loss: 0.02498476579785347\n",
      "Epoch 360, Loss: 0.024880146607756615\n",
      "Epoch 361, Loss: 0.024776039645075798\n",
      "Epoch 362, Loss: 0.02467244304716587\n",
      "Epoch 363, Loss: 0.024569343775510788\n",
      "Epoch 364, Loss: 0.024466754868626595\n",
      "Epoch 365, Loss: 0.024364659562706947\n",
      "Epoch 366, Loss: 0.024263067170977592\n",
      "Epoch 367, Loss: 0.024161968380212784\n",
      "Epoch 368, Loss: 0.024061361327767372\n",
      "Epoch 369, Loss: 0.023961251601576805\n",
      "Epoch 370, Loss: 0.02386162057518959\n",
      "Epoch 371, Loss: 0.023762473836541176\n",
      "Epoch 372, Loss: 0.02366381324827671\n",
      "Epoch 373, Loss: 0.023565635085105896\n",
      "Epoch 374, Loss: 0.023467937484383583\n",
      "Epoch 375, Loss: 0.023370709270238876\n",
      "Epoch 376, Loss: 0.02327396348118782\n",
      "Epoch 377, Loss: 0.023177683353424072\n",
      "Epoch 378, Loss: 0.023081878200173378\n",
      "Epoch 379, Loss: 0.022986534982919693\n",
      "Epoch 380, Loss: 0.022891655564308167\n",
      "Epoch 381, Loss: 0.022797245532274246\n",
      "Epoch 382, Loss: 0.02270328626036644\n",
      "Epoch 383, Loss: 0.02260979637503624\n",
      "Epoch 384, Loss: 0.022516751661896706\n",
      "Epoch 385, Loss: 0.022424157708883286\n",
      "Epoch 386, Loss: 0.022332018241286278\n",
      "Epoch 387, Loss: 0.022240331396460533\n",
      "Epoch 388, Loss: 0.022149093449115753\n",
      "Epoch 389, Loss: 0.022058291360735893\n",
      "Epoch 390, Loss: 0.0219679344445467\n",
      "Epoch 391, Loss: 0.021878018975257874\n",
      "Epoch 392, Loss: 0.021788546815514565\n",
      "Epoch 393, Loss: 0.02169950120151043\n",
      "Epoch 394, Loss: 0.021610895171761513\n",
      "Epoch 395, Loss: 0.02152271196246147\n",
      "Epoch 396, Loss: 0.0214349664747715\n",
      "Epoch 397, Loss: 0.021347645670175552\n",
      "Epoch 398, Loss: 0.02126074954867363\n",
      "Epoch 399, Loss: 0.021174272522330284\n",
      "Epoch 400, Loss: 0.021088218316435814\n",
      "Epoch 401, Loss: 0.02100258134305477\n",
      "Epoch 402, Loss: 0.020917361602187157\n",
      "Epoch 403, Loss: 0.02083256095647812\n",
      "Epoch 404, Loss: 0.02074817754328251\n",
      "Epoch 405, Loss: 0.020664189010858536\n",
      "Epoch 406, Loss: 0.020580627024173737\n",
      "Epoch 407, Loss: 0.020497463643550873\n",
      "Epoch 408, Loss: 0.020414700731635094\n",
      "Epoch 409, Loss: 0.020332345739006996\n",
      "Epoch 410, Loss: 0.020250391215085983\n",
      "Epoch 411, Loss: 0.020168829709291458\n",
      "Epoch 412, Loss: 0.020087670534849167\n",
      "Epoch 413, Loss: 0.020006906241178513\n",
      "Epoch 414, Loss: 0.019926533102989197\n",
      "Epoch 415, Loss: 0.01984654739499092\n",
      "Epoch 416, Loss: 0.01976695843040943\n",
      "Epoch 417, Loss: 0.019687749445438385\n",
      "Epoch 418, Loss: 0.01960892789065838\n",
      "Epoch 419, Loss: 0.019530488178133965\n",
      "Epoch 420, Loss: 0.01945243589580059\n",
      "Epoch 421, Loss: 0.01937475986778736\n",
      "Epoch 422, Loss: 0.01929745450615883\n",
      "Epoch 423, Loss: 0.019220532849431038\n",
      "Epoch 424, Loss: 0.019143981859087944\n",
      "Epoch 425, Loss: 0.019067805260419846\n",
      "Epoch 426, Loss: 0.018991995602846146\n",
      "Epoch 427, Loss: 0.01891656033694744\n",
      "Epoch 428, Loss: 0.018841486424207687\n",
      "Epoch 429, Loss: 0.01876678131520748\n",
      "Epoch 430, Loss: 0.018692439422011375\n",
      "Epoch 431, Loss: 0.018618455156683922\n",
      "Epoch 432, Loss: 0.01854483038187027\n",
      "Epoch 433, Loss: 0.01847156509757042\n",
      "Epoch 434, Loss: 0.018398646265268326\n",
      "Epoch 435, Loss: 0.018326088786125183\n",
      "Epoch 436, Loss: 0.018253883346915245\n",
      "Epoch 437, Loss: 0.01818203553557396\n",
      "Epoch 438, Loss: 0.018110530450940132\n",
      "Epoch 439, Loss: 0.01803937368094921\n",
      "Epoch 440, Loss: 0.017968561500310898\n",
      "Epoch 441, Loss: 0.017898092046380043\n",
      "Epoch 442, Loss: 0.017827967181801796\n",
      "Epoch 443, Loss: 0.01775817945599556\n",
      "Epoch 444, Loss: 0.017688730731606483\n",
      "Epoch 445, Loss: 0.017619619145989418\n",
      "Epoch 446, Loss: 0.017550840973854065\n",
      "Epoch 447, Loss: 0.01748240366578102\n",
      "Epoch 448, Loss: 0.01741429604589939\n",
      "Epoch 449, Loss: 0.017346514388918877\n",
      "Epoch 450, Loss: 0.017279066145420074\n",
      "Epoch 451, Loss: 0.01721194200217724\n",
      "Epoch 452, Loss: 0.017145143821835518\n",
      "Epoch 453, Loss: 0.017078671604394913\n",
      "Epoch 454, Loss: 0.017012525349855423\n",
      "Epoch 455, Loss: 0.016946690157055855\n",
      "Epoch 456, Loss: 0.016881175339221954\n",
      "Epoch 457, Loss: 0.01681598648428917\n",
      "Epoch 458, Loss: 0.016751110553741455\n",
      "Epoch 459, Loss: 0.01668654941022396\n",
      "Epoch 460, Loss: 0.016622301191091537\n",
      "Epoch 461, Loss: 0.016558360308408737\n",
      "Epoch 462, Loss: 0.016494732350111008\n",
      "Epoch 463, Loss: 0.016431406140327454\n",
      "Epoch 464, Loss: 0.016368400305509567\n",
      "Epoch 465, Loss: 0.01630568876862526\n",
      "Epoch 466, Loss: 0.016243286430835724\n",
      "Epoch 467, Loss: 0.016181187704205513\n",
      "Epoch 468, Loss: 0.01611938700079918\n",
      "Epoch 469, Loss: 0.01605788804590702\n",
      "Epoch 470, Loss: 0.01599668338894844\n",
      "Epoch 471, Loss: 0.015935774892568588\n",
      "Epoch 472, Loss: 0.015875160694122314\n",
      "Epoch 473, Loss: 0.01581484079360962\n",
      "Epoch 474, Loss: 0.015754813328385353\n",
      "Epoch 475, Loss: 0.015695080161094666\n",
      "Epoch 476, Loss: 0.01563563384115696\n",
      "Epoch 477, Loss: 0.015576476231217384\n",
      "Epoch 478, Loss: 0.015517601743340492\n",
      "Epoch 479, Loss: 0.015459011308848858\n",
      "Epoch 480, Loss: 0.015400707721710205\n",
      "Epoch 481, Loss: 0.015342685393989086\n",
      "Epoch 482, Loss: 0.015284938737750053\n",
      "Epoch 483, Loss: 0.015227479860186577\n",
      "Epoch 484, Loss: 0.015170296654105186\n",
      "Epoch 485, Loss: 0.015113389119505882\n",
      "Epoch 486, Loss: 0.01505675632506609\n",
      "Epoch 487, Loss: 0.015000398270785809\n",
      "Epoch 488, Loss: 0.014944316819310188\n",
      "Epoch 489, Loss: 0.014888504520058632\n",
      "Epoch 490, Loss: 0.014832956716418266\n",
      "Epoch 491, Loss: 0.01477767713367939\n",
      "Epoch 492, Loss: 0.014722669497132301\n",
      "Epoch 493, Loss: 0.014667930081486702\n",
      "Epoch 494, Loss: 0.014613455161452293\n",
      "Epoch 495, Loss: 0.014559241943061352\n",
      "Epoch 496, Loss: 0.014505289494991302\n",
      "Epoch 497, Loss: 0.01445160061120987\n",
      "Epoch 498, Loss: 0.01439817063510418\n",
      "Epoch 499, Loss: 0.014344995841383934\n",
      "Epoch 500, Loss: 0.014292081817984581\n",
      "Epoch 501, Loss: 0.0142394183203578\n",
      "Epoch 502, Loss: 0.014187013730406761\n",
      "Epoch 503, Loss: 0.014134861528873444\n",
      "Epoch 504, Loss: 0.014082957990467548\n",
      "Epoch 505, Loss: 0.0140313059091568\n",
      "Epoch 506, Loss: 0.013979902490973473\n",
      "Epoch 507, Loss: 0.013928750529885292\n",
      "Epoch 508, Loss: 0.013877840712666512\n",
      "Epoch 509, Loss: 0.013827179558575153\n",
      "Epoch 510, Loss: 0.01377676147967577\n",
      "Epoch 511, Loss: 0.01372659020125866\n",
      "Epoch 512, Loss: 0.013676658272743225\n",
      "Epoch 513, Loss: 0.013626967556774616\n",
      "Epoch 514, Loss: 0.013577520847320557\n",
      "Epoch 515, Loss: 0.013528305105865002\n",
      "Epoch 516, Loss: 0.013479337096214294\n",
      "Epoch 517, Loss: 0.013430600054562092\n",
      "Epoch 518, Loss: 0.013382094912230968\n",
      "Epoch 519, Loss: 0.013333824463188648\n",
      "Epoch 520, Loss: 0.013285787776112556\n",
      "Epoch 521, Loss: 0.013237984851002693\n",
      "Epoch 522, Loss: 0.013190409168601036\n",
      "Epoch 523, Loss: 0.013143065385520458\n",
      "Epoch 524, Loss: 0.013095949776470661\n",
      "Epoch 525, Loss: 0.013049060478806496\n",
      "Epoch 526, Loss: 0.013002392835915089\n",
      "Epoch 527, Loss: 0.012955954298377037\n",
      "Epoch 528, Loss: 0.012909743003547192\n",
      "Epoch 529, Loss: 0.01286375243216753\n",
      "Epoch 530, Loss: 0.012817981652915478\n",
      "Epoch 531, Loss: 0.012772430665791035\n",
      "Epoch 532, Loss: 0.012727105990052223\n",
      "Epoch 533, Loss: 0.012681996449828148\n",
      "Epoch 534, Loss: 0.01263709831982851\n",
      "Epoch 535, Loss: 0.012592421844601631\n",
      "Epoch 536, Loss: 0.01254795491695404\n",
      "Epoch 537, Loss: 0.01250370405614376\n",
      "Epoch 538, Loss: 0.012459667399525642\n",
      "Epoch 539, Loss: 0.012415844947099686\n",
      "Epoch 540, Loss: 0.012372231110930443\n",
      "Epoch 541, Loss: 0.012328824028372765\n",
      "Epoch 542, Loss: 0.012285629287362099\n",
      "Epoch 543, Loss: 0.01224264595657587\n",
      "Epoch 544, Loss: 0.012199867516756058\n",
      "Epoch 545, Loss: 0.012157292105257511\n",
      "Epoch 546, Loss: 0.01211492158472538\n",
      "Epoch 547, Loss: 0.012072758749127388\n",
      "Epoch 548, Loss: 0.012030797079205513\n",
      "Epoch 549, Loss: 0.011989038437604904\n",
      "Epoch 550, Loss: 0.01194747630506754\n",
      "Epoch 551, Loss: 0.011906112544238567\n",
      "Epoch 552, Loss: 0.011864949949085712\n",
      "Epoch 553, Loss: 0.011823986656963825\n",
      "Epoch 554, Loss: 0.011783221736550331\n",
      "Epoch 555, Loss: 0.011742651462554932\n",
      "Epoch 556, Loss: 0.011702271178364754\n",
      "Epoch 557, Loss: 0.01166208740323782\n",
      "Epoch 558, Loss: 0.01162209827452898\n",
      "Epoch 559, Loss: 0.01158230286091566\n",
      "Epoch 560, Loss: 0.011542695574462414\n",
      "Epoch 561, Loss: 0.011503282934427261\n",
      "Epoch 562, Loss: 0.011464055627584457\n",
      "Epoch 563, Loss: 0.011425012722611427\n",
      "Epoch 564, Loss: 0.011386163532733917\n",
      "Epoch 565, Loss: 0.01134750060737133\n",
      "Epoch 566, Loss: 0.01130901463329792\n",
      "Epoch 567, Loss: 0.01127072423696518\n",
      "Epoch 568, Loss: 0.011232614517211914\n",
      "Epoch 569, Loss: 0.011194685474038124\n",
      "Epoch 570, Loss: 0.011156939901411533\n",
      "Epoch 571, Loss: 0.011119373142719269\n",
      "Epoch 572, Loss: 0.011081984266638756\n",
      "Epoch 573, Loss: 0.011044776998460293\n",
      "Epoch 574, Loss: 0.011007744818925858\n",
      "Epoch 575, Loss: 0.010970893315970898\n",
      "Epoch 576, Loss: 0.01093421969562769\n",
      "Epoch 577, Loss: 0.010897721163928509\n",
      "Epoch 578, Loss: 0.010861397720873356\n",
      "Epoch 579, Loss: 0.01082524936646223\n",
      "Epoch 580, Loss: 0.01078927330672741\n",
      "Epoch 581, Loss: 0.010753464885056019\n",
      "Epoch 582, Loss: 0.010717831552028656\n",
      "Epoch 583, Loss: 0.010682374238967896\n",
      "Epoch 584, Loss: 0.010647080838680267\n",
      "Epoch 585, Loss: 0.01061195693910122\n",
      "Epoch 586, Loss: 0.010577007196843624\n",
      "Epoch 587, Loss: 0.010542219504714012\n",
      "Epoch 588, Loss: 0.010507597588002682\n",
      "Epoch 589, Loss: 0.010473140515387058\n",
      "Epoch 590, Loss: 0.010438847355544567\n",
      "Epoch 591, Loss: 0.010404720902442932\n",
      "Epoch 592, Loss: 0.010370753705501556\n",
      "Epoch 593, Loss: 0.010336953215301037\n",
      "Epoch 594, Loss: 0.010303313843905926\n",
      "Epoch 595, Loss: 0.0102698327973485\n",
      "Epoch 596, Loss: 0.01023651659488678\n",
      "Epoch 597, Loss: 0.010203355923295021\n",
      "Epoch 598, Loss: 0.010170352645218372\n",
      "Epoch 599, Loss: 0.010137507691979408\n",
      "Epoch 600, Loss: 0.010104820132255554\n",
      "Epoch 601, Loss: 0.010072286240756512\n",
      "Epoch 602, Loss: 0.010039913468062878\n",
      "Epoch 603, Loss: 0.010007694363594055\n",
      "Epoch 604, Loss: 0.009975631721317768\n",
      "Epoch 605, Loss: 0.00994371809065342\n",
      "Epoch 606, Loss: 0.009911952540278435\n",
      "Epoch 607, Loss: 0.009880343452095985\n",
      "Epoch 608, Loss: 0.0098488824442029\n",
      "Epoch 609, Loss: 0.009817575104534626\n",
      "Epoch 610, Loss: 0.009786413051187992\n",
      "Epoch 611, Loss: 0.00975540466606617\n",
      "Epoch 612, Loss: 0.009724539704620838\n",
      "Epoch 613, Loss: 0.009693821892142296\n",
      "Epoch 614, Loss: 0.009663255885243416\n",
      "Epoch 615, Loss: 0.009632827714085579\n",
      "Epoch 616, Loss: 0.00960255041718483\n",
      "Epoch 617, Loss: 0.009572417475283146\n",
      "Epoch 618, Loss: 0.009542428888380527\n",
      "Epoch 619, Loss: 0.009512578137218952\n",
      "Epoch 620, Loss: 0.009482869878411293\n",
      "Epoch 621, Loss: 0.0094533059746027\n",
      "Epoch 622, Loss: 0.009423879906535149\n",
      "Epoch 623, Loss: 0.00939459353685379\n",
      "Epoch 624, Loss: 0.009365450590848923\n",
      "Epoch 625, Loss: 0.009336442686617374\n",
      "Epoch 626, Loss: 0.00930757261812687\n",
      "Epoch 627, Loss: 0.009278843179345131\n",
      "Epoch 628, Loss: 0.009250247851014137\n",
      "Epoch 629, Loss: 0.009221788495779037\n",
      "Epoch 630, Loss: 0.009193465113639832\n",
      "Epoch 631, Loss: 0.009165276773273945\n",
      "Epoch 632, Loss: 0.009137226268649101\n",
      "Epoch 633, Loss: 0.009109306149184704\n",
      "Epoch 634, Loss: 0.009081518277525902\n",
      "Epoch 635, Loss: 0.009053862653672695\n",
      "Epoch 636, Loss: 0.009026337414979935\n",
      "Epoch 637, Loss: 0.008998943492770195\n",
      "Epoch 638, Loss: 0.00897168181836605\n",
      "Epoch 639, Loss: 0.008944548666477203\n",
      "Epoch 640, Loss: 0.008917543105781078\n",
      "Epoch 641, Loss: 0.008890664204955101\n",
      "Epoch 642, Loss: 0.008863912895321846\n",
      "Epoch 643, Loss: 0.008837287314236164\n",
      "Epoch 644, Loss: 0.008810790255665779\n",
      "Epoch 645, Loss: 0.008784421719610691\n",
      "Epoch 646, Loss: 0.008758176118135452\n",
      "Epoch 647, Loss: 0.008732056245207787\n",
      "Epoch 648, Loss: 0.008706060238182545\n",
      "Epoch 649, Loss: 0.008680185303092003\n",
      "Epoch 650, Loss: 0.00865443516522646\n",
      "Epoch 651, Loss: 0.008628805167973042\n",
      "Epoch 652, Loss: 0.008603299036622047\n",
      "Epoch 653, Loss: 0.00857791118323803\n",
      "Epoch 654, Loss: 0.008552638813853264\n",
      "Epoch 655, Loss: 0.008527489379048347\n",
      "Epoch 656, Loss: 0.008502461016178131\n",
      "Epoch 657, Loss: 0.008477549068629742\n",
      "Epoch 658, Loss: 0.008452759124338627\n",
      "Epoch 659, Loss: 0.00842808373272419\n",
      "Epoch 660, Loss: 0.008403525687754154\n",
      "Epoch 661, Loss: 0.008379082195460796\n",
      "Epoch 662, Loss: 0.008354755118489265\n",
      "Epoch 663, Loss: 0.008330542594194412\n",
      "Epoch 664, Loss: 0.008306444622576237\n",
      "Epoch 665, Loss: 0.008282462134957314\n",
      "Epoch 666, Loss: 0.00825859047472477\n",
      "Epoch 667, Loss: 0.008234833367168903\n",
      "Epoch 668, Loss: 0.008211188018321991\n",
      "Epoch 669, Loss: 0.008187656290829182\n",
      "Epoch 670, Loss: 0.008164234459400177\n",
      "Epoch 671, Loss: 0.008140921592712402\n",
      "Epoch 672, Loss: 0.008117720484733582\n",
      "Epoch 673, Loss: 0.008094629272818565\n",
      "Epoch 674, Loss: 0.008071646094322205\n",
      "Epoch 675, Loss: 0.008048774674534798\n",
      "Epoch 676, Loss: 0.00802600383758545\n",
      "Epoch 677, Loss: 0.00800334382802248\n",
      "Epoch 678, Loss: 0.007980789989233017\n",
      "Epoch 679, Loss: 0.007958343252539635\n",
      "Epoch 680, Loss: 0.007936005480587482\n",
      "Epoch 681, Loss: 0.00791376642882824\n",
      "Epoch 682, Loss: 0.007891635410487652\n",
      "Epoch 683, Loss: 0.007869609631597996\n",
      "Epoch 684, Loss: 0.007847684435546398\n",
      "Epoch 685, Loss: 0.007825862616300583\n",
      "Epoch 686, Loss: 0.007804147899150848\n",
      "Epoch 687, Loss: 0.007782530039548874\n",
      "Epoch 688, Loss: 0.007761017885059118\n",
      "Epoch 689, Loss: 0.007739604450762272\n",
      "Epoch 690, Loss: 0.007718293461948633\n",
      "Epoch 691, Loss: 0.0076970807276666164\n",
      "Epoch 692, Loss: 0.007675972767174244\n",
      "Epoch 693, Loss: 0.00765495840460062\n",
      "Epoch 694, Loss: 0.007634042762219906\n",
      "Epoch 695, Loss: 0.00761322770267725\n",
      "Epoch 696, Loss: 0.007592509500682354\n",
      "Epoch 697, Loss: 0.007571890018880367\n",
      "Epoch 698, Loss: 0.007551365997642279\n",
      "Epoch 699, Loss: 0.00753093883395195\n",
      "Epoch 700, Loss: 0.007510603871196508\n",
      "Epoch 701, Loss: 0.007490367628633976\n",
      "Epoch 702, Loss: 0.007470229174941778\n",
      "Epoch 703, Loss: 0.007450183387845755\n",
      "Epoch 704, Loss: 0.007430231664329767\n",
      "Epoch 705, Loss: 0.007410371210426092\n",
      "Epoch 706, Loss: 0.007390604354441166\n",
      "Epoch 707, Loss: 0.007370930165052414\n",
      "Epoch 708, Loss: 0.007351345382630825\n",
      "Epoch 709, Loss: 0.007331855595111847\n",
      "Epoch 710, Loss: 0.007312455680221319\n",
      "Epoch 711, Loss: 0.007293147500604391\n",
      "Epoch 712, Loss: 0.007273928727954626\n",
      "Epoch 713, Loss: 0.007254799362272024\n",
      "Epoch 714, Loss: 0.007235761731863022\n",
      "Epoch 715, Loss: 0.007216812111437321\n",
      "Epoch 716, Loss: 0.007197953760623932\n",
      "Epoch 717, Loss: 0.007179183419793844\n",
      "Epoch 718, Loss: 0.007160496897995472\n",
      "Epoch 719, Loss: 0.007141900714486837\n",
      "Epoch 720, Loss: 0.007123388350009918\n",
      "Epoch 721, Loss: 0.007104965858161449\n",
      "Epoch 722, Loss: 0.007086628116667271\n",
      "Epoch 723, Loss: 0.007068374194204807\n",
      "Epoch 724, Loss: 0.0070502073504030704\n",
      "Epoch 725, Loss: 0.007032124791294336\n",
      "Epoch 726, Loss: 0.007014126982539892\n",
      "Epoch 727, Loss: 0.006996209733188152\n",
      "Epoch 728, Loss: 0.006978379096835852\n",
      "Epoch 729, Loss: 0.006960630416870117\n",
      "Epoch 730, Loss: 0.006942964158952236\n",
      "Epoch 731, Loss: 0.0069253817200660706\n",
      "Epoch 732, Loss: 0.006907881237566471\n",
      "Epoch 733, Loss: 0.006890460848808289\n",
      "Epoch 734, Loss: 0.006873124744743109\n",
      "Epoch 735, Loss: 0.006855865474790335\n",
      "Epoch 736, Loss: 0.00683868583291769\n",
      "Epoch 737, Loss: 0.006821587681770325\n",
      "Epoch 738, Loss: 0.006804568227380514\n",
      "Epoch 739, Loss: 0.006787627935409546\n",
      "Epoch 740, Loss: 0.006770770065486431\n",
      "Epoch 741, Loss: 0.00675398763269186\n",
      "Epoch 742, Loss: 0.006737282034009695\n",
      "Epoch 743, Loss: 0.006720653269439936\n",
      "Epoch 744, Loss: 0.006704105529934168\n",
      "Epoch 745, Loss: 0.006687634624540806\n",
      "Epoch 746, Loss: 0.006671237759292126\n",
      "Epoch 747, Loss: 0.006654918193817139\n",
      "Epoch 748, Loss: 0.006638673134148121\n",
      "Epoch 749, Loss: 0.006622503511607647\n",
      "Epoch 750, Loss: 0.0066064088605344296\n",
      "Epoch 751, Loss: 0.006590387783944607\n",
      "Epoch 752, Loss: 0.00657444354146719\n",
      "Epoch 753, Loss: 0.006558570079505444\n",
      "Epoch 754, Loss: 0.006542772985994816\n",
      "Epoch 755, Loss: 0.006527048535645008\n",
      "Epoch 756, Loss: 0.0065113939344882965\n",
      "Epoch 757, Loss: 0.006495815701782703\n",
      "Epoch 758, Loss: 0.006480309180915356\n",
      "Epoch 759, Loss: 0.006464873440563679\n",
      "Epoch 760, Loss: 0.006449508480727673\n",
      "Epoch 761, Loss: 0.006434214301407337\n",
      "Epoch 762, Loss: 0.006418989505618811\n",
      "Epoch 763, Loss: 0.006403837352991104\n",
      "Epoch 764, Loss: 0.00638875225558877\n",
      "Epoch 765, Loss: 0.006373739335685968\n",
      "Epoch 766, Loss: 0.006358794867992401\n",
      "Epoch 767, Loss: 0.006343919783830643\n",
      "Epoch 768, Loss: 0.006329111754894257\n",
      "Epoch 769, Loss: 0.006314377300441265\n",
      "Epoch 770, Loss: 0.006299703381955624\n",
      "Epoch 771, Loss: 0.006285102106630802\n",
      "Epoch 772, Loss: 0.0062705641612410545\n",
      "Epoch 773, Loss: 0.006256093271076679\n",
      "Epoch 774, Loss: 0.006241692695766687\n",
      "Epoch 775, Loss: 0.006227354984730482\n",
      "Epoch 776, Loss: 0.006213086657226086\n",
      "Epoch 777, Loss: 0.006198884919285774\n",
      "Epoch 778, Loss: 0.006184742320328951\n",
      "Epoch 779, Loss: 0.006170668173581362\n",
      "Epoch 780, Loss: 0.0061566573567688465\n",
      "Epoch 781, Loss: 0.006142714060842991\n",
      "Epoch 782, Loss: 0.0061288317665457726\n",
      "Epoch 783, Loss: 0.006115011405199766\n",
      "Epoch 784, Loss: 0.006101260427385569\n",
      "Epoch 785, Loss: 0.0060875676572322845\n",
      "Epoch 786, Loss: 0.006073937751352787\n",
      "Epoch 787, Loss: 0.006060371175408363\n",
      "Epoch 788, Loss: 0.006046868860721588\n",
      "Epoch 789, Loss: 0.006033427082002163\n",
      "Epoch 790, Loss: 0.00602004723623395\n",
      "Epoch 791, Loss: 0.0060067265294492245\n",
      "Epoch 792, Loss: 0.005993468686938286\n",
      "Epoch 793, Loss: 0.005980269052088261\n",
      "Epoch 794, Loss: 0.005967132747173309\n",
      "Epoch 795, Loss: 0.005954056046903133\n",
      "Epoch 796, Loss: 0.005941038951277733\n",
      "Epoch 797, Loss: 0.005928081460297108\n",
      "Epoch 798, Loss: 0.005915182176977396\n",
      "Epoch 799, Loss: 0.005902343895286322\n",
      "Epoch 800, Loss: 0.005889563355594873\n",
      "Epoch 801, Loss: 0.005876840092241764\n",
      "Epoch 802, Loss: 0.005864175967872143\n",
      "Epoch 803, Loss: 0.005851568188518286\n",
      "Epoch 804, Loss: 0.005839016288518906\n",
      "Epoch 805, Loss: 0.005826523061841726\n",
      "Epoch 806, Loss: 0.005814087111502886\n",
      "Epoch 807, Loss: 0.005801708437502384\n",
      "Epoch 808, Loss: 0.0057893856428563595\n",
      "Epoch 809, Loss: 0.005777120124548674\n",
      "Epoch 810, Loss: 0.0057649072259664536\n",
      "Epoch 811, Loss: 0.005752751138061285\n",
      "Epoch 812, Loss: 0.005740649066865444\n",
      "Epoch 813, Loss: 0.005728607065975666\n",
      "Epoch 814, Loss: 0.005716612096875906\n",
      "Epoch 815, Loss: 0.0057046739384531975\n",
      "Epoch 816, Loss: 0.0056927925907075405\n",
      "Epoch 817, Loss: 0.0056809610687196255\n",
      "Epoch 818, Loss: 0.005669185891747475\n",
      "Epoch 819, Loss: 0.005657465197145939\n",
      "Epoch 820, Loss: 0.005645794328302145\n",
      "Epoch 821, Loss: 0.005634179804474115\n",
      "Epoch 822, Loss: 0.005622614175081253\n",
      "Epoch 823, Loss: 0.00561110395938158\n",
      "Epoch 824, Loss: 0.005599644500762224\n",
      "Epoch 825, Loss: 0.005588238127529621\n",
      "Epoch 826, Loss: 0.005576881114393473\n",
      "Epoch 827, Loss: 0.005565577652305365\n",
      "Epoch 828, Loss: 0.005554324947297573\n",
      "Epoch 829, Loss: 0.00554312439635396\n",
      "Epoch 830, Loss: 0.005531973205506802\n",
      "Epoch 831, Loss: 0.005520871374756098\n",
      "Epoch 832, Loss: 0.005509819369763136\n",
      "Epoch 833, Loss: 0.005498816724866629\n",
      "Epoch 834, Loss: 0.005487866699695587\n",
      "Epoch 835, Loss: 0.005476965103298426\n",
      "Epoch 836, Loss: 0.00546611100435257\n",
      "Epoch 837, Loss: 0.0054553053341805935\n",
      "Epoch 838, Loss: 0.0054445513524115086\n",
      "Epoch 839, Loss: 0.0054338425397872925\n",
      "Epoch 840, Loss: 0.005423183552920818\n",
      "Epoch 841, Loss: 0.00541257206350565\n",
      "Epoch 842, Loss: 0.005402009002864361\n",
      "Epoch 843, Loss: 0.005391492508351803\n",
      "Epoch 844, Loss: 0.005381023045629263\n",
      "Epoch 845, Loss: 0.005370601080358028\n",
      "Epoch 846, Loss: 0.0053602238185703754\n",
      "Epoch 847, Loss: 0.005349893122911453\n",
      "Epoch 848, Loss: 0.0053396099247038364\n",
      "Epoch 849, Loss: 0.0053293751552701\n",
      "Epoch 850, Loss: 0.00531918415799737\n",
      "Epoch 851, Loss: 0.005309039261192083\n",
      "Epoch 852, Loss: 0.005298940930515528\n",
      "Epoch 853, Loss: 0.005288886371999979\n",
      "Epoch 854, Loss: 0.005278876982629299\n",
      "Epoch 855, Loss: 0.005268913693726063\n",
      "Epoch 856, Loss: 0.005258993245661259\n",
      "Epoch 857, Loss: 0.005249115638434887\n",
      "Epoch 858, Loss: 0.005239283200353384\n",
      "Epoch 859, Loss: 0.005229493137449026\n",
      "Epoch 860, Loss: 0.005219749175012112\n",
      "Epoch 861, Loss: 0.005210048519074917\n",
      "Epoch 862, Loss: 0.005200390703976154\n",
      "Epoch 863, Loss: 0.0051907761953771114\n",
      "Epoch 864, Loss: 0.005181202199310064\n",
      "Epoch 865, Loss: 0.005171673838049173\n",
      "Epoch 866, Loss: 0.005162184126675129\n",
      "Epoch 867, Loss: 0.005152739118784666\n",
      "Epoch 868, Loss: 0.00514333788305521\n",
      "Epoch 869, Loss: 0.005133975297212601\n",
      "Epoch 870, Loss: 0.005124655552208424\n",
      "Epoch 871, Loss: 0.005115377716720104\n",
      "Epoch 872, Loss: 0.005106140859425068\n",
      "Epoch 873, Loss: 0.0050969431176781654\n",
      "Epoch 874, Loss: 0.00508778914809227\n",
      "Epoch 875, Loss: 0.005078672431409359\n",
      "Epoch 876, Loss: 0.005069597624242306\n",
      "Epoch 877, Loss: 0.005060561932623386\n",
      "Epoch 878, Loss: 0.0050515662878751755\n",
      "Epoch 879, Loss: 0.005042613483965397\n",
      "Epoch 880, Loss: 0.005033697932958603\n",
      "Epoch 881, Loss: 0.005024823360145092\n",
      "Epoch 882, Loss: 0.005015985108911991\n",
      "Epoch 883, Loss: 0.005007189232856035\n",
      "Epoch 884, Loss: 0.0049984268844127655\n",
      "Epoch 885, Loss: 0.004989708308130503\n",
      "Epoch 886, Loss: 0.004981025122106075\n",
      "Epoch 887, Loss: 0.004972380585968494\n",
      "Epoch 888, Loss: 0.004963774234056473\n",
      "Epoch 889, Loss: 0.004955205135047436\n",
      "Epoch 890, Loss: 0.004946674220263958\n",
      "Epoch 891, Loss: 0.004938183352351189\n",
      "Epoch 892, Loss: 0.0049297260120511055\n",
      "Epoch 893, Loss: 0.0049213082529604435\n",
      "Epoch 894, Loss: 0.0049129268154501915\n",
      "Epoch 895, Loss: 0.004904578439891338\n",
      "Epoch 896, Loss: 0.0048962729051709175\n",
      "Epoch 897, Loss: 0.004888002295047045\n",
      "Epoch 898, Loss: 0.0048797656781971455\n",
      "Epoch 899, Loss: 0.004871565382927656\n",
      "Epoch 900, Loss: 0.004863401874899864\n",
      "Epoch 901, Loss: 0.004855273757129908\n",
      "Epoch 902, Loss: 0.004847180098295212\n",
      "Epoch 903, Loss: 0.004839122295379639\n",
      "Epoch 904, Loss: 0.004831100348383188\n",
      "Epoch 905, Loss: 0.004823111928999424\n",
      "Epoch 906, Loss: 0.004815159365534782\n",
      "Epoch 907, Loss: 0.0048072426579892635\n",
      "Epoch 908, Loss: 0.004799359478056431\n",
      "Epoch 909, Loss: 0.0047915102913975716\n",
      "Epoch 910, Loss: 0.0047836946323513985\n",
      "Epoch 911, Loss: 0.0047759125009179115\n",
      "Epoch 912, Loss: 0.004768165294080973\n",
      "Epoch 913, Loss: 0.004760453011840582\n",
      "Epoch 914, Loss: 0.004752771928906441\n",
      "Epoch 915, Loss: 0.004745124839246273\n",
      "Epoch 916, Loss: 0.004737510345876217\n",
      "Epoch 917, Loss: 0.00472992891445756\n",
      "Epoch 918, Loss: 0.00472238240763545\n",
      "Epoch 919, Loss: 0.004714867565780878\n",
      "Epoch 920, Loss: 0.004707385785877705\n",
      "Epoch 921, Loss: 0.004699936136603355\n",
      "Epoch 922, Loss: 0.004692517686635256\n",
      "Epoch 923, Loss: 0.004685129504650831\n",
      "Epoch 924, Loss: 0.004677773453295231\n",
      "Epoch 925, Loss: 0.004670451395213604\n",
      "Epoch 926, Loss: 0.004663161002099514\n",
      "Epoch 927, Loss: 0.004655903205275536\n",
      "Epoch 928, Loss: 0.004648675210773945\n",
      "Epoch 929, Loss: 0.0046414779499173164\n",
      "Epoch 930, Loss: 0.004634310491383076\n",
      "Epoch 931, Loss: 0.004627174697816372\n",
      "Epoch 932, Loss: 0.004620071034878492\n",
      "Epoch 933, Loss: 0.004612994845956564\n",
      "Epoch 934, Loss: 0.0046059503220021725\n",
      "Epoch 935, Loss: 0.004598936531692743\n",
      "Epoch 936, Loss: 0.004591953009366989\n",
      "Epoch 937, Loss: 0.004584998823702335\n",
      "Epoch 938, Loss: 0.004578073509037495\n",
      "Epoch 939, Loss: 0.0045711807906627655\n",
      "Epoch 940, Loss: 0.0045643150806427\n",
      "Epoch 941, Loss: 0.004557478707283735\n",
      "Epoch 942, Loss: 0.004550672136247158\n",
      "Epoch 943, Loss: 0.004543893039226532\n",
      "Epoch 944, Loss: 0.00453714607283473\n",
      "Epoch 945, Loss: 0.0045304265804588795\n",
      "Epoch 946, Loss: 0.004523735959082842\n",
      "Epoch 947, Loss: 0.004517072346061468\n",
      "Epoch 948, Loss: 0.004510439466685057\n",
      "Epoch 949, Loss: 0.004503833130002022\n",
      "Epoch 950, Loss: 0.004497256129980087\n",
      "Epoch 951, Loss: 0.004490706138312817\n",
      "Epoch 952, Loss: 0.004484185017645359\n",
      "Epoch 953, Loss: 0.004477689508348703\n",
      "Epoch 954, Loss: 0.0044712224043905735\n",
      "Epoch 955, Loss: 0.00446478184312582\n",
      "Epoch 956, Loss: 0.004458368755877018\n",
      "Epoch 957, Loss: 0.004451983608305454\n",
      "Epoch 958, Loss: 0.004445625003427267\n",
      "Epoch 959, Loss: 0.004439295269548893\n",
      "Epoch 960, Loss: 0.004432991147041321\n",
      "Epoch 961, Loss: 0.004426711704581976\n",
      "Epoch 962, Loss: 0.0044204602017998695\n",
      "Epoch 963, Loss: 0.004414234310388565\n",
      "Epoch 964, Loss: 0.00440803449600935\n",
      "Epoch 965, Loss: 0.004401861224323511\n",
      "Epoch 966, Loss: 0.004395715426653624\n",
      "Epoch 967, Loss: 0.004389593843370676\n",
      "Epoch 968, Loss: 0.004383496940135956\n",
      "Epoch 969, Loss: 0.004377426113933325\n",
      "Epoch 970, Loss: 0.004371382296085358\n",
      "Epoch 971, Loss: 0.004365363623946905\n",
      "Epoch 972, Loss: 0.004359369166195393\n",
      "Epoch 973, Loss: 0.00435339892283082\n",
      "Epoch 974, Loss: 0.004347455687820911\n",
      "Epoch 975, Loss: 0.00434153713285923\n",
      "Epoch 976, Loss: 0.004335641860961914\n",
      "Epoch 977, Loss: 0.004329771734774113\n",
      "Epoch 978, Loss: 0.004323926754295826\n",
      "Epoch 979, Loss: 0.004318105988204479\n",
      "Epoch 980, Loss: 0.004312308505177498\n",
      "Epoch 981, Loss: 0.004306534770876169\n",
      "Epoch 982, Loss: 0.004300785716623068\n",
      "Epoch 983, Loss: 0.004295059945434332\n",
      "Epoch 984, Loss: 0.004289357922971249\n",
      "Epoch 985, Loss: 0.004283681511878967\n",
      "Epoch 986, Loss: 0.004278027452528477\n",
      "Epoch 987, Loss: 0.004272396210581064\n",
      "Epoch 988, Loss: 0.004266790114343166\n",
      "Epoch 989, Loss: 0.0042612082324922085\n",
      "Epoch 990, Loss: 0.004255647771060467\n",
      "Epoch 991, Loss: 0.0042501091957092285\n",
      "Epoch 992, Loss: 0.004244592972099781\n",
      "Epoch 993, Loss: 0.004239100031554699\n",
      "Epoch 994, Loss: 0.004233629908412695\n",
      "Epoch 995, Loss: 0.004228181671351194\n",
      "Epoch 996, Loss: 0.0042227571830153465\n",
      "Epoch 997, Loss: 0.004217355977743864\n",
      "Epoch 998, Loss: 0.004211974795907736\n",
      "Epoch 999, Loss: 0.00420661736279726\n",
      "Epoch 1000, Loss: 0.004201280884444714\n"
     ]
    }
   ],
   "source": [
    "# Epochs\n",
    "epochs = 1000\n",
    "\n",
    "# Training Loop\n",
    "for epoch in range(epochs):\n",
    "    #Set the model to training mode\n",
    "    model_0.train()\n",
    "    # Forward Pass\n",
    "    y_pred = model_0(x_train)\n",
    "\n",
    "    # Compute Loss\n",
    "    loss = loss_fn(y_pred, y_train)\n",
    "    print(f'Epoch {epoch + 1}, Loss: {loss}')\n",
    "\n",
    "    # Optimizer Zero Grad\n",
    "    optimizer.zero_grad()\n",
    "\n",
    "    # Backward Pass\n",
    "    loss.backward()\n",
    "\n",
    "    # Optimizer Step\n",
    "    optimizer.step()\n",
    "\n",
    "\n",
    "    model_0.eval() #set the model to evaluation mode/ turn off the gradient tracking"
   ]
  },
  {
   "cell_type": "code",
   "execution_count": 14,
   "metadata": {},
   "outputs": [
    {
     "name": "stdout",
     "output_type": "stream",
     "text": [
      "OrderedDict({'weights': tensor([0.4960]), 'bias': tensor([0.3724])})\n"
     ]
    }
   ],
   "source": [
    "print(model_0.state_dict())"
   ]
  },
  {
   "cell_type": "markdown",
   "metadata": {},
   "source": [
    "# Predictions"
   ]
  },
  {
   "cell_type": "code",
   "execution_count": 15,
   "metadata": {},
   "outputs": [
    {
     "name": "stdout",
     "output_type": "stream",
     "text": [
      "tensor([[0.5014],\n",
      "        [0.7593],\n",
      "        [0.6700],\n",
      "        [0.8188],\n",
      "        [0.5411]])\n",
      "Test Loss: 0.004340643994510174\n"
     ]
    },
    {
     "data": {
      "image/png": "[encoded data removed]",
      "text/plain": [
       "<Figure size 1000x600 with 1 Axes>"
      ]
     },
     "metadata": {},
     "output_type": "display_data"
    }
   ],
   "source": [
    "with torch.inference_mode():\n",
    "    y_pred = model_0(x_test)\n",
    "    print(y_pred[:5])\n",
    "    test_loss = loss_fn(y_pred, y_test)\n",
    "    print(f'Test Loss: {test_loss}')\n",
    "\n",
    "plot(x_test, y_test,x_test, y_pred)"
   ]
  },
  {
   "cell_type": "code",
   "execution_count": 16,
   "metadata": {},
   "outputs": [
    {
     "name": "stdout",
     "output_type": "stream",
     "text": [
      "tensor([[0.5014],\n",
      "        [0.7593],\n",
      "        [0.6700],\n",
      "        [0.8188],\n",
      "        [0.5411]])\n",
      "Test Loss: 0.004340643994510174\n"
     ]
    },
    {
     "data": {
      "image/png": "[encoded data removed]",
      "text/plain": [
       "<Figure size 1000x600 with 1 Axes>"
      ]
     },
     "metadata": {},
     "output_type": "display_data"
    }
   ],
   "source": [
    "with torch.no_grad():\n",
    "    y_pred = model_0(x_test)\n",
    "    print(y_pred[:5])\n",
    "    test_loss = loss_fn(y_pred, y_test)\n",
    "    print(f'Test Loss: {test_loss}')\n",
    "\n",
    "plot(x_test, y_test,x_test, y_pred)"
   ]
  },
  {
   "cell_type": "markdown",
   "metadata": {
    "tags": [
     "parameters"
    ]
   },
   "source": [
    "# Testing Loop"
   ]
  },
  {
   "cell_type": "code",
   "execution_count": 29,
   "metadata": {},
   "outputs": [
    {
     "name": "stdout",
     "output_type": "stream",
     "text": [
      "Epoch 0 | Train Loss: 0.0024197823368012905 | Test Loss: 0.0016189960297197104\n",
      "OrderedDict({'weights': tensor([0.5353]), 'bias': tensor([0.3806])})\n",
      "Epoch 10 | Train Loss: 0.002412662608548999 | Test Loss: 0.0016125428956001997\n",
      "OrderedDict({'weights': tensor([0.5356]), 'bias': tensor([0.3805])})\n",
      "Epoch 20 | Train Loss: 0.0024055750109255314 | Test Loss: 0.0016061592614278197\n",
      "OrderedDict({'weights': tensor([0.5358]), 'bias': tensor([0.3805])})\n",
      "Epoch 30 | Train Loss: 0.0023985151201486588 | Test Loss: 0.001599842682480812\n",
      "OrderedDict({'weights': tensor([0.5361]), 'bias': tensor([0.3804])})\n",
      "Epoch 40 | Train Loss: 0.0023914803750813007 | Test Loss: 0.0015935931587591767\n",
      "OrderedDict({'weights': tensor([0.5363]), 'bias': tensor([0.3803])})\n",
      "Epoch 50 | Train Loss: 0.0023844761308282614 | Test Loss: 0.0015874089440330863\n",
      "OrderedDict({'weights': tensor([0.5366]), 'bias': tensor([0.3802])})\n",
      "Epoch 60 | Train Loss: 0.0023774979636073112 | Test Loss: 0.001581288524903357\n",
      "OrderedDict({'weights': tensor([0.5368]), 'bias': tensor([0.3801])})\n",
      "Epoch 70 | Train Loss: 0.002370546106249094 | Test Loss: 0.001575225731357932\n",
      "OrderedDict({'weights': tensor([0.5371]), 'bias': tensor([0.3801])})\n",
      "Epoch 80 | Train Loss: 0.002363618928939104 | Test Loss: 0.001569223590195179\n",
      "OrderedDict({'weights': tensor([0.5373]), 'bias': tensor([0.3800])})\n",
      "Epoch 90 | Train Loss: 0.0023567203897982836 | Test Loss: 0.0015632833819836378\n",
      "OrderedDict({'weights': tensor([0.5376]), 'bias': tensor([0.3799])})\n",
      "Epoch 100 | Train Loss: 0.002349845366552472 | Test Loss: 0.0015573977725580335\n",
      "OrderedDict({'weights': tensor([0.5378]), 'bias': tensor([0.3798])})\n",
      "Epoch 110 | Train Loss: 0.0023429961875081062 | Test Loss: 0.0015515685081481934\n",
      "OrderedDict({'weights': tensor([0.5381]), 'bias': tensor([0.3797])})\n",
      "Epoch 120 | Train Loss: 0.0023361705243587494 | Test Loss: 0.0015457900008186698\n",
      "OrderedDict({'weights': tensor([0.5383]), 'bias': tensor([0.3796])})\n",
      "Epoch 130 | Train Loss: 0.00232936954125762 | Test Loss: 0.001540067489258945\n",
      "OrderedDict({'weights': tensor([0.5386]), 'bias': tensor([0.3795])})\n",
      "Epoch 140 | Train Loss: 0.0023225927725434303 | Test Loss: 0.0015343965496867895\n",
      "OrderedDict({'weights': tensor([0.5388]), 'bias': tensor([0.3794])})\n",
      "Epoch 150 | Train Loss: 0.002315840218216181 | Test Loss: 0.0015287769492715597\n",
      "OrderedDict({'weights': tensor([0.5391]), 'bias': tensor([0.3794])})\n",
      "Epoch 160 | Train Loss: 0.0023091104812920094 | Test Loss: 0.001523205661214888\n",
      "OrderedDict({'weights': tensor([0.5393]), 'bias': tensor([0.3793])})\n",
      "Epoch 170 | Train Loss: 0.002302404958754778 | Test Loss: 0.001517683849669993\n",
      "OrderedDict({'weights': tensor([0.5395]), 'bias': tensor([0.3792])})\n",
      "Epoch 180 | Train Loss: 0.002295722020789981 | Test Loss: 0.0015122101176530123\n",
      "OrderedDict({'weights': tensor([0.5398]), 'bias': tensor([0.3791])})\n",
      "Epoch 190 | Train Loss: 0.0022890635300427675 | Test Loss: 0.0015067827189341187\n",
      "OrderedDict({'weights': tensor([0.5400]), 'bias': tensor([0.3790])})\n"
     ]
    }
   ],
   "source": [
    "# Epochs\n",
    "epochs = 200\n",
    "\n",
    "epoch_count = []\n",
    "loss_values = []\n",
    "test_loss_values = []\n",
    "\n",
    "# Training Loop\n",
    "for epoch in range(epochs):\n",
    "    #Set the model to training mode\n",
    "    model_0.train()\n",
    "    # Forward Pass\n",
    "    y_pred = model_0(x_train)\n",
    "\n",
    "    # Compute Loss\n",
    "    loss = loss_fn(y_pred, y_train)\n",
    "\n",
    "    # Optimizer Zero Grad\n",
    "    optimizer.zero_grad()\n",
    "\n",
    "    # Backward Pass\n",
    "    loss.backward()\n",
    "\n",
    "    # Optimizer Step\n",
    "    optimizer.step()\n",
    "\n",
    "    #Set the model to evaluation mode\n",
    "    model_0.eval() #set the model to evaluation mode/ turn off the gradient tracking\n",
    "    with torch.inference_mode():\n",
    "        y_pred = model_0(x_test)\n",
    "        test_loss = loss_fn(y_pred, y_test)\n",
    "\n",
    "    if epoch % 10 == 0:\n",
    "        epoch_count.append(epoch)\n",
    "        loss_values.append(loss)\n",
    "        test_loss_values.append(test_loss)\n",
    "        print(f'Epoch {epoch } | Train Loss: {loss} | Test Loss: {test_loss}') \n",
    "        print(model_0.state_dict())"
   ]
  },
  {
   "cell_type": "code",
   "execution_count": 30,
   "metadata": {},
   "outputs": [
    {
     "data": {
      "image/png": "[encoded data removed]",
      "text/plain": [
       "<Figure size 1000x600 with 1 Axes>"
      ]
     },
     "metadata": {},
     "output_type": "display_data"
    }
   ],
   "source": [
    "plot(x_test, y_test,x_test, y_pred)"
   ]
  },
  {
   "cell_type": "code",
   "execution_count": 31,
   "metadata": {},
   "outputs": [],
   "source": [
    "epoch_count = torch.tensor(epoch_count).numpy()\n",
    "loss_values = torch.tensor(loss_values).numpy()\n",
    "test_loss_values = torch.tensor(test_loss_values).numpy()"
   ]
  },
  {
   "cell_type": "code",
   "execution_count": 32,
   "metadata": {},
   "outputs": [
    {
     "data": {
      "text/plain": [
       "<matplotlib.legend.Legend at 0x256785f9550>"
      ]
     },
     "execution_count": 32,
     "metadata": {},
     "output_type": "execute_result"
    },
    {
     "data": {
      "image/png": "[encoded data removed]",
      "text/plain": [
       "<Figure size 640x480 with 1 Axes>"
      ]
     },
     "metadata": {},
     "output_type": "display_data"
    }
   ],
   "source": [
    "plt.plot(epoch_count, loss_values, label='Train Loss')\n",
    "plt.plot(epoch_count, test_loss_values, label='Test Loss')\n",
    "plt.title('Train and Test Loss')\n",
    "plt.legend()"
   ]
  },
  {
   "cell_type": "markdown",
   "metadata": {},
   "source": [
    "# Saving and Loading a model\n",
    "\n",
    "### Three Methods to be noted\n",
    "* `torch.save()`\n",
    "* `torch.load()`\n",
    "* `torch.nn.Module.load_state_dict()`"
   ]
  },
  {
   "cell_type": "code",
   "execution_count": 36,
   "metadata": {},
   "outputs": [
    {
     "name": "stdout",
     "output_type": "stream",
     "text": [
      "Saving Model to: models\\01_PyTorch_Workflows.pth\n"
     ]
    }
   ],
   "source": [
    "# Saving our PyTorch model\n",
    "from pathlib import Path as path\n",
    "\n",
    "#Create models Directory\n",
    "Model_Path = path(\"models\")\n",
    "Model_Path.mkdir(parents=True, exist_ok=True)\n",
    "\n",
    "# Create Model Save Path\n",
    "Model_Name = '01_PyTorch_Workflows.pth'\n",
    "Model_Save_Path = Model_Path/Model_Name\n",
    "\n",
    "#Save the model\n",
    "print(f'Saving Model to: {Model_Save_Path}')\n",
    "torch.save(obj=model_0.state_dict(),f=Model_Save_Path)"
   ]
  },
  {
   "cell_type": "code",
   "execution_count": 37,
   "metadata": {},
   "outputs": [
    {
     "data": {
      "text/plain": [
       "OrderedDict([('weights', tensor([0.5402])), ('bias', tensor([0.3789]))])"
      ]
     },
     "execution_count": 37,
     "metadata": {},
     "output_type": "execute_result"
    }
   ],
   "source": [
    "model_0.state_dict()"
   ]
  },
  {
   "cell_type": "code",
   "execution_count": 38,
   "metadata": {},
   "outputs": [
    {
     "data": {
      "text/plain": [
       "OrderedDict([('weights', tensor([0.5402])), ('bias', tensor([0.3789]))])"
      ]
     },
     "execution_count": 38,
     "metadata": {},
     "output_type": "execute_result"
    }
   ],
   "source": [
    "#Loading a PyTorch Model\n",
    "\n",
    "#Instantiate the LinearRegression model\n",
    "loaded_model = LinearRegression()\n",
    "\n",
    "#load the model from saved directory\n",
    "loaded_model.load_state_dict(torch.load(f=Model_Save_Path))\n",
    "loaded_model.state_dict()"
   ]
  },
  {
   "cell_type": "code",
   "execution_count": 39,
   "metadata": {},
   "outputs": [
    {
     "data": {
      "text/plain": [
       "tensor([[0.5194],\n",
       "        [0.8003],\n",
       "        [0.7031],\n",
       "        [0.8651],\n",
       "        [0.5626],\n",
       "        [0.8976],\n",
       "        [0.6598],\n",
       "        [0.6490],\n",
       "        [0.7247],\n",
       "        [0.5842]])"
      ]
     },
     "execution_count": 39,
     "metadata": {},
     "output_type": "execute_result"
    }
   ],
   "source": [
    "loaded_model.eval()\n",
    "with torch.inference_mode():\n",
    "    loaded_model_y_pred = loaded_model(x_test)\n",
    "\n",
    "loaded_model_y_pred"
   ]
  },
  {
   "cell_type": "code",
   "execution_count": 40,
   "metadata": {},
   "outputs": [
    {
     "data": {
      "text/plain": [
       "tensor([[True],\n",
       "        [True],\n",
       "        [True],\n",
       "        [True],\n",
       "        [True],\n",
       "        [True],\n",
       "        [True],\n",
       "        [True],\n",
       "        [True],\n",
       "        [True]])"
      ]
     },
     "execution_count": 40,
     "metadata": {},
     "output_type": "execute_result"
    }
   ],
   "source": [
    "y_pred == loaded_model_y_pred"
   ]
  },
  {
   "cell_type": "markdown",
   "metadata": {},
   "source": [
    "# Puting it alltogether\n",
    "#### also using cuda -device\n"
   ]
  },
  {
   "cell_type": "code",
   "execution_count": 41,
   "metadata": {},
   "outputs": [
    {
     "name": "stdout",
     "output_type": "stream",
     "text": [
      "2.3.1+cu121\n",
      "True\n",
      "True\n",
      "Using Device: cuda\n"
     ]
    }
   ],
   "source": [
    "import torch\n",
    "import torch.nn as nn\n",
    "import matplotlib.pyplot as plt\n",
    "import numpy as np\n",
    "\n",
    "# Check PyTorch version\n",
    "print(torch.__version__)\n",
    "\n",
    "# Check if CUDA is available\n",
    "print(torch.cuda.is_available())\n",
    "\n",
    "# Check if cuDNN is enabled \n",
    "print(torch.backends.cudnn.enabled)\n",
    "\n",
    "device = \"cuda\" if torch.cuda.is_available() else \"cpu\"\n",
    "print(f'Using Device: {device}')"
   ]
  },
  {
   "cell_type": "markdown",
   "metadata": {},
   "source": [
    "## Data"
   ]
  },
  {
   "cell_type": "code",
   "execution_count": 52,
   "metadata": {},
   "outputs": [
    {
     "data": {
      "text/plain": [
       "(tensor([[0.0000],\n",
       "         [0.0200],\n",
       "         [0.0400],\n",
       "         [0.0600],\n",
       "         [0.0800],\n",
       "         [0.1000],\n",
       "         [0.1200],\n",
       "         [0.1400],\n",
       "         [0.1600],\n",
       "         [0.1800]]),\n",
       " tensor([[0.3000],\n",
       "         [0.3140],\n",
       "         [0.3280],\n",
       "         [0.3420],\n",
       "         [0.3560],\n",
       "         [0.3700],\n",
       "         [0.3840],\n",
       "         [0.3980],\n",
       "         [0.4120],\n",
       "         [0.4260]]))"
      ]
     },
     "execution_count": 52,
     "metadata": {},
     "output_type": "execute_result"
    }
   ],
   "source": [
    "# Creating data using linearRegression formula\n",
    "weight = 0.7\n",
    "bias = 0.3\n",
    "\n",
    "#create range values\n",
    "start = 0\n",
    "end = 1\n",
    "step = 0.02\n",
    "\n",
    "#Create X and Y\n",
    "X = torch.arange(start,end,step).unsqueeze(1)\n",
    "Y = weight * X + bias\n",
    "X[:10],Y[:10]"
   ]
  },
  {
   "cell_type": "code",
   "execution_count": 54,
   "metadata": {},
   "outputs": [
    {
     "data": {
      "text/plain": [
       "(torch.Size([40, 1]),\n",
       " torch.Size([40, 1]),\n",
       " torch.Size([10, 1]),\n",
       " torch.Size([10, 1]))"
      ]
     },
     "execution_count": 54,
     "metadata": {},
     "output_type": "execute_result"
    }
   ],
   "source": [
    "#spliting data\n",
    "x_train,x_test,y_train,y_test = train_test_split(X,Y,test_size=0.2)\n",
    "x_train.shape,y_train.shape,x_test.shape,y_test.shape"
   ]
  },
  {
   "cell_type": "code",
   "execution_count": 55,
   "metadata": {},
   "outputs": [
    {
     "data": {
      "image/png": "[encoded data removed]",
      "text/plain": [
       "<Figure size 1000x600 with 1 Axes>"
      ]
     },
     "metadata": {},
     "output_type": "display_data"
    }
   ],
   "source": [
    "#plot the data\n",
    "plot(x_test,y_test,x_train,y_train)"
   ]
  },
  {
   "cell_type": "code",
   "execution_count": 56,
   "metadata": {},
   "outputs": [
    {
     "data": {
      "text/plain": [
       "(LinearRegression2(\n",
       "   (linear_layer): Linear(in_features=1, out_features=1, bias=True)\n",
       " ),\n",
       " OrderedDict([('linear_layer.weight', tensor([[0.7645]])),\n",
       "              ('linear_layer.bias', tensor([0.8300]))]))"
      ]
     },
     "execution_count": 56,
     "metadata": {},
     "output_type": "execute_result"
    }
   ],
   "source": [
    "# Building the Model\n",
    "class LinearRegression2(nn.Module):\n",
    "    def __init__(self):\n",
    "        super().__init__()\n",
    "        self.linear_layer = nn.Linear(in_features=1,out_features=1)\n",
    "\n",
    "    def forward(self, x: torch.Tensor) ->torch.Tensor:\n",
    "        return self.linear_layer(x)\n",
    "\n",
    "torch.manual_seed(42)\n",
    "model_1 =LinearRegression2()\n",
    "model_1,model_1.state_dict()"
   ]
  },
  {
   "cell_type": "code",
   "execution_count": 57,
   "metadata": {},
   "outputs": [
    {
     "data": {
      "text/plain": [
       "device(type='cuda', index=0)"
      ]
     },
     "execution_count": 57,
     "metadata": {},
     "output_type": "execute_result"
    }
   ],
   "source": [
    "# Seting device to cuda\n",
    "model_1.to(device)\n",
    "next(model_1.parameters()).device"
   ]
  },
  {
   "cell_type": "code",
   "execution_count": 58,
   "metadata": {},
   "outputs": [],
   "source": [
    "# loss fns\n",
    "loss_fn = nn.L1Loss()\n",
    "\n",
    "#setup optimizer\n",
    "optimizer = torch.optim.SGD(params=model_1.parameters(),lr=0.01)"
   ]
  },
  {
   "cell_type": "code",
   "execution_count": 61,
   "metadata": {},
   "outputs": [
    {
     "name": "stdout",
     "output_type": "stream",
     "text": [
      "epoch :0 | Train Loss :0.5624708533287048 | Test Loss :0.5460726618766785 |\n",
      "epoch :10 | Train Loss :0.4371701180934906 | Test Loss :0.4240414798259735 |\n",
      "epoch :20 | Train Loss :0.31186944246292114 | Test Loss :0.30201026797294617 |\n",
      "epoch :30 | Train Loss :0.1865687221288681 | Test Loss :0.17997907102108002 |\n",
      "epoch :40 | Train Loss :0.06152328848838806 | Test Loss :0.05937270075082779 |\n",
      "epoch :50 | Train Loss :0.03773471340537071 | Test Loss :0.03392624855041504 |\n",
      "epoch :60 | Train Loss :0.03234489634633064 | Test Loss :0.028107617050409317 |\n",
      "epoch :70 | Train Loss :0.02706099860370159 | Test Loss :0.023635460063815117 |\n",
      "epoch :80 | Train Loss :0.021784190088510513 | Test Loss :0.0188266821205616 |\n",
      "epoch :90 | Train Loss :0.016500089317560196 | Test Loss :0.01401789765805006 |\n",
      "epoch :100 | Train Loss :0.011218181811273098 | Test Loss :0.00954575277864933 |\n",
      "epoch :110 | Train Loss :0.005941375624388456 | Test Loss :0.004736974835395813 |\n",
      "epoch :120 | Train Loss :0.008171568624675274 | Test Loss :0.0045717149041593075 |\n",
      "epoch :130 | Train Loss :0.008171568624675274 | Test Loss :0.0045717149041593075 |\n",
      "epoch :140 | Train Loss :0.008171568624675274 | Test Loss :0.0045717149041593075 |\n",
      "epoch :150 | Train Loss :0.008171568624675274 | Test Loss :0.0045717149041593075 |\n",
      "epoch :160 | Train Loss :0.008171568624675274 | Test Loss :0.0045717149041593075 |\n",
      "epoch :170 | Train Loss :0.008171568624675274 | Test Loss :0.0045717149041593075 |\n",
      "epoch :180 | Train Loss :0.008171568624675274 | Test Loss :0.0045717149041593075 |\n",
      "epoch :190 | Train Loss :0.008171568624675274 | Test Loss :0.0045717149041593075 |\n"
     ]
    }
   ],
   "source": [
    "# Training loop + testing loop\n",
    "torch.manual_seed(42)\n",
    "epochs = 200\n",
    "\n",
    "#Put data to cuda\n",
    "x_train = x_train.to(device)\n",
    "x_test = x_test.to(device)\n",
    "y_train = y_train.to(device)\n",
    "y_test = y_test.to(device)\n",
    "\n",
    "\n",
    "for epoch in range (epochs):\n",
    "    model_1.train()\n",
    "\n",
    "    #Forward Pass\n",
    "    y_pred = model_1(x_train)\n",
    "\n",
    "    #Calculate loss\n",
    "    loss = loss_fn(y_pred,y_train)\n",
    "\n",
    "    #Optimize zero grad\n",
    "    optimizer.zero_grad()\n",
    "\n",
    "    #perform Backpropagation\n",
    "    loss.backward()\n",
    "\n",
    "    #Optimize Step\n",
    "    optimizer.step()\n",
    "    \n",
    "    #testing\n",
    "    model_1.eval()\n",
    "    with torch.inference_mode():\n",
    "        test_pred = model_1(x_test)\n",
    "        test_loss = loss_fn(test_pred,y_test)\n",
    "\n",
    "    if epoch % 10 == 0:\n",
    "        print(f'epoch :{epoch} | Train Loss :{loss} | Test Loss :{test_loss} |')\n"
   ]
  },
  {
   "cell_type": "code",
   "execution_count": 62,
   "metadata": {},
   "outputs": [
    {
     "data": {
      "text/plain": [
       "OrderedDict([('linear_layer.weight', tensor([[0.6917]], device='cuda:0')),\n",
       "             ('linear_layer.bias', tensor([0.2960], device='cuda:0'))])"
      ]
     },
     "execution_count": 62,
     "metadata": {},
     "output_type": "execute_result"
    }
   ],
   "source": [
    "model_1.state_dict()"
   ]
  },
  {
   "cell_type": "markdown",
   "metadata": {},
   "source": [
    "## Making and evaluating prediction"
   ]
  },
  {
   "cell_type": "code",
   "execution_count": 63,
   "metadata": {},
   "outputs": [
    {
     "data": {
      "text/plain": [
       "tensor([[0.5312],\n",
       "        [0.4620],\n",
       "        [0.8632],\n",
       "        [0.6142],\n",
       "        [0.5173],\n",
       "        [0.5035],\n",
       "        [0.8217],\n",
       "        [0.3790],\n",
       "        [0.6280],\n",
       "        [0.6695]], device='cuda:0')"
      ]
     },
     "execution_count": 63,
     "metadata": {},
     "output_type": "execute_result"
    }
   ],
   "source": [
    "# Turn model into evaluation mode\n",
    "model_1.eval()\n",
    "\n",
    "#make preditions on the test data\n",
    "with torch.inference_mode():\n",
    "    y_pred = model_1(x_test)\n",
    "y_pred"
   ]
  },
  {
   "cell_type": "code",
   "execution_count": 65,
   "metadata": {},
   "outputs": [
    {
     "data": {
      "image/png": "[encoded data removed]",
      "text/plain": [
       "<Figure size 1000x600 with 1 Axes>"
      ]
     },
     "metadata": {},
     "output_type": "display_data"
    }
   ],
   "source": [
    "plot(x_test.cpu(), y_test.cpu(), x_test.cpu(),y_pred.cpu())"
   ]
  },
  {
   "cell_type": "markdown",
   "metadata": {},
   "source": [
    "# Saving And Loading model"
   ]
  },
  {
   "cell_type": "code",
   "execution_count": 66,
   "metadata": {},
   "outputs": [
    {
     "name": "stdout",
     "output_type": "stream",
     "text": [
      "Saving the model to : models\\01_PyTorch_Workflows_model2.pth\n"
     ]
    }
   ],
   "source": [
    "from pathlib import Path\n",
    "\n",
    "#Creating Model Directory\n",
    "Model_Path = Path(\"models\")\n",
    "Model_Path.mkdir(parents=True,exist_ok=True)\n",
    "\n",
    "#Create model save\n",
    "Model_Name = \"01_PyTorch_Workflows_model2.pth\"\n",
    "Model_Save_Path = Model_Path/Model_Name\n",
    "\n",
    "#Saving the model\n",
    "print(f\"Saving the model to : {Model_Save_Path}\")\n",
    "torch.save(obj=model_1.state_dict(), f=Model_Save_Path)\n"
   ]
  },
  {
   "cell_type": "code",
   "execution_count": 67,
   "metadata": {},
   "outputs": [
    {
     "data": {
      "text/plain": [
       "OrderedDict([('linear_layer.weight', tensor([[0.6917]], device='cuda:0')),\n",
       "             ('linear_layer.bias', tensor([0.2960], device='cuda:0'))])"
      ]
     },
     "execution_count": 67,
     "metadata": {},
     "output_type": "execute_result"
    }
   ],
   "source": [
    "model_1.state_dict()"
   ]
  },
  {
   "cell_type": "code",
   "execution_count": 80,
   "metadata": {},
   "outputs": [
    {
     "data": {
      "text/plain": [
       "(LinearRegression2(\n",
       "   (linear_layer): Linear(in_features=1, out_features=1, bias=True)\n",
       " ),\n",
       " OrderedDict([('linear_layer.weight', tensor([[0.6917]], device='cuda:0')),\n",
       "              ('linear_layer.bias', tensor([0.2960], device='cuda:0'))]))"
      ]
     },
     "execution_count": 80,
     "metadata": {},
     "output_type": "execute_result"
    }
   ],
   "source": [
    "# Loading model\n",
    "loaded_model_1 = LinearRegression2() # Crated Instence\n",
    "loaded_model_1.load_state_dict(torch.load(Model_Save_Path))\n",
    "loaded_model_1.to(device)\n",
    "loaded_model_1,loaded_model_1.state_dict()"
   ]
  },
  {
   "cell_type": "code",
   "execution_count": 81,
   "metadata": {},
   "outputs": [
    {
     "data": {
      "text/plain": [
       "device(type='cuda', index=0)"
      ]
     },
     "execution_count": 81,
     "metadata": {},
     "output_type": "execute_result"
    }
   ],
   "source": [
    "next(loaded_model_1.parameters()).device"
   ]
  },
  {
   "cell_type": "code",
   "execution_count": 83,
   "metadata": {},
   "outputs": [
    {
     "data": {
      "text/plain": [
       "tensor([[True],\n",
       "        [True],\n",
       "        [True],\n",
       "        [True],\n",
       "        [True],\n",
       "        [True],\n",
       "        [True],\n",
       "        [True],\n",
       "        [True],\n",
       "        [True]], device='cuda:0')"
      ]
     },
     "execution_count": 83,
     "metadata": {},
     "output_type": "execute_result"
    }
   ],
   "source": [
    "# Predicting using loaded module\n",
    "loaded_model_1.eval()\n",
    "with torch.inference_mode():\n",
    "    loaded_model_1_y_pred = loaded_model_1(x_test)\n",
    "\n",
    "loaded_model_1_y_pred == y_pred"
   ]
  },
  {
   "cell_type": "markdown",
   "metadata": {},
   "source": [
    "# -- The end --"
   ]
  }
 ],
 "metadata": {
  "kernelspec": {
   "display_name": "Python 3",
   "language": "python",
   "name": "python3"
  },
  "language_info": {
   "codemirror_mode": {
    "name": "ipython",
    "version": 3
   },
   "file_extension": ".py",
   "mimetype": "text/x-python",
   "name": "python",
   "nbconvert_exporter": "python",
   "pygments_lexer": "ipython3",
   "version": "3.12.2"
  }
 },
 "nbformat": 4,
 "nbformat_minor": 2
}
